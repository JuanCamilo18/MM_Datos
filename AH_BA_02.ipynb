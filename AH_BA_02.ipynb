{
  "nbformat": 4,
  "nbformat_minor": 0,
  "metadata": {
    "colab": {
      "provenance": [],
      "authorship_tag": "ABX9TyNffx2MpxHJHRrXA05xx4T+"
    },
    "kernelspec": {
      "name": "python3",
      "display_name": "Python 3"
    },
    "language_info": {
      "name": "python"
    }
  },
  "cells": [
    {
      "cell_type": "markdown",
      "source": [
        "<font color=\"Lime\"><h1 align ='center'><b><u>Bosques aleatorios y selección de arquitecturas</u></b></h1></font>"
      ],
      "metadata": {
        "id": "IuhdRq2SLcAU"
      }
    },
    {
      "cell_type": "markdown",
      "source": [
        "La experimentación con arquitecturas suele centrarse en la creación de modelos modernos eficaces. Y así lo hemos hecho a un nivel básico con árboles de decisión, pero el único límite es nuestra imaginación y, quizás, la memoria del equipo. De hecho, considerar los árboles de decisión desde una perspectiva más amplia dio lugar a una arquitectura de modelos muy conocida que reduce la tendencia de sus árboles de decisión a sobreajustar los datos."
      ],
      "metadata": {
        "id": "nE5U_BZgLp9X"
      }
    },
    {
      "cell_type": "markdown",
      "source": [
        "## <font color='B8E139'><b>¿Qué es un bosque aleatorio?</b></font>\n",
        "\n",
        "Un bosque aleatorio es una colección de árboles de decisión, que se usan conjuntamente para calcular qué etiqueta se debe asignar a una muestra. Por ejemplo, si entrenamos un bosque aleatorio para predecir los medallistas, podríamos entrenar 100 árboles de decisión diferentes. Para realizar una predicción, usaríamos todos los árboles de forma independiente. De hecho, \"votarían\" si el atleta ganaría una medalla, lo que proporcionaría una decisión final."
      ],
      "metadata": {
        "id": "qiAdStV8LgUA"
      }
    },
    {
      "cell_type": "markdown",
      "source": [
        "### <font color='B8E139'><b>¿Cómo se entrena un bosque aleatorio?</b></font>\n",
        "\n",
        "Los bosques aleatorios se construyen sobre la idea de que, aunque un único árbol de decisión esté muy sesgado o sobreajustado, si entrenamos varios árboles de decisión, se sesgarán de maneras diferentes. Para ello, es necesario que cada árbol se entrene de forma independiente y cada uno en un conjunto de entrenamiento ligeramente diferente.\n",
        "\n",
        "Para entrenar un único árbol de decisión, se extrae un determinado número de muestras (atletas en nuestro escenario) del conjunto de entrenamiento completo. Cada muestra se puede seleccionar más de una vez y esta operación se realiza aleatoriamente. A continuación, el árbol se entrena de la manera estándar. Este proceso se repite con cada árbol. A medida que cada árbol obtiene una combinación diferente de ejemplos de entrenamiento, termina entrenado y sesgado, de forma diferente a los otros."
      ],
      "metadata": {
        "id": "0udKT79SLiVp"
      }
    },
    {
      "cell_type": "markdown",
      "source": [
        "### <font color='B8E139'><b>Ventajas del bosque aleatorio</b></font>\n",
        "\n",
        "El rendimiento de los bosques aleatorios suele ser impresionante, por lo que suele ser mejor compararlos con las redes neuronales, que son otro tipo de modelo conocido y de alto rendimiento. A diferencia de las redes neuronales, los modelos de bosque aleatorio son fáciles de entrenar: los marcos modernos proporcionan métodos útiles que permiten hacerlo en solo unas pocas líneas de código. Los bosques aleatorios también son rápidos de entrenar y no necesitan grandes conjuntos de datos para funcionar bien. Esto los diferencia de las redes neuronales, que a menudo pueden tardar minutos o días en entrenarse, se necesita una experiencia considerable y, normalmente, requieren conjuntos de datos muy grandes. Las decisiones de arquitectura de los bosques aleatorios si bien son más complejas que las de los modelos, como es el caso de la regresión lineal, son mucho más sencillas que las de las redes neuronales."
      ],
      "metadata": {
        "id": "1YfVTm4SLih_"
      }
    },
    {
      "cell_type": "markdown",
      "source": [
        "### <font color='B8E139'><b>Desventajas del bosque aleatorio</b></font>\n",
        "\n",
        "La desventaja principal de los bosques aleatorios es que son difíciles de comprender. En concreto, aunque estos modelos son totalmente transparentes (cada árbol se puede inspeccionar y entender), a menudo contienen tantos árboles que resulta prácticamente imposible hacerlo."
      ],
      "metadata": {
        "id": "A1K3r2afLipA"
      }
    },
    {
      "cell_type": "markdown",
      "source": [
        "## <font color='B8E139'><b>¿Cómo puedo personalizar estas arquitecturas?</b></font>\n",
        "\n",
        "Al igual que hay varios modelos, los bosques aleatorios tienen varias opciones de arquitectura. Lo más fácil es tener en cuentas el tamaño del bosque: el número de árboles que intervienen, junto con el tamaño de estos árboles. Por ejemplo, se podría solicitar a un bosque que predijera los medallistas que contengan 100 árboles, cada uno con una profundidad máxima de seis nodos. Esto significa que la decisión final sobre si un atleta va a conseguir una medalla se debe tomar con no más de seis declaraciones \"if\".\n",
        "\n",
        "Como ya hemos visto, aumentar el tamaño de un árbol (en términos de profundidad o número de hojas) hace que sea más probable que se sobreajusten los datos sobre los que se entrena. Esta limitación también se aplica a los bosques aleatorios. Sin embargo, con los bosques aleatorios podemos hacer frente a ella aumentando el número de árboles, suponiendo que cada árbol se sesgue de una manera diferente. También se puede restringir cada árbol a un número determinado de características, o no permitir la creación de hojas cuando solo haya una diferencia marginal en el rendimiento del entrenamiento. La capacidad de un bosque aleatorio para realizar buenas predicciones no es infinita. En algún momento, aumentar el tamaño y el número de árboles no ofrece ninguna mejora adicional debido a la variedad limitada de datos de entrenamiento de los que disponemos."
      ],
      "metadata": {
        "id": "M8EbdqOkLitg"
      }
    },
    {
      "cell_type": "markdown",
      "source": [
        "\n",
        "\n",
        "---\n",
        "\n"
      ],
      "metadata": {
        "id": "3yJzZeC2Nsmq"
      }
    },
    {
      "cell_type": "markdown",
      "source": [
        "## <font color='B8E139'><b>Ejercicio: Selección de las arquitecturas de bosque aleatorio</b></font>\n"
      ],
      "metadata": {
        "id": "hRBSW8RZLiyQ"
      }
    },
    {
      "cell_type": "markdown",
      "source": [
        "## <font color='B8E139'><b>Ejercicio: bosques aleatorios y arquitectura modelo</b></font>\n",
        "\n",
        "En el ejercicio anterior, usamos árboles de decisión para predecir si un crimen se resolvería en San Francisco.\n",
        "\n",
        "Recuerde que los árboles de decisión hicieron un trabajo razonable, pero tienden a sobreajustarse , lo que significa que los resultados se degradarían considerablemente al usar el conjunto de prueba o cualquier dato no visto .\n",
        "\n",
        "Esta vez usaremos bosques aleatorios para abordar esa tendencia de sobreajuste.\n",
        "\n",
        "También veremos cómo la arquitectura del modelo puede influir en su rendimiento."
      ],
      "metadata": {
        "id": "4-P52DAmN7oT"
      }
    },
    {
      "cell_type": "markdown",
      "source": [
        "### <font color='B8E139'><b>Visualización y preparación de datos</b></font>\n",
        "\n",
        "Como de costumbre, echemos otro vistazo rápido al conjunto de datos del crimen, luego divídalo en conjuntos de entrenamiento y prueba :"
      ],
      "metadata": {
        "id": "UhFFrpVJODnM"
      }
    },
    {
      "cell_type": "code",
      "source": [
        "import pandas\n",
        "!wget https://raw.githubusercontent.com/MicrosoftDocs/mslearn-introduction-to-machine-learning/main/graphing.py\n",
        "!wget https://raw.githubusercontent.com/MicrosoftDocs/mslearn-introduction-to-machine-learning/main/Data/san_fran_crime.csv\n",
        "import numpy as np\n",
        "from sklearn.model_selection import train_test_split\n",
        "import graphing # custom graphing code. See our GitHub repo for details\n",
        "\n",
        "# Import the data from the .csv file\n",
        "dataset = pandas.read_csv('san_fran_crime.csv', delimiter=\"\\t\")\n",
        "\n",
        "# Remember to one-hot encode our crime and PdDistrict variables \n",
        "categorical_features = [\"Category\", \"PdDistrict\"]\n",
        "dataset = pandas.get_dummies(dataset, columns=categorical_features, drop_first=False)\n",
        "\n",
        "# Split the dataset in an 90/10 train/test ratio. \n",
        "# Recall that our dataset is very large so we can afford to do this\n",
        "# with only 10% entering the test set\n",
        "train, test = train_test_split(dataset, test_size=0.1, random_state=2, shuffle=True)\n",
        "\n",
        "# Let's have a look at the data and the relationship we are going to model\n",
        "print(dataset.head())\n",
        "print(\"train shape:\", train.shape)\n",
        "print(\"test shape:\", test.shape)"
      ],
      "metadata": {
        "colab": {
          "base_uri": "https://localhost:8080/"
        },
        "id": "aDj4U_TAOJI-",
        "outputId": "784bbcd0-cbeb-4d01-bcba-b3291f0b397e"
      },
      "execution_count": 1,
      "outputs": [
        {
          "output_type": "stream",
          "name": "stdout",
          "text": [
            "--2023-03-24 06:10:44--  https://raw.githubusercontent.com/MicrosoftDocs/mslearn-introduction-to-machine-learning/main/graphing.py\n",
            "Resolving raw.githubusercontent.com (raw.githubusercontent.com)... 185.199.110.133, 185.199.111.133, 185.199.108.133, ...\n",
            "Connecting to raw.githubusercontent.com (raw.githubusercontent.com)|185.199.110.133|:443... connected.\n",
            "HTTP request sent, awaiting response... 200 OK\n",
            "Length: 21511 (21K) [text/plain]\n",
            "Saving to: ‘graphing.py’\n",
            "\n",
            "\rgraphing.py           0%[                    ]       0  --.-KB/s               \rgraphing.py         100%[===================>]  21.01K  --.-KB/s    in 0s      \n",
            "\n",
            "2023-03-24 06:10:44 (80.6 MB/s) - ‘graphing.py’ saved [21511/21511]\n",
            "\n",
            "--2023-03-24 06:10:44--  https://raw.githubusercontent.com/MicrosoftDocs/mslearn-introduction-to-machine-learning/main/Data/san_fran_crime.csv\n",
            "Resolving raw.githubusercontent.com (raw.githubusercontent.com)... 185.199.108.133, 185.199.109.133, 185.199.110.133, ...\n",
            "Connecting to raw.githubusercontent.com (raw.githubusercontent.com)|185.199.108.133|:443... connected.\n",
            "HTTP request sent, awaiting response... 200 OK\n",
            "Length: 11715606 (11M) [text/plain]\n",
            "Saving to: ‘san_fran_crime.csv’\n",
            "\n",
            "san_fran_crime.csv  100%[===================>]  11.17M  --.-KB/s    in 0.06s   \n",
            "\n",
            "2023-03-24 06:10:44 (195 MB/s) - ‘san_fran_crime.csv’ saved [11715606/11715606]\n",
            "\n",
            "   DayOfWeek  Resolution           X          Y  day_of_year  time_in_hours  \\\n",
            "0          5        True -122.403405  37.775421           29      11.000000   \n",
            "1          5        True -122.403405  37.775421           29      11.000000   \n",
            "2          1        True -122.388856  37.729981          116      14.983333   \n",
            "3          2       False -122.412971  37.785788            5      23.833333   \n",
            "4          5       False -122.419672  37.765050            1       0.500000   \n",
            "\n",
            "   Category_ARSON  Category_ASSAULT  Category_BAD CHECKS  Category_BRIBERY  \\\n",
            "0               0                 0                    0                 0   \n",
            "1               0                 0                    0                 0   \n",
            "2               0                 0                    0                 0   \n",
            "3               0                 0                    0                 0   \n",
            "4               0                 0                    0                 0   \n",
            "\n",
            "   ...  PdDistrict_BAYVIEW  PdDistrict_CENTRAL  PdDistrict_INGLESIDE  \\\n",
            "0  ...                   0                   0                     0   \n",
            "1  ...                   0                   0                     0   \n",
            "2  ...                   1                   0                     0   \n",
            "3  ...                   0                   0                     0   \n",
            "4  ...                   0                   0                     0   \n",
            "\n",
            "   PdDistrict_MISSION  PdDistrict_NORTHERN  PdDistrict_PARK  \\\n",
            "0                   0                    0                0   \n",
            "1                   0                    0                0   \n",
            "2                   0                    0                0   \n",
            "3                   0                    0                0   \n",
            "4                   1                    0                0   \n",
            "\n",
            "   PdDistrict_RICHMOND  PdDistrict_SOUTHERN  PdDistrict_TARAVAL  \\\n",
            "0                    0                    1                   0   \n",
            "1                    0                    1                   0   \n",
            "2                    0                    0                   0   \n",
            "3                    0                    0                   0   \n",
            "4                    0                    0                   0   \n",
            "\n",
            "   PdDistrict_TENDERLOIN  \n",
            "0                      0  \n",
            "1                      0  \n",
            "2                      0  \n",
            "3                      1  \n",
            "4                      0  \n",
            "\n",
            "[5 rows x 54 columns]\n",
            "train shape: (135387, 54)\n",
            "test shape: (15044, 54)\n"
          ]
        }
      ]
    },
    {
      "cell_type": "markdown",
      "source": [
        "\n",
        "¡Espero que esto te resulte familiar! Si no, salte hacia atrás y realice el ejercicio anterior sobre árboles de decisión.\n",
        "\n",
        "### <font color='B8E139'><b>Código de evaluación del modelo</b></font>\n",
        "\n",
        "Usaremos el mismo código de evaluación del modelo que usamos en el ejercicio anterior"
      ],
      "metadata": {
        "id": "3jhfX8PuOJuj"
      }
    },
    {
      "cell_type": "code",
      "source": [
        "from sklearn.metrics import balanced_accuracy_score\n",
        "\n",
        "# Make a utility method that we can re-use throughout this exercise\n",
        "# To easily fit and test out model\n",
        "\n",
        "features = [c for c in dataset.columns if c != \"Resolution\"]\n",
        "\n",
        "def fit_and_test_model(model):\n",
        "    '''\n",
        "    Trains a model and tests it against both train and test sets\n",
        "    '''  \n",
        "    global features\n",
        "\n",
        "    # Train the model\n",
        "    model.fit(train[features], train.Resolution)\n",
        "\n",
        "    # Assess its performance\n",
        "    # -- Train\n",
        "    predictions = model.predict(train[features])\n",
        "    train_accuracy = balanced_accuracy_score(train.Resolution, predictions)\n",
        "\n",
        "    # -- Test\n",
        "    predictions = model.predict(test[features])\n",
        "    test_accuracy = balanced_accuracy_score(test.Resolution, predictions)\n",
        "\n",
        "    return train_accuracy, test_accuracy\n",
        "\n",
        "\n",
        "print(\"Ready to go!\")"
      ],
      "metadata": {
        "colab": {
          "base_uri": "https://localhost:8080/"
        },
        "id": "wqtDTBEdOVCD",
        "outputId": "4007ca19-8321-48ed-d2ac-31f2d11fcae9"
      },
      "execution_count": 2,
      "outputs": [
        {
          "output_type": "stream",
          "name": "stdout",
          "text": [
            "Ready to go!\n"
          ]
        }
      ]
    },
    {
      "cell_type": "markdown",
      "source": [
        "### <font color='B8E139'><b>Árbol de decisión</b></font>\n",
        "\n",
        "Entrenemos rápidamente un árbol de decisión razonablemente bien ajustado para recordarnos su desempeño:"
      ],
      "metadata": {
        "id": "2AQ7t7twN4b3"
      }
    },
    {
      "cell_type": "code",
      "source": [
        "import sklearn.tree\n",
        "# re-fit our last decision tree to print out its performance\n",
        "model = sklearn.tree.DecisionTreeClassifier(random_state=1, max_depth=10) \n",
        "\n",
        "dt_train_accuracy, dt_test_accuracy = fit_and_test_model(model)\n",
        "\n",
        "print(\"Decision Tree Performance:\")\n",
        "print(\"Train accuracy\", dt_train_accuracy)\n",
        "print(\"Test accuracy\", dt_test_accuracy)"
      ],
      "metadata": {
        "colab": {
          "base_uri": "https://localhost:8080/"
        },
        "id": "WONgJZOZOZaM",
        "outputId": "43a3700a-e930-41fa-9a37-e310a03dc729"
      },
      "execution_count": 3,
      "outputs": [
        {
          "output_type": "stream",
          "name": "stdout",
          "text": [
            "Decision Tree Performance:\n",
            "Train accuracy 0.7742407145595661\n",
            "Test accuracy 0.7597105242913844\n"
          ]
        }
      ]
    },
    {
      "cell_type": "markdown",
      "source": [
        "### <font color='B8E139'><b>Bosque aleatorio</b></font>\n",
        "\n",
        "Un bosque aleatorio es una colección de árboles de decisión que trabajan juntos para calcular la etiqueta de una muestra.\n",
        "\n",
        "Los árboles en un bosque aleatorio se entrenan de forma independiente, en diferentes particiones de datos y, por lo tanto, desarrollan diferentes sesgos, pero cuando se combinan, es menos probable que sobreajusten los datos.\n",
        "\n",
        "Construyamos un bosque muy simple con dos árboles y los parámetros predeterminados :"
      ],
      "metadata": {
        "id": "Sy-0cPViN5vD"
      }
    },
    {
      "cell_type": "code",
      "source": [
        "from sklearn.ensemble import RandomForestClassifier\n",
        "\n",
        "# Create a random forest model with two trees\n",
        "random_forest = RandomForestClassifier( n_estimators=2,\n",
        "                                        random_state=2,\n",
        "                                        verbose=False)\n",
        "\n",
        "# Train and test the model\n",
        "train_accuracy, test_accuracy = fit_and_test_model(random_forest)\n",
        "print(\"Random Forest Performance:\")\n",
        "print(\"Train accuracy\", train_accuracy)\n",
        "print(\"Test accuracy\", test_accuracy)"
      ],
      "metadata": {
        "colab": {
          "base_uri": "https://localhost:8080/"
        },
        "id": "zZE0nj3gOgyd",
        "outputId": "f77a260b-71b4-4ee7-eeca-a0c0f2e0b069"
      },
      "execution_count": 4,
      "outputs": [
        {
          "output_type": "stream",
          "name": "stdout",
          "text": [
            "Random Forest Performance:\n",
            "Train accuracy 0.8842998107846062\n",
            "Test accuracy 0.734378540999183\n"
          ]
        }
      ]
    },
    {
      "cell_type": "markdown",
      "source": [
        "\n",
        "Nuestro bosque de dos árboles lo ha hecho peor que el árbol único en el conjunto de prueba, aunque ha hecho un mejor trabajo en el conjunto de trenes.\n",
        "\n",
        "Hasta cierto punto, esto debería esperarse. Los bosques aleatorios suelen funcionar con muchos más árboles. El simple hecho de tener dos le permitió sobreajustar los datos de entrenamiento mucho mejor que el árbol de decisión original."
      ],
      "metadata": {
        "id": "bHq1lSCjOjIF"
      }
    },
    {
      "cell_type": "markdown",
      "source": [
        "### <font color='B8E139'><b>Alterar el número de árboles.</b></font>\n",
        "\n",
        "Luego, construyamos varios modelos de bosque, cada uno con una cantidad diferente de árboles, y veamos cómo funcionan:"
      ],
      "metadata": {
        "id": "a0AmIhjQLi2D"
      }
    },
    {
      "cell_type": "code",
      "source": [
        "import graphing\n",
        "\n",
        "# n_estimators states how many trees to put in the model\n",
        "# We will make one model for every entry in this list\n",
        "# and see how well each model performs \n",
        "n_estimators = [2, 5, 10, 20, 50]\n",
        "\n",
        "# Train our models and report their performance\n",
        "train_accuracies = []\n",
        "test_accuracies = []\n",
        "\n",
        "for n_estimator in n_estimators:\n",
        "    print(\"Preparing a model with\", n_estimator, \"trees...\")\n",
        "\n",
        "    # Prepare the model \n",
        "    rf = RandomForestClassifier(n_estimators=n_estimator, \n",
        "                                random_state=2, \n",
        "                                verbose=False)\n",
        "    \n",
        "    # Train and test the result\n",
        "    train_accuracy, test_accuracy = fit_and_test_model(rf)\n",
        "\n",
        "    # Save the results\n",
        "    test_accuracies.append(test_accuracy)\n",
        "    train_accuracies.append(train_accuracy)\n",
        "\n",
        "\n",
        "# Plot results\n",
        "graphing.line_2D(dict(Train=train_accuracies, Test=test_accuracies), \n",
        "                    n_estimators,\n",
        "                    label_x=\"Numer of trees (n_estimators)\",\n",
        "                    label_y=\"Accuracy\",\n",
        "                    title=\"Performance X number of trees\", show=True)"
      ],
      "metadata": {
        "colab": {
          "base_uri": "https://localhost:8080/",
          "height": 904
        },
        "id": "tdTrosu8OwAK",
        "outputId": "9a50381c-8eb0-491e-fb05-8e1c0235da77"
      },
      "execution_count": 5,
      "outputs": [
        {
          "output_type": "stream",
          "name": "stdout",
          "text": [
            "Preparing a model with 2 trees...\n",
            "Preparing a model with 5 trees...\n",
            "Preparing a model with 10 trees...\n",
            "Preparing a model with 20 trees...\n",
            "Preparing a model with 50 trees...\n"
          ]
        },
        {
          "output_type": "display_data",
          "data": {
            "text/html": [
              "<html>\n",
              "<head><meta charset=\"utf-8\" /></head>\n",
              "<body>\n",
              "    <div>            <script src=\"https://cdnjs.cloudflare.com/ajax/libs/mathjax/2.7.5/MathJax.js?config=TeX-AMS-MML_SVG\"></script><script type=\"text/javascript\">if (window.MathJax && window.MathJax.Hub && window.MathJax.Hub.Config) {window.MathJax.Hub.Config({SVG: {font: \"STIX-Web\"}});}</script>                <script type=\"text/javascript\">window.PlotlyConfig = {MathJaxConfig: 'local'};</script>\n",
              "        <script src=\"https://cdn.plot.ly/plotly-2.18.2.min.js\"></script>                <div id=\"03e8225b-e02c-42cf-996d-382e40927712\" class=\"plotly-graph-div\" style=\"height:400px; width:100%;\"></div>            <script type=\"text/javascript\">                                    window.PLOTLYENV=window.PLOTLYENV || {};                                    if (document.getElementById(\"03e8225b-e02c-42cf-996d-382e40927712\")) {                    Plotly.newPlot(                        \"03e8225b-e02c-42cf-996d-382e40927712\",                        [{\"hovertemplate\":\"Line=Train<br>Numer of trees (n estimators)=%{x}<br>Accuracy=%{y}<extra></extra>\",\"legendgroup\":\"Train\",\"marker\":{\"color\":\"#636efa\",\"symbol\":\"circle\",\"size\":20},\"mode\":\"lines\",\"name\":\"Train\",\"orientation\":\"v\",\"showlegend\":true,\"x\":[2.0,5.0,10.0,20.0,50.0],\"xaxis\":\"x\",\"y\":[0.8842998107846062,0.9716768193935338,0.9797076760383495,0.9929211742941426,0.9990978388259448],\"yaxis\":\"y\",\"type\":\"scatter\"},{\"hovertemplate\":\"Line=Test<br>Numer of trees (n estimators)=%{x}<br>Accuracy=%{y}<extra></extra>\",\"legendgroup\":\"Test\",\"marker\":{\"color\":\"#EF553B\",\"symbol\":\"circle\",\"size\":20},\"mode\":\"lines\",\"name\":\"Test\",\"orientation\":\"v\",\"showlegend\":true,\"x\":[2.0,5.0,10.0,20.0,50.0],\"xaxis\":\"x\",\"y\":[0.734378540999183,0.7998956455629179,0.8000019838258419,0.8107573519372882,0.8150166433458843],\"yaxis\":\"y\",\"type\":\"scatter\"}],                        {\"template\":{\"data\":{\"barpolar\":[{\"marker\":{\"line\":{\"color\":\"white\",\"width\":0.5},\"pattern\":{\"fillmode\":\"overlay\",\"size\":10,\"solidity\":0.2}},\"type\":\"barpolar\"}],\"bar\":[{\"error_x\":{\"color\":\"#2a3f5f\"},\"error_y\":{\"color\":\"#2a3f5f\"},\"marker\":{\"line\":{\"color\":\"white\",\"width\":0.5},\"pattern\":{\"fillmode\":\"overlay\",\"size\":10,\"solidity\":0.2}},\"type\":\"bar\"}],\"carpet\":[{\"aaxis\":{\"endlinecolor\":\"#2a3f5f\",\"gridcolor\":\"#C8D4E3\",\"linecolor\":\"#C8D4E3\",\"minorgridcolor\":\"#C8D4E3\",\"startlinecolor\":\"#2a3f5f\"},\"baxis\":{\"endlinecolor\":\"#2a3f5f\",\"gridcolor\":\"#C8D4E3\",\"linecolor\":\"#C8D4E3\",\"minorgridcolor\":\"#C8D4E3\",\"startlinecolor\":\"#2a3f5f\"},\"type\":\"carpet\"}],\"choropleth\":[{\"colorbar\":{\"outlinewidth\":0,\"ticks\":\"\"},\"type\":\"choropleth\"}],\"contourcarpet\":[{\"colorbar\":{\"outlinewidth\":0,\"ticks\":\"\"},\"type\":\"contourcarpet\"}],\"contour\":[{\"colorbar\":{\"outlinewidth\":0,\"ticks\":\"\"},\"colorscale\":[[0.0,\"#0d0887\"],[0.1111111111111111,\"#46039f\"],[0.2222222222222222,\"#7201a8\"],[0.3333333333333333,\"#9c179e\"],[0.4444444444444444,\"#bd3786\"],[0.5555555555555556,\"#d8576b\"],[0.6666666666666666,\"#ed7953\"],[0.7777777777777778,\"#fb9f3a\"],[0.8888888888888888,\"#fdca26\"],[1.0,\"#f0f921\"]],\"type\":\"contour\"}],\"heatmapgl\":[{\"colorbar\":{\"outlinewidth\":0,\"ticks\":\"\"},\"colorscale\":[[0.0,\"#0d0887\"],[0.1111111111111111,\"#46039f\"],[0.2222222222222222,\"#7201a8\"],[0.3333333333333333,\"#9c179e\"],[0.4444444444444444,\"#bd3786\"],[0.5555555555555556,\"#d8576b\"],[0.6666666666666666,\"#ed7953\"],[0.7777777777777778,\"#fb9f3a\"],[0.8888888888888888,\"#fdca26\"],[1.0,\"#f0f921\"]],\"type\":\"heatmapgl\"}],\"heatmap\":[{\"colorbar\":{\"outlinewidth\":0,\"ticks\":\"\"},\"colorscale\":[[0.0,\"#0d0887\"],[0.1111111111111111,\"#46039f\"],[0.2222222222222222,\"#7201a8\"],[0.3333333333333333,\"#9c179e\"],[0.4444444444444444,\"#bd3786\"],[0.5555555555555556,\"#d8576b\"],[0.6666666666666666,\"#ed7953\"],[0.7777777777777778,\"#fb9f3a\"],[0.8888888888888888,\"#fdca26\"],[1.0,\"#f0f921\"]],\"type\":\"heatmap\"}],\"histogram2dcontour\":[{\"colorbar\":{\"outlinewidth\":0,\"ticks\":\"\"},\"colorscale\":[[0.0,\"#0d0887\"],[0.1111111111111111,\"#46039f\"],[0.2222222222222222,\"#7201a8\"],[0.3333333333333333,\"#9c179e\"],[0.4444444444444444,\"#bd3786\"],[0.5555555555555556,\"#d8576b\"],[0.6666666666666666,\"#ed7953\"],[0.7777777777777778,\"#fb9f3a\"],[0.8888888888888888,\"#fdca26\"],[1.0,\"#f0f921\"]],\"type\":\"histogram2dcontour\"}],\"histogram2d\":[{\"colorbar\":{\"outlinewidth\":0,\"ticks\":\"\"},\"colorscale\":[[0.0,\"#0d0887\"],[0.1111111111111111,\"#46039f\"],[0.2222222222222222,\"#7201a8\"],[0.3333333333333333,\"#9c179e\"],[0.4444444444444444,\"#bd3786\"],[0.5555555555555556,\"#d8576b\"],[0.6666666666666666,\"#ed7953\"],[0.7777777777777778,\"#fb9f3a\"],[0.8888888888888888,\"#fdca26\"],[1.0,\"#f0f921\"]],\"type\":\"histogram2d\"}],\"histogram\":[{\"marker\":{\"pattern\":{\"fillmode\":\"overlay\",\"size\":10,\"solidity\":0.2},\"line\":{\"width\":1}},\"type\":\"histogram\"}],\"mesh3d\":[{\"colorbar\":{\"outlinewidth\":0,\"ticks\":\"\"},\"type\":\"mesh3d\"}],\"parcoords\":[{\"line\":{\"colorbar\":{\"outlinewidth\":0,\"ticks\":\"\"}},\"type\":\"parcoords\"}],\"pie\":[{\"automargin\":true,\"type\":\"pie\"}],\"scatter3d\":[{\"line\":{\"colorbar\":{\"outlinewidth\":0,\"ticks\":\"\"}},\"marker\":{\"colorbar\":{\"outlinewidth\":0,\"ticks\":\"\"},\"opacity\":0.8},\"type\":\"scatter3d\"}],\"scattercarpet\":[{\"marker\":{\"colorbar\":{\"outlinewidth\":0,\"ticks\":\"\"}},\"type\":\"scattercarpet\"}],\"scattergeo\":[{\"marker\":{\"colorbar\":{\"outlinewidth\":0,\"ticks\":\"\"}},\"type\":\"scattergeo\"}],\"scattergl\":[{\"marker\":{\"colorbar\":{\"outlinewidth\":0,\"ticks\":\"\"}},\"type\":\"scattergl\"}],\"scattermapbox\":[{\"marker\":{\"colorbar\":{\"outlinewidth\":0,\"ticks\":\"\"}},\"type\":\"scattermapbox\"}],\"scatterpolargl\":[{\"marker\":{\"colorbar\":{\"outlinewidth\":0,\"ticks\":\"\"}},\"type\":\"scatterpolargl\"}],\"scatterpolar\":[{\"marker\":{\"colorbar\":{\"outlinewidth\":0,\"ticks\":\"\"}},\"type\":\"scatterpolar\"}],\"scatter\":[{\"fillpattern\":{\"fillmode\":\"overlay\",\"size\":10,\"solidity\":0.2},\"type\":\"scatter\",\"marker\":{\"opacity\":0.8}}],\"scatterternary\":[{\"marker\":{\"colorbar\":{\"outlinewidth\":0,\"ticks\":\"\"}},\"type\":\"scatterternary\"}],\"surface\":[{\"colorbar\":{\"outlinewidth\":0,\"ticks\":\"\"},\"colorscale\":[[0.0,\"#0d0887\"],[0.1111111111111111,\"#46039f\"],[0.2222222222222222,\"#7201a8\"],[0.3333333333333333,\"#9c179e\"],[0.4444444444444444,\"#bd3786\"],[0.5555555555555556,\"#d8576b\"],[0.6666666666666666,\"#ed7953\"],[0.7777777777777778,\"#fb9f3a\"],[0.8888888888888888,\"#fdca26\"],[1.0,\"#f0f921\"]],\"type\":\"surface\"}],\"table\":[{\"cells\":{\"fill\":{\"color\":\"#EBF0F8\"},\"line\":{\"color\":\"white\"}},\"header\":{\"fill\":{\"color\":\"#C8D4E3\"},\"line\":{\"color\":\"white\"}},\"type\":\"table\"}],\"box\":[{\"boxpoints\":\"outliers\",\"notched\":false,\"type\":\"box\"}]},\"layout\":{\"annotationdefaults\":{\"arrowcolor\":\"#2a3f5f\",\"arrowhead\":0,\"arrowwidth\":1},\"autotypenumbers\":\"strict\",\"coloraxis\":{\"colorbar\":{\"outlinewidth\":0,\"ticks\":\"\"}},\"colorscale\":{\"diverging\":[[0,\"#8e0152\"],[0.1,\"#c51b7d\"],[0.2,\"#de77ae\"],[0.3,\"#f1b6da\"],[0.4,\"#fde0ef\"],[0.5,\"#f7f7f7\"],[0.6,\"#e6f5d0\"],[0.7,\"#b8e186\"],[0.8,\"#7fbc41\"],[0.9,\"#4d9221\"],[1,\"#276419\"]],\"sequential\":[[0.0,\"#0d0887\"],[0.1111111111111111,\"#46039f\"],[0.2222222222222222,\"#7201a8\"],[0.3333333333333333,\"#9c179e\"],[0.4444444444444444,\"#bd3786\"],[0.5555555555555556,\"#d8576b\"],[0.6666666666666666,\"#ed7953\"],[0.7777777777777778,\"#fb9f3a\"],[0.8888888888888888,\"#fdca26\"],[1.0,\"#f0f921\"]],\"sequentialminus\":[[0.0,\"#0d0887\"],[0.1111111111111111,\"#46039f\"],[0.2222222222222222,\"#7201a8\"],[0.3333333333333333,\"#9c179e\"],[0.4444444444444444,\"#bd3786\"],[0.5555555555555556,\"#d8576b\"],[0.6666666666666666,\"#ed7953\"],[0.7777777777777778,\"#fb9f3a\"],[0.8888888888888888,\"#fdca26\"],[1.0,\"#f0f921\"]]},\"colorway\":[\"#636efa\",\"#EF553B\",\"#00cc96\",\"#ab63fa\",\"#FFA15A\",\"#19d3f3\",\"#FF6692\",\"#B6E880\",\"#FF97FF\",\"#FECB52\"],\"font\":{\"color\":\"#2a3f5f\"},\"geo\":{\"bgcolor\":\"white\",\"lakecolor\":\"white\",\"landcolor\":\"white\",\"showlakes\":true,\"showland\":true,\"subunitcolor\":\"#C8D4E3\"},\"hoverlabel\":{\"align\":\"left\"},\"hovermode\":\"closest\",\"mapbox\":{\"style\":\"light\"},\"paper_bgcolor\":\"white\",\"plot_bgcolor\":\"white\",\"polar\":{\"angularaxis\":{\"gridcolor\":\"#EBF0F8\",\"linecolor\":\"#EBF0F8\",\"ticks\":\"\"},\"bgcolor\":\"white\",\"radialaxis\":{\"gridcolor\":\"#EBF0F8\",\"linecolor\":\"#EBF0F8\",\"ticks\":\"\"}},\"scene\":{\"xaxis\":{\"backgroundcolor\":\"white\",\"gridcolor\":\"#DFE8F3\",\"gridwidth\":2,\"linecolor\":\"#EBF0F8\",\"showbackground\":true,\"ticks\":\"\",\"zerolinecolor\":\"#EBF0F8\"},\"yaxis\":{\"backgroundcolor\":\"white\",\"gridcolor\":\"#DFE8F3\",\"gridwidth\":2,\"linecolor\":\"#EBF0F8\",\"showbackground\":true,\"ticks\":\"\",\"zerolinecolor\":\"#EBF0F8\"},\"zaxis\":{\"backgroundcolor\":\"white\",\"gridcolor\":\"#DFE8F3\",\"gridwidth\":2,\"linecolor\":\"#EBF0F8\",\"showbackground\":true,\"ticks\":\"\",\"zerolinecolor\":\"#EBF0F8\"},\"camera\":{\"eye\":{\"x\":1.5,\"y\":1.5,\"z\":0.1}}},\"shapedefaults\":{\"line\":{\"color\":\"#2a3f5f\"}},\"ternary\":{\"aaxis\":{\"gridcolor\":\"#DFE8F3\",\"linecolor\":\"#A2B1C6\",\"ticks\":\"\"},\"baxis\":{\"gridcolor\":\"#DFE8F3\",\"linecolor\":\"#A2B1C6\",\"ticks\":\"\"},\"bgcolor\":\"white\",\"caxis\":{\"gridcolor\":\"#DFE8F3\",\"linecolor\":\"#A2B1C6\",\"ticks\":\"\"}},\"title\":{\"x\":0.5},\"xaxis\":{\"automargin\":true,\"gridcolor\":\"#EBF0F8\",\"linecolor\":\"#EBF0F8\",\"ticks\":\"\",\"title\":{\"standoff\":15},\"zerolinecolor\":\"#EBF0F8\",\"zerolinewidth\":2,\"linewidth\":2,\"showline\":true},\"yaxis\":{\"automargin\":true,\"gridcolor\":\"#EBF0F8\",\"linecolor\":\"#EBF0F8\",\"ticks\":\"\",\"title\":{\"standoff\":15},\"zerolinecolor\":\"#EBF0F8\",\"zerolinewidth\":2,\"linewidth\":2,\"showline\":true},\"height\":400,\"margin\":{\"b\":2,\"l\":2,\"r\":2,\"t\":30}}},\"xaxis\":{\"anchor\":\"y\",\"domain\":[0.0,1.0],\"title\":{\"text\":\"Numer of trees (n estimators)\"},\"range\":[2,50]},\"yaxis\":{\"anchor\":\"x\",\"domain\":[0.0,1.0],\"title\":{\"text\":\"Accuracy\"}},\"legend\":{\"title\":{\"text\":\"Line\"},\"tracegroupgap\":0},\"title\":{\"text\":\"Performance X number of trees\"}},                        {\"responsive\": true}                    ).then(function(){\n",
              "                            \n",
              "var gd = document.getElementById('03e8225b-e02c-42cf-996d-382e40927712');\n",
              "var x = new MutationObserver(function (mutations, observer) {{\n",
              "        var display = window.getComputedStyle(gd).display;\n",
              "        if (!display || display === 'none') {{\n",
              "            console.log([gd, 'removed!']);\n",
              "            Plotly.purge(gd);\n",
              "            observer.disconnect();\n",
              "        }}\n",
              "}});\n",
              "\n",
              "// Listen for the removal of the full notebook cells\n",
              "var notebookContainer = gd.closest('#notebook-container');\n",
              "if (notebookContainer) {{\n",
              "    x.observe(notebookContainer, {childList: true});\n",
              "}}\n",
              "\n",
              "// Listen for the clearing of the current output cell\n",
              "var outputEl = gd.closest('.output');\n",
              "if (outputEl) {{\n",
              "    x.observe(outputEl, {childList: true});\n",
              "}}\n",
              "\n",
              "                        })                };                            </script>        </div>\n",
              "</body>\n",
              "</html>"
            ]
          },
          "metadata": {}
        },
        {
          "output_type": "display_data",
          "data": {
            "text/html": [
              "<html>\n",
              "<head><meta charset=\"utf-8\" /></head>\n",
              "<body>\n",
              "    <div>            <script src=\"https://cdnjs.cloudflare.com/ajax/libs/mathjax/2.7.5/MathJax.js?config=TeX-AMS-MML_SVG\"></script><script type=\"text/javascript\">if (window.MathJax && window.MathJax.Hub && window.MathJax.Hub.Config) {window.MathJax.Hub.Config({SVG: {font: \"STIX-Web\"}});}</script>                <script type=\"text/javascript\">window.PlotlyConfig = {MathJaxConfig: 'local'};</script>\n",
              "        <script src=\"https://cdn.plot.ly/plotly-2.18.2.min.js\"></script>                <div id=\"5917668e-f16a-4e87-a932-d3be29cd043f\" class=\"plotly-graph-div\" style=\"height:400px; width:100%;\"></div>            <script type=\"text/javascript\">                                    window.PLOTLYENV=window.PLOTLYENV || {};                                    if (document.getElementById(\"5917668e-f16a-4e87-a932-d3be29cd043f\")) {                    Plotly.newPlot(                        \"5917668e-f16a-4e87-a932-d3be29cd043f\",                        [{\"hovertemplate\":\"Line=Train<br>Numer of trees (n estimators)=%{x}<br>Accuracy=%{y}<extra></extra>\",\"legendgroup\":\"Train\",\"marker\":{\"color\":\"#636efa\",\"symbol\":\"circle\",\"size\":20},\"mode\":\"lines\",\"name\":\"Train\",\"orientation\":\"v\",\"showlegend\":true,\"x\":[2.0,5.0,10.0,20.0,50.0],\"xaxis\":\"x\",\"y\":[0.8842998107846062,0.9716768193935338,0.9797076760383495,0.9929211742941426,0.9990978388259448],\"yaxis\":\"y\",\"type\":\"scatter\"},{\"hovertemplate\":\"Line=Test<br>Numer of trees (n estimators)=%{x}<br>Accuracy=%{y}<extra></extra>\",\"legendgroup\":\"Test\",\"marker\":{\"color\":\"#EF553B\",\"symbol\":\"circle\",\"size\":20},\"mode\":\"lines\",\"name\":\"Test\",\"orientation\":\"v\",\"showlegend\":true,\"x\":[2.0,5.0,10.0,20.0,50.0],\"xaxis\":\"x\",\"y\":[0.734378540999183,0.7998956455629179,0.8000019838258419,0.8107573519372882,0.8150166433458843],\"yaxis\":\"y\",\"type\":\"scatter\"}],                        {\"template\":{\"data\":{\"barpolar\":[{\"marker\":{\"line\":{\"color\":\"white\",\"width\":0.5},\"pattern\":{\"fillmode\":\"overlay\",\"size\":10,\"solidity\":0.2}},\"type\":\"barpolar\"}],\"bar\":[{\"error_x\":{\"color\":\"#2a3f5f\"},\"error_y\":{\"color\":\"#2a3f5f\"},\"marker\":{\"line\":{\"color\":\"white\",\"width\":0.5},\"pattern\":{\"fillmode\":\"overlay\",\"size\":10,\"solidity\":0.2}},\"type\":\"bar\"}],\"carpet\":[{\"aaxis\":{\"endlinecolor\":\"#2a3f5f\",\"gridcolor\":\"#C8D4E3\",\"linecolor\":\"#C8D4E3\",\"minorgridcolor\":\"#C8D4E3\",\"startlinecolor\":\"#2a3f5f\"},\"baxis\":{\"endlinecolor\":\"#2a3f5f\",\"gridcolor\":\"#C8D4E3\",\"linecolor\":\"#C8D4E3\",\"minorgridcolor\":\"#C8D4E3\",\"startlinecolor\":\"#2a3f5f\"},\"type\":\"carpet\"}],\"choropleth\":[{\"colorbar\":{\"outlinewidth\":0,\"ticks\":\"\"},\"type\":\"choropleth\"}],\"contourcarpet\":[{\"colorbar\":{\"outlinewidth\":0,\"ticks\":\"\"},\"type\":\"contourcarpet\"}],\"contour\":[{\"colorbar\":{\"outlinewidth\":0,\"ticks\":\"\"},\"colorscale\":[[0.0,\"#0d0887\"],[0.1111111111111111,\"#46039f\"],[0.2222222222222222,\"#7201a8\"],[0.3333333333333333,\"#9c179e\"],[0.4444444444444444,\"#bd3786\"],[0.5555555555555556,\"#d8576b\"],[0.6666666666666666,\"#ed7953\"],[0.7777777777777778,\"#fb9f3a\"],[0.8888888888888888,\"#fdca26\"],[1.0,\"#f0f921\"]],\"type\":\"contour\"}],\"heatmapgl\":[{\"colorbar\":{\"outlinewidth\":0,\"ticks\":\"\"},\"colorscale\":[[0.0,\"#0d0887\"],[0.1111111111111111,\"#46039f\"],[0.2222222222222222,\"#7201a8\"],[0.3333333333333333,\"#9c179e\"],[0.4444444444444444,\"#bd3786\"],[0.5555555555555556,\"#d8576b\"],[0.6666666666666666,\"#ed7953\"],[0.7777777777777778,\"#fb9f3a\"],[0.8888888888888888,\"#fdca26\"],[1.0,\"#f0f921\"]],\"type\":\"heatmapgl\"}],\"heatmap\":[{\"colorbar\":{\"outlinewidth\":0,\"ticks\":\"\"},\"colorscale\":[[0.0,\"#0d0887\"],[0.1111111111111111,\"#46039f\"],[0.2222222222222222,\"#7201a8\"],[0.3333333333333333,\"#9c179e\"],[0.4444444444444444,\"#bd3786\"],[0.5555555555555556,\"#d8576b\"],[0.6666666666666666,\"#ed7953\"],[0.7777777777777778,\"#fb9f3a\"],[0.8888888888888888,\"#fdca26\"],[1.0,\"#f0f921\"]],\"type\":\"heatmap\"}],\"histogram2dcontour\":[{\"colorbar\":{\"outlinewidth\":0,\"ticks\":\"\"},\"colorscale\":[[0.0,\"#0d0887\"],[0.1111111111111111,\"#46039f\"],[0.2222222222222222,\"#7201a8\"],[0.3333333333333333,\"#9c179e\"],[0.4444444444444444,\"#bd3786\"],[0.5555555555555556,\"#d8576b\"],[0.6666666666666666,\"#ed7953\"],[0.7777777777777778,\"#fb9f3a\"],[0.8888888888888888,\"#fdca26\"],[1.0,\"#f0f921\"]],\"type\":\"histogram2dcontour\"}],\"histogram2d\":[{\"colorbar\":{\"outlinewidth\":0,\"ticks\":\"\"},\"colorscale\":[[0.0,\"#0d0887\"],[0.1111111111111111,\"#46039f\"],[0.2222222222222222,\"#7201a8\"],[0.3333333333333333,\"#9c179e\"],[0.4444444444444444,\"#bd3786\"],[0.5555555555555556,\"#d8576b\"],[0.6666666666666666,\"#ed7953\"],[0.7777777777777778,\"#fb9f3a\"],[0.8888888888888888,\"#fdca26\"],[1.0,\"#f0f921\"]],\"type\":\"histogram2d\"}],\"histogram\":[{\"marker\":{\"pattern\":{\"fillmode\":\"overlay\",\"size\":10,\"solidity\":0.2},\"line\":{\"width\":1}},\"type\":\"histogram\"}],\"mesh3d\":[{\"colorbar\":{\"outlinewidth\":0,\"ticks\":\"\"},\"type\":\"mesh3d\"}],\"parcoords\":[{\"line\":{\"colorbar\":{\"outlinewidth\":0,\"ticks\":\"\"}},\"type\":\"parcoords\"}],\"pie\":[{\"automargin\":true,\"type\":\"pie\"}],\"scatter3d\":[{\"line\":{\"colorbar\":{\"outlinewidth\":0,\"ticks\":\"\"}},\"marker\":{\"colorbar\":{\"outlinewidth\":0,\"ticks\":\"\"},\"opacity\":0.8},\"type\":\"scatter3d\"}],\"scattercarpet\":[{\"marker\":{\"colorbar\":{\"outlinewidth\":0,\"ticks\":\"\"}},\"type\":\"scattercarpet\"}],\"scattergeo\":[{\"marker\":{\"colorbar\":{\"outlinewidth\":0,\"ticks\":\"\"}},\"type\":\"scattergeo\"}],\"scattergl\":[{\"marker\":{\"colorbar\":{\"outlinewidth\":0,\"ticks\":\"\"}},\"type\":\"scattergl\"}],\"scattermapbox\":[{\"marker\":{\"colorbar\":{\"outlinewidth\":0,\"ticks\":\"\"}},\"type\":\"scattermapbox\"}],\"scatterpolargl\":[{\"marker\":{\"colorbar\":{\"outlinewidth\":0,\"ticks\":\"\"}},\"type\":\"scatterpolargl\"}],\"scatterpolar\":[{\"marker\":{\"colorbar\":{\"outlinewidth\":0,\"ticks\":\"\"}},\"type\":\"scatterpolar\"}],\"scatter\":[{\"fillpattern\":{\"fillmode\":\"overlay\",\"size\":10,\"solidity\":0.2},\"type\":\"scatter\",\"marker\":{\"opacity\":0.8}}],\"scatterternary\":[{\"marker\":{\"colorbar\":{\"outlinewidth\":0,\"ticks\":\"\"}},\"type\":\"scatterternary\"}],\"surface\":[{\"colorbar\":{\"outlinewidth\":0,\"ticks\":\"\"},\"colorscale\":[[0.0,\"#0d0887\"],[0.1111111111111111,\"#46039f\"],[0.2222222222222222,\"#7201a8\"],[0.3333333333333333,\"#9c179e\"],[0.4444444444444444,\"#bd3786\"],[0.5555555555555556,\"#d8576b\"],[0.6666666666666666,\"#ed7953\"],[0.7777777777777778,\"#fb9f3a\"],[0.8888888888888888,\"#fdca26\"],[1.0,\"#f0f921\"]],\"type\":\"surface\"}],\"table\":[{\"cells\":{\"fill\":{\"color\":\"#EBF0F8\"},\"line\":{\"color\":\"white\"}},\"header\":{\"fill\":{\"color\":\"#C8D4E3\"},\"line\":{\"color\":\"white\"}},\"type\":\"table\"}],\"box\":[{\"boxpoints\":\"outliers\",\"notched\":false,\"type\":\"box\"}]},\"layout\":{\"annotationdefaults\":{\"arrowcolor\":\"#2a3f5f\",\"arrowhead\":0,\"arrowwidth\":1},\"autotypenumbers\":\"strict\",\"coloraxis\":{\"colorbar\":{\"outlinewidth\":0,\"ticks\":\"\"}},\"colorscale\":{\"diverging\":[[0,\"#8e0152\"],[0.1,\"#c51b7d\"],[0.2,\"#de77ae\"],[0.3,\"#f1b6da\"],[0.4,\"#fde0ef\"],[0.5,\"#f7f7f7\"],[0.6,\"#e6f5d0\"],[0.7,\"#b8e186\"],[0.8,\"#7fbc41\"],[0.9,\"#4d9221\"],[1,\"#276419\"]],\"sequential\":[[0.0,\"#0d0887\"],[0.1111111111111111,\"#46039f\"],[0.2222222222222222,\"#7201a8\"],[0.3333333333333333,\"#9c179e\"],[0.4444444444444444,\"#bd3786\"],[0.5555555555555556,\"#d8576b\"],[0.6666666666666666,\"#ed7953\"],[0.7777777777777778,\"#fb9f3a\"],[0.8888888888888888,\"#fdca26\"],[1.0,\"#f0f921\"]],\"sequentialminus\":[[0.0,\"#0d0887\"],[0.1111111111111111,\"#46039f\"],[0.2222222222222222,\"#7201a8\"],[0.3333333333333333,\"#9c179e\"],[0.4444444444444444,\"#bd3786\"],[0.5555555555555556,\"#d8576b\"],[0.6666666666666666,\"#ed7953\"],[0.7777777777777778,\"#fb9f3a\"],[0.8888888888888888,\"#fdca26\"],[1.0,\"#f0f921\"]]},\"colorway\":[\"#636efa\",\"#EF553B\",\"#00cc96\",\"#ab63fa\",\"#FFA15A\",\"#19d3f3\",\"#FF6692\",\"#B6E880\",\"#FF97FF\",\"#FECB52\"],\"font\":{\"color\":\"#2a3f5f\"},\"geo\":{\"bgcolor\":\"white\",\"lakecolor\":\"white\",\"landcolor\":\"white\",\"showlakes\":true,\"showland\":true,\"subunitcolor\":\"#C8D4E3\"},\"hoverlabel\":{\"align\":\"left\"},\"hovermode\":\"closest\",\"mapbox\":{\"style\":\"light\"},\"paper_bgcolor\":\"white\",\"plot_bgcolor\":\"white\",\"polar\":{\"angularaxis\":{\"gridcolor\":\"#EBF0F8\",\"linecolor\":\"#EBF0F8\",\"ticks\":\"\"},\"bgcolor\":\"white\",\"radialaxis\":{\"gridcolor\":\"#EBF0F8\",\"linecolor\":\"#EBF0F8\",\"ticks\":\"\"}},\"scene\":{\"xaxis\":{\"backgroundcolor\":\"white\",\"gridcolor\":\"#DFE8F3\",\"gridwidth\":2,\"linecolor\":\"#EBF0F8\",\"showbackground\":true,\"ticks\":\"\",\"zerolinecolor\":\"#EBF0F8\"},\"yaxis\":{\"backgroundcolor\":\"white\",\"gridcolor\":\"#DFE8F3\",\"gridwidth\":2,\"linecolor\":\"#EBF0F8\",\"showbackground\":true,\"ticks\":\"\",\"zerolinecolor\":\"#EBF0F8\"},\"zaxis\":{\"backgroundcolor\":\"white\",\"gridcolor\":\"#DFE8F3\",\"gridwidth\":2,\"linecolor\":\"#EBF0F8\",\"showbackground\":true,\"ticks\":\"\",\"zerolinecolor\":\"#EBF0F8\"},\"camera\":{\"eye\":{\"x\":1.5,\"y\":1.5,\"z\":0.1}}},\"shapedefaults\":{\"line\":{\"color\":\"#2a3f5f\"}},\"ternary\":{\"aaxis\":{\"gridcolor\":\"#DFE8F3\",\"linecolor\":\"#A2B1C6\",\"ticks\":\"\"},\"baxis\":{\"gridcolor\":\"#DFE8F3\",\"linecolor\":\"#A2B1C6\",\"ticks\":\"\"},\"bgcolor\":\"white\",\"caxis\":{\"gridcolor\":\"#DFE8F3\",\"linecolor\":\"#A2B1C6\",\"ticks\":\"\"}},\"title\":{\"x\":0.5},\"xaxis\":{\"automargin\":true,\"gridcolor\":\"#EBF0F8\",\"linecolor\":\"#EBF0F8\",\"ticks\":\"\",\"title\":{\"standoff\":15},\"zerolinecolor\":\"#EBF0F8\",\"zerolinewidth\":2,\"linewidth\":2,\"showline\":true},\"yaxis\":{\"automargin\":true,\"gridcolor\":\"#EBF0F8\",\"linecolor\":\"#EBF0F8\",\"ticks\":\"\",\"title\":{\"standoff\":15},\"zerolinecolor\":\"#EBF0F8\",\"zerolinewidth\":2,\"linewidth\":2,\"showline\":true},\"height\":400,\"margin\":{\"b\":2,\"l\":2,\"r\":2,\"t\":30}}},\"xaxis\":{\"anchor\":\"y\",\"domain\":[0.0,1.0],\"title\":{\"text\":\"Numer of trees (n estimators)\"},\"range\":[2,50]},\"yaxis\":{\"anchor\":\"x\",\"domain\":[0.0,1.0],\"title\":{\"text\":\"Accuracy\"}},\"legend\":{\"title\":{\"text\":\"Line\"},\"tracegroupgap\":0},\"title\":{\"text\":\"Performance X number of trees\"}},                        {\"responsive\": true}                    ).then(function(){\n",
              "                            \n",
              "var gd = document.getElementById('5917668e-f16a-4e87-a932-d3be29cd043f');\n",
              "var x = new MutationObserver(function (mutations, observer) {{\n",
              "        var display = window.getComputedStyle(gd).display;\n",
              "        if (!display || display === 'none') {{\n",
              "            console.log([gd, 'removed!']);\n",
              "            Plotly.purge(gd);\n",
              "            observer.disconnect();\n",
              "        }}\n",
              "}});\n",
              "\n",
              "// Listen for the removal of the full notebook cells\n",
              "var notebookContainer = gd.closest('#notebook-container');\n",
              "if (notebookContainer) {{\n",
              "    x.observe(notebookContainer, {childList: true});\n",
              "}}\n",
              "\n",
              "// Listen for the clearing of the current output cell\n",
              "var outputEl = gd.closest('.output');\n",
              "if (outputEl) {{\n",
              "    x.observe(outputEl, {childList: true});\n",
              "}}\n",
              "\n",
              "                        })                };                            </script>        </div>\n",
              "</body>\n",
              "</html>"
            ]
          },
          "metadata": {}
        }
      ]
    },
    {
      "cell_type": "markdown",
      "source": [
        "\n",
        "Las métricas se ven muy bien para el conjunto de entrenamiento , pero no tanto para el conjunto de prueba . Más árboles tendían a ayudar a ambos, pero solo hasta cierto punto.\n",
        "\n",
        "Podríamos haber esperado que la cantidad de árboles resolviera nuestro problema de sobreajuste, ¡pero este no fue el caso! Lo más probable es que el modelo sea simplemente demasiado complejo en relación con los datos, lo que le permite sobreajustarse al conjunto de entrenamiento."
      ],
      "metadata": {
        "id": "HW6gh6qbOwH6"
      }
    },
    {
      "cell_type": "markdown",
      "source": [
        "### <font color='B8E139'><b>Alteración del número mínimo de muestras para el parámetro de división.</b></font>\n",
        "\n",
        "Recuerde que los árboles de decisión tienen un nodo raíz , nodos internos y nodos hoja , y que los dos primeros se pueden dividir en nodos más nuevos con subconjuntos de datos.\n",
        "\n",
        "Si dejamos que nuestro modelo se divida y creemos demasiados nodos, puede volverse cada vez más complejo y comenzar a sobreajustarse.\n",
        "\n",
        "Una forma de limitar esa complejidad es decirle al modelo que cada nodo debe tener al menos una cierta cantidad de muestras; de lo contrario, no se puede dividir en subnodos.\n",
        "\n",
        "En otras palabras, podemos establecer el `min_samples_split` parámetro del modelo en la menor cantidad de muestras necesarias para que un nodo se pueda dividir.\n",
        "\n",
        "Nuestro valor predeterminado para `min_samples_split` es solo 2, por lo que los modelos se volverán rápidamente demasiado complejos si ese parámetro no se modifica.\n",
        "\n",
        "Ahora usaremos el modelo de mejor rendimiento anterior, luego lo probaremos con diferentes `min_samples_split` valores y compararemos los resultados:"
      ],
      "metadata": {
        "id": "NIm9hzBLOrwk"
      }
    },
    {
      "cell_type": "code",
      "source": [
        "# Shrink the training set temporarily to explore this\n",
        "# setting with a more normal sample size\n",
        "full_trainset = train\n",
        "train = full_trainset[:1000] # limit to 1000 samples\n",
        "\n",
        "min_samples_split = [2, 10, 20, 50, 100, 500]\n",
        "\n",
        "# Train our models and report their performance\n",
        "train_accuracies = []\n",
        "test_accuracies = []\n",
        "\n",
        "for min_samples in min_samples_split:\n",
        "    print(\"Preparing a model with min_samples_split = \", min_samples)\n",
        "\n",
        "    # Prepare the model \n",
        "    rf = RandomForestClassifier(n_estimators=20,\n",
        "                                min_samples_split=min_samples,\n",
        "                                random_state=2, \n",
        "                                verbose=False)\n",
        "    \n",
        "    # Train and test the result\n",
        "    train_accuracy, test_accuracy = fit_and_test_model(rf)\n",
        "\n",
        "    # Save the results\n",
        "    test_accuracies.append(test_accuracy)\n",
        "    train_accuracies.append(train_accuracy)\n",
        "\n",
        "\n",
        "# Plot results\n",
        "graphing.line_2D(dict(Train=train_accuracies, Test=test_accuracies), \n",
        "                    min_samples_split,\n",
        "                    label_x=\"Minimum samples split (min_samples_split)\",\n",
        "                    label_y=\"Accuracy\",\n",
        "                    title=\"Performance\", show=True)\n",
        "\n",
        "# Rol back the trainset to the full set\n",
        "train = full_trainset"
      ],
      "metadata": {
        "colab": {
          "base_uri": "https://localhost:8080/",
          "height": 521
        },
        "id": "vWrvb4LPO5ej",
        "outputId": "2e04f979-14c4-4082-d70e-0e285c0a06a7"
      },
      "execution_count": 6,
      "outputs": [
        {
          "output_type": "stream",
          "name": "stdout",
          "text": [
            "Preparing a model with min_samples_split =  2\n",
            "Preparing a model with min_samples_split =  10\n",
            "Preparing a model with min_samples_split =  20\n",
            "Preparing a model with min_samples_split =  50\n",
            "Preparing a model with min_samples_split =  100\n",
            "Preparing a model with min_samples_split =  500\n"
          ]
        },
        {
          "output_type": "display_data",
          "data": {
            "text/html": [
              "<html>\n",
              "<head><meta charset=\"utf-8\" /></head>\n",
              "<body>\n",
              "    <div>            <script src=\"https://cdnjs.cloudflare.com/ajax/libs/mathjax/2.7.5/MathJax.js?config=TeX-AMS-MML_SVG\"></script><script type=\"text/javascript\">if (window.MathJax && window.MathJax.Hub && window.MathJax.Hub.Config) {window.MathJax.Hub.Config({SVG: {font: \"STIX-Web\"}});}</script>                <script type=\"text/javascript\">window.PlotlyConfig = {MathJaxConfig: 'local'};</script>\n",
              "        <script src=\"https://cdn.plot.ly/plotly-2.18.2.min.js\"></script>                <div id=\"65233220-a0cc-46cc-80f9-57fceb637f18\" class=\"plotly-graph-div\" style=\"height:400px; width:100%;\"></div>            <script type=\"text/javascript\">                                    window.PLOTLYENV=window.PLOTLYENV || {};                                    if (document.getElementById(\"65233220-a0cc-46cc-80f9-57fceb637f18\")) {                    Plotly.newPlot(                        \"65233220-a0cc-46cc-80f9-57fceb637f18\",                        [{\"hovertemplate\":\"Line=Train<br>Minimum samples split (min samples split)=%{x}<br>Accuracy=%{y}<extra></extra>\",\"legendgroup\":\"Train\",\"marker\":{\"color\":\"#636efa\",\"symbol\":\"circle\",\"size\":19},\"mode\":\"lines\",\"name\":\"Train\",\"orientation\":\"v\",\"showlegend\":true,\"x\":[2.0,10.0,20.0,50.0,100.0,500.0],\"xaxis\":\"x\",\"y\":[0.9963503649635037,0.8541855180873097,0.8000945084554906,0.7592246285013372,0.7284088395568157,0.5],\"yaxis\":\"y\",\"type\":\"scatter\"},{\"hovertemplate\":\"Line=Test<br>Minimum samples split (min samples split)=%{x}<br>Accuracy=%{y}<extra></extra>\",\"legendgroup\":\"Test\",\"marker\":{\"color\":\"#EF553B\",\"symbol\":\"circle\",\"size\":19},\"mode\":\"lines\",\"name\":\"Test\",\"orientation\":\"v\",\"showlegend\":true,\"x\":[2.0,10.0,20.0,50.0,100.0,500.0],\"xaxis\":\"x\",\"y\":[0.6982512531888485,0.6979693593334069,0.6992717539931208,0.6971769551859806,0.6892389229748863,0.5],\"yaxis\":\"y\",\"type\":\"scatter\"}],                        {\"template\":{\"data\":{\"barpolar\":[{\"marker\":{\"line\":{\"color\":\"white\",\"width\":0.5},\"pattern\":{\"fillmode\":\"overlay\",\"size\":10,\"solidity\":0.2}},\"type\":\"barpolar\"}],\"bar\":[{\"error_x\":{\"color\":\"#2a3f5f\"},\"error_y\":{\"color\":\"#2a3f5f\"},\"marker\":{\"line\":{\"color\":\"white\",\"width\":0.5},\"pattern\":{\"fillmode\":\"overlay\",\"size\":10,\"solidity\":0.2}},\"type\":\"bar\"}],\"carpet\":[{\"aaxis\":{\"endlinecolor\":\"#2a3f5f\",\"gridcolor\":\"#C8D4E3\",\"linecolor\":\"#C8D4E3\",\"minorgridcolor\":\"#C8D4E3\",\"startlinecolor\":\"#2a3f5f\"},\"baxis\":{\"endlinecolor\":\"#2a3f5f\",\"gridcolor\":\"#C8D4E3\",\"linecolor\":\"#C8D4E3\",\"minorgridcolor\":\"#C8D4E3\",\"startlinecolor\":\"#2a3f5f\"},\"type\":\"carpet\"}],\"choropleth\":[{\"colorbar\":{\"outlinewidth\":0,\"ticks\":\"\"},\"type\":\"choropleth\"}],\"contourcarpet\":[{\"colorbar\":{\"outlinewidth\":0,\"ticks\":\"\"},\"type\":\"contourcarpet\"}],\"contour\":[{\"colorbar\":{\"outlinewidth\":0,\"ticks\":\"\"},\"colorscale\":[[0.0,\"#0d0887\"],[0.1111111111111111,\"#46039f\"],[0.2222222222222222,\"#7201a8\"],[0.3333333333333333,\"#9c179e\"],[0.4444444444444444,\"#bd3786\"],[0.5555555555555556,\"#d8576b\"],[0.6666666666666666,\"#ed7953\"],[0.7777777777777778,\"#fb9f3a\"],[0.8888888888888888,\"#fdca26\"],[1.0,\"#f0f921\"]],\"type\":\"contour\"}],\"heatmapgl\":[{\"colorbar\":{\"outlinewidth\":0,\"ticks\":\"\"},\"colorscale\":[[0.0,\"#0d0887\"],[0.1111111111111111,\"#46039f\"],[0.2222222222222222,\"#7201a8\"],[0.3333333333333333,\"#9c179e\"],[0.4444444444444444,\"#bd3786\"],[0.5555555555555556,\"#d8576b\"],[0.6666666666666666,\"#ed7953\"],[0.7777777777777778,\"#fb9f3a\"],[0.8888888888888888,\"#fdca26\"],[1.0,\"#f0f921\"]],\"type\":\"heatmapgl\"}],\"heatmap\":[{\"colorbar\":{\"outlinewidth\":0,\"ticks\":\"\"},\"colorscale\":[[0.0,\"#0d0887\"],[0.1111111111111111,\"#46039f\"],[0.2222222222222222,\"#7201a8\"],[0.3333333333333333,\"#9c179e\"],[0.4444444444444444,\"#bd3786\"],[0.5555555555555556,\"#d8576b\"],[0.6666666666666666,\"#ed7953\"],[0.7777777777777778,\"#fb9f3a\"],[0.8888888888888888,\"#fdca26\"],[1.0,\"#f0f921\"]],\"type\":\"heatmap\"}],\"histogram2dcontour\":[{\"colorbar\":{\"outlinewidth\":0,\"ticks\":\"\"},\"colorscale\":[[0.0,\"#0d0887\"],[0.1111111111111111,\"#46039f\"],[0.2222222222222222,\"#7201a8\"],[0.3333333333333333,\"#9c179e\"],[0.4444444444444444,\"#bd3786\"],[0.5555555555555556,\"#d8576b\"],[0.6666666666666666,\"#ed7953\"],[0.7777777777777778,\"#fb9f3a\"],[0.8888888888888888,\"#fdca26\"],[1.0,\"#f0f921\"]],\"type\":\"histogram2dcontour\"}],\"histogram2d\":[{\"colorbar\":{\"outlinewidth\":0,\"ticks\":\"\"},\"colorscale\":[[0.0,\"#0d0887\"],[0.1111111111111111,\"#46039f\"],[0.2222222222222222,\"#7201a8\"],[0.3333333333333333,\"#9c179e\"],[0.4444444444444444,\"#bd3786\"],[0.5555555555555556,\"#d8576b\"],[0.6666666666666666,\"#ed7953\"],[0.7777777777777778,\"#fb9f3a\"],[0.8888888888888888,\"#fdca26\"],[1.0,\"#f0f921\"]],\"type\":\"histogram2d\"}],\"histogram\":[{\"marker\":{\"pattern\":{\"fillmode\":\"overlay\",\"size\":10,\"solidity\":0.2},\"line\":{\"width\":1}},\"type\":\"histogram\"}],\"mesh3d\":[{\"colorbar\":{\"outlinewidth\":0,\"ticks\":\"\"},\"type\":\"mesh3d\"}],\"parcoords\":[{\"line\":{\"colorbar\":{\"outlinewidth\":0,\"ticks\":\"\"}},\"type\":\"parcoords\"}],\"pie\":[{\"automargin\":true,\"type\":\"pie\"}],\"scatter3d\":[{\"line\":{\"colorbar\":{\"outlinewidth\":0,\"ticks\":\"\"}},\"marker\":{\"colorbar\":{\"outlinewidth\":0,\"ticks\":\"\"},\"opacity\":0.8},\"type\":\"scatter3d\"}],\"scattercarpet\":[{\"marker\":{\"colorbar\":{\"outlinewidth\":0,\"ticks\":\"\"}},\"type\":\"scattercarpet\"}],\"scattergeo\":[{\"marker\":{\"colorbar\":{\"outlinewidth\":0,\"ticks\":\"\"}},\"type\":\"scattergeo\"}],\"scattergl\":[{\"marker\":{\"colorbar\":{\"outlinewidth\":0,\"ticks\":\"\"}},\"type\":\"scattergl\"}],\"scattermapbox\":[{\"marker\":{\"colorbar\":{\"outlinewidth\":0,\"ticks\":\"\"}},\"type\":\"scattermapbox\"}],\"scatterpolargl\":[{\"marker\":{\"colorbar\":{\"outlinewidth\":0,\"ticks\":\"\"}},\"type\":\"scatterpolargl\"}],\"scatterpolar\":[{\"marker\":{\"colorbar\":{\"outlinewidth\":0,\"ticks\":\"\"}},\"type\":\"scatterpolar\"}],\"scatter\":[{\"fillpattern\":{\"fillmode\":\"overlay\",\"size\":10,\"solidity\":0.2},\"type\":\"scatter\",\"marker\":{\"opacity\":0.8}}],\"scatterternary\":[{\"marker\":{\"colorbar\":{\"outlinewidth\":0,\"ticks\":\"\"}},\"type\":\"scatterternary\"}],\"surface\":[{\"colorbar\":{\"outlinewidth\":0,\"ticks\":\"\"},\"colorscale\":[[0.0,\"#0d0887\"],[0.1111111111111111,\"#46039f\"],[0.2222222222222222,\"#7201a8\"],[0.3333333333333333,\"#9c179e\"],[0.4444444444444444,\"#bd3786\"],[0.5555555555555556,\"#d8576b\"],[0.6666666666666666,\"#ed7953\"],[0.7777777777777778,\"#fb9f3a\"],[0.8888888888888888,\"#fdca26\"],[1.0,\"#f0f921\"]],\"type\":\"surface\"}],\"table\":[{\"cells\":{\"fill\":{\"color\":\"#EBF0F8\"},\"line\":{\"color\":\"white\"}},\"header\":{\"fill\":{\"color\":\"#C8D4E3\"},\"line\":{\"color\":\"white\"}},\"type\":\"table\"}],\"box\":[{\"boxpoints\":\"outliers\",\"notched\":false,\"type\":\"box\"}]},\"layout\":{\"annotationdefaults\":{\"arrowcolor\":\"#2a3f5f\",\"arrowhead\":0,\"arrowwidth\":1},\"autotypenumbers\":\"strict\",\"coloraxis\":{\"colorbar\":{\"outlinewidth\":0,\"ticks\":\"\"}},\"colorscale\":{\"diverging\":[[0,\"#8e0152\"],[0.1,\"#c51b7d\"],[0.2,\"#de77ae\"],[0.3,\"#f1b6da\"],[0.4,\"#fde0ef\"],[0.5,\"#f7f7f7\"],[0.6,\"#e6f5d0\"],[0.7,\"#b8e186\"],[0.8,\"#7fbc41\"],[0.9,\"#4d9221\"],[1,\"#276419\"]],\"sequential\":[[0.0,\"#0d0887\"],[0.1111111111111111,\"#46039f\"],[0.2222222222222222,\"#7201a8\"],[0.3333333333333333,\"#9c179e\"],[0.4444444444444444,\"#bd3786\"],[0.5555555555555556,\"#d8576b\"],[0.6666666666666666,\"#ed7953\"],[0.7777777777777778,\"#fb9f3a\"],[0.8888888888888888,\"#fdca26\"],[1.0,\"#f0f921\"]],\"sequentialminus\":[[0.0,\"#0d0887\"],[0.1111111111111111,\"#46039f\"],[0.2222222222222222,\"#7201a8\"],[0.3333333333333333,\"#9c179e\"],[0.4444444444444444,\"#bd3786\"],[0.5555555555555556,\"#d8576b\"],[0.6666666666666666,\"#ed7953\"],[0.7777777777777778,\"#fb9f3a\"],[0.8888888888888888,\"#fdca26\"],[1.0,\"#f0f921\"]]},\"colorway\":[\"#636efa\",\"#EF553B\",\"#00cc96\",\"#ab63fa\",\"#FFA15A\",\"#19d3f3\",\"#FF6692\",\"#B6E880\",\"#FF97FF\",\"#FECB52\"],\"font\":{\"color\":\"#2a3f5f\"},\"geo\":{\"bgcolor\":\"white\",\"lakecolor\":\"white\",\"landcolor\":\"white\",\"showlakes\":true,\"showland\":true,\"subunitcolor\":\"#C8D4E3\"},\"hoverlabel\":{\"align\":\"left\"},\"hovermode\":\"closest\",\"mapbox\":{\"style\":\"light\"},\"paper_bgcolor\":\"white\",\"plot_bgcolor\":\"white\",\"polar\":{\"angularaxis\":{\"gridcolor\":\"#EBF0F8\",\"linecolor\":\"#EBF0F8\",\"ticks\":\"\"},\"bgcolor\":\"white\",\"radialaxis\":{\"gridcolor\":\"#EBF0F8\",\"linecolor\":\"#EBF0F8\",\"ticks\":\"\"}},\"scene\":{\"xaxis\":{\"backgroundcolor\":\"white\",\"gridcolor\":\"#DFE8F3\",\"gridwidth\":2,\"linecolor\":\"#EBF0F8\",\"showbackground\":true,\"ticks\":\"\",\"zerolinecolor\":\"#EBF0F8\"},\"yaxis\":{\"backgroundcolor\":\"white\",\"gridcolor\":\"#DFE8F3\",\"gridwidth\":2,\"linecolor\":\"#EBF0F8\",\"showbackground\":true,\"ticks\":\"\",\"zerolinecolor\":\"#EBF0F8\"},\"zaxis\":{\"backgroundcolor\":\"white\",\"gridcolor\":\"#DFE8F3\",\"gridwidth\":2,\"linecolor\":\"#EBF0F8\",\"showbackground\":true,\"ticks\":\"\",\"zerolinecolor\":\"#EBF0F8\"},\"camera\":{\"eye\":{\"x\":1.5,\"y\":1.5,\"z\":0.1}}},\"shapedefaults\":{\"line\":{\"color\":\"#2a3f5f\"}},\"ternary\":{\"aaxis\":{\"gridcolor\":\"#DFE8F3\",\"linecolor\":\"#A2B1C6\",\"ticks\":\"\"},\"baxis\":{\"gridcolor\":\"#DFE8F3\",\"linecolor\":\"#A2B1C6\",\"ticks\":\"\"},\"bgcolor\":\"white\",\"caxis\":{\"gridcolor\":\"#DFE8F3\",\"linecolor\":\"#A2B1C6\",\"ticks\":\"\"}},\"title\":{\"x\":0.5},\"xaxis\":{\"automargin\":true,\"gridcolor\":\"#EBF0F8\",\"linecolor\":\"#EBF0F8\",\"ticks\":\"\",\"title\":{\"standoff\":15},\"zerolinecolor\":\"#EBF0F8\",\"zerolinewidth\":2,\"linewidth\":2,\"showline\":true},\"yaxis\":{\"automargin\":true,\"gridcolor\":\"#EBF0F8\",\"linecolor\":\"#EBF0F8\",\"ticks\":\"\",\"title\":{\"standoff\":15},\"zerolinecolor\":\"#EBF0F8\",\"zerolinewidth\":2,\"linewidth\":2,\"showline\":true},\"height\":400,\"margin\":{\"b\":2,\"l\":2,\"r\":2,\"t\":30}}},\"xaxis\":{\"anchor\":\"y\",\"domain\":[0.0,1.0],\"title\":{\"text\":\"Minimum samples split (min samples split)\"},\"range\":[2,500]},\"yaxis\":{\"anchor\":\"x\",\"domain\":[0.0,1.0],\"title\":{\"text\":\"Accuracy\"}},\"legend\":{\"title\":{\"text\":\"Line\"},\"tracegroupgap\":0},\"title\":{\"text\":\"Performance\"}},                        {\"responsive\": true}                    ).then(function(){\n",
              "                            \n",
              "var gd = document.getElementById('65233220-a0cc-46cc-80f9-57fceb637f18');\n",
              "var x = new MutationObserver(function (mutations, observer) {{\n",
              "        var display = window.getComputedStyle(gd).display;\n",
              "        if (!display || display === 'none') {{\n",
              "            console.log([gd, 'removed!']);\n",
              "            Plotly.purge(gd);\n",
              "            observer.disconnect();\n",
              "        }}\n",
              "}});\n",
              "\n",
              "// Listen for the removal of the full notebook cells\n",
              "var notebookContainer = gd.closest('#notebook-container');\n",
              "if (notebookContainer) {{\n",
              "    x.observe(notebookContainer, {childList: true});\n",
              "}}\n",
              "\n",
              "// Listen for the clearing of the current output cell\n",
              "var outputEl = gd.closest('.output');\n",
              "if (outputEl) {{\n",
              "    x.observe(outputEl, {childList: true});\n",
              "}}\n",
              "\n",
              "                        })                };                            </script>        </div>\n",
              "</body>\n",
              "</html>"
            ]
          },
          "metadata": {}
        }
      ]
    },
    {
      "cell_type": "markdown",
      "source": [
        "Como puede ver arriba, las pequeñas restricciones en la complejidad del modelo, al limitar su capacidad para dividir nodos, reducen la brecha entre el entrenamiento y el rendimiento de la prueba. Si esto es sutil, lo hace sin dañar en absoluto el rendimiento de la prueba.\n",
        "\n",
        "Al limitar la complejidad del modelo que abordamos `overfitting`, mejoramos su capacidad para generalizar y hacer predicciones precisas sobre datos no vistos .\n",
        "\n",
        "Tenga en cuenta que el uso `min_samples_split=20` nos dio el mejor resultado para el conjunto de prueba y que los valores más altos empeoraron los resultados."
      ],
      "metadata": {
        "id": "z0gc1KHaO5nj"
      }
    },
    {
      "cell_type": "markdown",
      "source": [
        "### <font color='B8E139'><b>Alterar la profundidad del modelo</b></font>\n",
        "\n",
        "Un método relacionado para limitar los árboles es la restricción `max_depth`. Esto es equivalente a lo que`max_depth` usamos anteriormente para nuestro árbol de decisiones. Su valor predeterminado es `None`, lo que significa que los nodos se pueden expandir hasta que todas las hojas sean puras (todas las muestras tienen la misma etiqueta) o tienen menos muestras que el valor establecido para `min_samples_split`.\n",
        "\n",
        "Si `max_depth`, o `min_samples_split` es más apropiado depende de la naturaleza de su conjunto de datos, incluido su tamaño. Por lo general, necesitamos experimentar para encontrar la mejor configuración. Investiguemos `max_depth` como si solo tuviéramos 500 muestras de delitos disponibles para nuestro conjunto de entrenamiento."
      ],
      "metadata": {
        "id": "1RVtzDICO2xr"
      }
    },
    {
      "cell_type": "code",
      "source": [
        "# Shrink the training set temporarily to explore this\n",
        "# setting with a more normal sample size\n",
        "full_trainset = train\n",
        "train = full_trainset[:500] # limit to 500 samples\n",
        "\n",
        "max_depths = [2, 4, 6, 8, 10, 15, 20, 50, 100]\n",
        "\n",
        "# Train our models and report their performance\n",
        "train_accuracies = []\n",
        "test_accuracies = []\n",
        "\n",
        "for max_depth in max_depths:\n",
        "    print(\"Preparing a model with max_depth = \", max_depth)\n",
        "\n",
        "    # Prepare the model \n",
        "    rf = RandomForestClassifier(n_estimators=20,\n",
        "                                max_depth=max_depth,\n",
        "                                random_state=2, \n",
        "                                verbose=False)\n",
        "    \n",
        "    # Train and test the result\n",
        "    train_accuracy, test_accuracy = fit_and_test_model(rf)\n",
        "\n",
        "    # Save the results\n",
        "    test_accuracies.append(test_accuracy)\n",
        "    train_accuracies.append(train_accuracy)\n",
        "\n",
        "\n",
        "# Plot results\n",
        "graphing.line_2D(dict(Train=train_accuracies, Test=test_accuracies),\n",
        "                    max_depths,\n",
        "                    label_x=\"Maximum depth (max_depths)\",\n",
        "                    label_y=\"Accuracy\",\n",
        "                    title=\"Performance\", show=True)\n",
        "\n",
        "# Rol back the trainset to the full set\n",
        "train = full_trainset"
      ],
      "metadata": {
        "colab": {
          "base_uri": "https://localhost:8080/",
          "height": 573
        },
        "id": "2x9CWw4XPAP7",
        "outputId": "24f1d527-bfdd-407d-e75d-5792b4014c53"
      },
      "execution_count": 7,
      "outputs": [
        {
          "output_type": "stream",
          "name": "stdout",
          "text": [
            "Preparing a model with max_depth =  2\n",
            "Preparing a model with max_depth =  4\n",
            "Preparing a model with max_depth =  6\n",
            "Preparing a model with max_depth =  8\n",
            "Preparing a model with max_depth =  10\n",
            "Preparing a model with max_depth =  15\n",
            "Preparing a model with max_depth =  20\n",
            "Preparing a model with max_depth =  50\n",
            "Preparing a model with max_depth =  100\n"
          ]
        },
        {
          "output_type": "display_data",
          "data": {
            "text/html": [
              "<html>\n",
              "<head><meta charset=\"utf-8\" /></head>\n",
              "<body>\n",
              "    <div>            <script src=\"https://cdnjs.cloudflare.com/ajax/libs/mathjax/2.7.5/MathJax.js?config=TeX-AMS-MML_SVG\"></script><script type=\"text/javascript\">if (window.MathJax && window.MathJax.Hub && window.MathJax.Hub.Config) {window.MathJax.Hub.Config({SVG: {font: \"STIX-Web\"}});}</script>                <script type=\"text/javascript\">window.PlotlyConfig = {MathJaxConfig: 'local'};</script>\n",
              "        <script src=\"https://cdn.plot.ly/plotly-2.18.2.min.js\"></script>                <div id=\"ec2605ee-4644-48da-bdaa-0d34636a85be\" class=\"plotly-graph-div\" style=\"height:400px; width:100%;\"></div>            <script type=\"text/javascript\">                                    window.PLOTLYENV=window.PLOTLYENV || {};                                    if (document.getElementById(\"ec2605ee-4644-48da-bdaa-0d34636a85be\")) {                    Plotly.newPlot(                        \"ec2605ee-4644-48da-bdaa-0d34636a85be\",                        [{\"hovertemplate\":\"Line=Train<br>Maximum depth (max depths)=%{x}<br>Accuracy=%{y}<extra></extra>\",\"legendgroup\":\"Train\",\"marker\":{\"color\":\"#636efa\",\"symbol\":\"circle\",\"size\":19},\"mode\":\"lines\",\"name\":\"Train\",\"orientation\":\"v\",\"showlegend\":true,\"x\":[2.0,4.0,6.0,8.0,10.0,15.0,20.0,50.0,100.0],\"xaxis\":\"x\",\"y\":[0.5,0.6007462686567164,0.7038577603784357,0.756096566348585,0.8120667156023162,0.9626865671641791,0.9962686567164178,0.9962686567164178,0.9962686567164178],\"yaxis\":\"y\",\"type\":\"scatter\"},{\"hovertemplate\":\"Line=Test<br>Maximum depth (max depths)=%{x}<br>Accuracy=%{y}<extra></extra>\",\"legendgroup\":\"Test\",\"marker\":{\"color\":\"#EF553B\",\"symbol\":\"circle\",\"size\":19},\"mode\":\"lines\",\"name\":\"Test\",\"orientation\":\"v\",\"showlegend\":true,\"x\":[2.0,4.0,6.0,8.0,10.0,15.0,20.0,50.0,100.0],\"xaxis\":\"x\",\"y\":[0.5,0.5353134427504247,0.590651051791542,0.624638060071286,0.646102622531133,0.6783261915603024,0.6781887098305588,0.6619145374757696,0.6619145374757696],\"yaxis\":\"y\",\"type\":\"scatter\"}],                        {\"template\":{\"data\":{\"barpolar\":[{\"marker\":{\"line\":{\"color\":\"white\",\"width\":0.5},\"pattern\":{\"fillmode\":\"overlay\",\"size\":10,\"solidity\":0.2}},\"type\":\"barpolar\"}],\"bar\":[{\"error_x\":{\"color\":\"#2a3f5f\"},\"error_y\":{\"color\":\"#2a3f5f\"},\"marker\":{\"line\":{\"color\":\"white\",\"width\":0.5},\"pattern\":{\"fillmode\":\"overlay\",\"size\":10,\"solidity\":0.2}},\"type\":\"bar\"}],\"carpet\":[{\"aaxis\":{\"endlinecolor\":\"#2a3f5f\",\"gridcolor\":\"#C8D4E3\",\"linecolor\":\"#C8D4E3\",\"minorgridcolor\":\"#C8D4E3\",\"startlinecolor\":\"#2a3f5f\"},\"baxis\":{\"endlinecolor\":\"#2a3f5f\",\"gridcolor\":\"#C8D4E3\",\"linecolor\":\"#C8D4E3\",\"minorgridcolor\":\"#C8D4E3\",\"startlinecolor\":\"#2a3f5f\"},\"type\":\"carpet\"}],\"choropleth\":[{\"colorbar\":{\"outlinewidth\":0,\"ticks\":\"\"},\"type\":\"choropleth\"}],\"contourcarpet\":[{\"colorbar\":{\"outlinewidth\":0,\"ticks\":\"\"},\"type\":\"contourcarpet\"}],\"contour\":[{\"colorbar\":{\"outlinewidth\":0,\"ticks\":\"\"},\"colorscale\":[[0.0,\"#0d0887\"],[0.1111111111111111,\"#46039f\"],[0.2222222222222222,\"#7201a8\"],[0.3333333333333333,\"#9c179e\"],[0.4444444444444444,\"#bd3786\"],[0.5555555555555556,\"#d8576b\"],[0.6666666666666666,\"#ed7953\"],[0.7777777777777778,\"#fb9f3a\"],[0.8888888888888888,\"#fdca26\"],[1.0,\"#f0f921\"]],\"type\":\"contour\"}],\"heatmapgl\":[{\"colorbar\":{\"outlinewidth\":0,\"ticks\":\"\"},\"colorscale\":[[0.0,\"#0d0887\"],[0.1111111111111111,\"#46039f\"],[0.2222222222222222,\"#7201a8\"],[0.3333333333333333,\"#9c179e\"],[0.4444444444444444,\"#bd3786\"],[0.5555555555555556,\"#d8576b\"],[0.6666666666666666,\"#ed7953\"],[0.7777777777777778,\"#fb9f3a\"],[0.8888888888888888,\"#fdca26\"],[1.0,\"#f0f921\"]],\"type\":\"heatmapgl\"}],\"heatmap\":[{\"colorbar\":{\"outlinewidth\":0,\"ticks\":\"\"},\"colorscale\":[[0.0,\"#0d0887\"],[0.1111111111111111,\"#46039f\"],[0.2222222222222222,\"#7201a8\"],[0.3333333333333333,\"#9c179e\"],[0.4444444444444444,\"#bd3786\"],[0.5555555555555556,\"#d8576b\"],[0.6666666666666666,\"#ed7953\"],[0.7777777777777778,\"#fb9f3a\"],[0.8888888888888888,\"#fdca26\"],[1.0,\"#f0f921\"]],\"type\":\"heatmap\"}],\"histogram2dcontour\":[{\"colorbar\":{\"outlinewidth\":0,\"ticks\":\"\"},\"colorscale\":[[0.0,\"#0d0887\"],[0.1111111111111111,\"#46039f\"],[0.2222222222222222,\"#7201a8\"],[0.3333333333333333,\"#9c179e\"],[0.4444444444444444,\"#bd3786\"],[0.5555555555555556,\"#d8576b\"],[0.6666666666666666,\"#ed7953\"],[0.7777777777777778,\"#fb9f3a\"],[0.8888888888888888,\"#fdca26\"],[1.0,\"#f0f921\"]],\"type\":\"histogram2dcontour\"}],\"histogram2d\":[{\"colorbar\":{\"outlinewidth\":0,\"ticks\":\"\"},\"colorscale\":[[0.0,\"#0d0887\"],[0.1111111111111111,\"#46039f\"],[0.2222222222222222,\"#7201a8\"],[0.3333333333333333,\"#9c179e\"],[0.4444444444444444,\"#bd3786\"],[0.5555555555555556,\"#d8576b\"],[0.6666666666666666,\"#ed7953\"],[0.7777777777777778,\"#fb9f3a\"],[0.8888888888888888,\"#fdca26\"],[1.0,\"#f0f921\"]],\"type\":\"histogram2d\"}],\"histogram\":[{\"marker\":{\"pattern\":{\"fillmode\":\"overlay\",\"size\":10,\"solidity\":0.2},\"line\":{\"width\":1}},\"type\":\"histogram\"}],\"mesh3d\":[{\"colorbar\":{\"outlinewidth\":0,\"ticks\":\"\"},\"type\":\"mesh3d\"}],\"parcoords\":[{\"line\":{\"colorbar\":{\"outlinewidth\":0,\"ticks\":\"\"}},\"type\":\"parcoords\"}],\"pie\":[{\"automargin\":true,\"type\":\"pie\"}],\"scatter3d\":[{\"line\":{\"colorbar\":{\"outlinewidth\":0,\"ticks\":\"\"}},\"marker\":{\"colorbar\":{\"outlinewidth\":0,\"ticks\":\"\"},\"opacity\":0.8},\"type\":\"scatter3d\"}],\"scattercarpet\":[{\"marker\":{\"colorbar\":{\"outlinewidth\":0,\"ticks\":\"\"}},\"type\":\"scattercarpet\"}],\"scattergeo\":[{\"marker\":{\"colorbar\":{\"outlinewidth\":0,\"ticks\":\"\"}},\"type\":\"scattergeo\"}],\"scattergl\":[{\"marker\":{\"colorbar\":{\"outlinewidth\":0,\"ticks\":\"\"}},\"type\":\"scattergl\"}],\"scattermapbox\":[{\"marker\":{\"colorbar\":{\"outlinewidth\":0,\"ticks\":\"\"}},\"type\":\"scattermapbox\"}],\"scatterpolargl\":[{\"marker\":{\"colorbar\":{\"outlinewidth\":0,\"ticks\":\"\"}},\"type\":\"scatterpolargl\"}],\"scatterpolar\":[{\"marker\":{\"colorbar\":{\"outlinewidth\":0,\"ticks\":\"\"}},\"type\":\"scatterpolar\"}],\"scatter\":[{\"fillpattern\":{\"fillmode\":\"overlay\",\"size\":10,\"solidity\":0.2},\"type\":\"scatter\",\"marker\":{\"opacity\":0.8}}],\"scatterternary\":[{\"marker\":{\"colorbar\":{\"outlinewidth\":0,\"ticks\":\"\"}},\"type\":\"scatterternary\"}],\"surface\":[{\"colorbar\":{\"outlinewidth\":0,\"ticks\":\"\"},\"colorscale\":[[0.0,\"#0d0887\"],[0.1111111111111111,\"#46039f\"],[0.2222222222222222,\"#7201a8\"],[0.3333333333333333,\"#9c179e\"],[0.4444444444444444,\"#bd3786\"],[0.5555555555555556,\"#d8576b\"],[0.6666666666666666,\"#ed7953\"],[0.7777777777777778,\"#fb9f3a\"],[0.8888888888888888,\"#fdca26\"],[1.0,\"#f0f921\"]],\"type\":\"surface\"}],\"table\":[{\"cells\":{\"fill\":{\"color\":\"#EBF0F8\"},\"line\":{\"color\":\"white\"}},\"header\":{\"fill\":{\"color\":\"#C8D4E3\"},\"line\":{\"color\":\"white\"}},\"type\":\"table\"}],\"box\":[{\"boxpoints\":\"outliers\",\"notched\":false,\"type\":\"box\"}]},\"layout\":{\"annotationdefaults\":{\"arrowcolor\":\"#2a3f5f\",\"arrowhead\":0,\"arrowwidth\":1},\"autotypenumbers\":\"strict\",\"coloraxis\":{\"colorbar\":{\"outlinewidth\":0,\"ticks\":\"\"}},\"colorscale\":{\"diverging\":[[0,\"#8e0152\"],[0.1,\"#c51b7d\"],[0.2,\"#de77ae\"],[0.3,\"#f1b6da\"],[0.4,\"#fde0ef\"],[0.5,\"#f7f7f7\"],[0.6,\"#e6f5d0\"],[0.7,\"#b8e186\"],[0.8,\"#7fbc41\"],[0.9,\"#4d9221\"],[1,\"#276419\"]],\"sequential\":[[0.0,\"#0d0887\"],[0.1111111111111111,\"#46039f\"],[0.2222222222222222,\"#7201a8\"],[0.3333333333333333,\"#9c179e\"],[0.4444444444444444,\"#bd3786\"],[0.5555555555555556,\"#d8576b\"],[0.6666666666666666,\"#ed7953\"],[0.7777777777777778,\"#fb9f3a\"],[0.8888888888888888,\"#fdca26\"],[1.0,\"#f0f921\"]],\"sequentialminus\":[[0.0,\"#0d0887\"],[0.1111111111111111,\"#46039f\"],[0.2222222222222222,\"#7201a8\"],[0.3333333333333333,\"#9c179e\"],[0.4444444444444444,\"#bd3786\"],[0.5555555555555556,\"#d8576b\"],[0.6666666666666666,\"#ed7953\"],[0.7777777777777778,\"#fb9f3a\"],[0.8888888888888888,\"#fdca26\"],[1.0,\"#f0f921\"]]},\"colorway\":[\"#636efa\",\"#EF553B\",\"#00cc96\",\"#ab63fa\",\"#FFA15A\",\"#19d3f3\",\"#FF6692\",\"#B6E880\",\"#FF97FF\",\"#FECB52\"],\"font\":{\"color\":\"#2a3f5f\"},\"geo\":{\"bgcolor\":\"white\",\"lakecolor\":\"white\",\"landcolor\":\"white\",\"showlakes\":true,\"showland\":true,\"subunitcolor\":\"#C8D4E3\"},\"hoverlabel\":{\"align\":\"left\"},\"hovermode\":\"closest\",\"mapbox\":{\"style\":\"light\"},\"paper_bgcolor\":\"white\",\"plot_bgcolor\":\"white\",\"polar\":{\"angularaxis\":{\"gridcolor\":\"#EBF0F8\",\"linecolor\":\"#EBF0F8\",\"ticks\":\"\"},\"bgcolor\":\"white\",\"radialaxis\":{\"gridcolor\":\"#EBF0F8\",\"linecolor\":\"#EBF0F8\",\"ticks\":\"\"}},\"scene\":{\"xaxis\":{\"backgroundcolor\":\"white\",\"gridcolor\":\"#DFE8F3\",\"gridwidth\":2,\"linecolor\":\"#EBF0F8\",\"showbackground\":true,\"ticks\":\"\",\"zerolinecolor\":\"#EBF0F8\"},\"yaxis\":{\"backgroundcolor\":\"white\",\"gridcolor\":\"#DFE8F3\",\"gridwidth\":2,\"linecolor\":\"#EBF0F8\",\"showbackground\":true,\"ticks\":\"\",\"zerolinecolor\":\"#EBF0F8\"},\"zaxis\":{\"backgroundcolor\":\"white\",\"gridcolor\":\"#DFE8F3\",\"gridwidth\":2,\"linecolor\":\"#EBF0F8\",\"showbackground\":true,\"ticks\":\"\",\"zerolinecolor\":\"#EBF0F8\"},\"camera\":{\"eye\":{\"x\":1.5,\"y\":1.5,\"z\":0.1}}},\"shapedefaults\":{\"line\":{\"color\":\"#2a3f5f\"}},\"ternary\":{\"aaxis\":{\"gridcolor\":\"#DFE8F3\",\"linecolor\":\"#A2B1C6\",\"ticks\":\"\"},\"baxis\":{\"gridcolor\":\"#DFE8F3\",\"linecolor\":\"#A2B1C6\",\"ticks\":\"\"},\"bgcolor\":\"white\",\"caxis\":{\"gridcolor\":\"#DFE8F3\",\"linecolor\":\"#A2B1C6\",\"ticks\":\"\"}},\"title\":{\"x\":0.5},\"xaxis\":{\"automargin\":true,\"gridcolor\":\"#EBF0F8\",\"linecolor\":\"#EBF0F8\",\"ticks\":\"\",\"title\":{\"standoff\":15},\"zerolinecolor\":\"#EBF0F8\",\"zerolinewidth\":2,\"linewidth\":2,\"showline\":true},\"yaxis\":{\"automargin\":true,\"gridcolor\":\"#EBF0F8\",\"linecolor\":\"#EBF0F8\",\"ticks\":\"\",\"title\":{\"standoff\":15},\"zerolinecolor\":\"#EBF0F8\",\"zerolinewidth\":2,\"linewidth\":2,\"showline\":true},\"height\":400,\"margin\":{\"b\":2,\"l\":2,\"r\":2,\"t\":30}}},\"xaxis\":{\"anchor\":\"y\",\"domain\":[0.0,1.0],\"title\":{\"text\":\"Maximum depth (max depths)\"},\"range\":[2,100]},\"yaxis\":{\"anchor\":\"x\",\"domain\":[0.0,1.0],\"title\":{\"text\":\"Accuracy\"}},\"legend\":{\"title\":{\"text\":\"Line\"},\"tracegroupgap\":0},\"title\":{\"text\":\"Performance\"}},                        {\"responsive\": true}                    ).then(function(){\n",
              "                            \n",
              "var gd = document.getElementById('ec2605ee-4644-48da-bdaa-0d34636a85be');\n",
              "var x = new MutationObserver(function (mutations, observer) {{\n",
              "        var display = window.getComputedStyle(gd).display;\n",
              "        if (!display || display === 'none') {{\n",
              "            console.log([gd, 'removed!']);\n",
              "            Plotly.purge(gd);\n",
              "            observer.disconnect();\n",
              "        }}\n",
              "}});\n",
              "\n",
              "// Listen for the removal of the full notebook cells\n",
              "var notebookContainer = gd.closest('#notebook-container');\n",
              "if (notebookContainer) {{\n",
              "    x.observe(notebookContainer, {childList: true});\n",
              "}}\n",
              "\n",
              "// Listen for the clearing of the current output cell\n",
              "var outputEl = gd.closest('.output');\n",
              "if (outputEl) {{\n",
              "    x.observe(outputEl, {childList: true});\n",
              "}}\n",
              "\n",
              "                        })                };                            </script>        </div>\n",
              "</body>\n",
              "</html>"
            ]
          },
          "metadata": {}
        }
      ]
    },
    {
      "cell_type": "markdown",
      "source": [
        "\n",
        "El gráfico anterior nos dice que nuestro modelo en realidad se beneficia de un valor más alto para max_depth, hasta el límite de `15`.\n",
        "\n",
        "El aumento de la profundidad más allá de este punto comienza a dañar el rendimiento de la prueba, ya que restringe demasiado el modelo para que pueda generalizarse.\n",
        "\n",
        "Como de costumbre, es importante evaluar diferentes valores al establecer los parámetros del modelo y definir su arquitectura."
      ],
      "metadata": {
        "id": "dXY2pLOePAYK"
      }
    },
    {
      "cell_type": "markdown",
      "source": [
        "### <font color='B8E139'><b>Un modelo optimizado</b></font>\n",
        "\n",
        "La optimización adecuada de un modelo en un conjunto de datos tan grande puede llevar muchas horas, más de las que necesita para comprometerse con este ejercicio solo para aprender. Si desea ejecutar un modelo que ya se ha optimizado para el conjunto de datos completo, puede ejecutar el código a continuación y comparar su rendimiento con todo lo que hemos visto hasta ahora.\n",
        "\n",
        "Esto es opcional; solo tenga en cuenta que el modelo puede tardar entre 1 y 2 minutos en entrenarse debido a su tamaño y al gran volumen de datos."
      ],
      "metadata": {
        "id": "-8d0_cigLi5x"
      }
    },
    {
      "cell_type": "code",
      "execution_count": 8,
      "metadata": {
        "colab": {
          "base_uri": "https://localhost:8080/",
          "height": 129
        },
        "id": "viQn2Y1_K2pF",
        "outputId": "2096c8ff-fd75-403b-b987-84e68621c014"
      },
      "outputs": [
        {
          "output_type": "stream",
          "name": "stdout",
          "text": [
            "Training model. This may take 1 - 2 minutes\n"
          ]
        },
        {
          "output_type": "execute_result",
          "data": {
            "text/plain": [
              "                 Model  Train sensitivity  Test sensitivity\n",
              "0        Decision tree           0.774241          0.759711\n",
              "1  Final random forest           0.999657          0.816087"
            ],
            "text/html": [
              "\n",
              "  <div id=\"df-44623b5f-6287-4181-a64f-9aa04b26b61c\">\n",
              "    <div class=\"colab-df-container\">\n",
              "      <div>\n",
              "<style scoped>\n",
              "    .dataframe tbody tr th:only-of-type {\n",
              "        vertical-align: middle;\n",
              "    }\n",
              "\n",
              "    .dataframe tbody tr th {\n",
              "        vertical-align: top;\n",
              "    }\n",
              "\n",
              "    .dataframe thead th {\n",
              "        text-align: right;\n",
              "    }\n",
              "</style>\n",
              "<table border=\"1\" class=\"dataframe\">\n",
              "  <thead>\n",
              "    <tr style=\"text-align: right;\">\n",
              "      <th></th>\n",
              "      <th>Model</th>\n",
              "      <th>Train sensitivity</th>\n",
              "      <th>Test sensitivity</th>\n",
              "    </tr>\n",
              "  </thead>\n",
              "  <tbody>\n",
              "    <tr>\n",
              "      <th>0</th>\n",
              "      <td>Decision tree</td>\n",
              "      <td>0.774241</td>\n",
              "      <td>0.759711</td>\n",
              "    </tr>\n",
              "    <tr>\n",
              "      <th>1</th>\n",
              "      <td>Final random forest</td>\n",
              "      <td>0.999657</td>\n",
              "      <td>0.816087</td>\n",
              "    </tr>\n",
              "  </tbody>\n",
              "</table>\n",
              "</div>\n",
              "      <button class=\"colab-df-convert\" onclick=\"convertToInteractive('df-44623b5f-6287-4181-a64f-9aa04b26b61c')\"\n",
              "              title=\"Convert this dataframe to an interactive table.\"\n",
              "              style=\"display:none;\">\n",
              "        \n",
              "  <svg xmlns=\"http://www.w3.org/2000/svg\" height=\"24px\"viewBox=\"0 0 24 24\"\n",
              "       width=\"24px\">\n",
              "    <path d=\"M0 0h24v24H0V0z\" fill=\"none\"/>\n",
              "    <path d=\"M18.56 5.44l.94 2.06.94-2.06 2.06-.94-2.06-.94-.94-2.06-.94 2.06-2.06.94zm-11 1L8.5 8.5l.94-2.06 2.06-.94-2.06-.94L8.5 2.5l-.94 2.06-2.06.94zm10 10l.94 2.06.94-2.06 2.06-.94-2.06-.94-.94-2.06-.94 2.06-2.06.94z\"/><path d=\"M17.41 7.96l-1.37-1.37c-.4-.4-.92-.59-1.43-.59-.52 0-1.04.2-1.43.59L10.3 9.45l-7.72 7.72c-.78.78-.78 2.05 0 2.83L4 21.41c.39.39.9.59 1.41.59.51 0 1.02-.2 1.41-.59l7.78-7.78 2.81-2.81c.8-.78.8-2.07 0-2.86zM5.41 20L4 18.59l7.72-7.72 1.47 1.35L5.41 20z\"/>\n",
              "  </svg>\n",
              "      </button>\n",
              "      \n",
              "  <style>\n",
              "    .colab-df-container {\n",
              "      display:flex;\n",
              "      flex-wrap:wrap;\n",
              "      gap: 12px;\n",
              "    }\n",
              "\n",
              "    .colab-df-convert {\n",
              "      background-color: #E8F0FE;\n",
              "      border: none;\n",
              "      border-radius: 50%;\n",
              "      cursor: pointer;\n",
              "      display: none;\n",
              "      fill: #1967D2;\n",
              "      height: 32px;\n",
              "      padding: 0 0 0 0;\n",
              "      width: 32px;\n",
              "    }\n",
              "\n",
              "    .colab-df-convert:hover {\n",
              "      background-color: #E2EBFA;\n",
              "      box-shadow: 0px 1px 2px rgba(60, 64, 67, 0.3), 0px 1px 3px 1px rgba(60, 64, 67, 0.15);\n",
              "      fill: #174EA6;\n",
              "    }\n",
              "\n",
              "    [theme=dark] .colab-df-convert {\n",
              "      background-color: #3B4455;\n",
              "      fill: #D2E3FC;\n",
              "    }\n",
              "\n",
              "    [theme=dark] .colab-df-convert:hover {\n",
              "      background-color: #434B5C;\n",
              "      box-shadow: 0px 1px 3px 1px rgba(0, 0, 0, 0.15);\n",
              "      filter: drop-shadow(0px 1px 2px rgba(0, 0, 0, 0.3));\n",
              "      fill: #FFFFFF;\n",
              "    }\n",
              "  </style>\n",
              "\n",
              "      <script>\n",
              "        const buttonEl =\n",
              "          document.querySelector('#df-44623b5f-6287-4181-a64f-9aa04b26b61c button.colab-df-convert');\n",
              "        buttonEl.style.display =\n",
              "          google.colab.kernel.accessAllowed ? 'block' : 'none';\n",
              "\n",
              "        async function convertToInteractive(key) {\n",
              "          const element = document.querySelector('#df-44623b5f-6287-4181-a64f-9aa04b26b61c');\n",
              "          const dataTable =\n",
              "            await google.colab.kernel.invokeFunction('convertToInteractive',\n",
              "                                                     [key], {});\n",
              "          if (!dataTable) return;\n",
              "\n",
              "          const docLinkHtml = 'Like what you see? Visit the ' +\n",
              "            '<a target=\"_blank\" href=https://colab.research.google.com/notebooks/data_table.ipynb>data table notebook</a>'\n",
              "            + ' to learn more about interactive tables.';\n",
              "          element.innerHTML = '';\n",
              "          dataTable['output_type'] = 'display_data';\n",
              "          await google.colab.output.renderOutput(dataTable, element);\n",
              "          const docLink = document.createElement('div');\n",
              "          docLink.innerHTML = docLinkHtml;\n",
              "          element.appendChild(docLink);\n",
              "        }\n",
              "      </script>\n",
              "    </div>\n",
              "  </div>\n",
              "  "
            ]
          },
          "metadata": {},
          "execution_count": 8
        }
      ],
      "source": [
        "# Prepare the model \n",
        "rf = RandomForestClassifier(n_estimators=200,\n",
        "                            max_depth=128,\n",
        "                            max_features=25,\n",
        "                            min_samples_split=2,\n",
        "                            random_state=2, \n",
        "                            verbose=False)\n",
        "\n",
        "# Train and test the result\n",
        "print(\"Training model. This may take 1 - 2 minutes\")\n",
        "train_accuracy, test_accuracy = fit_and_test_model(rf)\n",
        "\n",
        "# Print out results, compared to the decision tree\n",
        "data = {\"Model\": [\"Decision tree\",\"Final random forest\"],\n",
        "        \"Train sensitivity\": [dt_train_accuracy, train_accuracy],\n",
        "        \"Test sensitivity\": [dt_test_accuracy, test_accuracy]\n",
        "        }\n",
        "\n",
        "pandas.DataFrame(data, columns = [\"Model\", \"Train sensitivity\", \"Test sensitivity\"])"
      ]
    },
    {
      "cell_type": "markdown",
      "source": [
        "Como puede ver, el ajuste fino de los parámetros del modelo resultó en una mejora significativa en los resultados del conjunto de prueba ."
      ],
      "metadata": {
        "id": "wBxqfxIGPHYM"
      }
    },
    {
      "cell_type": "markdown",
      "source": [
        "**Resumen**\n",
        "\n",
        "En este ejercicio cubrimos los siguientes temas:\n",
        "\n",
        "- Modelos de bosques aleatorios y en qué se diferencian de los árboles de decisión\n",
        "- Cómo podemos cambiar la arquitectura de un modelo estableciendo diferentes parámetros y cambiando sus valores\n",
        "- La importancia de probar varias combinaciones de parámetros y evaluar estos cambios para mejorar el rendimiento.\n",
        "\n",
        "En el futuro verá que diferentes modelos tienen arquitecturas donde puede ajustar los parámetros. Se necesita experimentación para lograr los mejores resultados posibles."
      ],
      "metadata": {
        "id": "SyXAx9TnPHyJ"
      }
    }
  ]
}