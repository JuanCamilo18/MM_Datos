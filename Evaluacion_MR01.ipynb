{
  "nbformat": 4,
  "nbformat_minor": 0,
  "metadata": {
    "colab": {
      "provenance": [],
      "authorship_tag": "ABX9TyM9n0QPMqkl82x5h8C9avG0",
      "include_colab_link": true
    },
    "kernelspec": {
      "name": "python3",
      "display_name": "Python 3"
    },
    "language_info": {
      "name": "python"
    }
  },
  "cells": [
    {
      "cell_type": "markdown",
      "metadata": {
        "id": "view-in-github",
        "colab_type": "text"
      },
      "source": [
        "<a href=\"https://colab.research.google.com/github/JuanCamilo18/MM_Datos/blob/main/Evaluacion_MR01.ipynb\" target=\"_parent\"><img src=\"https://colab.research.google.com/assets/colab-badge.svg\" alt=\"Open In Colab\"/></a>"
      ]
    },
    {
      "cell_type": "markdown",
      "source": [
        "# **Entrenamiento y evaluación de modelos de regresión** "
      ],
      "metadata": {
        "id": "0G68U3JXbcsk"
      }
    },
    {
      "cell_type": "markdown",
      "source": [
        "## ¿Qué es la regresión?"
      ],
      "metadata": {
        "id": "CF735aUjbi-K"
      }
    },
    {
      "cell_type": "markdown",
      "source": [
        "La regresión consiste en establecer una relación entre las variables de los datos que representan propiedades (conocidas como características) de lo que se está observando y la variable que se está intentando predecir (conocida como etiqueta). Recuerde nuestra empresa que alquila bicicletas y quiere predecir el número esperado de alquileres en un día determinado. En este caso, las características incluyen cosas como el día de la semana, el mes, etc., y la etiqueta es el número de alquileres de bicicletas.\n",
        "\n",
        "Para entrenar el modelo, comenzamos con una muestra de datos que contiene las características, así como los valores conocidos de la etiqueta, por lo que, en este caso, necesitamos datos históricos que incluyan fechas, condiciones meteorológicas y el número de alquileres de bicicletas.\n",
        "\n",
        "A continuación, esta muestra de datos se divide en dos subconjuntos:\n",
        "\n",
        "- Un conjunto de datos de entrenamiento al que aplicaremos un algoritmo que determina una función que encapsula la relación entre los valores de las características y los valores de etiqueta conocidos.\n",
        "- Un conjunto de datos de validación o de prueba que se puede usar para evaluar el modelo mediante su uso para generar predicciones para la etiqueta y su comparación con los valores de etiqueta conocidos reales.\n",
        "\n",
        "El uso de datos históricos con valores de etiqueta conocidos para entrenar un modelo hace que la regresión sea un ejemplo de aprendizaje automático supervisado."
      ],
      "metadata": {
        "id": "bTDAQj1LdsV2"
      }
    },
    {
      "cell_type": "markdown",
      "source": [
        "### **Un ejemplo sencillo**\n",
        "\n",
        "Observemos un ejemplo sencillo para ver cómo funciona el proceso de entrenamiento y evaluación en principio. Simplifiquemos el escenario para que se use una sola característica, la temperatura media diaria, para predecir la etiqueta de alquileres de bicicletas.\n",
        "\n",
        "Comenzamos con algunos datos que incluyen valores conocidos para la característica de temperatura media diaria y la etiqueta de alquileres de bicicletas."
      ],
      "metadata": {
        "id": "swNC6qwRe96k"
      }
    },
    {
      "cell_type": "markdown",
      "source": [
        "Temperatura\t| Alquileres\n",
        "---|---\n",
        "56 | 115\n",
        "61 | 126\n",
        "67 | 137\n",
        "72 | 140\n",
        "76 | 152\n",
        "82 | 156\n",
        "54 | 114\n",
        "62 | 129\n",
        "\n"
      ],
      "metadata": {
        "id": "3XOM5ZZFfEgt"
      }
    },
    {
      "cell_type": "markdown",
      "source": [
        "Ahora seleccionaremos aleatoriamente cinco de estas observaciones y las usaremos para entrenar un modelo de regresión. Cuando hablamos de \"entrenar un modelo\", lo que queremos decir es encontrar una función (una ecuación matemática; vamos a llamarla **f**) que puede usar la característica de temperatura (a la que llamaremos **x**) para calcular el número de alquileres (que llamaremos **y**). En otras palabras, tenemos que definir la función siguiente: **f(x) = y**.\n",
        "\n",
        "Nuestro conjunto de datos de entrenamiento tiene el siguiente aspecto:"
      ],
      "metadata": {
        "id": "_cTsjs3wgNg2"
      }
    },
    {
      "cell_type": "markdown",
      "source": [
        "x\t| y\n",
        "---|---\n",
        "56 | 115\n",
        "61 | 126\n",
        "67 | 137\n",
        "72 | 140\n",
        "76 | 152"
      ],
      "metadata": {
        "id": "M0CyLsP2gh5J"
      }
    },
    {
      "cell_type": "markdown",
      "source": [
        "Comencemos por trazar los valores de entrenamiento de x e y en un gráfico:"
      ],
      "metadata": {
        "id": "DhpEVqXBhaTC"
      }
    },
    {
      "cell_type": "code",
      "execution_count": 3,
      "metadata": {
        "colab": {
          "base_uri": "https://localhost:8080/",
          "height": 513
        },
        "id": "OW_gpeQibcDv",
        "outputId": "130525a4-a603-46a9-9d71-3c5e34f3d99c"
      },
      "outputs": [
        {
          "output_type": "display_data",
          "data": {
            "text/plain": [
              "<Figure size 432x288 with 1 Axes>"
            ],
            "image/png": "[encoded data removed]"
          },
          "metadata": {
            "needs_background": "light"
          }
        },
        {
          "output_type": "display_data",
          "data": {
            "text/plain": [
              "<Figure size 432x288 with 1 Axes>"
            ],
            "image/png": "[encoded data removed]"
          },
          "metadata": {
            "needs_background": "light"
          }
        }
      ],
      "source": [
        "import matplotlib.pyplot as plt\n",
        "\n",
        "x=[56,61,67,72,76]\n",
        "y=[115,126,137,140,152]\n",
        "\n",
        "plt.plot(x,y, \"o\",color=\"b\")\n",
        "plt.show()\n",
        "\n",
        "\n",
        "fig, ax = plt.subplots()\n",
        "ax.scatter(x,y)\n",
        "plt.show()"
      ]
    },
    {
      "cell_type": "markdown",
      "source": [
        "Ahora es necesario ajustar estos valores a una función, permitiendo una cierta variación aleatoria. Probablemente pueda ver que los puntos trazados forman casi una línea recta diagonal; es decir, existe una supuesta relación lineal entre x e y, por lo que tenemos que encontrar una función lineal que se ajuste de la mejor manera a la muestra de datos. Hay varios algoritmos que se pueden usar para establecer esta función que, en definitiva, buscará una línea recta con la varianza total mínima de los puntos trazados, de este modo:"
      ],
      "metadata": {
        "id": "hfT76RI7ncap"
      }
    },
    {
      "cell_type": "code",
      "source": [
        "import seaborn as sns\n",
        "import pandas as pd\n",
        "df = pd.DataFrame({'x': [56,61,67,72,76],\n",
        "                    'y': [115,126,137,140,152]})\n",
        "\n",
        "#plt.rcParams.update({'figure.figsize':(10,8), 'figure.dpi':100})\n",
        "sns.lmplot(x = 'x', y = 'y', data=df)\n",
        "plt.title(\"Scatter Plot with Linear fit\");"
      ],
      "metadata": {
        "colab": {
          "base_uri": "https://localhost:8080/",
          "height": 529
        },
        "id": "y-SFsDVEndH-",
        "outputId": "8d779e05-1f81-489f-8940-02112ac75574"
      },
      "execution_count": 11,
      "outputs": [
        {
          "output_type": "display_data",
          "data": {
            "text/plain": [
              "<Figure size 500x500 with 1 Axes>"
            ],
            "image/png": "[encoded data removed]"
          },
          "metadata": {
            "needs_background": "light"
          }
        }
      ]
    },
    {
      "cell_type": "markdown",
      "source": [
        "La línea representa una función lineal que se puede usar con cualquier valor de x para aplicar la pendiente de la línea y su intersección (donde la línea cruza el eje y cuando x es 0) para calcular y. En este caso, si extendiésemos la línea a la izquierda, veríamos que cuando x es 0, y es aproximadamente 20, y la pendiente de la línea es tal que para cada unidad de x que avanza hacia la derecha, y aumenta aproximadamente 1,7. Por lo tanto, la función f se puede calcular como 20 + 1,7x.\n",
        "\n",
        "Ahora que hemos definido la función de predicción, podemos usarla para predecir las etiquetas para los datos de validación que retuvimos y comparar los valores de predicción (lo que normalmente se indica con el símbolo ŷ, o \"y con acento circunflejo\") con los valores de y conocidos reales."
      ],
      "metadata": {
        "id": "UyzeGY8wpKbS"
      }
    },
    {
      "cell_type": "markdown",
      "source": [
        "x\t| y |\tŷ\n",
        "---|---|---\n",
        "82 |\t156 |\t159,4\n",
        "54 |\t114\t| 111,8\n",
        "62 |\t129\t| 125,4"
      ],
      "metadata": {
        "id": "20GtpGLdsUKJ"
      }
    },
    {
      "cell_type": "markdown",
      "source": [
        "Veamos la comparación de los valores de y e ŷ en un trazado:"
      ],
      "metadata": {
        "id": "ZKbTPiWOsgyk"
      }
    },
    {
      "cell_type": "code",
      "source": [],
      "metadata": {
        "id": "X4Uw_-iDsv7N"
      },
      "execution_count": null,
      "outputs": []
    },
    {
      "cell_type": "markdown",
      "source": [
        "Los puntos trazados que se encuentran en la línea de función son los valores de ŷ predichos calculados por la función, y los otros puntos trazados son los valores de y reales.\n",
        "\n",
        "Hay varias maneras de medir la varianza entre los valores predichos y los reales, y podemos usar estas métricas para evaluar el grado de predicción del modelo."
      ],
      "metadata": {
        "id": "lRMf0g4Us2XM"
      }
    },
    {
      "cell_type": "markdown",
      "source": [
        "Una de las formas más comunes de medir la pérdida es elevar al cuadrado los residuales individuales, sumar los cuadrados y calcular la media. Elevar el valor residual al cuadrado tiene el efecto de basar el cálculo en valores absolutos (sin hacer caso a si la diferencia es negativa o positiva) y dar mayor ponderación a las diferencias más grandes. Esta métrica se denomina error cuadrático medio.\n",
        "\n",
        "En el caso de los datos de validación, el cálculo tiene el siguiente aspecto:"
      ],
      "metadata": {
        "id": "4DoZ8mEos3Dd"
      }
    },
    {
      "cell_type": "markdown",
      "source": [
        "s\t| ŷ\t| y - ŷ\t|(y - ŷ)2\n",
        "-- | -- | -- | --\n",
        "156\t| 159,4 |\t-3,4 | 11,56\n",
        "114\t| 111,8\t| 2.2\t| 4.84\n",
        "129\t| 125,4\t| 3.6\t| 12,96\n",
        "    | Sum\t  | ∑\t  | 29,36\n",
        "    | Media\t| x̄   | 9,79"
      ],
      "metadata": {
        "id": "pI9k4cc6vhJu"
      }
    },
    {
      "cell_type": "markdown",
      "source": [
        "Por lo tanto, la pérdida del modelo basada en la métrica del ECM es de 9,79.\n",
        "\n",
        "¿Es bueno eso? Es difícil de saber porque el valor del ECM no se expresa en una unidad de medida significativa. Sabemos que cuanto menor sea el valor, menos pérdida tendrá el modelo; y, por tanto, mejor será la predicción. Esto lo convierte en una métrica útil para comparar dos modelos y encontrar el que tenga mejor rendimiento.\n",
        "\n",
        "A veces, resulta más útil expresar la pérdida en la misma unidad de medida que el propio valor de etiqueta predicho, en este caso, el número de alquileres. Es posible hacer esto si se calcula la raíz cuadrada del ECM, lo que genera una métrica conocida, evidentemente, como **raíz del error cuadrático medio (RECM)**.\n",
        "\n",
        "√9,79 = 3,13\n",
        "\n",
        "Por lo tanto, la RECM del modelo indica que la pérdida está apenas por encima de 3, lo que se puede interpretar de forma flexible como que, en promedio, las predicciones incorrectas se equivocan en unos 3 alquileres.\n",
        "\n",
        "Hay muchas otras métricas que se pueden usar para medir la pérdida en una regresión. Por ejemplo, R2 (R al cuadrado) (a veces conocido como coeficiente de determinación) es la correlación entre x e y al cuadrado. Esto genera un valor entre 0 y 1 que mide la cantidad de varianza que se puede explicar por el modelo. En general, cuanto más se acerque a 1 este valor, mejor será la predicción del modelo."
      ],
      "metadata": {
        "id": "phiTO058wC4G"
      }
    },
    {
      "cell_type": "markdown",
      "source": [
        "\n",
        "\n",
        "---\n",
        "\n"
      ],
      "metadata": {
        "id": "axf6mfS7x8CD"
      }
    },
    {
      "cell_type": "markdown",
      "source": [],
      "metadata": {
        "id": "SQJd5CEDzfdG"
      }
    }
  ]
}