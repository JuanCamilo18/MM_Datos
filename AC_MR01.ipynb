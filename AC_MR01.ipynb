{
  "nbformat": 4,
  "nbformat_minor": 0,
  "metadata": {
    "colab": {
      "provenance": [],
      "authorship_tag": "ABX9TyPbz86p62l4GpfURiP0BwTe"
    },
    "kernelspec": {
      "name": "python3",
      "display_name": "Python 3"
    },
    "language_info": {
      "name": "python"
    }
  },
  "cells": [
    {
      "cell_type": "code",
      "execution_count": null,
      "metadata": {
        "id": "h818c90dM6Zf"
      },
      "outputs": [],
      "source": []
    },
    {
      "cell_type": "markdown",
      "source": [
        "<font color=\"Lime\"><h1 align ='center'><b><u>Aprendizaje y conocimiento de los modelos de regresión en el aprendizaje automático</u></b></h1></font>"
      ],
      "metadata": {
        "id": "908dDxypM6wb"
      }
    },
    {
      "cell_type": "markdown",
      "source": [
        "## <font color='B8E139'><b>Introducción</b></font>\n",
        "La regresión es una técnica de análisis de datos sencilla, común y muy útil, que se conoce de forma coloquial como \"ajustar una línea de tendencia\". La regresión identifica la intensidad de la relación entre una o varias características y una sola etiqueta. Su simplicidad, comportamiento predecible, capacidad de previsión y alto nivel de interpretabilidad significa que esta técnica se usa en finanzas, empresas, ciencias sociales, epidemiología y medicina.\n",
        "\n",
        "En este módulo, profundizaremos en el funcionamiento de la regresión, comprenderemos sus limitaciones y aprenderemos a evaluar su rendimiento."
      ],
      "metadata": {
        "id": "MPRPn7YsM_wZ"
      }
    },
    {
      "cell_type": "markdown",
      "source": [
        "## <font color='B8E139'><b>Escenario: saturación de una clínica veterinaria</b></font>\n",
        "\n",
        "A lo largo de este módulo, usaremos el siguiente escenario de ejemplo para explicar los conceptos subyacentes a la regresión. Este escenario está diseñado para proporcionar un ejemplo de cómo podría usar esta técnica al analizar datos futuros.\n",
        "\n",
        "Los perros de rescate de la organización benéfica que administra han sufrido una repentina ola de enfermedad. Después de un día de entrenamiento y actividades sociales, muchos de los perros con los que trabaja han enfermado, siendo la fiebre el síntoma principal (temperatura corporal elevada). Preocupados por los perros que aún no han presentado síntomas, el equipo ha recopilado información básica sobre los primeros 100 perros que enfermaron. Su trabajo es identificar cuáles de ellos tienen mayor riesgo de enfermar, de modo que los pueda visitar un veterinario."
      ],
      "metadata": {
        "id": "a2mh_ZzZNUl7"
      }
    },
    {
      "cell_type": "markdown",
      "source": [
        "## <font color='B8E139'><b>Objetivos de aprendizaje</b></font>\n",
        "\n",
        "En este módulo, aprenderá a:\n",
        "\n",
        "- Comprender el funcionamiento de la regresión\n",
        "- Trabajar con algoritmos nuevos: regresión lineal, regresión lineal múltiple y regresión polinómica\n",
        "- Comprender los puntos fuertes y las limitaciones de los modelos de regresión\n",
        "- Visualización de funciones de error y costo en la regresión lineal\n",
        "- Comprender las métricas de evaluación básicas para la regresión"
      ],
      "metadata": {
        "id": "Pl8Q2p39N8lt"
      }
    },
    {
      "cell_type": "markdown",
      "source": [
        "\n",
        "\n",
        "---\n",
        "\n"
      ],
      "metadata": {
        "id": "b5G3wX7gOkwB"
      }
    },
    {
      "cell_type": "markdown",
      "source": [
        "## <font color='B8E139'><b>¿Qué es la regresión?</b></font>\n",
        "\n",
        "La regresión es una técnica de análisis de datos sencilla, común y muy útil, que a menudo se conoce de forma coloquial como \"ajustar una línea\". En su forma más sencilla, la regresión se ajusta a una línea recta entre una variable (característica) y otra (etiqueta). En formas más complicadas, la regresión puede encontrar relaciones no lineales entre una sola etiqueta y varias características."
      ],
      "metadata": {
        "id": "HFXTH-QuN9RK"
      }
    },
    {
      "cell_type": "markdown",
      "source": [
        "### <font color='B8E139'><b>Regresión lineal simple</b></font>\n",
        "\n",
        "La regresión lineal simple modela una relación lineal entre una sola característica y una etiqueta normalmente continua, lo que permite que la función prediga la característica. Es posible que tenga un aspecto similar a este:"
      ],
      "metadata": {
        "id": "MJV_QHRhOmGC"
      }
    },
    {
      "cell_type": "markdown",
      "source": [
        "<div>\n",
        "<p align=\"center\">\n",
        "<img src=\"https://raw.githubusercontent.com/JuanCamilo18/MM_Datos/main/imags/Cur_AC_MR/AC_MR_01.JPG\" alt=\"JuveYell\" width=\"700px\">\n",
        "</p>\n",
        "</div>"
      ],
      "metadata": {
        "id": "gFmpvaD0iXEp"
      }
    },
    {
      "cell_type": "markdown",
      "source": [
        "La regresión lineal simple tiene dos parámetros: una intersección (c) que indica el valor de la etiqueta cuando la característica se establece en cero, y una pendiente (m) que indica cuánto aumentará la etiqueta para cada aumento de un punto de la característica.\n",
        "\n",
        "Si le gusta pensar matemáticamente, es muy simple:\n",
        "\n",
        "$$y = mx + c$$\n",
        "\n",
        "Donde y es la etiqueta y x es la característica.\n",
        "\n",
        "Por ejemplo, en nuestro escenario, si intentamos predecir qué pacientes tendrán una temperatura corporal elevada en función de su edad, tendríamos el modelo:\n",
        "\n",
        "temperatura = m * edad + c\n",
        "\n",
        "Debe buscar los valores de \"m\" y \"c\" durante el procedimiento de ajuste. Si resulta que m = 0,5 y c = 37, es posible que lo visualicemos de la siguiente forma:"
      ],
      "metadata": {
        "id": "UObyQtWsRetR"
      }
    },
    {
      "cell_type": "markdown",
      "source": [
        "<div>\n",
        "<p align=\"center\">\n",
        "<img src=\"https://raw.githubusercontent.com/JuanCamilo18/MM_Datos/main/imags/Cur_AC_MR/AC_MR_02.JPG\" alt=\"JuveYell\" width=\"700px\">\n",
        "</p>\n",
        "</div>"
      ],
      "metadata": {
        "id": "nzZtoRYQROOR"
      }
    },
    {
      "cell_type": "markdown",
      "source": [
        "Esto significaría que cada año de edad está asociado con un aumento de la temperatura corporal de 0,5 °C, con un punto inicial de 37 °C."
      ],
      "metadata": {
        "id": "02_vfSH2R-_5"
      }
    },
    {
      "cell_type": "markdown",
      "source": [
        "## <font color='B8E139'><b>Ajuste de la regresión lineal</b></font>\n",
        "\n",
        "Normalmente, usamos bibliotecas existentes para ajustarnos a los modelos de regresión. La regresión normalmente pretende encontrar la línea que genera la menor cantidad de error, donde el error significa la diferencia entre el valor del punto de datos real y el valor previsto. Por ejemplo, en la imagen siguiente, la línea negra indica el error entre la predicción, la línea roja y un valor real: el punto."
      ],
      "metadata": {
        "id": "4MxZE0DoRUfo"
      }
    },
    {
      "cell_type": "markdown",
      "source": [
        "<div>\n",
        "<p align=\"center\">\n",
        "<img src=\"https://raw.githubusercontent.com/JuanCamilo18/MM_Datos/main/imags/Cur_AC_MR/AC_MR_03.JPG\" alt=\"JuveYell\" width=\"700px\">\n",
        "</p>\n",
        "</div>"
      ],
      "metadata": {
        "id": "pWn1JgWNPilP"
      }
    },
    {
      "cell_type": "markdown",
      "source": [
        "Al mirar estos dos puntos en un eje Y, podemos ver que la predicción era 39,5, pero el valor real era 41."
      ],
      "metadata": {
        "id": "5gARr8G-TC9_"
      }
    },
    {
      "cell_type": "markdown",
      "source": [
        "<div>\n",
        "<p align=\"center\">\n",
        "<img src=\"https://raw.githubusercontent.com/JuanCamilo18/MM_Datos/main/imags/Cur_AC_MR/AC_MR_04.JPG\" alt=\"JuveYell\" width=\"700px\">\n",
        "</p>\n",
        "</div>"
      ],
      "metadata": {
        "id": "HTX4QMzmRQTw"
      }
    },
    {
      "cell_type": "markdown",
      "source": [
        "Por lo tanto, el modelo estaba equivocado en 1,5 para este punto de datos.\n",
        "\n",
        "Normalmente, ajustamos un modelo minimizando la suma residual de cuadrados. Esto `significa que la función de costo se calcula de la siguiente manera`:\n",
        "\n",
        "1. Calcular la diferencia entre los valores reales y previstos (como los anteriores) para cada punto de datos.\n",
        "2. Eleve estos valores al cuadrado.\n",
        "3. Suma (o promedio) de estos valores al cuadrado.\n",
        "\n",
        "El paso de elevar al cuadrado significa que no todos los puntos contribuyen uniformemente a la línea: los valores atípicos, que son puntos que no se encuentran en el patrón esperado, tienen un error desproporcionadamente mayor, lo que puede influir la posición de la línea."
      ],
      "metadata": {
        "id": "ZKxv7WdwTJqB"
      }
    },
    {
      "cell_type": "markdown",
      "source": [
        "## <font color='B8E139'><b>Puntos fuertes de la regresión</b></font>\n",
        "\n",
        "Las técnicas de regresión disponen de múltiples ventajas que otros modelos más complejos no tienen."
      ],
      "metadata": {
        "id": "gBZzQyy6TrY3"
      }
    },
    {
      "cell_type": "markdown",
      "source": [
        "### <font color='B8E139'><b>3.1 Predecible y fácil de interpretar</b></font>\n",
        "\n",
        "Las regresiones son fáciles de interpretar porque describen ecuaciones matemáticas simples, que a menudo se pueden representar en gráficos. Los modelos más complejos a menudo se conocen como soluciones de \"caja negra\", porque es difícil comprender cómo hacen las predicciones o cómo se comportarán con determinadas entradas."
      ],
      "metadata": {
        "id": "JOQJN5yCT2z3"
      }
    },
    {
      "cell_type": "markdown",
      "source": [
        "### <font color='B8E139'><b>3.2 Fácil de extrapolar</b></font>\n",
        "\n",
        "Las regresiones hacen que sea fácil extrapolar: realizar predicciones para valores fuera del intervalo de nuestro conjunto de datos. Por ejemplo, es fácil calcular en el ejemplo anterior que con nueve años se tendrá una temperatura de 40,5 °C. Siempre se debe tener precaución a la hora de extrapolar: este modelo haría la predicción siguiente: a los 90 años se tendría una temperatura lo suficientemente alta como para hervir agua."
      ],
      "metadata": {
        "id": "_V3DJdhtRVCg"
      }
    },
    {
      "cell_type": "markdown",
      "source": [
        "### <font color='B8E139'><b>3.3 Normalmente, se garantiza un ajuste óptimo</b></font>\n",
        "\n",
        "La mayoría de los modelos de aprendizaje automático usan el trazo descendente del gradiente para ajustar los modelos, lo que implica el ajuste del algoritmo de trazo descendente del gradiente y no proporciona ninguna garantía de que se encontrará una solución óptima. Por el contrario, la regresión lineal que usa la suma de cuadrados como una función de costo realmente no necesita un procedimiento de trazo descendente de gradiente iterativo. En su lugar, se pueden usar las matemáticas para calcular la ubicación óptima de la línea. Las matemáticas están fuera del ámbito de este módulo, pero es útil saber que (siempre que el tamaño de la muestra no sea demasiado grande) la regresión lineal no necesita prestar especial atención al proceso de ajuste y se garantiza la solución óptima."
      ],
      "metadata": {
        "id": "w711_hnzRVjI"
      }
    },
    {
      "cell_type": "markdown",
      "source": [
        "\n",
        "\n",
        "---\n",
        "\n"
      ],
      "metadata": {
        "id": "qOMtId7kVbhU"
      }
    },
    {
      "cell_type": "markdown",
      "source": [
        "## <font color='B8E139'><b>Ejercicio: entrenamiento de un modelo de regresión lineal simple</b></font>"
      ],
      "metadata": {
        "id": "J07kuaUqU2g4"
      }
    },
    {
      "cell_type": "markdown",
      "source": [
        "## <font color='B8E139'><b>Ejercicio: entrenar un modelo de regresión lineal simple</b></font>\n",
        "\n",
        "En este ejercicio, entrenaremos un modelo de regresión lineal simple para predecir la temperatura corporal en función de la edad del perro e interpretaremos el resultado."
      ],
      "metadata": {
        "id": "F9OEQpx5VfW2"
      }
    },
    {
      "cell_type": "markdown",
      "source": [
        "### <font color='B8E139'><b>Cargando datos</b></font>\n",
        "\n",
        "Empecemos echando un vistazo a nuestros datos."
      ],
      "metadata": {
        "id": "vtawSFPZVa2c"
      }
    },
    {
      "cell_type": "code",
      "source": [
        "import pandas\n",
        "!pip install statsmodels\n",
        "!wget https://raw.githubusercontent.com/MicrosoftDocs/mslearn-introduction-to-machine-learning/main/graphing.py\n",
        "!wget https://raw.githubusercontent.com/MicrosoftDocs/mslearn-introduction-to-machine-learning/main/Data/doggy-illness.csv\n",
        "\n",
        "# Convert it into a table using pandas\n",
        "dataset = pandas.read_csv(\"doggy-illness.csv\", delimiter=\"\\t\")\n",
        "\n",
        "# Print the data\n",
        "print(dataset)"
      ],
      "metadata": {
        "id": "HQDWTF3xV2Xa",
        "colab": {
          "base_uri": "https://localhost:8080/"
        },
        "outputId": "6c991d28-2e7d-4517-a8fb-fca18f970e31"
      },
      "execution_count": 1,
      "outputs": [
        {
          "output_type": "stream",
          "name": "stdout",
          "text": [
            "Looking in indexes: https://pypi.org/simple, https://us-python.pkg.dev/colab-wheels/public/simple/\n",
            "Requirement already satisfied: statsmodels in /usr/local/lib/python3.9/dist-packages (0.13.5)\n",
            "Requirement already satisfied: packaging>=21.3 in /usr/local/lib/python3.9/dist-packages (from statsmodels) (23.0)\n",
            "Requirement already satisfied: patsy>=0.5.2 in /usr/local/lib/python3.9/dist-packages (from statsmodels) (0.5.3)\n",
            "Requirement already satisfied: pandas>=0.25 in /usr/local/lib/python3.9/dist-packages (from statsmodels) (1.4.4)\n",
            "Requirement already satisfied: numpy>=1.17 in /usr/local/lib/python3.9/dist-packages (from statsmodels) (1.22.4)\n",
            "Requirement already satisfied: scipy>=1.3 in /usr/local/lib/python3.9/dist-packages (from statsmodels) (1.10.1)\n",
            "Requirement already satisfied: python-dateutil>=2.8.1 in /usr/local/lib/python3.9/dist-packages (from pandas>=0.25->statsmodels) (2.8.2)\n",
            "Requirement already satisfied: pytz>=2020.1 in /usr/local/lib/python3.9/dist-packages (from pandas>=0.25->statsmodels) (2022.7.1)\n",
            "Requirement already satisfied: six in /usr/local/lib/python3.9/dist-packages (from patsy>=0.5.2->statsmodels) (1.16.0)\n",
            "--2023-03-23 20:54:38--  https://raw.githubusercontent.com/MicrosoftDocs/mslearn-introduction-to-machine-learning/main/graphing.py\n",
            "Resolving raw.githubusercontent.com (raw.githubusercontent.com)... 185.199.108.133, 185.199.109.133, 185.199.110.133, ...\n",
            "Connecting to raw.githubusercontent.com (raw.githubusercontent.com)|185.199.108.133|:443... connected.\n",
            "HTTP request sent, awaiting response... 200 OK\n",
            "Length: 21511 (21K) [text/plain]\n",
            "Saving to: ‘graphing.py’\n",
            "\n",
            "graphing.py         100%[===================>]  21.01K  --.-KB/s    in 0.001s  \n",
            "\n",
            "2023-03-23 20:54:38 (13.9 MB/s) - ‘graphing.py’ saved [21511/21511]\n",
            "\n",
            "--2023-03-23 20:54:38--  https://raw.githubusercontent.com/MicrosoftDocs/mslearn-introduction-to-machine-learning/main/Data/doggy-illness.csv\n",
            "Resolving raw.githubusercontent.com (raw.githubusercontent.com)... 185.199.110.133, 185.199.109.133, 185.199.108.133, ...\n",
            "Connecting to raw.githubusercontent.com (raw.githubusercontent.com)|185.199.110.133|:443... connected.\n",
            "HTTP request sent, awaiting response... 200 OK\n",
            "Length: 3293 (3.2K) [text/plain]\n",
            "Saving to: ‘doggy-illness.csv’\n",
            "\n",
            "doggy-illness.csv   100%[===================>]   3.22K  --.-KB/s    in 0s      \n",
            "\n",
            "2023-03-23 20:54:39 (41.6 MB/s) - ‘doggy-illness.csv’ saved [3293/3293]\n",
            "\n",
            "    male  attended_training  age  body_fat_percentage  core_temperature  \\\n",
            "0      0                  1  6.9                   38         38.423169   \n",
            "1      0                  1  5.4                   32         39.015998   \n",
            "2      1                  1  5.4                   12         39.148341   \n",
            "3      1                  0  4.8                   23         39.060049   \n",
            "4      1                  0  4.8                   15         38.655439   \n",
            "..   ...                ...  ...                  ...               ...   \n",
            "93     0                  0  4.5                   38         37.939942   \n",
            "94     1                  0  1.8                   11         38.790426   \n",
            "95     0                  0  6.6                   20         39.489962   \n",
            "96     0                  0  6.9                   32         38.575742   \n",
            "97     1                  1  6.0                   21         39.766447   \n",
            "\n",
            "    ate_at_tonys_steakhouse  needed_intensive_care  \\\n",
            "0                         0                      0   \n",
            "1                         0                      0   \n",
            "2                         0                      0   \n",
            "3                         0                      0   \n",
            "4                         0                      0   \n",
            "..                      ...                    ...   \n",
            "93                        0                      0   \n",
            "94                        1                      1   \n",
            "95                        0                      0   \n",
            "96                        1                      1   \n",
            "97                        1                      1   \n",
            "\n",
            "    protein_content_of_last_meal  \n",
            "0                           7.66  \n",
            "1                          13.36  \n",
            "2                          12.90  \n",
            "3                          13.45  \n",
            "4                          10.53  \n",
            "..                           ...  \n",
            "93                          7.35  \n",
            "94                         12.18  \n",
            "95                         15.84  \n",
            "96                          9.79  \n",
            "97                         21.30  \n",
            "\n",
            "[98 rows x 8 columns]\n"
          ]
        }
      ]
    },
    {
      "cell_type": "markdown",
      "source": [
        "\n",
        "Tenemos una variedad de información, que incluye lo que hicieron los perros la noche anterior, su edad, si tienen sobrepeso y sus signos clínicos. En este ejercicio, nuestros valores y, o etiquetas, están representados por la `core_temperature` columna, mientras que nuestra característica será `age`, en años."
      ],
      "metadata": {
        "id": "w6RPn8_HV5T9"
      }
    },
    {
      "cell_type": "markdown",
      "source": [
        "### <font color='B8E139'><b>Visualización de datos</b></font>\n",
        "\n",
        "Echemos un vistazo a cómo se distribuyen las características y las etiquetas."
      ],
      "metadata": {
        "id": "SNkko9vbVdzt"
      }
    },
    {
      "cell_type": "code",
      "source": [
        "import graphing\n",
        "\n",
        "graphing.histogram(dataset, label_x='age', nbins=10, title=\"Feature\", show=True)\n",
        "graphing.histogram(dataset, label_x='core_temperature', nbins=10, title=\"Label\")"
      ],
      "metadata": {
        "id": "pEE-kMAaWKD9",
        "colab": {
          "base_uri": "https://localhost:8080/",
          "height": 817
        },
        "outputId": "6b420b00-cdd9-4ded-d9ce-9f1fc1a91c5d"
      },
      "execution_count": 2,
      "outputs": [
        {
          "output_type": "display_data",
          "data": {
            "text/html": [
              "<html>\n",
              "<head><meta charset=\"utf-8\" /></head>\n",
              "<body>\n",
              "    <div>            <script src=\"https://cdnjs.cloudflare.com/ajax/libs/mathjax/2.7.5/MathJax.js?config=TeX-AMS-MML_SVG\"></script><script type=\"text/javascript\">if (window.MathJax && window.MathJax.Hub && window.MathJax.Hub.Config) {window.MathJax.Hub.Config({SVG: {font: \"STIX-Web\"}});}</script>                <script type=\"text/javascript\">window.PlotlyConfig = {MathJaxConfig: 'local'};</script>\n",
              "        <script src=\"https://cdn.plot.ly/plotly-2.18.2.min.js\"></script>                <div id=\"a6ff3a4b-c35d-4249-bb03-3b7a97cf8426\" class=\"plotly-graph-div\" style=\"height:400px; width:100%;\"></div>            <script type=\"text/javascript\">                                    window.PLOTLYENV=window.PLOTLYENV || {};                                    if (document.getElementById(\"a6ff3a4b-c35d-4249-bb03-3b7a97cf8426\")) {                    Plotly.newPlot(                        \"a6ff3a4b-c35d-4249-bb03-3b7a97cf8426\",                        [{\"alignmentgroup\":\"True\",\"bingroup\":\"x\",\"hovertemplate\":\"age=%{x}<br>count=%{y}<extra></extra>\",\"legendgroup\":\"\",\"marker\":{\"color\":\"#636efa\",\"pattern\":{\"shape\":\"\"}},\"name\":\"\",\"nbinsx\":10,\"offsetgroup\":\"\",\"orientation\":\"v\",\"showlegend\":false,\"x\":[6.9,5.4,5.4,4.8,4.8,7.8,2.7,5.7,1.5,1.8,4.2,4.5,1.5,5.1,4.8,5.1,3.6,4.2,2.7,8.7,0.9,6.3,1.2,2.7,6.0,6.0,0.6,3.9,6.0,5.7,6.9,5.1,2.1,3.6,6.3,2.4,8.4,7.5,5.7,5.7,2.7,4.2,6.9,3.0,1.8,2.4,6.3,0.6,1.8,4.8,8.4,8.1,6.3,8.7,4.5,4.5,7.5,1.2,5.7,0.6,6.9,8.1,0.6,1.2,6.6,8.1,2.7,3.9,4.2,6.9,1.2,3.9,3.6,0.3,3.0,8.7,2.1,6.6,1.5,5.1,6.0,2.1,6.0,4.2,1.5,1.8,1.8,6.9,6.9,4.5,1.8,8.4,3.0,4.5,1.8,6.6,6.9,6.0],\"xaxis\":\"x\",\"yaxis\":\"y\",\"type\":\"histogram\"}],                        {\"template\":{\"data\":{\"barpolar\":[{\"marker\":{\"line\":{\"color\":\"white\",\"width\":0.5},\"pattern\":{\"fillmode\":\"overlay\",\"size\":10,\"solidity\":0.2}},\"type\":\"barpolar\"}],\"bar\":[{\"error_x\":{\"color\":\"#2a3f5f\"},\"error_y\":{\"color\":\"#2a3f5f\"},\"marker\":{\"line\":{\"color\":\"white\",\"width\":0.5},\"pattern\":{\"fillmode\":\"overlay\",\"size\":10,\"solidity\":0.2}},\"type\":\"bar\"}],\"carpet\":[{\"aaxis\":{\"endlinecolor\":\"#2a3f5f\",\"gridcolor\":\"#C8D4E3\",\"linecolor\":\"#C8D4E3\",\"minorgridcolor\":\"#C8D4E3\",\"startlinecolor\":\"#2a3f5f\"},\"baxis\":{\"endlinecolor\":\"#2a3f5f\",\"gridcolor\":\"#C8D4E3\",\"linecolor\":\"#C8D4E3\",\"minorgridcolor\":\"#C8D4E3\",\"startlinecolor\":\"#2a3f5f\"},\"type\":\"carpet\"}],\"choropleth\":[{\"colorbar\":{\"outlinewidth\":0,\"ticks\":\"\"},\"type\":\"choropleth\"}],\"contourcarpet\":[{\"colorbar\":{\"outlinewidth\":0,\"ticks\":\"\"},\"type\":\"contourcarpet\"}],\"contour\":[{\"colorbar\":{\"outlinewidth\":0,\"ticks\":\"\"},\"colorscale\":[[0.0,\"#0d0887\"],[0.1111111111111111,\"#46039f\"],[0.2222222222222222,\"#7201a8\"],[0.3333333333333333,\"#9c179e\"],[0.4444444444444444,\"#bd3786\"],[0.5555555555555556,\"#d8576b\"],[0.6666666666666666,\"#ed7953\"],[0.7777777777777778,\"#fb9f3a\"],[0.8888888888888888,\"#fdca26\"],[1.0,\"#f0f921\"]],\"type\":\"contour\"}],\"heatmapgl\":[{\"colorbar\":{\"outlinewidth\":0,\"ticks\":\"\"},\"colorscale\":[[0.0,\"#0d0887\"],[0.1111111111111111,\"#46039f\"],[0.2222222222222222,\"#7201a8\"],[0.3333333333333333,\"#9c179e\"],[0.4444444444444444,\"#bd3786\"],[0.5555555555555556,\"#d8576b\"],[0.6666666666666666,\"#ed7953\"],[0.7777777777777778,\"#fb9f3a\"],[0.8888888888888888,\"#fdca26\"],[1.0,\"#f0f921\"]],\"type\":\"heatmapgl\"}],\"heatmap\":[{\"colorbar\":{\"outlinewidth\":0,\"ticks\":\"\"},\"colorscale\":[[0.0,\"#0d0887\"],[0.1111111111111111,\"#46039f\"],[0.2222222222222222,\"#7201a8\"],[0.3333333333333333,\"#9c179e\"],[0.4444444444444444,\"#bd3786\"],[0.5555555555555556,\"#d8576b\"],[0.6666666666666666,\"#ed7953\"],[0.7777777777777778,\"#fb9f3a\"],[0.8888888888888888,\"#fdca26\"],[1.0,\"#f0f921\"]],\"type\":\"heatmap\"}],\"histogram2dcontour\":[{\"colorbar\":{\"outlinewidth\":0,\"ticks\":\"\"},\"colorscale\":[[0.0,\"#0d0887\"],[0.1111111111111111,\"#46039f\"],[0.2222222222222222,\"#7201a8\"],[0.3333333333333333,\"#9c179e\"],[0.4444444444444444,\"#bd3786\"],[0.5555555555555556,\"#d8576b\"],[0.6666666666666666,\"#ed7953\"],[0.7777777777777778,\"#fb9f3a\"],[0.8888888888888888,\"#fdca26\"],[1.0,\"#f0f921\"]],\"type\":\"histogram2dcontour\"}],\"histogram2d\":[{\"colorbar\":{\"outlinewidth\":0,\"ticks\":\"\"},\"colorscale\":[[0.0,\"#0d0887\"],[0.1111111111111111,\"#46039f\"],[0.2222222222222222,\"#7201a8\"],[0.3333333333333333,\"#9c179e\"],[0.4444444444444444,\"#bd3786\"],[0.5555555555555556,\"#d8576b\"],[0.6666666666666666,\"#ed7953\"],[0.7777777777777778,\"#fb9f3a\"],[0.8888888888888888,\"#fdca26\"],[1.0,\"#f0f921\"]],\"type\":\"histogram2d\"}],\"histogram\":[{\"marker\":{\"pattern\":{\"fillmode\":\"overlay\",\"size\":10,\"solidity\":0.2},\"line\":{\"width\":1}},\"type\":\"histogram\"}],\"mesh3d\":[{\"colorbar\":{\"outlinewidth\":0,\"ticks\":\"\"},\"type\":\"mesh3d\"}],\"parcoords\":[{\"line\":{\"colorbar\":{\"outlinewidth\":0,\"ticks\":\"\"}},\"type\":\"parcoords\"}],\"pie\":[{\"automargin\":true,\"type\":\"pie\"}],\"scatter3d\":[{\"line\":{\"colorbar\":{\"outlinewidth\":0,\"ticks\":\"\"}},\"marker\":{\"colorbar\":{\"outlinewidth\":0,\"ticks\":\"\"},\"opacity\":0.8},\"type\":\"scatter3d\"}],\"scattercarpet\":[{\"marker\":{\"colorbar\":{\"outlinewidth\":0,\"ticks\":\"\"}},\"type\":\"scattercarpet\"}],\"scattergeo\":[{\"marker\":{\"colorbar\":{\"outlinewidth\":0,\"ticks\":\"\"}},\"type\":\"scattergeo\"}],\"scattergl\":[{\"marker\":{\"colorbar\":{\"outlinewidth\":0,\"ticks\":\"\"}},\"type\":\"scattergl\"}],\"scattermapbox\":[{\"marker\":{\"colorbar\":{\"outlinewidth\":0,\"ticks\":\"\"}},\"type\":\"scattermapbox\"}],\"scatterpolargl\":[{\"marker\":{\"colorbar\":{\"outlinewidth\":0,\"ticks\":\"\"}},\"type\":\"scatterpolargl\"}],\"scatterpolar\":[{\"marker\":{\"colorbar\":{\"outlinewidth\":0,\"ticks\":\"\"}},\"type\":\"scatterpolar\"}],\"scatter\":[{\"fillpattern\":{\"fillmode\":\"overlay\",\"size\":10,\"solidity\":0.2},\"type\":\"scatter\",\"marker\":{\"opacity\":0.8}}],\"scatterternary\":[{\"marker\":{\"colorbar\":{\"outlinewidth\":0,\"ticks\":\"\"}},\"type\":\"scatterternary\"}],\"surface\":[{\"colorbar\":{\"outlinewidth\":0,\"ticks\":\"\"},\"colorscale\":[[0.0,\"#0d0887\"],[0.1111111111111111,\"#46039f\"],[0.2222222222222222,\"#7201a8\"],[0.3333333333333333,\"#9c179e\"],[0.4444444444444444,\"#bd3786\"],[0.5555555555555556,\"#d8576b\"],[0.6666666666666666,\"#ed7953\"],[0.7777777777777778,\"#fb9f3a\"],[0.8888888888888888,\"#fdca26\"],[1.0,\"#f0f921\"]],\"type\":\"surface\"}],\"table\":[{\"cells\":{\"fill\":{\"color\":\"#EBF0F8\"},\"line\":{\"color\":\"white\"}},\"header\":{\"fill\":{\"color\":\"#C8D4E3\"},\"line\":{\"color\":\"white\"}},\"type\":\"table\"}],\"box\":[{\"boxpoints\":\"outliers\",\"notched\":false,\"type\":\"box\"}]},\"layout\":{\"annotationdefaults\":{\"arrowcolor\":\"#2a3f5f\",\"arrowhead\":0,\"arrowwidth\":1},\"autotypenumbers\":\"strict\",\"coloraxis\":{\"colorbar\":{\"outlinewidth\":0,\"ticks\":\"\"}},\"colorscale\":{\"diverging\":[[0,\"#8e0152\"],[0.1,\"#c51b7d\"],[0.2,\"#de77ae\"],[0.3,\"#f1b6da\"],[0.4,\"#fde0ef\"],[0.5,\"#f7f7f7\"],[0.6,\"#e6f5d0\"],[0.7,\"#b8e186\"],[0.8,\"#7fbc41\"],[0.9,\"#4d9221\"],[1,\"#276419\"]],\"sequential\":[[0.0,\"#0d0887\"],[0.1111111111111111,\"#46039f\"],[0.2222222222222222,\"#7201a8\"],[0.3333333333333333,\"#9c179e\"],[0.4444444444444444,\"#bd3786\"],[0.5555555555555556,\"#d8576b\"],[0.6666666666666666,\"#ed7953\"],[0.7777777777777778,\"#fb9f3a\"],[0.8888888888888888,\"#fdca26\"],[1.0,\"#f0f921\"]],\"sequentialminus\":[[0.0,\"#0d0887\"],[0.1111111111111111,\"#46039f\"],[0.2222222222222222,\"#7201a8\"],[0.3333333333333333,\"#9c179e\"],[0.4444444444444444,\"#bd3786\"],[0.5555555555555556,\"#d8576b\"],[0.6666666666666666,\"#ed7953\"],[0.7777777777777778,\"#fb9f3a\"],[0.8888888888888888,\"#fdca26\"],[1.0,\"#f0f921\"]]},\"colorway\":[\"#636efa\",\"#EF553B\",\"#00cc96\",\"#ab63fa\",\"#FFA15A\",\"#19d3f3\",\"#FF6692\",\"#B6E880\",\"#FF97FF\",\"#FECB52\"],\"font\":{\"color\":\"#2a3f5f\"},\"geo\":{\"bgcolor\":\"white\",\"lakecolor\":\"white\",\"landcolor\":\"white\",\"showlakes\":true,\"showland\":true,\"subunitcolor\":\"#C8D4E3\"},\"hoverlabel\":{\"align\":\"left\"},\"hovermode\":\"closest\",\"mapbox\":{\"style\":\"light\"},\"paper_bgcolor\":\"white\",\"plot_bgcolor\":\"white\",\"polar\":{\"angularaxis\":{\"gridcolor\":\"#EBF0F8\",\"linecolor\":\"#EBF0F8\",\"ticks\":\"\"},\"bgcolor\":\"white\",\"radialaxis\":{\"gridcolor\":\"#EBF0F8\",\"linecolor\":\"#EBF0F8\",\"ticks\":\"\"}},\"scene\":{\"xaxis\":{\"backgroundcolor\":\"white\",\"gridcolor\":\"#DFE8F3\",\"gridwidth\":2,\"linecolor\":\"#EBF0F8\",\"showbackground\":true,\"ticks\":\"\",\"zerolinecolor\":\"#EBF0F8\"},\"yaxis\":{\"backgroundcolor\":\"white\",\"gridcolor\":\"#DFE8F3\",\"gridwidth\":2,\"linecolor\":\"#EBF0F8\",\"showbackground\":true,\"ticks\":\"\",\"zerolinecolor\":\"#EBF0F8\"},\"zaxis\":{\"backgroundcolor\":\"white\",\"gridcolor\":\"#DFE8F3\",\"gridwidth\":2,\"linecolor\":\"#EBF0F8\",\"showbackground\":true,\"ticks\":\"\",\"zerolinecolor\":\"#EBF0F8\"},\"camera\":{\"eye\":{\"x\":1.5,\"y\":1.5,\"z\":0.1}}},\"shapedefaults\":{\"line\":{\"color\":\"#2a3f5f\"}},\"ternary\":{\"aaxis\":{\"gridcolor\":\"#DFE8F3\",\"linecolor\":\"#A2B1C6\",\"ticks\":\"\"},\"baxis\":{\"gridcolor\":\"#DFE8F3\",\"linecolor\":\"#A2B1C6\",\"ticks\":\"\"},\"bgcolor\":\"white\",\"caxis\":{\"gridcolor\":\"#DFE8F3\",\"linecolor\":\"#A2B1C6\",\"ticks\":\"\"}},\"title\":{\"x\":0.5},\"xaxis\":{\"automargin\":true,\"gridcolor\":\"#EBF0F8\",\"linecolor\":\"#EBF0F8\",\"ticks\":\"\",\"title\":{\"standoff\":15},\"zerolinecolor\":\"#EBF0F8\",\"zerolinewidth\":2,\"linewidth\":2,\"showline\":true},\"yaxis\":{\"automargin\":true,\"gridcolor\":\"#EBF0F8\",\"linecolor\":\"#EBF0F8\",\"ticks\":\"\",\"title\":{\"standoff\":15},\"zerolinecolor\":\"#EBF0F8\",\"zerolinewidth\":2,\"linewidth\":2,\"showline\":true},\"height\":400,\"margin\":{\"b\":2,\"l\":2,\"r\":2,\"t\":30}}},\"xaxis\":{\"anchor\":\"y\",\"domain\":[0.0,1.0],\"title\":{\"text\":\"age\"}},\"yaxis\":{\"anchor\":\"x\",\"domain\":[0.0,1.0],\"title\":{\"text\":\"count\"}},\"legend\":{\"tracegroupgap\":0},\"title\":{\"text\":\"Feature\"},\"barmode\":\"relative\"},                        {\"responsive\": true}                    ).then(function(){\n",
              "                            \n",
              "var gd = document.getElementById('a6ff3a4b-c35d-4249-bb03-3b7a97cf8426');\n",
              "var x = new MutationObserver(function (mutations, observer) {{\n",
              "        var display = window.getComputedStyle(gd).display;\n",
              "        if (!display || display === 'none') {{\n",
              "            console.log([gd, 'removed!']);\n",
              "            Plotly.purge(gd);\n",
              "            observer.disconnect();\n",
              "        }}\n",
              "}});\n",
              "\n",
              "// Listen for the removal of the full notebook cells\n",
              "var notebookContainer = gd.closest('#notebook-container');\n",
              "if (notebookContainer) {{\n",
              "    x.observe(notebookContainer, {childList: true});\n",
              "}}\n",
              "\n",
              "// Listen for the clearing of the current output cell\n",
              "var outputEl = gd.closest('.output');\n",
              "if (outputEl) {{\n",
              "    x.observe(outputEl, {childList: true});\n",
              "}}\n",
              "\n",
              "                        })                };                            </script>        </div>\n",
              "</body>\n",
              "</html>"
            ]
          },
          "metadata": {}
        },
        {
          "output_type": "display_data",
          "data": {
            "text/html": [
              "<html>\n",
              "<head><meta charset=\"utf-8\" /></head>\n",
              "<body>\n",
              "    <div>            <script src=\"https://cdnjs.cloudflare.com/ajax/libs/mathjax/2.7.5/MathJax.js?config=TeX-AMS-MML_SVG\"></script><script type=\"text/javascript\">if (window.MathJax && window.MathJax.Hub && window.MathJax.Hub.Config) {window.MathJax.Hub.Config({SVG: {font: \"STIX-Web\"}});}</script>                <script type=\"text/javascript\">window.PlotlyConfig = {MathJaxConfig: 'local'};</script>\n",
              "        <script src=\"https://cdn.plot.ly/plotly-2.18.2.min.js\"></script>                <div id=\"3b950931-b3d9-4811-bdcb-7a1fbafc1a8f\" class=\"plotly-graph-div\" style=\"height:400px; width:100%;\"></div>            <script type=\"text/javascript\">                                    window.PLOTLYENV=window.PLOTLYENV || {};                                    if (document.getElementById(\"3b950931-b3d9-4811-bdcb-7a1fbafc1a8f\")) {                    Plotly.newPlot(                        \"3b950931-b3d9-4811-bdcb-7a1fbafc1a8f\",                        [{\"alignmentgroup\":\"True\",\"bingroup\":\"x\",\"hovertemplate\":\"core temperature=%{x}<br>count=%{y}<extra></extra>\",\"legendgroup\":\"\",\"marker\":{\"color\":\"#636efa\",\"pattern\":{\"shape\":\"\"}},\"name\":\"\",\"nbinsx\":10,\"offsetgroup\":\"\",\"orientation\":\"v\",\"showlegend\":false,\"x\":[38.42316895,39.01599822,39.14834088,39.06004863,38.65543905,38.6092188,39.47390806,38.81521612,37.77845286,39.17685034,39.52090819,38.57896943,38.28013391,38.40158039,38.65157641,39.61720308,37.72843549,39.36694049,37.98848685,39.93405104,37.60559023,38.83468198,37.39892664,38.98633063,39.72456882,38.09695504,37.59597881,39.49731323,38.50187636,38.27036031,38.69964224,39.08411118,38.29400364,38.39872285,39.29951536,38.37598649,38.46968433,39.58561173,38.12682317,39.80156649,37.92682179,39.67264697,38.21409556,38.93217418,37.80121676,37.52097889,39.34942824,38.9163822,38.72595498,38.35421436,40.17337876,39.48214424,39.9557292,39.02529641,39.70565695,37.87210056,38.92730588,38.75694066,38.98157028,39.07020183,39.31023381,40.26487847,39.19531025,37.46606804,38.61929591,39.74308443,37.9590829,38.52387016,39.58821189,39.48780846,37.32113362,38.30311301,39.32598796,38.18373964,37.78518905,38.97361387,37.97719515,38.92654301,37.98922316,39.87010492,38.51344083,39.14710639,38.61129304,38.95232638,37.46812464,38.24131363,38.7661591,39.87233432,38.87492299,39.09337261,39.00124171,39.25963687,38.6808734,37.93994229,38.79042609,39.48996228,38.57574159,39.76644658],\"xaxis\":\"x\",\"yaxis\":\"y\",\"type\":\"histogram\"}],                        {\"template\":{\"data\":{\"barpolar\":[{\"marker\":{\"line\":{\"color\":\"white\",\"width\":0.5},\"pattern\":{\"fillmode\":\"overlay\",\"size\":10,\"solidity\":0.2}},\"type\":\"barpolar\"}],\"bar\":[{\"error_x\":{\"color\":\"#2a3f5f\"},\"error_y\":{\"color\":\"#2a3f5f\"},\"marker\":{\"line\":{\"color\":\"white\",\"width\":0.5},\"pattern\":{\"fillmode\":\"overlay\",\"size\":10,\"solidity\":0.2}},\"type\":\"bar\"}],\"carpet\":[{\"aaxis\":{\"endlinecolor\":\"#2a3f5f\",\"gridcolor\":\"#C8D4E3\",\"linecolor\":\"#C8D4E3\",\"minorgridcolor\":\"#C8D4E3\",\"startlinecolor\":\"#2a3f5f\"},\"baxis\":{\"endlinecolor\":\"#2a3f5f\",\"gridcolor\":\"#C8D4E3\",\"linecolor\":\"#C8D4E3\",\"minorgridcolor\":\"#C8D4E3\",\"startlinecolor\":\"#2a3f5f\"},\"type\":\"carpet\"}],\"choropleth\":[{\"colorbar\":{\"outlinewidth\":0,\"ticks\":\"\"},\"type\":\"choropleth\"}],\"contourcarpet\":[{\"colorbar\":{\"outlinewidth\":0,\"ticks\":\"\"},\"type\":\"contourcarpet\"}],\"contour\":[{\"colorbar\":{\"outlinewidth\":0,\"ticks\":\"\"},\"colorscale\":[[0.0,\"#0d0887\"],[0.1111111111111111,\"#46039f\"],[0.2222222222222222,\"#7201a8\"],[0.3333333333333333,\"#9c179e\"],[0.4444444444444444,\"#bd3786\"],[0.5555555555555556,\"#d8576b\"],[0.6666666666666666,\"#ed7953\"],[0.7777777777777778,\"#fb9f3a\"],[0.8888888888888888,\"#fdca26\"],[1.0,\"#f0f921\"]],\"type\":\"contour\"}],\"heatmapgl\":[{\"colorbar\":{\"outlinewidth\":0,\"ticks\":\"\"},\"colorscale\":[[0.0,\"#0d0887\"],[0.1111111111111111,\"#46039f\"],[0.2222222222222222,\"#7201a8\"],[0.3333333333333333,\"#9c179e\"],[0.4444444444444444,\"#bd3786\"],[0.5555555555555556,\"#d8576b\"],[0.6666666666666666,\"#ed7953\"],[0.7777777777777778,\"#fb9f3a\"],[0.8888888888888888,\"#fdca26\"],[1.0,\"#f0f921\"]],\"type\":\"heatmapgl\"}],\"heatmap\":[{\"colorbar\":{\"outlinewidth\":0,\"ticks\":\"\"},\"colorscale\":[[0.0,\"#0d0887\"],[0.1111111111111111,\"#46039f\"],[0.2222222222222222,\"#7201a8\"],[0.3333333333333333,\"#9c179e\"],[0.4444444444444444,\"#bd3786\"],[0.5555555555555556,\"#d8576b\"],[0.6666666666666666,\"#ed7953\"],[0.7777777777777778,\"#fb9f3a\"],[0.8888888888888888,\"#fdca26\"],[1.0,\"#f0f921\"]],\"type\":\"heatmap\"}],\"histogram2dcontour\":[{\"colorbar\":{\"outlinewidth\":0,\"ticks\":\"\"},\"colorscale\":[[0.0,\"#0d0887\"],[0.1111111111111111,\"#46039f\"],[0.2222222222222222,\"#7201a8\"],[0.3333333333333333,\"#9c179e\"],[0.4444444444444444,\"#bd3786\"],[0.5555555555555556,\"#d8576b\"],[0.6666666666666666,\"#ed7953\"],[0.7777777777777778,\"#fb9f3a\"],[0.8888888888888888,\"#fdca26\"],[1.0,\"#f0f921\"]],\"type\":\"histogram2dcontour\"}],\"histogram2d\":[{\"colorbar\":{\"outlinewidth\":0,\"ticks\":\"\"},\"colorscale\":[[0.0,\"#0d0887\"],[0.1111111111111111,\"#46039f\"],[0.2222222222222222,\"#7201a8\"],[0.3333333333333333,\"#9c179e\"],[0.4444444444444444,\"#bd3786\"],[0.5555555555555556,\"#d8576b\"],[0.6666666666666666,\"#ed7953\"],[0.7777777777777778,\"#fb9f3a\"],[0.8888888888888888,\"#fdca26\"],[1.0,\"#f0f921\"]],\"type\":\"histogram2d\"}],\"histogram\":[{\"marker\":{\"pattern\":{\"fillmode\":\"overlay\",\"size\":10,\"solidity\":0.2},\"line\":{\"width\":1}},\"type\":\"histogram\"}],\"mesh3d\":[{\"colorbar\":{\"outlinewidth\":0,\"ticks\":\"\"},\"type\":\"mesh3d\"}],\"parcoords\":[{\"line\":{\"colorbar\":{\"outlinewidth\":0,\"ticks\":\"\"}},\"type\":\"parcoords\"}],\"pie\":[{\"automargin\":true,\"type\":\"pie\"}],\"scatter3d\":[{\"line\":{\"colorbar\":{\"outlinewidth\":0,\"ticks\":\"\"}},\"marker\":{\"colorbar\":{\"outlinewidth\":0,\"ticks\":\"\"},\"opacity\":0.8},\"type\":\"scatter3d\"}],\"scattercarpet\":[{\"marker\":{\"colorbar\":{\"outlinewidth\":0,\"ticks\":\"\"}},\"type\":\"scattercarpet\"}],\"scattergeo\":[{\"marker\":{\"colorbar\":{\"outlinewidth\":0,\"ticks\":\"\"}},\"type\":\"scattergeo\"}],\"scattergl\":[{\"marker\":{\"colorbar\":{\"outlinewidth\":0,\"ticks\":\"\"}},\"type\":\"scattergl\"}],\"scattermapbox\":[{\"marker\":{\"colorbar\":{\"outlinewidth\":0,\"ticks\":\"\"}},\"type\":\"scattermapbox\"}],\"scatterpolargl\":[{\"marker\":{\"colorbar\":{\"outlinewidth\":0,\"ticks\":\"\"}},\"type\":\"scatterpolargl\"}],\"scatterpolar\":[{\"marker\":{\"colorbar\":{\"outlinewidth\":0,\"ticks\":\"\"}},\"type\":\"scatterpolar\"}],\"scatter\":[{\"fillpattern\":{\"fillmode\":\"overlay\",\"size\":10,\"solidity\":0.2},\"type\":\"scatter\",\"marker\":{\"opacity\":0.8}}],\"scatterternary\":[{\"marker\":{\"colorbar\":{\"outlinewidth\":0,\"ticks\":\"\"}},\"type\":\"scatterternary\"}],\"surface\":[{\"colorbar\":{\"outlinewidth\":0,\"ticks\":\"\"},\"colorscale\":[[0.0,\"#0d0887\"],[0.1111111111111111,\"#46039f\"],[0.2222222222222222,\"#7201a8\"],[0.3333333333333333,\"#9c179e\"],[0.4444444444444444,\"#bd3786\"],[0.5555555555555556,\"#d8576b\"],[0.6666666666666666,\"#ed7953\"],[0.7777777777777778,\"#fb9f3a\"],[0.8888888888888888,\"#fdca26\"],[1.0,\"#f0f921\"]],\"type\":\"surface\"}],\"table\":[{\"cells\":{\"fill\":{\"color\":\"#EBF0F8\"},\"line\":{\"color\":\"white\"}},\"header\":{\"fill\":{\"color\":\"#C8D4E3\"},\"line\":{\"color\":\"white\"}},\"type\":\"table\"}],\"box\":[{\"boxpoints\":\"outliers\",\"notched\":false,\"type\":\"box\"}]},\"layout\":{\"annotationdefaults\":{\"arrowcolor\":\"#2a3f5f\",\"arrowhead\":0,\"arrowwidth\":1},\"autotypenumbers\":\"strict\",\"coloraxis\":{\"colorbar\":{\"outlinewidth\":0,\"ticks\":\"\"}},\"colorscale\":{\"diverging\":[[0,\"#8e0152\"],[0.1,\"#c51b7d\"],[0.2,\"#de77ae\"],[0.3,\"#f1b6da\"],[0.4,\"#fde0ef\"],[0.5,\"#f7f7f7\"],[0.6,\"#e6f5d0\"],[0.7,\"#b8e186\"],[0.8,\"#7fbc41\"],[0.9,\"#4d9221\"],[1,\"#276419\"]],\"sequential\":[[0.0,\"#0d0887\"],[0.1111111111111111,\"#46039f\"],[0.2222222222222222,\"#7201a8\"],[0.3333333333333333,\"#9c179e\"],[0.4444444444444444,\"#bd3786\"],[0.5555555555555556,\"#d8576b\"],[0.6666666666666666,\"#ed7953\"],[0.7777777777777778,\"#fb9f3a\"],[0.8888888888888888,\"#fdca26\"],[1.0,\"#f0f921\"]],\"sequentialminus\":[[0.0,\"#0d0887\"],[0.1111111111111111,\"#46039f\"],[0.2222222222222222,\"#7201a8\"],[0.3333333333333333,\"#9c179e\"],[0.4444444444444444,\"#bd3786\"],[0.5555555555555556,\"#d8576b\"],[0.6666666666666666,\"#ed7953\"],[0.7777777777777778,\"#fb9f3a\"],[0.8888888888888888,\"#fdca26\"],[1.0,\"#f0f921\"]]},\"colorway\":[\"#636efa\",\"#EF553B\",\"#00cc96\",\"#ab63fa\",\"#FFA15A\",\"#19d3f3\",\"#FF6692\",\"#B6E880\",\"#FF97FF\",\"#FECB52\"],\"font\":{\"color\":\"#2a3f5f\"},\"geo\":{\"bgcolor\":\"white\",\"lakecolor\":\"white\",\"landcolor\":\"white\",\"showlakes\":true,\"showland\":true,\"subunitcolor\":\"#C8D4E3\"},\"hoverlabel\":{\"align\":\"left\"},\"hovermode\":\"closest\",\"mapbox\":{\"style\":\"light\"},\"paper_bgcolor\":\"white\",\"plot_bgcolor\":\"white\",\"polar\":{\"angularaxis\":{\"gridcolor\":\"#EBF0F8\",\"linecolor\":\"#EBF0F8\",\"ticks\":\"\"},\"bgcolor\":\"white\",\"radialaxis\":{\"gridcolor\":\"#EBF0F8\",\"linecolor\":\"#EBF0F8\",\"ticks\":\"\"}},\"scene\":{\"xaxis\":{\"backgroundcolor\":\"white\",\"gridcolor\":\"#DFE8F3\",\"gridwidth\":2,\"linecolor\":\"#EBF0F8\",\"showbackground\":true,\"ticks\":\"\",\"zerolinecolor\":\"#EBF0F8\"},\"yaxis\":{\"backgroundcolor\":\"white\",\"gridcolor\":\"#DFE8F3\",\"gridwidth\":2,\"linecolor\":\"#EBF0F8\",\"showbackground\":true,\"ticks\":\"\",\"zerolinecolor\":\"#EBF0F8\"},\"zaxis\":{\"backgroundcolor\":\"white\",\"gridcolor\":\"#DFE8F3\",\"gridwidth\":2,\"linecolor\":\"#EBF0F8\",\"showbackground\":true,\"ticks\":\"\",\"zerolinecolor\":\"#EBF0F8\"},\"camera\":{\"eye\":{\"x\":1.5,\"y\":1.5,\"z\":0.1}}},\"shapedefaults\":{\"line\":{\"color\":\"#2a3f5f\"}},\"ternary\":{\"aaxis\":{\"gridcolor\":\"#DFE8F3\",\"linecolor\":\"#A2B1C6\",\"ticks\":\"\"},\"baxis\":{\"gridcolor\":\"#DFE8F3\",\"linecolor\":\"#A2B1C6\",\"ticks\":\"\"},\"bgcolor\":\"white\",\"caxis\":{\"gridcolor\":\"#DFE8F3\",\"linecolor\":\"#A2B1C6\",\"ticks\":\"\"}},\"title\":{\"x\":0.5},\"xaxis\":{\"automargin\":true,\"gridcolor\":\"#EBF0F8\",\"linecolor\":\"#EBF0F8\",\"ticks\":\"\",\"title\":{\"standoff\":15},\"zerolinecolor\":\"#EBF0F8\",\"zerolinewidth\":2,\"linewidth\":2,\"showline\":true},\"yaxis\":{\"automargin\":true,\"gridcolor\":\"#EBF0F8\",\"linecolor\":\"#EBF0F8\",\"ticks\":\"\",\"title\":{\"standoff\":15},\"zerolinecolor\":\"#EBF0F8\",\"zerolinewidth\":2,\"linewidth\":2,\"showline\":true},\"height\":400,\"margin\":{\"b\":2,\"l\":2,\"r\":2,\"t\":30}}},\"xaxis\":{\"anchor\":\"y\",\"domain\":[0.0,1.0],\"title\":{\"text\":\"core temperature\"}},\"yaxis\":{\"anchor\":\"x\",\"domain\":[0.0,1.0],\"title\":{\"text\":\"count\"}},\"legend\":{\"tracegroupgap\":0},\"title\":{\"text\":\"Label\"},\"barmode\":\"relative\"},                        {\"responsive\": true}                    ).then(function(){\n",
              "                            \n",
              "var gd = document.getElementById('3b950931-b3d9-4811-bdcb-7a1fbafc1a8f');\n",
              "var x = new MutationObserver(function (mutations, observer) {{\n",
              "        var display = window.getComputedStyle(gd).display;\n",
              "        if (!display || display === 'none') {{\n",
              "            console.log([gd, 'removed!']);\n",
              "            Plotly.purge(gd);\n",
              "            observer.disconnect();\n",
              "        }}\n",
              "}});\n",
              "\n",
              "// Listen for the removal of the full notebook cells\n",
              "var notebookContainer = gd.closest('#notebook-container');\n",
              "if (notebookContainer) {{\n",
              "    x.observe(notebookContainer, {childList: true});\n",
              "}}\n",
              "\n",
              "// Listen for the clearing of the current output cell\n",
              "var outputEl = gd.closest('.output');\n",
              "if (outputEl) {{\n",
              "    x.observe(outputEl, {childList: true});\n",
              "}}\n",
              "\n",
              "                        })                };                            </script>        </div>\n",
              "</body>\n",
              "</html>"
            ]
          },
          "metadata": {}
        }
      ]
    },
    {
      "cell_type": "markdown",
      "source": [
        "Mirando nuestra función (`age`), podemos ver que los perros tenían 9 años o menos, y las edades están distribuidas uniformemente. En otras palabras, ninguna edad en particular es sustancialmente más común que otra.\n",
        "\n",
        "Mirando nuestra etiqueta (`core_temperature`), la mayoría de los perros parecen tener una temperatura central ligeramente elevada (normalmente esperaríamos ~37.5 grados centígrados), lo que indica que no se encuentran bien. Un pequeño número de perros tienen una temperatura superior a los 40 grados, lo que indica que no se encuentran bien.\n",
        "\n",
        "Simplemente porque la forma de estas distribuciones es diferente, podemos suponer que la característica no podrá predecir la etiqueta muy bien. Por ejemplo, si la vejez predijera perfectamente quién tendría fiebre alta, entonces el número de perros viejos coincidiría exactamente con el número de perros con fiebre alta.\n",
        "\n",
        "Sin embargo, el modelo podría terminar siendo útil, así que continuemos.\n",
        "\n",
        "El siguiente paso es observar la relación. Permite trazar la relación entre las etiquetas y las características."
      ],
      "metadata": {
        "id": "1MlioUJjWKjG"
      }
    },
    {
      "cell_type": "code",
      "source": [
        "graphing.scatter_2D(dataset, label_x=\"age\", label_y=\"core_temperature\", title='core temperature as a function of age')"
      ],
      "metadata": {
        "id": "ClnEVQxUWVOO",
        "colab": {
          "base_uri": "https://localhost:8080/",
          "height": 417
        },
        "outputId": "291a8994-e6fa-4b1e-8155-5585a7f7780b"
      },
      "execution_count": 3,
      "outputs": [
        {
          "output_type": "display_data",
          "data": {
            "text/html": [
              "<html>\n",
              "<head><meta charset=\"utf-8\" /></head>\n",
              "<body>\n",
              "    <div>            <script src=\"https://cdnjs.cloudflare.com/ajax/libs/mathjax/2.7.5/MathJax.js?config=TeX-AMS-MML_SVG\"></script><script type=\"text/javascript\">if (window.MathJax && window.MathJax.Hub && window.MathJax.Hub.Config) {window.MathJax.Hub.Config({SVG: {font: \"STIX-Web\"}});}</script>                <script type=\"text/javascript\">window.PlotlyConfig = {MathJaxConfig: 'local'};</script>\n",
              "        <script src=\"https://cdn.plot.ly/plotly-2.18.2.min.js\"></script>                <div id=\"b0cdd580-ae14-4802-994f-dfff28e1ce9a\" class=\"plotly-graph-div\" style=\"height:400px; width:100%;\"></div>            <script type=\"text/javascript\">                                    window.PLOTLYENV=window.PLOTLYENV || {};                                    if (document.getElementById(\"b0cdd580-ae14-4802-994f-dfff28e1ce9a\")) {                    Plotly.newPlot(                        \"b0cdd580-ae14-4802-994f-dfff28e1ce9a\",                        [{\"hovertemplate\":\"age=%{x}<br>core temperature=%{y}<extra></extra>\",\"legendgroup\":\"\",\"marker\":{\"color\":\"#636efa\",\"symbol\":\"circle\",\"size\":17},\"mode\":\"markers\",\"name\":\"\",\"orientation\":\"v\",\"showlegend\":false,\"x\":[6.9,5.4,5.4,4.8,4.8,7.8,2.7,5.7,1.5,1.8,4.2,4.5,1.5,5.1,4.8,5.1,3.6,4.2,2.7,8.7,0.9,6.3,1.2,2.7,6.0,6.0,0.6,3.9,6.0,5.7,6.9,5.1,2.1,3.6,6.3,2.4,8.4,7.5,5.7,5.7,2.7,4.2,6.9,3.0,1.8,2.4,6.3,0.6,1.8,4.8,8.4,8.1,6.3,8.7,4.5,4.5,7.5,1.2,5.7,0.6,6.9,8.1,0.6,1.2,6.6,8.1,2.7,3.9,4.2,6.9,1.2,3.9,3.6,0.3,3.0,8.7,2.1,6.6,1.5,5.1,6.0,2.1,6.0,4.2,1.5,1.8,1.8,6.9,6.9,4.5,1.8,8.4,3.0,4.5,1.8,6.6,6.9,6.0],\"xaxis\":\"x\",\"y\":[38.42316895,39.01599822,39.14834088,39.06004863,38.65543905,38.6092188,39.47390806,38.81521612,37.77845286,39.17685034,39.52090819,38.57896943,38.28013391,38.40158039,38.65157641,39.61720308,37.72843549,39.36694049,37.98848685,39.93405104,37.60559023,38.83468198,37.39892664,38.98633063,39.72456882,38.09695504,37.59597881,39.49731323,38.50187636,38.27036031,38.69964224,39.08411118,38.29400364,38.39872285,39.29951536,38.37598649,38.46968433,39.58561173,38.12682317,39.80156649,37.92682179,39.67264697,38.21409556,38.93217418,37.80121676,37.52097889,39.34942824,38.9163822,38.72595498,38.35421436,40.17337876,39.48214424,39.9557292,39.02529641,39.70565695,37.87210056,38.92730588,38.75694066,38.98157028,39.07020183,39.31023381,40.26487847,39.19531025,37.46606804,38.61929591,39.74308443,37.9590829,38.52387016,39.58821189,39.48780846,37.32113362,38.30311301,39.32598796,38.18373964,37.78518905,38.97361387,37.97719515,38.92654301,37.98922316,39.87010492,38.51344083,39.14710639,38.61129304,38.95232638,37.46812464,38.24131363,38.7661591,39.87233432,38.87492299,39.09337261,39.00124171,39.25963687,38.6808734,37.93994229,38.79042609,39.48996228,38.57574159,39.76644658],\"yaxis\":\"y\",\"type\":\"scatter\"}],                        {\"template\":{\"data\":{\"barpolar\":[{\"marker\":{\"line\":{\"color\":\"white\",\"width\":0.5},\"pattern\":{\"fillmode\":\"overlay\",\"size\":10,\"solidity\":0.2}},\"type\":\"barpolar\"}],\"bar\":[{\"error_x\":{\"color\":\"#2a3f5f\"},\"error_y\":{\"color\":\"#2a3f5f\"},\"marker\":{\"line\":{\"color\":\"white\",\"width\":0.5},\"pattern\":{\"fillmode\":\"overlay\",\"size\":10,\"solidity\":0.2}},\"type\":\"bar\"}],\"carpet\":[{\"aaxis\":{\"endlinecolor\":\"#2a3f5f\",\"gridcolor\":\"#C8D4E3\",\"linecolor\":\"#C8D4E3\",\"minorgridcolor\":\"#C8D4E3\",\"startlinecolor\":\"#2a3f5f\"},\"baxis\":{\"endlinecolor\":\"#2a3f5f\",\"gridcolor\":\"#C8D4E3\",\"linecolor\":\"#C8D4E3\",\"minorgridcolor\":\"#C8D4E3\",\"startlinecolor\":\"#2a3f5f\"},\"type\":\"carpet\"}],\"choropleth\":[{\"colorbar\":{\"outlinewidth\":0,\"ticks\":\"\"},\"type\":\"choropleth\"}],\"contourcarpet\":[{\"colorbar\":{\"outlinewidth\":0,\"ticks\":\"\"},\"type\":\"contourcarpet\"}],\"contour\":[{\"colorbar\":{\"outlinewidth\":0,\"ticks\":\"\"},\"colorscale\":[[0.0,\"#0d0887\"],[0.1111111111111111,\"#46039f\"],[0.2222222222222222,\"#7201a8\"],[0.3333333333333333,\"#9c179e\"],[0.4444444444444444,\"#bd3786\"],[0.5555555555555556,\"#d8576b\"],[0.6666666666666666,\"#ed7953\"],[0.7777777777777778,\"#fb9f3a\"],[0.8888888888888888,\"#fdca26\"],[1.0,\"#f0f921\"]],\"type\":\"contour\"}],\"heatmapgl\":[{\"colorbar\":{\"outlinewidth\":0,\"ticks\":\"\"},\"colorscale\":[[0.0,\"#0d0887\"],[0.1111111111111111,\"#46039f\"],[0.2222222222222222,\"#7201a8\"],[0.3333333333333333,\"#9c179e\"],[0.4444444444444444,\"#bd3786\"],[0.5555555555555556,\"#d8576b\"],[0.6666666666666666,\"#ed7953\"],[0.7777777777777778,\"#fb9f3a\"],[0.8888888888888888,\"#fdca26\"],[1.0,\"#f0f921\"]],\"type\":\"heatmapgl\"}],\"heatmap\":[{\"colorbar\":{\"outlinewidth\":0,\"ticks\":\"\"},\"colorscale\":[[0.0,\"#0d0887\"],[0.1111111111111111,\"#46039f\"],[0.2222222222222222,\"#7201a8\"],[0.3333333333333333,\"#9c179e\"],[0.4444444444444444,\"#bd3786\"],[0.5555555555555556,\"#d8576b\"],[0.6666666666666666,\"#ed7953\"],[0.7777777777777778,\"#fb9f3a\"],[0.8888888888888888,\"#fdca26\"],[1.0,\"#f0f921\"]],\"type\":\"heatmap\"}],\"histogram2dcontour\":[{\"colorbar\":{\"outlinewidth\":0,\"ticks\":\"\"},\"colorscale\":[[0.0,\"#0d0887\"],[0.1111111111111111,\"#46039f\"],[0.2222222222222222,\"#7201a8\"],[0.3333333333333333,\"#9c179e\"],[0.4444444444444444,\"#bd3786\"],[0.5555555555555556,\"#d8576b\"],[0.6666666666666666,\"#ed7953\"],[0.7777777777777778,\"#fb9f3a\"],[0.8888888888888888,\"#fdca26\"],[1.0,\"#f0f921\"]],\"type\":\"histogram2dcontour\"}],\"histogram2d\":[{\"colorbar\":{\"outlinewidth\":0,\"ticks\":\"\"},\"colorscale\":[[0.0,\"#0d0887\"],[0.1111111111111111,\"#46039f\"],[0.2222222222222222,\"#7201a8\"],[0.3333333333333333,\"#9c179e\"],[0.4444444444444444,\"#bd3786\"],[0.5555555555555556,\"#d8576b\"],[0.6666666666666666,\"#ed7953\"],[0.7777777777777778,\"#fb9f3a\"],[0.8888888888888888,\"#fdca26\"],[1.0,\"#f0f921\"]],\"type\":\"histogram2d\"}],\"histogram\":[{\"marker\":{\"pattern\":{\"fillmode\":\"overlay\",\"size\":10,\"solidity\":0.2},\"line\":{\"width\":1}},\"type\":\"histogram\"}],\"mesh3d\":[{\"colorbar\":{\"outlinewidth\":0,\"ticks\":\"\"},\"type\":\"mesh3d\"}],\"parcoords\":[{\"line\":{\"colorbar\":{\"outlinewidth\":0,\"ticks\":\"\"}},\"type\":\"parcoords\"}],\"pie\":[{\"automargin\":true,\"type\":\"pie\"}],\"scatter3d\":[{\"line\":{\"colorbar\":{\"outlinewidth\":0,\"ticks\":\"\"}},\"marker\":{\"colorbar\":{\"outlinewidth\":0,\"ticks\":\"\"},\"opacity\":0.8},\"type\":\"scatter3d\"}],\"scattercarpet\":[{\"marker\":{\"colorbar\":{\"outlinewidth\":0,\"ticks\":\"\"}},\"type\":\"scattercarpet\"}],\"scattergeo\":[{\"marker\":{\"colorbar\":{\"outlinewidth\":0,\"ticks\":\"\"}},\"type\":\"scattergeo\"}],\"scattergl\":[{\"marker\":{\"colorbar\":{\"outlinewidth\":0,\"ticks\":\"\"}},\"type\":\"scattergl\"}],\"scattermapbox\":[{\"marker\":{\"colorbar\":{\"outlinewidth\":0,\"ticks\":\"\"}},\"type\":\"scattermapbox\"}],\"scatterpolargl\":[{\"marker\":{\"colorbar\":{\"outlinewidth\":0,\"ticks\":\"\"}},\"type\":\"scatterpolargl\"}],\"scatterpolar\":[{\"marker\":{\"colorbar\":{\"outlinewidth\":0,\"ticks\":\"\"}},\"type\":\"scatterpolar\"}],\"scatter\":[{\"fillpattern\":{\"fillmode\":\"overlay\",\"size\":10,\"solidity\":0.2},\"type\":\"scatter\",\"marker\":{\"opacity\":0.8}}],\"scatterternary\":[{\"marker\":{\"colorbar\":{\"outlinewidth\":0,\"ticks\":\"\"}},\"type\":\"scatterternary\"}],\"surface\":[{\"colorbar\":{\"outlinewidth\":0,\"ticks\":\"\"},\"colorscale\":[[0.0,\"#0d0887\"],[0.1111111111111111,\"#46039f\"],[0.2222222222222222,\"#7201a8\"],[0.3333333333333333,\"#9c179e\"],[0.4444444444444444,\"#bd3786\"],[0.5555555555555556,\"#d8576b\"],[0.6666666666666666,\"#ed7953\"],[0.7777777777777778,\"#fb9f3a\"],[0.8888888888888888,\"#fdca26\"],[1.0,\"#f0f921\"]],\"type\":\"surface\"}],\"table\":[{\"cells\":{\"fill\":{\"color\":\"#EBF0F8\"},\"line\":{\"color\":\"white\"}},\"header\":{\"fill\":{\"color\":\"#C8D4E3\"},\"line\":{\"color\":\"white\"}},\"type\":\"table\"}],\"box\":[{\"boxpoints\":\"outliers\",\"notched\":false,\"type\":\"box\"}]},\"layout\":{\"annotationdefaults\":{\"arrowcolor\":\"#2a3f5f\",\"arrowhead\":0,\"arrowwidth\":1},\"autotypenumbers\":\"strict\",\"coloraxis\":{\"colorbar\":{\"outlinewidth\":0,\"ticks\":\"\"}},\"colorscale\":{\"diverging\":[[0,\"#8e0152\"],[0.1,\"#c51b7d\"],[0.2,\"#de77ae\"],[0.3,\"#f1b6da\"],[0.4,\"#fde0ef\"],[0.5,\"#f7f7f7\"],[0.6,\"#e6f5d0\"],[0.7,\"#b8e186\"],[0.8,\"#7fbc41\"],[0.9,\"#4d9221\"],[1,\"#276419\"]],\"sequential\":[[0.0,\"#0d0887\"],[0.1111111111111111,\"#46039f\"],[0.2222222222222222,\"#7201a8\"],[0.3333333333333333,\"#9c179e\"],[0.4444444444444444,\"#bd3786\"],[0.5555555555555556,\"#d8576b\"],[0.6666666666666666,\"#ed7953\"],[0.7777777777777778,\"#fb9f3a\"],[0.8888888888888888,\"#fdca26\"],[1.0,\"#f0f921\"]],\"sequentialminus\":[[0.0,\"#0d0887\"],[0.1111111111111111,\"#46039f\"],[0.2222222222222222,\"#7201a8\"],[0.3333333333333333,\"#9c179e\"],[0.4444444444444444,\"#bd3786\"],[0.5555555555555556,\"#d8576b\"],[0.6666666666666666,\"#ed7953\"],[0.7777777777777778,\"#fb9f3a\"],[0.8888888888888888,\"#fdca26\"],[1.0,\"#f0f921\"]]},\"colorway\":[\"#636efa\",\"#EF553B\",\"#00cc96\",\"#ab63fa\",\"#FFA15A\",\"#19d3f3\",\"#FF6692\",\"#B6E880\",\"#FF97FF\",\"#FECB52\"],\"font\":{\"color\":\"#2a3f5f\"},\"geo\":{\"bgcolor\":\"white\",\"lakecolor\":\"white\",\"landcolor\":\"white\",\"showlakes\":true,\"showland\":true,\"subunitcolor\":\"#C8D4E3\"},\"hoverlabel\":{\"align\":\"left\"},\"hovermode\":\"closest\",\"mapbox\":{\"style\":\"light\"},\"paper_bgcolor\":\"white\",\"plot_bgcolor\":\"white\",\"polar\":{\"angularaxis\":{\"gridcolor\":\"#EBF0F8\",\"linecolor\":\"#EBF0F8\",\"ticks\":\"\"},\"bgcolor\":\"white\",\"radialaxis\":{\"gridcolor\":\"#EBF0F8\",\"linecolor\":\"#EBF0F8\",\"ticks\":\"\"}},\"scene\":{\"xaxis\":{\"backgroundcolor\":\"white\",\"gridcolor\":\"#DFE8F3\",\"gridwidth\":2,\"linecolor\":\"#EBF0F8\",\"showbackground\":true,\"ticks\":\"\",\"zerolinecolor\":\"#EBF0F8\"},\"yaxis\":{\"backgroundcolor\":\"white\",\"gridcolor\":\"#DFE8F3\",\"gridwidth\":2,\"linecolor\":\"#EBF0F8\",\"showbackground\":true,\"ticks\":\"\",\"zerolinecolor\":\"#EBF0F8\"},\"zaxis\":{\"backgroundcolor\":\"white\",\"gridcolor\":\"#DFE8F3\",\"gridwidth\":2,\"linecolor\":\"#EBF0F8\",\"showbackground\":true,\"ticks\":\"\",\"zerolinecolor\":\"#EBF0F8\"},\"camera\":{\"eye\":{\"x\":1.5,\"y\":1.5,\"z\":0.1}}},\"shapedefaults\":{\"line\":{\"color\":\"#2a3f5f\"}},\"ternary\":{\"aaxis\":{\"gridcolor\":\"#DFE8F3\",\"linecolor\":\"#A2B1C6\",\"ticks\":\"\"},\"baxis\":{\"gridcolor\":\"#DFE8F3\",\"linecolor\":\"#A2B1C6\",\"ticks\":\"\"},\"bgcolor\":\"white\",\"caxis\":{\"gridcolor\":\"#DFE8F3\",\"linecolor\":\"#A2B1C6\",\"ticks\":\"\"}},\"title\":{\"x\":0.5},\"xaxis\":{\"automargin\":true,\"gridcolor\":\"#EBF0F8\",\"linecolor\":\"#EBF0F8\",\"ticks\":\"\",\"title\":{\"standoff\":15},\"zerolinecolor\":\"#EBF0F8\",\"zerolinewidth\":2,\"linewidth\":2,\"showline\":true},\"yaxis\":{\"automargin\":true,\"gridcolor\":\"#EBF0F8\",\"linecolor\":\"#EBF0F8\",\"ticks\":\"\",\"title\":{\"standoff\":15},\"zerolinecolor\":\"#EBF0F8\",\"zerolinewidth\":2,\"linewidth\":2,\"showline\":true},\"height\":400,\"margin\":{\"b\":2,\"l\":2,\"r\":2,\"t\":30}}},\"xaxis\":{\"anchor\":\"y\",\"domain\":[0.0,1.0],\"title\":{\"text\":\"age\"}},\"yaxis\":{\"anchor\":\"x\",\"domain\":[0.0,1.0],\"title\":{\"text\":\"core temperature\"}},\"legend\":{\"tracegroupgap\":0},\"title\":{\"text\":\"core temperature as a function of age\"}},                        {\"responsive\": true}                    ).then(function(){\n",
              "                            \n",
              "var gd = document.getElementById('b0cdd580-ae14-4802-994f-dfff28e1ce9a');\n",
              "var x = new MutationObserver(function (mutations, observer) {{\n",
              "        var display = window.getComputedStyle(gd).display;\n",
              "        if (!display || display === 'none') {{\n",
              "            console.log([gd, 'removed!']);\n",
              "            Plotly.purge(gd);\n",
              "            observer.disconnect();\n",
              "        }}\n",
              "}});\n",
              "\n",
              "// Listen for the removal of the full notebook cells\n",
              "var notebookContainer = gd.closest('#notebook-container');\n",
              "if (notebookContainer) {{\n",
              "    x.observe(notebookContainer, {childList: true});\n",
              "}}\n",
              "\n",
              "// Listen for the clearing of the current output cell\n",
              "var outputEl = gd.closest('.output');\n",
              "if (outputEl) {{\n",
              "    x.observe(outputEl, {childList: true});\n",
              "}}\n",
              "\n",
              "                        })                };                            </script>        </div>\n",
              "</body>\n",
              "</html>"
            ]
          },
          "metadata": {}
        }
      ]
    },
    {
      "cell_type": "markdown",
      "source": [
        "\n",
        "Parece que los perros mayores tienden a tener temperaturas más altas que los perros más jóvenes. Sin embargo, la relación es bastante \"ruidosa\": muchos perros de la misma edad tienen temperaturas bastante diferentes."
      ],
      "metadata": {
        "id": "R5MDFGj5WVXG"
      }
    },
    {
      "cell_type": "markdown",
      "source": [
        "### <font color='B8E139'><b>Regresión lineal simple</b></font>\n",
        "\n",
        "Examinemos formalmente la relación entre nuestras etiquetas y características ajustando una línea (modelo de regresión lineal simple) al conjunto de datos."
      ],
      "metadata": {
        "id": "FwU8dnhxN9ph"
      }
    },
    {
      "cell_type": "code",
      "source": [
        "import statsmodels.formula.api as smf\n",
        "import graphing # custom graphing code. See our GitHub repo for details\n",
        "\n",
        "# First, we define our formula using a special syntax\n",
        "# This says that core temperature is explained by age\n",
        "formula = \"core_temperature ~ age\"\n",
        "\n",
        "# Perform linear regression. This method takes care of\n",
        "# the entire fitting procedure for us.\n",
        "model = smf.ols(formula = formula, data = dataset).fit()\n",
        "\n",
        "# Show a graph of the result\n",
        "graphing.scatter_2D(dataset,    label_x=\"age\", \n",
        "                                label_y=\"core_temperature\",\n",
        "                                trendline=lambda x: model.params[1] * x + model.params[0]\n",
        "                                )"
      ],
      "metadata": {
        "id": "bEpYYMDqWpnd",
        "colab": {
          "base_uri": "https://localhost:8080/",
          "height": 417
        },
        "outputId": "8d184947-cfbe-4b94-bdd1-0e8e3fb272bb"
      },
      "execution_count": 4,
      "outputs": [
        {
          "output_type": "display_data",
          "data": {
            "text/html": [
              "<html>\n",
              "<head><meta charset=\"utf-8\" /></head>\n",
              "<body>\n",
              "    <div>            <script src=\"https://cdnjs.cloudflare.com/ajax/libs/mathjax/2.7.5/MathJax.js?config=TeX-AMS-MML_SVG\"></script><script type=\"text/javascript\">if (window.MathJax && window.MathJax.Hub && window.MathJax.Hub.Config) {window.MathJax.Hub.Config({SVG: {font: \"STIX-Web\"}});}</script>                <script type=\"text/javascript\">window.PlotlyConfig = {MathJaxConfig: 'local'};</script>\n",
              "        <script src=\"https://cdn.plot.ly/plotly-2.18.2.min.js\"></script>                <div id=\"721b162b-5173-442d-b011-f2efd7aa817a\" class=\"plotly-graph-div\" style=\"height:400px; width:100%;\"></div>            <script type=\"text/javascript\">                                    window.PLOTLYENV=window.PLOTLYENV || {};                                    if (document.getElementById(\"721b162b-5173-442d-b011-f2efd7aa817a\")) {                    Plotly.newPlot(                        \"721b162b-5173-442d-b011-f2efd7aa817a\",                        [{\"hovertemplate\":\"age=%{x}<br>core temperature=%{y}<extra></extra>\",\"legendgroup\":\"\",\"marker\":{\"color\":\"#636efa\",\"symbol\":\"circle\",\"size\":17},\"mode\":\"markers\",\"name\":\"\",\"orientation\":\"v\",\"showlegend\":false,\"x\":[6.9,5.4,5.4,4.8,4.8,7.8,2.7,5.7,1.5,1.8,4.2,4.5,1.5,5.1,4.8,5.1,3.6,4.2,2.7,8.7,0.9,6.3,1.2,2.7,6.0,6.0,0.6,3.9,6.0,5.7,6.9,5.1,2.1,3.6,6.3,2.4,8.4,7.5,5.7,5.7,2.7,4.2,6.9,3.0,1.8,2.4,6.3,0.6,1.8,4.8,8.4,8.1,6.3,8.7,4.5,4.5,7.5,1.2,5.7,0.6,6.9,8.1,0.6,1.2,6.6,8.1,2.7,3.9,4.2,6.9,1.2,3.9,3.6,0.3,3.0,8.7,2.1,6.6,1.5,5.1,6.0,2.1,6.0,4.2,1.5,1.8,1.8,6.9,6.9,4.5,1.8,8.4,3.0,4.5,1.8,6.6,6.9,6.0],\"xaxis\":\"x\",\"y\":[38.42316895,39.01599822,39.14834088,39.06004863,38.65543905,38.6092188,39.47390806,38.81521612,37.77845286,39.17685034,39.52090819,38.57896943,38.28013391,38.40158039,38.65157641,39.61720308,37.72843549,39.36694049,37.98848685,39.93405104,37.60559023,38.83468198,37.39892664,38.98633063,39.72456882,38.09695504,37.59597881,39.49731323,38.50187636,38.27036031,38.69964224,39.08411118,38.29400364,38.39872285,39.29951536,38.37598649,38.46968433,39.58561173,38.12682317,39.80156649,37.92682179,39.67264697,38.21409556,38.93217418,37.80121676,37.52097889,39.34942824,38.9163822,38.72595498,38.35421436,40.17337876,39.48214424,39.9557292,39.02529641,39.70565695,37.87210056,38.92730588,38.75694066,38.98157028,39.07020183,39.31023381,40.26487847,39.19531025,37.46606804,38.61929591,39.74308443,37.9590829,38.52387016,39.58821189,39.48780846,37.32113362,38.30311301,39.32598796,38.18373964,37.78518905,38.97361387,37.97719515,38.92654301,37.98922316,39.87010492,38.51344083,39.14710639,38.61129304,38.95232638,37.46812464,38.24131363,38.7661591,39.87233432,38.87492299,39.09337261,39.00124171,39.25963687,38.6808734,37.93994229,38.79042609,39.48996228,38.57574159,39.76644658],\"yaxis\":\"y\",\"type\":\"scatter\"}],                        {\"template\":{\"data\":{\"barpolar\":[{\"marker\":{\"line\":{\"color\":\"white\",\"width\":0.5},\"pattern\":{\"fillmode\":\"overlay\",\"size\":10,\"solidity\":0.2}},\"type\":\"barpolar\"}],\"bar\":[{\"error_x\":{\"color\":\"#2a3f5f\"},\"error_y\":{\"color\":\"#2a3f5f\"},\"marker\":{\"line\":{\"color\":\"white\",\"width\":0.5},\"pattern\":{\"fillmode\":\"overlay\",\"size\":10,\"solidity\":0.2}},\"type\":\"bar\"}],\"carpet\":[{\"aaxis\":{\"endlinecolor\":\"#2a3f5f\",\"gridcolor\":\"#C8D4E3\",\"linecolor\":\"#C8D4E3\",\"minorgridcolor\":\"#C8D4E3\",\"startlinecolor\":\"#2a3f5f\"},\"baxis\":{\"endlinecolor\":\"#2a3f5f\",\"gridcolor\":\"#C8D4E3\",\"linecolor\":\"#C8D4E3\",\"minorgridcolor\":\"#C8D4E3\",\"startlinecolor\":\"#2a3f5f\"},\"type\":\"carpet\"}],\"choropleth\":[{\"colorbar\":{\"outlinewidth\":0,\"ticks\":\"\"},\"type\":\"choropleth\"}],\"contourcarpet\":[{\"colorbar\":{\"outlinewidth\":0,\"ticks\":\"\"},\"type\":\"contourcarpet\"}],\"contour\":[{\"colorbar\":{\"outlinewidth\":0,\"ticks\":\"\"},\"colorscale\":[[0.0,\"#0d0887\"],[0.1111111111111111,\"#46039f\"],[0.2222222222222222,\"#7201a8\"],[0.3333333333333333,\"#9c179e\"],[0.4444444444444444,\"#bd3786\"],[0.5555555555555556,\"#d8576b\"],[0.6666666666666666,\"#ed7953\"],[0.7777777777777778,\"#fb9f3a\"],[0.8888888888888888,\"#fdca26\"],[1.0,\"#f0f921\"]],\"type\":\"contour\"}],\"heatmapgl\":[{\"colorbar\":{\"outlinewidth\":0,\"ticks\":\"\"},\"colorscale\":[[0.0,\"#0d0887\"],[0.1111111111111111,\"#46039f\"],[0.2222222222222222,\"#7201a8\"],[0.3333333333333333,\"#9c179e\"],[0.4444444444444444,\"#bd3786\"],[0.5555555555555556,\"#d8576b\"],[0.6666666666666666,\"#ed7953\"],[0.7777777777777778,\"#fb9f3a\"],[0.8888888888888888,\"#fdca26\"],[1.0,\"#f0f921\"]],\"type\":\"heatmapgl\"}],\"heatmap\":[{\"colorbar\":{\"outlinewidth\":0,\"ticks\":\"\"},\"colorscale\":[[0.0,\"#0d0887\"],[0.1111111111111111,\"#46039f\"],[0.2222222222222222,\"#7201a8\"],[0.3333333333333333,\"#9c179e\"],[0.4444444444444444,\"#bd3786\"],[0.5555555555555556,\"#d8576b\"],[0.6666666666666666,\"#ed7953\"],[0.7777777777777778,\"#fb9f3a\"],[0.8888888888888888,\"#fdca26\"],[1.0,\"#f0f921\"]],\"type\":\"heatmap\"}],\"histogram2dcontour\":[{\"colorbar\":{\"outlinewidth\":0,\"ticks\":\"\"},\"colorscale\":[[0.0,\"#0d0887\"],[0.1111111111111111,\"#46039f\"],[0.2222222222222222,\"#7201a8\"],[0.3333333333333333,\"#9c179e\"],[0.4444444444444444,\"#bd3786\"],[0.5555555555555556,\"#d8576b\"],[0.6666666666666666,\"#ed7953\"],[0.7777777777777778,\"#fb9f3a\"],[0.8888888888888888,\"#fdca26\"],[1.0,\"#f0f921\"]],\"type\":\"histogram2dcontour\"}],\"histogram2d\":[{\"colorbar\":{\"outlinewidth\":0,\"ticks\":\"\"},\"colorscale\":[[0.0,\"#0d0887\"],[0.1111111111111111,\"#46039f\"],[0.2222222222222222,\"#7201a8\"],[0.3333333333333333,\"#9c179e\"],[0.4444444444444444,\"#bd3786\"],[0.5555555555555556,\"#d8576b\"],[0.6666666666666666,\"#ed7953\"],[0.7777777777777778,\"#fb9f3a\"],[0.8888888888888888,\"#fdca26\"],[1.0,\"#f0f921\"]],\"type\":\"histogram2d\"}],\"histogram\":[{\"marker\":{\"pattern\":{\"fillmode\":\"overlay\",\"size\":10,\"solidity\":0.2},\"line\":{\"width\":1}},\"type\":\"histogram\"}],\"mesh3d\":[{\"colorbar\":{\"outlinewidth\":0,\"ticks\":\"\"},\"type\":\"mesh3d\"}],\"parcoords\":[{\"line\":{\"colorbar\":{\"outlinewidth\":0,\"ticks\":\"\"}},\"type\":\"parcoords\"}],\"pie\":[{\"automargin\":true,\"type\":\"pie\"}],\"scatter3d\":[{\"line\":{\"colorbar\":{\"outlinewidth\":0,\"ticks\":\"\"}},\"marker\":{\"colorbar\":{\"outlinewidth\":0,\"ticks\":\"\"},\"opacity\":0.8},\"type\":\"scatter3d\"}],\"scattercarpet\":[{\"marker\":{\"colorbar\":{\"outlinewidth\":0,\"ticks\":\"\"}},\"type\":\"scattercarpet\"}],\"scattergeo\":[{\"marker\":{\"colorbar\":{\"outlinewidth\":0,\"ticks\":\"\"}},\"type\":\"scattergeo\"}],\"scattergl\":[{\"marker\":{\"colorbar\":{\"outlinewidth\":0,\"ticks\":\"\"}},\"type\":\"scattergl\"}],\"scattermapbox\":[{\"marker\":{\"colorbar\":{\"outlinewidth\":0,\"ticks\":\"\"}},\"type\":\"scattermapbox\"}],\"scatterpolargl\":[{\"marker\":{\"colorbar\":{\"outlinewidth\":0,\"ticks\":\"\"}},\"type\":\"scatterpolargl\"}],\"scatterpolar\":[{\"marker\":{\"colorbar\":{\"outlinewidth\":0,\"ticks\":\"\"}},\"type\":\"scatterpolar\"}],\"scatter\":[{\"fillpattern\":{\"fillmode\":\"overlay\",\"size\":10,\"solidity\":0.2},\"type\":\"scatter\",\"marker\":{\"opacity\":0.8}}],\"scatterternary\":[{\"marker\":{\"colorbar\":{\"outlinewidth\":0,\"ticks\":\"\"}},\"type\":\"scatterternary\"}],\"surface\":[{\"colorbar\":{\"outlinewidth\":0,\"ticks\":\"\"},\"colorscale\":[[0.0,\"#0d0887\"],[0.1111111111111111,\"#46039f\"],[0.2222222222222222,\"#7201a8\"],[0.3333333333333333,\"#9c179e\"],[0.4444444444444444,\"#bd3786\"],[0.5555555555555556,\"#d8576b\"],[0.6666666666666666,\"#ed7953\"],[0.7777777777777778,\"#fb9f3a\"],[0.8888888888888888,\"#fdca26\"],[1.0,\"#f0f921\"]],\"type\":\"surface\"}],\"table\":[{\"cells\":{\"fill\":{\"color\":\"#EBF0F8\"},\"line\":{\"color\":\"white\"}},\"header\":{\"fill\":{\"color\":\"#C8D4E3\"},\"line\":{\"color\":\"white\"}},\"type\":\"table\"}],\"box\":[{\"boxpoints\":\"outliers\",\"notched\":false,\"type\":\"box\"}]},\"layout\":{\"annotationdefaults\":{\"arrowcolor\":\"#2a3f5f\",\"arrowhead\":0,\"arrowwidth\":1},\"autotypenumbers\":\"strict\",\"coloraxis\":{\"colorbar\":{\"outlinewidth\":0,\"ticks\":\"\"}},\"colorscale\":{\"diverging\":[[0,\"#8e0152\"],[0.1,\"#c51b7d\"],[0.2,\"#de77ae\"],[0.3,\"#f1b6da\"],[0.4,\"#fde0ef\"],[0.5,\"#f7f7f7\"],[0.6,\"#e6f5d0\"],[0.7,\"#b8e186\"],[0.8,\"#7fbc41\"],[0.9,\"#4d9221\"],[1,\"#276419\"]],\"sequential\":[[0.0,\"#0d0887\"],[0.1111111111111111,\"#46039f\"],[0.2222222222222222,\"#7201a8\"],[0.3333333333333333,\"#9c179e\"],[0.4444444444444444,\"#bd3786\"],[0.5555555555555556,\"#d8576b\"],[0.6666666666666666,\"#ed7953\"],[0.7777777777777778,\"#fb9f3a\"],[0.8888888888888888,\"#fdca26\"],[1.0,\"#f0f921\"]],\"sequentialminus\":[[0.0,\"#0d0887\"],[0.1111111111111111,\"#46039f\"],[0.2222222222222222,\"#7201a8\"],[0.3333333333333333,\"#9c179e\"],[0.4444444444444444,\"#bd3786\"],[0.5555555555555556,\"#d8576b\"],[0.6666666666666666,\"#ed7953\"],[0.7777777777777778,\"#fb9f3a\"],[0.8888888888888888,\"#fdca26\"],[1.0,\"#f0f921\"]]},\"colorway\":[\"#636efa\",\"#EF553B\",\"#00cc96\",\"#ab63fa\",\"#FFA15A\",\"#19d3f3\",\"#FF6692\",\"#B6E880\",\"#FF97FF\",\"#FECB52\"],\"font\":{\"color\":\"#2a3f5f\"},\"geo\":{\"bgcolor\":\"white\",\"lakecolor\":\"white\",\"landcolor\":\"white\",\"showlakes\":true,\"showland\":true,\"subunitcolor\":\"#C8D4E3\"},\"hoverlabel\":{\"align\":\"left\"},\"hovermode\":\"closest\",\"mapbox\":{\"style\":\"light\"},\"paper_bgcolor\":\"white\",\"plot_bgcolor\":\"white\",\"polar\":{\"angularaxis\":{\"gridcolor\":\"#EBF0F8\",\"linecolor\":\"#EBF0F8\",\"ticks\":\"\"},\"bgcolor\":\"white\",\"radialaxis\":{\"gridcolor\":\"#EBF0F8\",\"linecolor\":\"#EBF0F8\",\"ticks\":\"\"}},\"scene\":{\"xaxis\":{\"backgroundcolor\":\"white\",\"gridcolor\":\"#DFE8F3\",\"gridwidth\":2,\"linecolor\":\"#EBF0F8\",\"showbackground\":true,\"ticks\":\"\",\"zerolinecolor\":\"#EBF0F8\"},\"yaxis\":{\"backgroundcolor\":\"white\",\"gridcolor\":\"#DFE8F3\",\"gridwidth\":2,\"linecolor\":\"#EBF0F8\",\"showbackground\":true,\"ticks\":\"\",\"zerolinecolor\":\"#EBF0F8\"},\"zaxis\":{\"backgroundcolor\":\"white\",\"gridcolor\":\"#DFE8F3\",\"gridwidth\":2,\"linecolor\":\"#EBF0F8\",\"showbackground\":true,\"ticks\":\"\",\"zerolinecolor\":\"#EBF0F8\"},\"camera\":{\"eye\":{\"x\":1.5,\"y\":1.5,\"z\":0.1}}},\"shapedefaults\":{\"line\":{\"color\":\"#2a3f5f\"}},\"ternary\":{\"aaxis\":{\"gridcolor\":\"#DFE8F3\",\"linecolor\":\"#A2B1C6\",\"ticks\":\"\"},\"baxis\":{\"gridcolor\":\"#DFE8F3\",\"linecolor\":\"#A2B1C6\",\"ticks\":\"\"},\"bgcolor\":\"white\",\"caxis\":{\"gridcolor\":\"#DFE8F3\",\"linecolor\":\"#A2B1C6\",\"ticks\":\"\"}},\"title\":{\"x\":0.5},\"xaxis\":{\"automargin\":true,\"gridcolor\":\"#EBF0F8\",\"linecolor\":\"#EBF0F8\",\"ticks\":\"\",\"title\":{\"standoff\":15},\"zerolinecolor\":\"#EBF0F8\",\"zerolinewidth\":2,\"linewidth\":2,\"showline\":true},\"yaxis\":{\"automargin\":true,\"gridcolor\":\"#EBF0F8\",\"linecolor\":\"#EBF0F8\",\"ticks\":\"\",\"title\":{\"standoff\":15},\"zerolinecolor\":\"#EBF0F8\",\"zerolinewidth\":2,\"linewidth\":2,\"showline\":true},\"height\":400,\"margin\":{\"b\":2,\"l\":2,\"r\":2,\"t\":30}}},\"xaxis\":{\"anchor\":\"y\",\"domain\":[0.0,1.0],\"title\":{\"text\":\"age\"}},\"yaxis\":{\"anchor\":\"x\",\"domain\":[0.0,1.0],\"title\":{\"text\":\"core temperature\"}},\"legend\":{\"tracegroupgap\":0},\"shapes\":[{\"path\":\"M0.3 38.13386942215628 L 0.3422110552763819 38.14034204754019 L 0.38442211055276376 38.146814672924094 L 0.4266331658291457 38.153287298308 L 0.4688442211055276 38.15975992369191 L 0.5110552763819095 38.166232549075815 L 0.5532663316582913 38.17270517445972 L 0.5954773869346732 38.17917779984363 L 0.6376884422110551 38.185650425227536 L 0.679899497487437 38.19212305061144 L 0.722110552763819 38.19859567599535 L 0.7643216080402009 38.20506830137926 L 0.8065326633165828 38.21154092676316 L 0.8487437185929647 38.21801355214707 L 0.8909547738693466 38.22448617753098 L 0.9331658291457285 38.230958802914884 L 0.9753768844221105 38.23743142829879 L 1.0175879396984924 38.2439040536827 L 1.0597989949748743 38.250376679066605 L 1.1020100502512562 38.25684930445051 L 1.1442211055276381 38.26332192983442 L 1.1864321608040198 38.269794555218326 L 1.2286432160804017 38.27626718060223 L 1.2708542713567836 38.28273980598614 L 1.3130653266331656 38.289212431370046 L 1.3552763819095475 38.29568505675395 L 1.3974874371859294 38.30215768213786 L 1.4396984924623113 38.30863030752177 L 1.4819095477386932 38.315102932905674 L 1.5241206030150751 38.32157555828958 L 1.566331658291457 38.32804818367349 L 1.608542713567839 38.334520809057395 L 1.6507537688442209 38.3409934344413 L 1.6929648241206028 38.34746605982521 L 1.7351758793969847 38.353938685209116 L 1.7773869346733666 38.36041131059302 L 1.8195979899497485 38.36688393597693 L 1.8618090452261304 38.373356561360836 L 1.9040201005025124 38.37982918674474 L 1.9462311557788943 38.38630181212865 L 1.9884422110552762 38.39277443751256 L 2.0306532663316577 38.399247062896464 L 2.07286432160804 38.40571968828037 L 2.1150753768844215 38.41219231366428 L 2.1572864321608036 38.418664939048185 L 2.1994974874371853 38.42513756443209 L 2.2417085427135675 38.431610189816 L 2.283919597989949 38.438082815199905 L 2.326130653266331 38.44455544058381 L 2.368341708542713 38.45102806596772 L 2.4105527638190947 38.457500691351626 L 2.452763819095477 38.46397331673553 L 2.4949748743718585 38.47044594211944 L 2.5371859296482406 38.47691856750335 L 2.5793969849246223 38.483391192887254 L 2.6216080402010045 38.48986381827116 L 2.663819095477386 38.49633644365507 L 2.7060301507537683 38.502809069038975 L 2.74824120603015 38.50928169442288 L 2.790452261306532 38.51575431980679 L 2.832663316582914 38.522226945190695 L 2.874874371859296 38.5286995705746 L 2.9170854271356776 38.53517219595851 L 2.95929648241206 38.541644821342416 L 3.0015075376884415 38.54811744672632 L 3.043718592964823 38.55459007211023 L 3.0859296482412053 38.56106269749414 L 3.128140703517587 38.567535322878044 L 3.170351758793969 38.57400794826195 L 3.212562814070351 38.58048057364586 L 3.254773869346733 38.586953199029765 L 3.2969849246231147 38.59342582441367 L 3.339195979899497 38.59989844979758 L 3.3814070351758785 38.606371075181485 L 3.4236180904522606 38.61284370056539 L 3.4658291457286423 38.6193163259493 L 3.5080402010050244 38.625788951333206 L 3.550251256281406 38.63226157671711 L 3.5924623115577883 38.63873420210102 L 3.63467336683417 38.64520682748493 L 3.676884422110552 38.651679452868834 L 3.719095477386934 38.65815207825274 L 3.7613065326633155 38.66462470363665 L 3.8035175879396976 38.671097329020554 L 3.8457286432160793 38.67756995440446 L 3.8879396984924615 38.68404257978837 L 3.930150753768843 38.690515205172275 L 3.9723618090452253 38.69698783055618 L 4.014572864321607 38.70346045594009 L 4.056783919597989 38.709933081323996 L 4.098994974874371 38.7164057067079 L 4.141206030150753 38.72287833209181 L 4.183417085427135 38.72935095747572 L 4.225628140703517 38.735823582859624 L 4.2678391959798985 38.74229620824353 L 4.31005025125628 38.74876883362744 L 4.352261306532662 38.755241459011344 L 4.394472361809044 38.76171408439525 L 4.436683417085426 38.76818670977916 L 4.478894472361808 38.774659335163065 L 4.5211055276381895 38.78113196054697 L 4.563316582914572 38.78760458593088 L 4.605527638190954 38.794077211314786 L 4.6477386934673355 38.80054983669869 L 4.689949748743717 38.8070224620826 L 4.7321608040201 38.81349508746651 L 4.7743718592964814 38.81996771285041 L 4.816582914572863 38.82644033823432 L 4.858793969849245 38.83291296361823 L 4.901005025125627 38.839385589002134 L 4.943216080402009 38.84585821438604 L 4.985427135678391 38.85233083976995 L 5.0276381909547725 38.858803465153855 L 5.069849246231154 38.86527609053776 L 5.112060301507537 38.87174871592167 L 5.1542713567839185 38.878221341305576 L 5.1964824120603 38.88469396668948 L 5.238693467336682 38.89116659207339 L 5.280904522613064 38.8976392174573 L 5.323115577889446 38.9041118428412 L 5.365326633165828 38.91058446822511 L 5.4075376884422095 38.91705709360902 L 5.449748743718592 38.923529718992924 L 5.491959798994974 38.93000234437683 L 5.5341708542713555 38.93647496976074 L 5.576381909547737 38.942947595144645 L 5.61859296482412 38.94942022052855 L 5.660804020100501 38.95589284591246 L 5.703015075376883 38.962365471296366 L 5.745226130653265 38.96883809668027 L 5.7874371859296465 38.97531072206418 L 5.829648241206029 38.981783347448086 L 5.871859296482411 38.98825597283199 L 5.9140703517587925 38.9947285982159 L 5.956281407035174 39.00120122359981 L 5.998492462311557 39.007673848983714 L 6.040703517587938 39.01414647436762 L 6.08291457286432 39.02061909975153 L 6.125125628140702 39.027091725135435 L 6.167336683417084 39.03356435051934 L 6.209547738693466 39.04003697590325 L 6.251758793969848 39.046509601287156 L 6.2939698492462295 39.05298222667106 L 6.336180904522612 39.05945485205497 L 6.378391959798994 39.065927477438876 L 6.4206030150753755 39.07240010282278 L 6.462814070351757 39.07887272820669 L 6.505025125628139 39.0853453535906 L 6.547236180904521 39.091817978974504 L 6.589447236180903 39.09829060435841 L 6.631658291457285 39.10476322974232 L 6.6738693467336665 39.111235855126225 L 6.716080402010049 39.11770848051013 L 6.758291457286431 39.12418110589404 L 6.8005025125628125 39.130653731277945 L 6.842713567839194 39.13712635666185 L 6.884924623115577 39.14359898204576 L 6.927135678391958 39.150071607429666 L 6.96934673366834 39.15654423281357 L 7.011557788944722 39.16301685819748 L 7.053768844221104 39.16948948358139 L 7.095979899497486 39.175962108965294 L 7.138190954773868 39.1824347343492 L 7.1804020100502495 39.18890735973311 L 7.222613065326631 39.195379985117015 L 7.264824120603014 39.20185261050092 L 7.307035175879395 39.20832523588483 L 7.349246231155777 39.214797861268735 L 7.391457286432159 39.22127048665264 L 7.433668341708541 39.22774311203655 L 7.475879396984923 39.234215737420456 L 7.518090452261305 39.24068836280436 L 7.5603015075376865 39.24716098818827 L 7.602512562814069 39.25363361357218 L 7.644723618090451 39.260106238956084 L 7.6869346733668324 39.26657886433999 L 7.729145728643214 39.2730514897239 L 7.771356783919596 39.279524115107805 L 7.813567839195978 39.28599674049171 L 7.85577889447236 39.29246936587562 L 7.897989949748742 39.298941991259525 L 7.9402010050251235 39.30541461664343 L 7.982412060301506 39.31188724202734 L 8.024623115577889 39.318359867411246 L 8.06683417085427 39.32483249279515 L 8.109045226130652 39.33130511817906 L 8.151256281407035 39.33777774356297 L 8.193467336683415 39.344250368946874 L 8.235678391959798 39.35072299433078 L 8.277889447236179 39.35719561971469 L 8.320100502512561 39.363668245098594 L 8.362311557788944 39.3701408704825 L 8.404522613065325 39.37661349586641 L 8.446733668341707 39.383086121250315 L 8.48894472361809 39.38955874663422 L 8.53115577889447 39.39603137201813 L 8.573366834170853 39.402503997402036 L 8.615577889447236 39.40897662278594 L 8.657788944723617 39.41544924816985 L 8.7 39.42192187355376\",\"type\":\"path\",\"line\":{\"color\":\"rgb(228,26,28)\"}}]},                        {\"responsive\": true}                    ).then(function(){\n",
              "                            \n",
              "var gd = document.getElementById('721b162b-5173-442d-b011-f2efd7aa817a');\n",
              "var x = new MutationObserver(function (mutations, observer) {{\n",
              "        var display = window.getComputedStyle(gd).display;\n",
              "        if (!display || display === 'none') {{\n",
              "            console.log([gd, 'removed!']);\n",
              "            Plotly.purge(gd);\n",
              "            observer.disconnect();\n",
              "        }}\n",
              "}});\n",
              "\n",
              "// Listen for the removal of the full notebook cells\n",
              "var notebookContainer = gd.closest('#notebook-container');\n",
              "if (notebookContainer) {{\n",
              "    x.observe(notebookContainer, {childList: true});\n",
              "}}\n",
              "\n",
              "// Listen for the clearing of the current output cell\n",
              "var outputEl = gd.closest('.output');\n",
              "if (outputEl) {{\n",
              "    x.observe(outputEl, {childList: true});\n",
              "}}\n",
              "\n",
              "                        })                };                            </script>        </div>\n",
              "</body>\n",
              "</html>"
            ]
          },
          "metadata": {}
        }
      ]
    },
    {
      "cell_type": "markdown",
      "source": [
        "La línea parece ajustarse bastante bien a los datos, lo que valida nuestra hipótesis de que existe una correlación positiva entre la edad de un perro y su temperatura central."
      ],
      "metadata": {
        "id": "N8I8LSoZWpy1"
      }
    },
    {
      "cell_type": "markdown",
      "source": [
        "### <font color='B8E139'><b>Interpretando nuestro modelo</b></font>\n",
        "\n",
        "Visualmente, la regresión lineal simple es fácil de entender. Sin embargo, recapitulemos sobre lo que significan los parámetros."
      ],
      "metadata": {
        "id": "8VoIrORDN-Hb"
      }
    },
    {
      "cell_type": "code",
      "source": [
        "print(\"Intercept:\", model.params[0], \"Slope:\", model.params[1])"
      ],
      "metadata": {
        "id": "jj5ARYACWz99",
        "colab": {
          "base_uri": "https://localhost:8080/"
        },
        "outputId": "87d44384-879e-4bf3-b928-7e661df92264"
      },
      "execution_count": 5,
      "outputs": [
        {
          "output_type": "stream",
          "name": "stdout",
          "text": [
            "Intercept: 38.087867548892085 Slope: 0.15333957754731864\n"
          ]
        }
      ]
    },
    {
      "cell_type": "markdown",
      "source": [
        "\n",
        "Recuerde que los modelos de regresión lineal simple se explican por la intersección de la línea y la pendiente de la línea.\n",
        "\n",
        "Aquí, nuestra intercepción es de 38 grados centígrados. Esto significa que cuando agees 0, el modelo predecirá 38 grados.\n",
        "\n",
        "Nuestra pendiente es de 0,15 grados centígrados, lo que significa que por cada año de edad, el modelo pronosticará temperaturas 0,15 grados más altas.\n",
        "\n",
        "En el cuadro a continuación, intente cambiar la edad a algunos valores diferentes para ver predicciones diferentes y compárelas con la línea en el gráfico anterior."
      ],
      "metadata": {
        "id": "HIWopTGVW04w"
      }
    },
    {
      "cell_type": "code",
      "source": [
        "def estimate_temperature(age):\n",
        "    # Model param[0] is the intercepts and param[1] is the slope\n",
        "    return age * model.params[1] + model.params[0]\n",
        "\n",
        "print(\"Estimate temperature from age\")\n",
        "print(estimate_temperature(age=0))"
      ],
      "metadata": {
        "id": "r4C0vZ3FW4OG",
        "colab": {
          "base_uri": "https://localhost:8080/"
        },
        "outputId": "e9fa5d57-a9c6-4163-f313-cc44db2d53e8"
      },
      "execution_count": 6,
      "outputs": [
        {
          "output_type": "stream",
          "name": "stdout",
          "text": [
            "Estimate temperature from age\n",
            "38.087867548892085\n"
          ]
        }
      ]
    },
    {
      "cell_type": "markdown",
      "source": [
        "\n",
        "**Resumen**\n",
        "\n",
        "Cubrimos los siguientes conceptos en este ejercicio:\n",
        "\n",
        "- Visualización rápida de un conjunto de datos\n",
        "- Evaluación cualitativa de una relación lineal\n",
        "- Cree un modelo de regresión lineal simple\n",
        "- Comprender los parámetros de un modelo de regresión lineal simple"
      ],
      "metadata": {
        "id": "sZh3gq12WWnG"
      }
    },
    {
      "cell_type": "markdown",
      "source": [],
      "metadata": {
        "id": "AX-ou4y-W_1V"
      }
    }
  ]
}