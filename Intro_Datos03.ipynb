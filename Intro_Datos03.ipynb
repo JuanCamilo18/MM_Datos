{
  "nbformat": 4,
  "nbformat_minor": 0,
  "metadata": {
    "colab": {
      "provenance": [],
      "authorship_tag": "ABX9TyMzGkMMX2wT6hFRwqlgmin9"
    },
    "kernelspec": {
      "name": "python3",
      "display_name": "Python 3"
    },
    "language_info": {
      "name": "python"
    }
  },
  "cells": [
    {
      "cell_type": "markdown",
      "source": [
        "<font color=\"Lime\"><h1 align ='center'><b><u>Vectores one-hot</u></b></h1></font>"
      ],
      "metadata": {
        "id": "HozTj8PeYKDy"
      }
    },
    {
      "cell_type": "markdown",
      "source": [
        "Hasta ahora, hemos abordado la codificación de datos continuos (números de punto flotante), datos ordinales (normalmente enteros) y datos categóricos binarios, como supervivientes/fallecidos, hombres/mujeres.\n",
        "\n",
        "Aquí veremos cómo codificar y los datos categóricos que tienen más de dos clases. También exploraremos cómo algunas decisiones que tomamos para mejorar nuestros modelos pueden en realidad afectar a su rendimiento."
      ],
      "metadata": {
        "id": "34ldhUwbYc1V"
      }
    },
    {
      "cell_type": "markdown",
      "source": [
        "## <font color='B8E139'><b>Los datos categóricos no son numéricos</b></font>\n",
        "\n",
        "Los datos categóricos no son números de la misma manera que otros tipos de datos. Con los datos ordinales o continuos (numéricos), los valores más altos implican un aumento de la cantidad. Por ejemplo, en el Titanic, un precio de billete de 30 £ es más caro que el de un billete de 12 £.\n",
        "\n",
        "Intentar codificar como números las características categóricas con más de dos clases genera problemas, ya que los datos categóricos no tienen un orden lógico.\n",
        "\n",
        "Por ejemplo, Puerto de embarque tiene tres valores: C (Cherbourg), Q (Queenstown) y S (Southampton). No hay ninguna forma correcta de reemplazar estos símbolos por números, ya que hacerlo implicaría que uno de estos puertos es \"menor que\" el resto, mientras que otro sería \"mayor que\" los otros. No tiene sentido.\n",
        "\n",
        "Como ejemplo de este problema, pasaremos a otra cosa y modelaremos la relación entre el Puerto de embarque y la Clase de billete, tratando el Puerto de embarque como un número. En primer lugar, se establece C < S < Q:"
      ],
      "metadata": {
        "id": "3SqjX4QFYRfm"
      }
    },
    {
      "cell_type": "markdown",
      "source": [
        "<p align =\"center\">\n",
        "<img src = \"https://raw.githubusercontent.com/JuanCamilo18/MM_Datos/main/imags/IDatos/Tdatos01.JPG\">\n",
        "</p>"
      ],
      "metadata": {
        "id": "RaRnSFliZHuA"
      }
    },
    {
      "cell_type": "markdown",
      "source": [
        "En el trazado anterior, la línea predice un valor Pclass de ~3 para el Puerto Q.\n",
        "\n",
        "Ahora, al establecer S < C< Q, se obtienen una predicción y una línea de tendencia completamente distintas:"
      ],
      "metadata": {
        "id": "Kp4_kJovbhGH"
      }
    },
    {
      "cell_type": "markdown",
      "source": [
        "<div>\n",
        "<p align =\"center\">\n",
        "<img src = \"https://raw.githubusercontent.com/JuanCamilo18/MM_Datos/main/imags/IDatos/Tdatos01.JPG\">\n",
        "</p>\n",
        "</div>"
      ],
      "metadata": {
        "id": "msbgC4QFbaGi"
      }
    },
    {
      "cell_type": "markdown",
      "source": [
        "Ninguna de estas líneas de tendencia es correcta; no tiene sentido tratar las categorías como características continuas. Por lo tanto, ¿cómo se trabaja con las categorías?"
      ],
      "metadata": {
        "id": "f7-8sww2bmjp"
      }
    },
    {
      "cell_type": "markdown",
      "source": [
        "## <font color='B8E139'><b>Codificación one-hot</b></font>\n",
        "\n",
        "La codificación one-hot es una forma de codificar datos categóricos que evita el problema anterior. Cada categoría disponible obtiene su columna propia y una fila determinada únicamente contiene un solo 1 en la categoría a la que pertenece.\n",
        "\n",
        "Por ejemplo, nuestro puerto se codificaría como tres columnas: una para Cherbourg, otra para Queenstown y otra para Southampton (el orden no es importante). Una persona que embarcara en Cherbourg tendría un 1 en la columna Port_Cherbourg, de esta forma:"
      ],
      "metadata": {
        "id": "P-r4_U_eYR89"
      }
    },
    {
      "cell_type": "markdown",
      "source": [
        "<div align=\"center\">\n",
        "\n",
        "|Port_Cherbourg\t| Port_Queenstown\t| Port_Southampton|\n",
        "|:-----:|:-----:|:-----:|\n",
        "| 1\t| 0\t| 0|\n",
        "\n",
        "</div>"
      ],
      "metadata": {
        "id": "z3JubkxAcDjZ"
      }
    },
    {
      "cell_type": "markdown",
      "source": [
        "Una persona que embarcara en Queenstown tendría un 1 en la segunda columna:"
      ],
      "metadata": {
        "id": "4gboiIfwco3N"
      }
    },
    {
      "cell_type": "markdown",
      "source": [
        "<div align=\"center\">\n",
        "\n",
        "|Port_Cherbourg\t| Port_Queenstown\t| Port_Southampton|\n",
        "|:-----:|:-----:|:-----:|\n",
        "| 0\t| 1\t| 0|\n",
        "\n",
        "</div>"
      ],
      "metadata": {
        "id": "WSlEsxj0cqqm"
      }
    },
    {
      "cell_type": "markdown",
      "source": [
        "Una persona que embarcara en Southampton tendría un 1 en la tercera columna:"
      ],
      "metadata": {
        "id": "CI8EC2D1cuC9"
      }
    },
    {
      "cell_type": "markdown",
      "source": [
        "<div align=\"center\">\n",
        "\n",
        "|Port_Cherbourg\t| Port_Queenstown\t| Port_Southampton|\n",
        "|:-----:|:-----:|:-----:|\n",
        "| 0\t| 0\t| 1|\n",
        "\n",
        "</div>"
      ],
      "metadata": {
        "id": "BPyKG85Wcq6w"
      }
    },
    {
      "cell_type": "markdown",
      "source": [
        "## <font color='B8E139'><b>Codificación one-hot, limpieza de datos y potencia estadística</b></font>\n",
        "\n",
        "Antes de usar la codificación one-hot, es importante comprender que su uso puede tener un impacto positivo o negativo en el rendimiento real de un modelo."
      ],
      "metadata": {
        "id": "WV4h2GC_YSFE"
      }
    },
    {
      "cell_type": "markdown",
      "source": [
        "### <font color='B8E139'><b>¿Qué es la potencia estadística?</b></font>\n",
        "\n",
        "La potencia estadística hace referencia a la capacidad de un modelo para identificar de forma confiable las relaciones reales entre las características y las etiquetas. Por ejemplo, un modelo con potencia podría informar de la relación entre el precio del billete y la tasa de supervivencia con un alto grado de certeza. Por el contrario, un modelo con una potencia estadística baja podría no encontrar esta relación o notificarla con un bajo grado de certeza.\n",
        "\n",
        "No entraremos en matemáticas, pero es importante tener en cuenta que determinadas opciones que tomamos pueden afectar a la potencia de nuestros modelos."
      ],
      "metadata": {
        "id": "Z00BYHg6YSQs"
      }
    },
    {
      "cell_type": "markdown",
      "source": [
        "### <font color='B8E139'><b>La eliminación de datos reduce la potencia estadística</b></font>\n",
        "\n",
        "Hemos hablado varias veces sobre cómo limpiar los datos mediante la eliminación de muestras que están incompletas. Un efecto colateral indeseado es que, al hacerlo, también se reduce la potencia estadística. Por ejemplo, supongamos que queremos predecir la supervivencia dados los datos siguientes:"
      ],
      "metadata": {
        "id": "SRwYiLJXYSZk"
      }
    },
    {
      "cell_type": "markdown",
      "source": [
        "<div align=\"center\">\n",
        "\n",
        "|Precio del billete\t| Supervivencia |\n",
        "|:-----:|:-----:|\n",
        "|4 £\t| 0|\n",
        "|8 £ |\t0|\n",
        "|10 £ |\t1|\n",
        "|25 £ |\t1|\n",
        "\n",
        "</div>"
      ],
      "metadata": {
        "id": "1JMgierBd0ze"
      }
    },
    {
      "cell_type": "markdown",
      "source": [
        "A partir de estos datos, podríamos suponer que los pasajeros con un billete de 15 £ sobrevivieron, porque todas las personas con billetes con un precio superior a 10 £ sobrevivieron. Sin embargo, si tuviéramos menos datos, esto sería más difícil de suponer:"
      ],
      "metadata": {
        "id": "l8TAR35keZFL"
      }
    },
    {
      "cell_type": "markdown",
      "source": [
        "<div align=\"center\">\n",
        "\n",
        "|Precio del billete\t| Supervivencia |\n",
        "|:-----:|:-----:|\n",
        "|4 £\t| 0|\n",
        "|8 £ |\t0|\n",
        "|25 £ |\t1|\n",
        "\n",
        "</div>"
      ],
      "metadata": {
        "id": "Al7ZHTuHeYbm"
      }
    },
    {
      "cell_type": "markdown",
      "source": [
        "## <font color='B8E139'><b>Las columnas sin valor reducen la potencia estadística</b></font>\n",
        "\n",
        "La potencia estadística también puede verse perjudicada al proporcionar modelos con características de poco valor, sobre todo cuando el número de características (columnas) comienza a aproximarse al número de muestras (filas).\n",
        "\n",
        "Por ejemplo, supongamos que queremos predecir la supervivencia dados los datos siguientes:"
      ],
      "metadata": {
        "id": "Ayiy-joDYSh8"
      }
    },
    {
      "cell_type": "markdown",
      "source": [
        "<div align=\"center\">\n",
        "\n",
        "|Precio del billete\t| Supervivencia |\n",
        "|:-----:|:-----:|\n",
        "|4 £\t| 0|\n",
        "|4 £\t| 0|\n",
        "|25 £ |\t1|\n",
        "|25 £ |\t1|\n",
        "\n",
        "</div>"
      ],
      "metadata": {
        "id": "mV0D4FX_fnmh"
      }
    },
    {
      "cell_type": "markdown",
      "source": [
        "Podríamos usar estos datos para predecir con confianza que un pasajero con un billete de 25 £ para la Cabina A sobreviviría, porque todos los pasajeros con billetes de 25 £ sobrevivieron.\n",
        "\n",
        "Imagine, sin embargo, que tenemos otra característica (Cabina):"
      ],
      "metadata": {
        "id": "L6aOnQnAf9cx"
      }
    },
    {
      "cell_type": "markdown",
      "source": [
        "<div align=\"center\">\n",
        "\n",
        "|Precio del billete\t| Cabin | Supervivencia |\n",
        "|:-----:|:-----:|:-----:|\n",
        "|4 £\t| A | 0|\n",
        "|4 £\t| A | 0|\n",
        "|25 £ |\tB | 1|\n",
        "|25 £ |\tB | 1|\n",
        "\n",
        "</div>"
      ],
      "metadata": {
        "id": "HmCxfA2df86I"
      }
    },
    {
      "cell_type": "markdown",
      "source": [
        "La columna Cabina no proporciona información útil, ya que simplemente corresponde al precio del billete. Ahora no queda claro si aquellos con un billete de 25 £ para la Cabina A sobrevivirían. ¿Fallecieron, como otros pasajeros de la Cabina A, o sobrevivieron como aquellos con billetes de 25 £?"
      ],
      "metadata": {
        "id": "rz6gAe4tgN5I"
      }
    },
    {
      "cell_type": "markdown",
      "source": [
        "## <font color='B8E139'><b>La codificación one-hot puede reducir la potencia estadística</b></font>\n",
        "\n",
        "La codificación one-hot reduce la potencia estadística mucho más que los datos continuos u ordinales porque requiere varias columnas: una para cada valor categórico posible. Por ejemplo, la codificación one-hot del puerto de embarque agrega tres entradas de modelo (C, S y Q).\n",
        "\n",
        "``\n",
        "Como regla general, merece la pena incluir una variable categórica si el número de categorías es considerablemente menor que el número de muestras (filas del conjunto de datos) y esta categoría proporciona información que aún no está disponible para el modelo a través de otras entradas.\n",
        "``\n",
        "\n",
        "Por ejemplo, vimos que la probabilidad de supervivencia era distinta para las personas que embarcaron en puertos diferentes. Probablemente, esto solo refleja que la mayoría de las personas del puerto Queenstown tenían billetes de tercera clase. Por lo tanto, es probable que el embarque reduzca ligeramente la potencia estadística sin agregar información relevante a nuestro modelo.\n",
        "\n",
        "Por el contrario, es probable que la Cabina influya considerablemente en la supervivencia, ya que las cabinas de la parte inferior del barco se llenarían de agua antes que las más cercanas a la cubierta. Dicho esto, el conjunto de datos del Titanic contiene 147 cabinas distintas, lo cual reducirá la potencia estadística del modelo si se incluye. Para averiguar si la Cabina es útil en definitiva, puede que tengamos que experimentar con su inclusión o exclusión en nuestro modelo.\n",
        "\n",
        "En el ejercicio siguiente, por fin crearemos nuestro modelo de predicción de la supervivencia en el Titanic y practicaremos una codificación one-hot durante este proceso."
      ],
      "metadata": {
        "id": "uV4awx-CYTAM"
      }
    },
    {
      "cell_type": "markdown",
      "source": [
        "\n",
        "\n",
        "---\n",
        "\n"
      ],
      "metadata": {
        "id": "uD452tzggYIB"
      }
    },
    {
      "cell_type": "markdown",
      "source": [
        "## <font color='B8E139'><b>Ejercicio: predicción de valores desconocidos con vectores one-hot</b></font>\n"
      ],
      "metadata": {
        "id": "yKzsiwsIYTIu"
      }
    },
    {
      "cell_type": "markdown",
      "source": [
        "## <font color='B8E139'><b>Ejercicio: Conjunto de datos Titanic - Vectores One-Hot</b></font>\n",
        "\n",
        "En esta unidad, construiremos un modelo para predecir quién sobrevivió al desastre del Titanic. Practicaremos la transformación de datos entre tipos numéricos y categóricos, incluido el uso de vectores one-hot."
      ],
      "metadata": {
        "id": "071UgHs_YTO3"
      }
    },
    {
      "cell_type": "markdown",
      "source": [
        "### <font color='B8E139'><b>Preparación de datos</b></font>\n",
        "\n",
        "Primero, abriremos y limpiaremos rápidamente nuestro conjunto de datos, como hicimos en la última unidad:"
      ],
      "metadata": {
        "id": "Dopvn9f-hl9Y"
      }
    },
    {
      "cell_type": "code",
      "source": [
        "import pandas\n",
        "!wget https://raw.githubusercontent.com/MicrosoftDocs/mslearn-introduction-to-machine-learning/main/m0c_logistic_regression.py\n",
        "!wget https://raw.githubusercontent.com/MicrosoftDocs/mslearn-introduction-to-machine-learning/main/Data/titanic.csv\n",
        "\n",
        "# Open our dataset from file\n",
        "dataset = pandas.read_csv(\"titanic.csv\", index_col=False, sep=\",\", header=0)\n",
        "\n",
        "# Fill missing cabin information with 'Unknown'\n",
        "dataset[\"Cabin\"].fillna(\"Unknown\", inplace=True)\n",
        "\n",
        "# Remove rows missing Age information\n",
        "dataset.dropna(subset=[\"Age\"], inplace=True)\n",
        "\n",
        "# Remove the Name, PassengerId, and Ticket fields\n",
        "# This is optional; it makes it easier to read our print-outs\n",
        "dataset.drop([\"PassengerId\", \"Name\", \"Ticket\"], axis=1, inplace=True)\n",
        "\n",
        "dataset.head()"
      ],
      "metadata": {
        "colab": {
          "base_uri": "https://localhost:8080/",
          "height": 588
        },
        "id": "9f6sZpiXiCkN",
        "outputId": "fd6e6276-e849-4956-ce47-bc1a8625dc82"
      },
      "execution_count": 1,
      "outputs": [
        {
          "output_type": "stream",
          "name": "stdout",
          "text": [
            "--2023-03-29 18:15:19--  https://raw.githubusercontent.com/MicrosoftDocs/mslearn-introduction-to-machine-learning/main/m0c_logistic_regression.py\n",
            "Resolving raw.githubusercontent.com (raw.githubusercontent.com)... 185.199.108.133, 185.199.109.133, 185.199.110.133, ...\n",
            "Connecting to raw.githubusercontent.com (raw.githubusercontent.com)|185.199.108.133|:443... connected.\n",
            "HTTP request sent, awaiting response... 200 OK\n",
            "Length: 827 [text/plain]\n",
            "Saving to: ‘m0c_logistic_regression.py’\n",
            "\n",
            "m0c_logistic_regres 100%[===================>]     827  --.-KB/s    in 0s      \n",
            "\n",
            "2023-03-29 18:15:19 (53.4 MB/s) - ‘m0c_logistic_regression.py’ saved [827/827]\n",
            "\n",
            "--2023-03-29 18:15:19--  https://raw.githubusercontent.com/MicrosoftDocs/mslearn-introduction-to-machine-learning/main/Data/titanic.csv\n",
            "Resolving raw.githubusercontent.com (raw.githubusercontent.com)... 185.199.108.133, 185.199.109.133, 185.199.110.133, ...\n",
            "Connecting to raw.githubusercontent.com (raw.githubusercontent.com)|185.199.108.133|:443... connected.\n",
            "HTTP request sent, awaiting response... 200 OK\n",
            "Length: 61194 (60K) [text/plain]\n",
            "Saving to: ‘titanic.csv’\n",
            "\n",
            "titanic.csv         100%[===================>]  59.76K  --.-KB/s    in 0.002s  \n",
            "\n",
            "2023-03-29 18:15:19 (34.1 MB/s) - ‘titanic.csv’ saved [61194/61194]\n",
            "\n"
          ]
        },
        {
          "output_type": "execute_result",
          "data": {
            "text/plain": [
              "   Survived  Pclass     Sex   Age  SibSp  Parch     Fare    Cabin Embarked\n",
              "0         0       3    male  22.0      1      0   7.2500  Unknown        S\n",
              "1         1       1  female  38.0      1      0  71.2833      C85        C\n",
              "2         1       3  female  26.0      0      0   7.9250  Unknown        S\n",
              "3         1       1  female  35.0      1      0  53.1000     C123        S\n",
              "4         0       3    male  35.0      0      0   8.0500  Unknown        S"
            ],
            "text/html": [
              "\n",
              "  <div id=\"df-d59fc8ac-7aff-4832-bcc1-5a806a1c1cc9\">\n",
              "    <div class=\"colab-df-container\">\n",
              "      <div>\n",
              "<style scoped>\n",
              "    .dataframe tbody tr th:only-of-type {\n",
              "        vertical-align: middle;\n",
              "    }\n",
              "\n",
              "    .dataframe tbody tr th {\n",
              "        vertical-align: top;\n",
              "    }\n",
              "\n",
              "    .dataframe thead th {\n",
              "        text-align: right;\n",
              "    }\n",
              "</style>\n",
              "<table border=\"1\" class=\"dataframe\">\n",
              "  <thead>\n",
              "    <tr style=\"text-align: right;\">\n",
              "      <th></th>\n",
              "      <th>Survived</th>\n",
              "      <th>Pclass</th>\n",
              "      <th>Sex</th>\n",
              "      <th>Age</th>\n",
              "      <th>SibSp</th>\n",
              "      <th>Parch</th>\n",
              "      <th>Fare</th>\n",
              "      <th>Cabin</th>\n",
              "      <th>Embarked</th>\n",
              "    </tr>\n",
              "  </thead>\n",
              "  <tbody>\n",
              "    <tr>\n",
              "      <th>0</th>\n",
              "      <td>0</td>\n",
              "      <td>3</td>\n",
              "      <td>male</td>\n",
              "      <td>22.0</td>\n",
              "      <td>1</td>\n",
              "      <td>0</td>\n",
              "      <td>7.2500</td>\n",
              "      <td>Unknown</td>\n",
              "      <td>S</td>\n",
              "    </tr>\n",
              "    <tr>\n",
              "      <th>1</th>\n",
              "      <td>1</td>\n",
              "      <td>1</td>\n",
              "      <td>female</td>\n",
              "      <td>38.0</td>\n",
              "      <td>1</td>\n",
              "      <td>0</td>\n",
              "      <td>71.2833</td>\n",
              "      <td>C85</td>\n",
              "      <td>C</td>\n",
              "    </tr>\n",
              "    <tr>\n",
              "      <th>2</th>\n",
              "      <td>1</td>\n",
              "      <td>3</td>\n",
              "      <td>female</td>\n",
              "      <td>26.0</td>\n",
              "      <td>0</td>\n",
              "      <td>0</td>\n",
              "      <td>7.9250</td>\n",
              "      <td>Unknown</td>\n",
              "      <td>S</td>\n",
              "    </tr>\n",
              "    <tr>\n",
              "      <th>3</th>\n",
              "      <td>1</td>\n",
              "      <td>1</td>\n",
              "      <td>female</td>\n",
              "      <td>35.0</td>\n",
              "      <td>1</td>\n",
              "      <td>0</td>\n",
              "      <td>53.1000</td>\n",
              "      <td>C123</td>\n",
              "      <td>S</td>\n",
              "    </tr>\n",
              "    <tr>\n",
              "      <th>4</th>\n",
              "      <td>0</td>\n",
              "      <td>3</td>\n",
              "      <td>male</td>\n",
              "      <td>35.0</td>\n",
              "      <td>0</td>\n",
              "      <td>0</td>\n",
              "      <td>8.0500</td>\n",
              "      <td>Unknown</td>\n",
              "      <td>S</td>\n",
              "    </tr>\n",
              "  </tbody>\n",
              "</table>\n",
              "</div>\n",
              "      <button class=\"colab-df-convert\" onclick=\"convertToInteractive('df-d59fc8ac-7aff-4832-bcc1-5a806a1c1cc9')\"\n",
              "              title=\"Convert this dataframe to an interactive table.\"\n",
              "              style=\"display:none;\">\n",
              "        \n",
              "  <svg xmlns=\"http://www.w3.org/2000/svg\" height=\"24px\"viewBox=\"0 0 24 24\"\n",
              "       width=\"24px\">\n",
              "    <path d=\"M0 0h24v24H0V0z\" fill=\"none\"/>\n",
              "    <path d=\"M18.56 5.44l.94 2.06.94-2.06 2.06-.94-2.06-.94-.94-2.06-.94 2.06-2.06.94zm-11 1L8.5 8.5l.94-2.06 2.06-.94-2.06-.94L8.5 2.5l-.94 2.06-2.06.94zm10 10l.94 2.06.94-2.06 2.06-.94-2.06-.94-.94-2.06-.94 2.06-2.06.94z\"/><path d=\"M17.41 7.96l-1.37-1.37c-.4-.4-.92-.59-1.43-.59-.52 0-1.04.2-1.43.59L10.3 9.45l-7.72 7.72c-.78.78-.78 2.05 0 2.83L4 21.41c.39.39.9.59 1.41.59.51 0 1.02-.2 1.41-.59l7.78-7.78 2.81-2.81c.8-.78.8-2.07 0-2.86zM5.41 20L4 18.59l7.72-7.72 1.47 1.35L5.41 20z\"/>\n",
              "  </svg>\n",
              "      </button>\n",
              "      \n",
              "  <style>\n",
              "    .colab-df-container {\n",
              "      display:flex;\n",
              "      flex-wrap:wrap;\n",
              "      gap: 12px;\n",
              "    }\n",
              "\n",
              "    .colab-df-convert {\n",
              "      background-color: #E8F0FE;\n",
              "      border: none;\n",
              "      border-radius: 50%;\n",
              "      cursor: pointer;\n",
              "      display: none;\n",
              "      fill: #1967D2;\n",
              "      height: 32px;\n",
              "      padding: 0 0 0 0;\n",
              "      width: 32px;\n",
              "    }\n",
              "\n",
              "    .colab-df-convert:hover {\n",
              "      background-color: #E2EBFA;\n",
              "      box-shadow: 0px 1px 2px rgba(60, 64, 67, 0.3), 0px 1px 3px 1px rgba(60, 64, 67, 0.15);\n",
              "      fill: #174EA6;\n",
              "    }\n",
              "\n",
              "    [theme=dark] .colab-df-convert {\n",
              "      background-color: #3B4455;\n",
              "      fill: #D2E3FC;\n",
              "    }\n",
              "\n",
              "    [theme=dark] .colab-df-convert:hover {\n",
              "      background-color: #434B5C;\n",
              "      box-shadow: 0px 1px 3px 1px rgba(0, 0, 0, 0.15);\n",
              "      filter: drop-shadow(0px 1px 2px rgba(0, 0, 0, 0.3));\n",
              "      fill: #FFFFFF;\n",
              "    }\n",
              "  </style>\n",
              "\n",
              "      <script>\n",
              "        const buttonEl =\n",
              "          document.querySelector('#df-d59fc8ac-7aff-4832-bcc1-5a806a1c1cc9 button.colab-df-convert');\n",
              "        buttonEl.style.display =\n",
              "          google.colab.kernel.accessAllowed ? 'block' : 'none';\n",
              "\n",
              "        async function convertToInteractive(key) {\n",
              "          const element = document.querySelector('#df-d59fc8ac-7aff-4832-bcc1-5a806a1c1cc9');\n",
              "          const dataTable =\n",
              "            await google.colab.kernel.invokeFunction('convertToInteractive',\n",
              "                                                     [key], {});\n",
              "          if (!dataTable) return;\n",
              "\n",
              "          const docLinkHtml = 'Like what you see? Visit the ' +\n",
              "            '<a target=\"_blank\" href=https://colab.research.google.com/notebooks/data_table.ipynb>data table notebook</a>'\n",
              "            + ' to learn more about interactive tables.';\n",
              "          element.innerHTML = '';\n",
              "          dataTable['output_type'] = 'display_data';\n",
              "          await google.colab.output.renderOutput(dataTable, element);\n",
              "          const docLink = document.createElement('div');\n",
              "          docLink.innerHTML = docLinkHtml;\n",
              "          element.appendChild(docLink);\n",
              "        }\n",
              "      </script>\n",
              "    </div>\n",
              "  </div>\n",
              "  "
            ]
          },
          "metadata": {},
          "execution_count": 1
        }
      ]
    },
    {
      "cell_type": "markdown",
      "source": [
        "## <font color='B8E139'><b>Acerca de nuestro modelo</b></font>\n",
        "\n",
        "Entrenaremos un tipo de modelo conocido como Regresión logística, que predecirá quién sobrevive al desastre del Titanic.\n",
        "\n",
        "Para este ejercicio, no necesita comprender la regresión logística. Colocamos la implementación fuera de este cuaderno en un método llamado `train_logistic_regression`. Si tiene curiosidad, puede leer este método en nuestro repositorio de GitHub.\n",
        "\n",
        "`train_logistic_regression`:\n",
        "\n",
        "1. Acepta nuestro marco de datos y una lista de características para incluir en el modelo.\n",
        "2. Entrena al modelo.\n",
        "3. Devuelve un número que indica el rendimiento del modelo al predecir la supervivencia de los pasajeros. `Los números más pequeños son mejores`."
      ],
      "metadata": {
        "id": "paOfc5LYhmdZ"
      }
    },
    {
      "cell_type": "markdown",
      "source": [
        "### <font color='B8E139'><b>Solo numérico</b></font>\n",
        "\n",
        "Vamos a crear un modelo que use solo las características numéricas.\n",
        "\n",
        "Primero, lo usaremos `Pclass` aquí como una característica ordinal, en lugar de una característica categórica codificada en caliente."
      ],
      "metadata": {
        "id": "ioyMIM3khmzw"
      }
    },
    {
      "cell_type": "code",
      "source": [
        "from m0c_logistic_regression import train_logistic_regression\n",
        "\n",
        "features = [\"Age\", \"Pclass\", \"SibSp\", \"Parch\", \"Fare\"] \n",
        "loss_numerical_only = train_logistic_regression(dataset, features)\n",
        "\n",
        "print(f\"Numerical-Only, Log-Loss (cost): {loss_numerical_only}\")"
      ],
      "metadata": {
        "colab": {
          "base_uri": "https://localhost:8080/"
        },
        "id": "_hUT5S2tkGKZ",
        "outputId": "6750ab19-b9af-4929-c4fd-629e501277e3"
      },
      "execution_count": 2,
      "outputs": [
        {
          "output_type": "stream",
          "name": "stdout",
          "text": [
            "Numerical-Only, Log-Loss (cost): 0.612168278948346\n"
          ]
        }
      ]
    },
    {
      "cell_type": "markdown",
      "source": [
        "Tenemos nuestro punto de partida. Veamos si las características categóricas mejorarán el modelo."
      ],
      "metadata": {
        "id": "Q72sQi4IkIXh"
      }
    },
    {
      "cell_type": "markdown",
      "source": [
        "## <font color='B8E139'><b>Características categóricas binarias</b></font>\n",
        "\n",
        "Las características categóricas con solo dos valores potenciales se pueden codificar en una sola columna, como 0 o 1.\n",
        "\n",
        "Convertiremos Sex valores en IsFemale- a 0 para hombre y 1 para mujer - e incluiremos eso en nuestro modelo.\n",
        "\n"
      ],
      "metadata": {
        "id": "jxd9KgFwhnQQ"
      }
    },
    {
      "cell_type": "code",
      "source": [
        "# Swap male / female with numerical values\n",
        "# We can do this because there are only two categories\n",
        "dataset[\"IsFemale\"] = dataset.Sex.replace({'male':0, 'female':1})\n",
        "\n",
        "# Print out the first few rows of the dataset\n",
        "print(dataset.head())\n",
        "\n",
        "# Run and test the model, also using IsFemale this time\n",
        "features = [\"Age\", \"Pclass\", \"SibSp\", \"Parch\", \"Fare\", \"IsFemale\"] \n",
        "loss_binary_categoricals = train_logistic_regression(dataset, features)\n",
        "\n",
        "print(f\"\\nNumerical + Sex, Log-Loss (cost): {loss_binary_categoricals}\")"
      ],
      "metadata": {
        "colab": {
          "base_uri": "https://localhost:8080/"
        },
        "id": "e1XL9w1GkQaB",
        "outputId": "12aed29c-68a2-42e6-e1bb-f0ee966c9d24"
      },
      "execution_count": 3,
      "outputs": [
        {
          "output_type": "stream",
          "name": "stdout",
          "text": [
            "   Survived  Pclass     Sex   Age  SibSp  Parch     Fare    Cabin Embarked  \\\n",
            "0         0       3    male  22.0      1      0   7.2500  Unknown        S   \n",
            "1         1       1  female  38.0      1      0  71.2833      C85        C   \n",
            "2         1       3  female  26.0      0      0   7.9250  Unknown        S   \n",
            "3         1       1  female  35.0      1      0  53.1000     C123        S   \n",
            "4         0       3    male  35.0      0      0   8.0500  Unknown        S   \n",
            "\n",
            "   IsFemale  \n",
            "0         0  \n",
            "1         1  \n",
            "2         1  \n",
            "3         1  \n",
            "4         0  \n",
            "\n",
            "Numerical + Sex, Log-Loss (cost): 0.47071447420412404\n"
          ]
        }
      ]
    },
    {
      "cell_type": "markdown",
      "source": [
        "\n",
        "¡Nuestra pérdida (error) disminuyó! Este modelo funciona mejor que el modelo anterior."
      ],
      "metadata": {
        "id": "tWLuy5wZkR8k"
      }
    },
    {
      "cell_type": "markdown",
      "source": [
        "## <font color='B8E139'><b>Codificación One-Hot</b></font>\n",
        "\n",
        "La clase de ticket ( Pclass) es una característica ordinal. Sus valores potenciales (1, 2 y 3) tienen un orden y tienen el mismo espaciamiento. Sin embargo, este espaciado uniforme podría ser incorrecto: en las historias sobre el Titanic, los pasajeros de tercera clase fueron tratados mucho peor que los de primera y segunda clase.\n",
        "\n",
        "Convirtámoslo Pclass en una característica categórica usando una codificación one-hot:"
      ],
      "metadata": {
        "id": "mQ4Cn_rWkQtS"
      }
    },
    {
      "cell_type": "code",
      "source": [
        "# Get all possible categories for the \"PClass\" column\n",
        "print(f\"Possible values for PClass: {dataset['Pclass'].unique()}\")\n",
        "\n",
        "# Use Pandas to One-Hot encode the PClass category\n",
        "dataset_with_one_hot = pandas.get_dummies(dataset, columns=[\"Pclass\"], drop_first=False)\n",
        "\n",
        "# Add back in the old Pclass column, for learning purposes\n",
        "dataset_with_one_hot[\"Pclass\"] = dataset.Pclass\n",
        "\n",
        "# Print out the first few rows\n",
        "dataset_with_one_hot.head()"
      ],
      "metadata": {
        "colab": {
          "base_uri": "https://localhost:8080/",
          "height": 224
        },
        "id": "b2u-zsiWkjOY",
        "outputId": "8b3aff43-d217-4004-9998-cefa31074a2a"
      },
      "execution_count": 4,
      "outputs": [
        {
          "output_type": "stream",
          "name": "stdout",
          "text": [
            "Possible values for PClass: [3 1 2]\n"
          ]
        },
        {
          "output_type": "execute_result",
          "data": {
            "text/plain": [
              "   Survived     Sex   Age  SibSp  Parch     Fare    Cabin Embarked  IsFemale  \\\n",
              "0         0    male  22.0      1      0   7.2500  Unknown        S         0   \n",
              "1         1  female  38.0      1      0  71.2833      C85        C         1   \n",
              "2         1  female  26.0      0      0   7.9250  Unknown        S         1   \n",
              "3         1  female  35.0      1      0  53.1000     C123        S         1   \n",
              "4         0    male  35.0      0      0   8.0500  Unknown        S         0   \n",
              "\n",
              "   Pclass_1  Pclass_2  Pclass_3  Pclass  \n",
              "0         0         0         1       3  \n",
              "1         1         0         0       1  \n",
              "2         0         0         1       3  \n",
              "3         1         0         0       1  \n",
              "4         0         0         1       3  "
            ],
            "text/html": [
              "\n",
              "  <div id=\"df-b7eba68a-4a8c-44d3-b431-f6abd505dfa9\">\n",
              "    <div class=\"colab-df-container\">\n",
              "      <div>\n",
              "<style scoped>\n",
              "    .dataframe tbody tr th:only-of-type {\n",
              "        vertical-align: middle;\n",
              "    }\n",
              "\n",
              "    .dataframe tbody tr th {\n",
              "        vertical-align: top;\n",
              "    }\n",
              "\n",
              "    .dataframe thead th {\n",
              "        text-align: right;\n",
              "    }\n",
              "</style>\n",
              "<table border=\"1\" class=\"dataframe\">\n",
              "  <thead>\n",
              "    <tr style=\"text-align: right;\">\n",
              "      <th></th>\n",
              "      <th>Survived</th>\n",
              "      <th>Sex</th>\n",
              "      <th>Age</th>\n",
              "      <th>SibSp</th>\n",
              "      <th>Parch</th>\n",
              "      <th>Fare</th>\n",
              "      <th>Cabin</th>\n",
              "      <th>Embarked</th>\n",
              "      <th>IsFemale</th>\n",
              "      <th>Pclass_1</th>\n",
              "      <th>Pclass_2</th>\n",
              "      <th>Pclass_3</th>\n",
              "      <th>Pclass</th>\n",
              "    </tr>\n",
              "  </thead>\n",
              "  <tbody>\n",
              "    <tr>\n",
              "      <th>0</th>\n",
              "      <td>0</td>\n",
              "      <td>male</td>\n",
              "      <td>22.0</td>\n",
              "      <td>1</td>\n",
              "      <td>0</td>\n",
              "      <td>7.2500</td>\n",
              "      <td>Unknown</td>\n",
              "      <td>S</td>\n",
              "      <td>0</td>\n",
              "      <td>0</td>\n",
              "      <td>0</td>\n",
              "      <td>1</td>\n",
              "      <td>3</td>\n",
              "    </tr>\n",
              "    <tr>\n",
              "      <th>1</th>\n",
              "      <td>1</td>\n",
              "      <td>female</td>\n",
              "      <td>38.0</td>\n",
              "      <td>1</td>\n",
              "      <td>0</td>\n",
              "      <td>71.2833</td>\n",
              "      <td>C85</td>\n",
              "      <td>C</td>\n",
              "      <td>1</td>\n",
              "      <td>1</td>\n",
              "      <td>0</td>\n",
              "      <td>0</td>\n",
              "      <td>1</td>\n",
              "    </tr>\n",
              "    <tr>\n",
              "      <th>2</th>\n",
              "      <td>1</td>\n",
              "      <td>female</td>\n",
              "      <td>26.0</td>\n",
              "      <td>0</td>\n",
              "      <td>0</td>\n",
              "      <td>7.9250</td>\n",
              "      <td>Unknown</td>\n",
              "      <td>S</td>\n",
              "      <td>1</td>\n",
              "      <td>0</td>\n",
              "      <td>0</td>\n",
              "      <td>1</td>\n",
              "      <td>3</td>\n",
              "    </tr>\n",
              "    <tr>\n",
              "      <th>3</th>\n",
              "      <td>1</td>\n",
              "      <td>female</td>\n",
              "      <td>35.0</td>\n",
              "      <td>1</td>\n",
              "      <td>0</td>\n",
              "      <td>53.1000</td>\n",
              "      <td>C123</td>\n",
              "      <td>S</td>\n",
              "      <td>1</td>\n",
              "      <td>1</td>\n",
              "      <td>0</td>\n",
              "      <td>0</td>\n",
              "      <td>1</td>\n",
              "    </tr>\n",
              "    <tr>\n",
              "      <th>4</th>\n",
              "      <td>0</td>\n",
              "      <td>male</td>\n",
              "      <td>35.0</td>\n",
              "      <td>0</td>\n",
              "      <td>0</td>\n",
              "      <td>8.0500</td>\n",
              "      <td>Unknown</td>\n",
              "      <td>S</td>\n",
              "      <td>0</td>\n",
              "      <td>0</td>\n",
              "      <td>0</td>\n",
              "      <td>1</td>\n",
              "      <td>3</td>\n",
              "    </tr>\n",
              "  </tbody>\n",
              "</table>\n",
              "</div>\n",
              "      <button class=\"colab-df-convert\" onclick=\"convertToInteractive('df-b7eba68a-4a8c-44d3-b431-f6abd505dfa9')\"\n",
              "              title=\"Convert this dataframe to an interactive table.\"\n",
              "              style=\"display:none;\">\n",
              "        \n",
              "  <svg xmlns=\"http://www.w3.org/2000/svg\" height=\"24px\"viewBox=\"0 0 24 24\"\n",
              "       width=\"24px\">\n",
              "    <path d=\"M0 0h24v24H0V0z\" fill=\"none\"/>\n",
              "    <path d=\"M18.56 5.44l.94 2.06.94-2.06 2.06-.94-2.06-.94-.94-2.06-.94 2.06-2.06.94zm-11 1L8.5 8.5l.94-2.06 2.06-.94-2.06-.94L8.5 2.5l-.94 2.06-2.06.94zm10 10l.94 2.06.94-2.06 2.06-.94-2.06-.94-.94-2.06-.94 2.06-2.06.94z\"/><path d=\"M17.41 7.96l-1.37-1.37c-.4-.4-.92-.59-1.43-.59-.52 0-1.04.2-1.43.59L10.3 9.45l-7.72 7.72c-.78.78-.78 2.05 0 2.83L4 21.41c.39.39.9.59 1.41.59.51 0 1.02-.2 1.41-.59l7.78-7.78 2.81-2.81c.8-.78.8-2.07 0-2.86zM5.41 20L4 18.59l7.72-7.72 1.47 1.35L5.41 20z\"/>\n",
              "  </svg>\n",
              "      </button>\n",
              "      \n",
              "  <style>\n",
              "    .colab-df-container {\n",
              "      display:flex;\n",
              "      flex-wrap:wrap;\n",
              "      gap: 12px;\n",
              "    }\n",
              "\n",
              "    .colab-df-convert {\n",
              "      background-color: #E8F0FE;\n",
              "      border: none;\n",
              "      border-radius: 50%;\n",
              "      cursor: pointer;\n",
              "      display: none;\n",
              "      fill: #1967D2;\n",
              "      height: 32px;\n",
              "      padding: 0 0 0 0;\n",
              "      width: 32px;\n",
              "    }\n",
              "\n",
              "    .colab-df-convert:hover {\n",
              "      background-color: #E2EBFA;\n",
              "      box-shadow: 0px 1px 2px rgba(60, 64, 67, 0.3), 0px 1px 3px 1px rgba(60, 64, 67, 0.15);\n",
              "      fill: #174EA6;\n",
              "    }\n",
              "\n",
              "    [theme=dark] .colab-df-convert {\n",
              "      background-color: #3B4455;\n",
              "      fill: #D2E3FC;\n",
              "    }\n",
              "\n",
              "    [theme=dark] .colab-df-convert:hover {\n",
              "      background-color: #434B5C;\n",
              "      box-shadow: 0px 1px 3px 1px rgba(0, 0, 0, 0.15);\n",
              "      filter: drop-shadow(0px 1px 2px rgba(0, 0, 0, 0.3));\n",
              "      fill: #FFFFFF;\n",
              "    }\n",
              "  </style>\n",
              "\n",
              "      <script>\n",
              "        const buttonEl =\n",
              "          document.querySelector('#df-b7eba68a-4a8c-44d3-b431-f6abd505dfa9 button.colab-df-convert');\n",
              "        buttonEl.style.display =\n",
              "          google.colab.kernel.accessAllowed ? 'block' : 'none';\n",
              "\n",
              "        async function convertToInteractive(key) {\n",
              "          const element = document.querySelector('#df-b7eba68a-4a8c-44d3-b431-f6abd505dfa9');\n",
              "          const dataTable =\n",
              "            await google.colab.kernel.invokeFunction('convertToInteractive',\n",
              "                                                     [key], {});\n",
              "          if (!dataTable) return;\n",
              "\n",
              "          const docLinkHtml = 'Like what you see? Visit the ' +\n",
              "            '<a target=\"_blank\" href=https://colab.research.google.com/notebooks/data_table.ipynb>data table notebook</a>'\n",
              "            + ' to learn more about interactive tables.';\n",
              "          element.innerHTML = '';\n",
              "          dataTable['output_type'] = 'display_data';\n",
              "          await google.colab.output.renderOutput(dataTable, element);\n",
              "          const docLink = document.createElement('div');\n",
              "          docLink.innerHTML = docLinkHtml;\n",
              "          element.appendChild(docLink);\n",
              "        }\n",
              "      </script>\n",
              "    </div>\n",
              "  </div>\n",
              "  "
            ]
          },
          "metadata": {},
          "execution_count": 4
        }
      ]
    },
    {
      "cell_type": "markdown",
      "source": [
        "\n",
        "Tenga en cuenta que Pclassse convirtió en tres valores: Pclass_1, Pclass_2y Pclass_3.\n",
        "\n",
        "Las filas con Pclass valores de 1 tienen un valor en la Pclass_1 columna. Vemos el mismo patrón para los valores de 2 y 3.\n",
        "\n",
        "Ahora, vuelva a ejecutar el modelo y trate Pclass los valores como valores categóricos, en lugar de valores ordinales."
      ],
      "metadata": {
        "id": "taRcmFIjkju5"
      }
    },
    {
      "cell_type": "code",
      "source": [
        "# Run and test the model, also using Pclass as a categorical feature this time\n",
        "features = [\"Age\", \"SibSp\", \"Parch\", \"Fare\", \"IsFemale\",\n",
        "            \"Pclass_1\", \"Pclass_2\", \"Pclass_3\"]\n",
        "\n",
        "loss_pclass_categorical = train_logistic_regression(dataset_with_one_hot, features)\n",
        "\n",
        "print(f\"\\nNumerical, Sex, Categorical Pclass, Log-Loss (cost): {loss_pclass_categorical}\")"
      ],
      "metadata": {
        "colab": {
          "base_uri": "https://localhost:8080/"
        },
        "id": "na0m0eWJklfq",
        "outputId": "698add59-1dff-4cb2-ad50-5551c89e219e"
      },
      "execution_count": 5,
      "outputs": [
        {
          "output_type": "stream",
          "name": "stdout",
          "text": [
            "\n",
            "Numerical, Sex, Categorical Pclass, Log-Loss (cost): 0.47171118251126615\n"
          ]
        }
      ]
    },
    {
      "cell_type": "markdown",
      "source": [
        "\n",
        "¡Esto parece haber empeorado un poco las cosas!\n",
        "\n",
        "Vamonos."
      ],
      "metadata": {
        "id": "-I5Kw_-bkloo"
      }
    },
    {
      "cell_type": "markdown",
      "source": [
        "## <font color='B8E139'><b>Incluye cabina</b></font>\n",
        "\n",
        "Recordemos que muchos pasajeros tenían Cabin información. Cabin es una característica categórica y debería ser un buen predictor de supervivencia, porque las personas en las cabinas inferiores probablemente tuvieron poco tiempo para escapar durante el hundimiento.\n",
        "\n",
        "Codifiquemos la cabina usando vectores one-hot e incluyémosla en un modelo. Esta vez, hay tantas cabañas que no las imprimiremos todas. Para practicar imprimiéndolos, siéntete libre de editar el código como práctica."
      ],
      "metadata": {
        "id": "MwNgIiwokQ74"
      }
    },
    {
      "cell_type": "code",
      "source": [
        "# Use Pandas to One-Hot encode the Cabin and Pclass categories\n",
        "dataset_with_one_hot = pandas.get_dummies(dataset, columns=[\"Pclass\", \"Cabin\"], drop_first=False)\n",
        "\n",
        "# Find cabin column names\n",
        "cabin_column_names = list(c for c in dataset_with_one_hot.columns if c.startswith(\"Cabin_\"))\n",
        "\n",
        "# Print out how many cabins there were\n",
        "print(len(cabin_column_names), \"cabins found\")\n",
        "\n",
        "# Make a list of features\n",
        "features = [\"Age\", \"SibSp\", \"Parch\", \"Fare\", \"IsFemale\",\n",
        "            \"Pclass_1\", \"Pclass_2\", \"Pclass_3\"] + \\\n",
        "            cabin_column_names\n",
        "\n",
        "# Run the model and print the result\n",
        "loss_cabin_categorical = train_logistic_regression(dataset_with_one_hot, features)\n",
        "\n",
        "print(f\"\\nNumerical, Sex, Categorical Pclass, Cabin, Log-Loss (cost): {loss_cabin_categorical}\")"
      ],
      "metadata": {
        "colab": {
          "base_uri": "https://localhost:8080/"
        },
        "id": "Ai6dlu2akrdy",
        "outputId": "b5f967da-cb62-4799-ad54-2a6e41705c7d"
      },
      "execution_count": 6,
      "outputs": [
        {
          "output_type": "stream",
          "name": "stdout",
          "text": [
            "135 cabins found\n",
            "\n",
            "Numerical, Sex, Categorical Pclass, Cabin, Log-Loss (cost): 0.460030454816552\n"
          ]
        }
      ]
    },
    {
      "cell_type": "markdown",
      "source": [
        "\n",
        "¡Ese es nuestro mejor resultado hasta ahora!"
      ],
      "metadata": {
        "id": "59kj5QYZkrqa"
      }
    },
    {
      "cell_type": "markdown",
      "source": [
        "### <font color='B8E139'><b>Mejorar el poder</b></font>\n",
        "\n",
        "Incluir un gran número de clases categóricas, por ejemplo, 135 cabinas, a menudo no es la mejor manera de entrenar un modelo, porque el modelo solo tiene algunos ejemplos de cada clase de categoría para aprender.\n",
        "\n",
        "A veces, podemos mejorar los modelos si simplificamos las características. Cabin probablemente fue útil porque indicaba en qué cubierta del Titanic probablemente se encontraban las personas: aquellos en las cubiertas inferiores habrían inundado sus habitaciones primero.\n",
        "\n",
        "Podría resultar más sencillo utilizar la información de cubierta, en lugar de categorizar a las personas en camarotes.\n",
        "\n",
        "Simplifiquemos lo que hemos ejecutado, reemplazando las 135 `Cabin` categorías con una `Deck` categoría más simple que tiene solo 9 valores: A - G, T y U (Desconocido)"
      ],
      "metadata": {
        "id": "kNj4vWj2kRFM"
      }
    },
    {
      "cell_type": "code",
      "source": [
        "# We have cabin names, like A31, G45. The letter refers to the deck that\n",
        "# the cabin was on. Extract just the deck and save it to a column. \n",
        "dataset[\"Deck\"] = [c[0] for c in dataset.Cabin]\n",
        "\n",
        "print(\"Decks: \", sorted(dataset.Deck.unique()))\n",
        "\n",
        "# Create one-hot vectors for:\n",
        "# Pclass - the class of ticket. (This could be treated as ordinal or categorical)\n",
        "# Deck - the deck that the cabin was on\n",
        "dataset_with_one_hot = pandas.get_dummies(dataset, columns=[\"Pclass\", \"Deck\"], drop_first=False)\n",
        "\n",
        "# Find the deck names\n",
        "deck_of_cabin_column_names = list(c for c in dataset_with_one_hot.columns if c.startswith(\"Deck_\"))\n",
        " \n",
        "features = [\"Age\", \"IsFemale\", \"SibSp\", \"Parch\", \"Fare\", \n",
        "            \"Pclass_1\", \"Pclass_2\", \"Pclass_3\",\n",
        "            \"Deck_A\", \"Deck_B\", \"Deck_C\", \"Deck_D\", \n",
        "            \"Deck_E\", \"Deck_F\", \"Deck_G\", \"Deck_U\", \"Deck_T\"]\n",
        "\n",
        "loss_deck = train_logistic_regression(dataset_with_one_hot, features)\n",
        "\n",
        "print(f\"\\nSimplifying Cabin Into Deck, Log-Loss (cost): {loss_deck}\")"
      ],
      "metadata": {
        "colab": {
          "base_uri": "https://localhost:8080/"
        },
        "id": "7qLZD3rFk3r5",
        "outputId": "af284626-9f7d-458c-e894-6c956e4caef2"
      },
      "execution_count": 7,
      "outputs": [
        {
          "output_type": "stream",
          "name": "stdout",
          "text": [
            "Decks:  ['A', 'B', 'C', 'D', 'E', 'F', 'G', 'T', 'U']\n",
            "\n",
            "Simplifying Cabin Into Deck, Log-Loss (cost): 0.45886536352547463\n"
          ]
        }
      ]
    },
    {
      "cell_type": "markdown",
      "source": [
        "### <font color='B8E139'><b>Comparación de modelos</b></font>\n",
        "\n",
        "Comparemos los `loss` de estos modelos:"
      ],
      "metadata": {
        "id": "eHDifk1ikRQw"
      }
    },
    {
      "cell_type": "code",
      "source": [
        "# Use a dataframe to create a comparison table of metrics\n",
        "# Copy metrics from previous Unit\n",
        "\n",
        "l =[[\"Numeric Features Only\", loss_numerical_only],\n",
        "    [\"Adding Sex as Binary\", loss_binary_categoricals],\n",
        "    [\"Treating Pclass as Categorical\", loss_pclass_categorical],\n",
        "    [\"Using Cabin as Categorical\", loss_cabin_categorical],\n",
        "    [\"Using Deck rather than Cabin\", loss_deck]]\n",
        "\n",
        "pandas.DataFrame(l, columns=[\"Dataset\", \"Log-Loss (Low is better)\"])"
      ],
      "metadata": {
        "colab": {
          "base_uri": "https://localhost:8080/",
          "height": 206
        },
        "id": "9H6HkDfsa1c6",
        "outputId": "308fb39b-7351-4ad5-da0b-88a77c599214"
      },
      "execution_count": 8,
      "outputs": [
        {
          "output_type": "execute_result",
          "data": {
            "text/plain": [
              "                          Dataset  Log-Loss (Low is better)\n",
              "0           Numeric Features Only                  0.612168\n",
              "1            Adding Sex as Binary                  0.470714\n",
              "2  Treating Pclass as Categorical                  0.471711\n",
              "3      Using Cabin as Categorical                  0.460030\n",
              "4    Using Deck rather than Cabin                  0.458865"
            ],
            "text/html": [
              "\n",
              "  <div id=\"df-d46c191c-584c-4119-9575-a028f6d36e21\">\n",
              "    <div class=\"colab-df-container\">\n",
              "      <div>\n",
              "<style scoped>\n",
              "    .dataframe tbody tr th:only-of-type {\n",
              "        vertical-align: middle;\n",
              "    }\n",
              "\n",
              "    .dataframe tbody tr th {\n",
              "        vertical-align: top;\n",
              "    }\n",
              "\n",
              "    .dataframe thead th {\n",
              "        text-align: right;\n",
              "    }\n",
              "</style>\n",
              "<table border=\"1\" class=\"dataframe\">\n",
              "  <thead>\n",
              "    <tr style=\"text-align: right;\">\n",
              "      <th></th>\n",
              "      <th>Dataset</th>\n",
              "      <th>Log-Loss (Low is better)</th>\n",
              "    </tr>\n",
              "  </thead>\n",
              "  <tbody>\n",
              "    <tr>\n",
              "      <th>0</th>\n",
              "      <td>Numeric Features Only</td>\n",
              "      <td>0.612168</td>\n",
              "    </tr>\n",
              "    <tr>\n",
              "      <th>1</th>\n",
              "      <td>Adding Sex as Binary</td>\n",
              "      <td>0.470714</td>\n",
              "    </tr>\n",
              "    <tr>\n",
              "      <th>2</th>\n",
              "      <td>Treating Pclass as Categorical</td>\n",
              "      <td>0.471711</td>\n",
              "    </tr>\n",
              "    <tr>\n",
              "      <th>3</th>\n",
              "      <td>Using Cabin as Categorical</td>\n",
              "      <td>0.460030</td>\n",
              "    </tr>\n",
              "    <tr>\n",
              "      <th>4</th>\n",
              "      <td>Using Deck rather than Cabin</td>\n",
              "      <td>0.458865</td>\n",
              "    </tr>\n",
              "  </tbody>\n",
              "</table>\n",
              "</div>\n",
              "      <button class=\"colab-df-convert\" onclick=\"convertToInteractive('df-d46c191c-584c-4119-9575-a028f6d36e21')\"\n",
              "              title=\"Convert this dataframe to an interactive table.\"\n",
              "              style=\"display:none;\">\n",
              "        \n",
              "  <svg xmlns=\"http://www.w3.org/2000/svg\" height=\"24px\"viewBox=\"0 0 24 24\"\n",
              "       width=\"24px\">\n",
              "    <path d=\"M0 0h24v24H0V0z\" fill=\"none\"/>\n",
              "    <path d=\"M18.56 5.44l.94 2.06.94-2.06 2.06-.94-2.06-.94-.94-2.06-.94 2.06-2.06.94zm-11 1L8.5 8.5l.94-2.06 2.06-.94-2.06-.94L8.5 2.5l-.94 2.06-2.06.94zm10 10l.94 2.06.94-2.06 2.06-.94-2.06-.94-.94-2.06-.94 2.06-2.06.94z\"/><path d=\"M17.41 7.96l-1.37-1.37c-.4-.4-.92-.59-1.43-.59-.52 0-1.04.2-1.43.59L10.3 9.45l-7.72 7.72c-.78.78-.78 2.05 0 2.83L4 21.41c.39.39.9.59 1.41.59.51 0 1.02-.2 1.41-.59l7.78-7.78 2.81-2.81c.8-.78.8-2.07 0-2.86zM5.41 20L4 18.59l7.72-7.72 1.47 1.35L5.41 20z\"/>\n",
              "  </svg>\n",
              "      </button>\n",
              "      \n",
              "  <style>\n",
              "    .colab-df-container {\n",
              "      display:flex;\n",
              "      flex-wrap:wrap;\n",
              "      gap: 12px;\n",
              "    }\n",
              "\n",
              "    .colab-df-convert {\n",
              "      background-color: #E8F0FE;\n",
              "      border: none;\n",
              "      border-radius: 50%;\n",
              "      cursor: pointer;\n",
              "      display: none;\n",
              "      fill: #1967D2;\n",
              "      height: 32px;\n",
              "      padding: 0 0 0 0;\n",
              "      width: 32px;\n",
              "    }\n",
              "\n",
              "    .colab-df-convert:hover {\n",
              "      background-color: #E2EBFA;\n",
              "      box-shadow: 0px 1px 2px rgba(60, 64, 67, 0.3), 0px 1px 3px 1px rgba(60, 64, 67, 0.15);\n",
              "      fill: #174EA6;\n",
              "    }\n",
              "\n",
              "    [theme=dark] .colab-df-convert {\n",
              "      background-color: #3B4455;\n",
              "      fill: #D2E3FC;\n",
              "    }\n",
              "\n",
              "    [theme=dark] .colab-df-convert:hover {\n",
              "      background-color: #434B5C;\n",
              "      box-shadow: 0px 1px 3px 1px rgba(0, 0, 0, 0.15);\n",
              "      filter: drop-shadow(0px 1px 2px rgba(0, 0, 0, 0.3));\n",
              "      fill: #FFFFFF;\n",
              "    }\n",
              "  </style>\n",
              "\n",
              "      <script>\n",
              "        const buttonEl =\n",
              "          document.querySelector('#df-d46c191c-584c-4119-9575-a028f6d36e21 button.colab-df-convert');\n",
              "        buttonEl.style.display =\n",
              "          google.colab.kernel.accessAllowed ? 'block' : 'none';\n",
              "\n",
              "        async function convertToInteractive(key) {\n",
              "          const element = document.querySelector('#df-d46c191c-584c-4119-9575-a028f6d36e21');\n",
              "          const dataTable =\n",
              "            await google.colab.kernel.invokeFunction('convertToInteractive',\n",
              "                                                     [key], {});\n",
              "          if (!dataTable) return;\n",
              "\n",
              "          const docLinkHtml = 'Like what you see? Visit the ' +\n",
              "            '<a target=\"_blank\" href=https://colab.research.google.com/notebooks/data_table.ipynb>data table notebook</a>'\n",
              "            + ' to learn more about interactive tables.';\n",
              "          element.innerHTML = '';\n",
              "          dataTable['output_type'] = 'display_data';\n",
              "          await google.colab.output.renderOutput(dataTable, element);\n",
              "          const docLink = document.createElement('div');\n",
              "          docLink.innerHTML = docLinkHtml;\n",
              "          element.appendChild(docLink);\n",
              "        }\n",
              "      </script>\n",
              "    </div>\n",
              "  </div>\n",
              "  "
            ]
          },
          "metadata": {},
          "execution_count": 8
        }
      ]
    },
    {
      "cell_type": "markdown",
      "source": [
        "\n",
        "Podemos ver que incluir características categóricas puede mejorar y perjudicar el funcionamiento de un modelo. A menudo, la experimentación es la mejor manera de encontrar el mejor modelo."
      ],
      "metadata": {
        "id": "Rh-_UASLhmn0"
      }
    },
    {
      "cell_type": "markdown",
      "source": [
        "**Resumen**\n",
        "\n",
        "En esta unidad, aprendió a usar la codificación One-Hot para abordar datos categóricos.\n",
        "\n",
        "También exploramos cómo, a veces, el pensamiento crítico sobre el problema en cuestión puede mejorar una solución más que simplemente incluir todas las características posibles en un modelo."
      ],
      "metadata": {
        "id": "oOpev5qEYTUe"
      }
    }
  ]
}