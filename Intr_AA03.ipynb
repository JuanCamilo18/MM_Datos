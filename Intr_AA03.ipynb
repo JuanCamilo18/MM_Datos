{
  "nbformat": 4,
  "nbformat_minor": 0,
  "metadata": {
    "colab": {
      "provenance": [],
      "authorship_tag": "ABX9TyOnrm2IenY1pSuUPtpkMvJQ"
    },
    "kernelspec": {
      "name": "python3",
      "display_name": "Python 3"
    },
    "language_info": {
      "name": "python"
    }
  },
  "cells": [
    {
      "cell_type": "markdown",
      "source": [
        "# **Cómo usar un modelo**"
      ],
      "metadata": {
        "id": "2vYmzGZgSB4l"
      }
    },
    {
      "cell_type": "markdown",
      "source": [
        "A continuación, repasamos cómo encajan estas partes para entrenar un modelo.\n",
        "\n",
        "## **Diferencias entre entrenar y usar un modelo**\n",
        "\n",
        "Es importante diferenciar el entrenamiento del uso de un modelo.\n",
        "\n",
        "Usar un modelo significa proporcionar entradas y recibir una estimación o predicción. Lo hacemos tanto cuando entrenamos nuestro modelo como cuando nosotros, o nuestros clientes, lo usamos en el mundo real. Usar un modelo solo nos lleva unos pocos segundos."
      ],
      "metadata": {
        "id": "HwmzGmLzSEU1"
      }
    },
    {
      "cell_type": "markdown",
      "source": [],
      "metadata": {
        "id": "4H5GWey-SEX0"
      }
    },
    {
      "cell_type": "markdown",
      "source": [
        "Por el contrario, entrenar un modelo es el proceso de mejorar el funcionamiento de dicho modelo. El entrenamiento requiere que usemos el modelo, la función objetivo y el optimizador en un bucle específico. Esto puede tardar unos minutos o días en completarse. Solemos entrenar el modelo solo una vez. Una vez entrenado, podemos usarlo tantas veces como queramos sin realizar más cambios."
      ],
      "metadata": {
        "id": "tAbpLwtNTXAD"
      }
    },
    {
      "cell_type": "markdown",
      "source": [
        "Por ejemplo, en nuestro escenario de la tienda para perros de rescate de avalanchas, queremos entrenar un modelo mediante un conjunto de datos públicos, que cambiará el modelo para que pueda predecir la talla de las botas de un perro en función de la talla de su arnés. Una vez entrenado, usaremos el modelo en nuestra tienda en línea para asegurarnos de que los clientes van a comprar las botas que se adaptarán mejor a sus perros."
      ],
      "metadata": {
        "id": "94Ud_S5jTYCx"
      }
    },
    {
      "cell_type": "markdown",
      "source": [
        "### **Datos para usar, datos para entrenar**\n",
        "\n",
        "Recuerde que un conjunto de datos es una recopilación de información sobre objetos o cosas. Por ejemplo, un conjunto de datos puede contener información sobre perros:"
      ],
      "metadata": {
        "id": "IRxKzoLCTjgo"
      }
    },
    {
      "cell_type": "markdown",
      "source": [
        "Cuando usamos nuestro modelo, solo necesitamos las columnas de datos que el modelo acepta como entrada. Estas columnas se denominan características. En nuestro escenario, si el modelo acepta la talla del arnés y calcula la talla de las botas, entonces nuestra característica es la talla del arnés.\n",
        "\n",
        "Durante el entrenamiento, la función objetivo normalmente necesita saber tanto la salida del modelo como cuál era la respuesta correcta. Estas se denominan etiquetas. En nuestro escenario, si el modelo predice la talla de las botas, nuestra etiqueta será la talla de las botas.\n",
        "\n",
        "En conjunto, esto significa que para usar un modelo solo necesitamos las características, mientras que durante el entrenamiento normalmente necesitamos tanto las características como las etiquetas. En nuestro escenario, durante el entrenamiento necesitamos tanto la característica de la talla del arnés como la etiqueta de la talla de las botas. Cuando usamos el modelo en nuestro sitio web, solo necesitamos saber la característica de la talla del arnés. A continuación, nuestro modelo calculará la talla de las botas que debemos usar."
      ],
      "metadata": {
        "id": "AolzlqizTvNf"
      }
    },
    {
      "cell_type": "markdown",
      "source": [
        "### **El entrenamiento ha finalizado. ¿Qué más?**\n",
        "\n",
        "Una vez que el modelo ha finalizado el entrenamiento, puede guardarse en un archivo. Ya no necesitamos los datos originales, la función objetivo ni el actualizador del modelo. Cuando queramos usar el modelo, podemos cargarlo desde el disco, proporcionarle nuevos datos y obtener una predicción.\n",
        "\n",
        "En el siguiente ejercicio, practicaremos cómo guardar un modelo, cargarlo desde el disco y usarlo como lo haríamos en el mundo real. Para completar nuestro escenario de la tienda en línea, también practicaremos cómo usar las salidas del modelo para advertir a los clientes si parece que van a comprar la talla equivocada de las botas para perros."
      ],
      "metadata": {
        "id": "oASGfo1jT5Xg"
      }
    },
    {
      "cell_type": "markdown",
      "source": [
        "---"
      ],
      "metadata": {
        "id": "kQjT22XzUXYW"
      }
    },
    {
      "cell_type": "markdown",
      "source": [
        "## **Ejercicio: Uso de los modelos de aprendizaje automático**"
      ],
      "metadata": {
        "id": "rzWGF2-RU981"
      }
    },
    {
      "cell_type": "markdown",
      "source": [
        "### **Ejercicio: uso de un modelo entrenado en nuevos datos**\n",
        "\n",
        "En la Unidad 3, creamos un modelo básico que nos permitió encontrar la relación entre el tamaño del arnés de un perro y el tamaño de su bota. Mostramos cómo este modelo podría usarse para hacer una predicción sobre un perro nuevo, nunca antes visto.\n",
        "\n",
        "Es común construir, entrenar y luego usar un modelo mientras estamos aprendiendo sobre el aprendizaje automático; pero en el mundo real, no queremos entrenar el modelo cada vez que queremos hacer una predicción.\n",
        "\n",
        "Considere nuestro escenario de tienda de equipos para perros de avalancha:\n",
        "\n",
        "- Queremos entrenar el modelo solo una vez, luego cargar ese modelo en el servidor que ejecuta nuestra tienda en línea.\n",
        "\n",
        "- Aunque el modelo está entrenado en un conjunto de datos que descargamos de Internet, en realidad queremos usarlo para estimar el tamaño de las botas de los perros de nuestros clientes que no están en este conjunto de datos.\n",
        "\n",
        "¿Cómo podemos hacer esto?\n",
        "\n",
        "Aquí, haremos lo siguiente:\n",
        "\n",
        "1. Crear un modelo básico\n",
        "2. Guárdelo en el disco\n",
        "3. Cargarlo desde el disco\n",
        "4. Úselo para hacer predicciones sobre un perro que no estaba en el conjunto de datos de entrenamiento"
      ],
      "metadata": {
        "id": "D74keAcsUYGv"
      }
    },
    {
      "cell_type": "markdown",
      "source": [
        "### **Cargue el conjunto de datos**\n",
        "\n",
        "Comencemos abriendo el conjunto de datos desde el archivo."
      ],
      "metadata": {
        "id": "s0hfg-a3VcPp"
      }
    },
    {
      "cell_type": "code",
      "execution_count": 1,
      "metadata": {
        "colab": {
          "base_uri": "https://localhost:8080/",
          "height": 762
        },
        "id": "TD0hSBKgR1-0",
        "outputId": "254afaf6-54aa-469d-d79f-d50d83b310e8"
      },
      "outputs": [
        {
          "output_type": "stream",
          "name": "stdout",
          "text": [
            "Looking in indexes: https://pypi.org/simple, https://us-python.pkg.dev/colab-wheels/public/simple/\n",
            "Requirement already satisfied: statsmodels in /usr/local/lib/python3.9/dist-packages (0.13.5)\n",
            "Requirement already satisfied: pandas>=0.25 in /usr/local/lib/python3.9/dist-packages (from statsmodels) (1.4.4)\n",
            "Requirement already satisfied: scipy>=1.3 in /usr/local/lib/python3.9/dist-packages (from statsmodels) (1.10.1)\n",
            "Requirement already satisfied: patsy>=0.5.2 in /usr/local/lib/python3.9/dist-packages (from statsmodels) (0.5.3)\n",
            "Requirement already satisfied: packaging>=21.3 in /usr/local/lib/python3.9/dist-packages (from statsmodels) (23.0)\n",
            "Requirement already satisfied: numpy>=1.17 in /usr/local/lib/python3.9/dist-packages (from statsmodels) (1.22.4)\n",
            "Requirement already satisfied: pytz>=2020.1 in /usr/local/lib/python3.9/dist-packages (from pandas>=0.25->statsmodels) (2022.7.1)\n",
            "Requirement already satisfied: python-dateutil>=2.8.1 in /usr/local/lib/python3.9/dist-packages (from pandas>=0.25->statsmodels) (2.8.2)\n",
            "Requirement already satisfied: six in /usr/local/lib/python3.9/dist-packages (from patsy>=0.5.2->statsmodels) (1.15.0)\n",
            "--2023-03-17 06:54:44--  https://raw.githubusercontent.com/MicrosoftDocs/mslearn-introduction-to-machine-learning/main/graphing.py\n",
            "Resolving raw.githubusercontent.com (raw.githubusercontent.com)... 185.199.110.133, 185.199.109.133, 185.199.108.133, ...\n",
            "Connecting to raw.githubusercontent.com (raw.githubusercontent.com)|185.199.110.133|:443... connected.\n",
            "HTTP request sent, awaiting response... 200 OK\n",
            "Length: 21511 (21K) [text/plain]\n",
            "Saving to: ‘graphing.py’\n",
            "\n",
            "graphing.py         100%[===================>]  21.01K  --.-KB/s    in 0.001s  \n",
            "\n",
            "2023-03-17 06:54:44 (37.3 MB/s) - ‘graphing.py’ saved [21511/21511]\n",
            "\n",
            "--2023-03-17 06:54:44--  https://raw.githubusercontent.com/MicrosoftDocs/mslearn-introduction-to-machine-learning/main/Data/doggy-boot-harness.csv\n",
            "Resolving raw.githubusercontent.com (raw.githubusercontent.com)... 185.199.108.133, 185.199.109.133, 185.199.110.133, ...\n",
            "Connecting to raw.githubusercontent.com (raw.githubusercontent.com)|185.199.108.133|:443... connected.\n",
            "HTTP request sent, awaiting response... 200 OK\n",
            "Length: 838 [text/plain]\n",
            "Saving to: ‘doggy-boot-harness.csv’\n",
            "\n",
            "doggy-boot-harness. 100%[===================>]     838  --.-KB/s    in 0s      \n",
            "\n",
            "2023-03-17 06:54:44 (36.5 MB/s) - ‘doggy-boot-harness.csv’ saved [838/838]\n",
            "\n"
          ]
        },
        {
          "output_type": "execute_result",
          "data": {
            "text/plain": [
              "   boot_size  harness_size     sex  age_years\n",
              "0         39            58    male       12.0\n",
              "1         38            58    male        9.6\n",
              "2         37            52  female        8.6\n",
              "3         39            58    male       10.2\n",
              "4         38            57    male        7.8"
            ],
            "text/html": [
              "\n",
              "  <div id=\"df-695c77a3-3077-477c-94bb-c4ec4c90d215\">\n",
              "    <div class=\"colab-df-container\">\n",
              "      <div>\n",
              "<style scoped>\n",
              "    .dataframe tbody tr th:only-of-type {\n",
              "        vertical-align: middle;\n",
              "    }\n",
              "\n",
              "    .dataframe tbody tr th {\n",
              "        vertical-align: top;\n",
              "    }\n",
              "\n",
              "    .dataframe thead th {\n",
              "        text-align: right;\n",
              "    }\n",
              "</style>\n",
              "<table border=\"1\" class=\"dataframe\">\n",
              "  <thead>\n",
              "    <tr style=\"text-align: right;\">\n",
              "      <th></th>\n",
              "      <th>boot_size</th>\n",
              "      <th>harness_size</th>\n",
              "      <th>sex</th>\n",
              "      <th>age_years</th>\n",
              "    </tr>\n",
              "  </thead>\n",
              "  <tbody>\n",
              "    <tr>\n",
              "      <th>0</th>\n",
              "      <td>39</td>\n",
              "      <td>58</td>\n",
              "      <td>male</td>\n",
              "      <td>12.0</td>\n",
              "    </tr>\n",
              "    <tr>\n",
              "      <th>1</th>\n",
              "      <td>38</td>\n",
              "      <td>58</td>\n",
              "      <td>male</td>\n",
              "      <td>9.6</td>\n",
              "    </tr>\n",
              "    <tr>\n",
              "      <th>2</th>\n",
              "      <td>37</td>\n",
              "      <td>52</td>\n",
              "      <td>female</td>\n",
              "      <td>8.6</td>\n",
              "    </tr>\n",
              "    <tr>\n",
              "      <th>3</th>\n",
              "      <td>39</td>\n",
              "      <td>58</td>\n",
              "      <td>male</td>\n",
              "      <td>10.2</td>\n",
              "    </tr>\n",
              "    <tr>\n",
              "      <th>4</th>\n",
              "      <td>38</td>\n",
              "      <td>57</td>\n",
              "      <td>male</td>\n",
              "      <td>7.8</td>\n",
              "    </tr>\n",
              "  </tbody>\n",
              "</table>\n",
              "</div>\n",
              "      <button class=\"colab-df-convert\" onclick=\"convertToInteractive('df-695c77a3-3077-477c-94bb-c4ec4c90d215')\"\n",
              "              title=\"Convert this dataframe to an interactive table.\"\n",
              "              style=\"display:none;\">\n",
              "        \n",
              "  <svg xmlns=\"http://www.w3.org/2000/svg\" height=\"24px\"viewBox=\"0 0 24 24\"\n",
              "       width=\"24px\">\n",
              "    <path d=\"M0 0h24v24H0V0z\" fill=\"none\"/>\n",
              "    <path d=\"M18.56 5.44l.94 2.06.94-2.06 2.06-.94-2.06-.94-.94-2.06-.94 2.06-2.06.94zm-11 1L8.5 8.5l.94-2.06 2.06-.94-2.06-.94L8.5 2.5l-.94 2.06-2.06.94zm10 10l.94 2.06.94-2.06 2.06-.94-2.06-.94-.94-2.06-.94 2.06-2.06.94z\"/><path d=\"M17.41 7.96l-1.37-1.37c-.4-.4-.92-.59-1.43-.59-.52 0-1.04.2-1.43.59L10.3 9.45l-7.72 7.72c-.78.78-.78 2.05 0 2.83L4 21.41c.39.39.9.59 1.41.59.51 0 1.02-.2 1.41-.59l7.78-7.78 2.81-2.81c.8-.78.8-2.07 0-2.86zM5.41 20L4 18.59l7.72-7.72 1.47 1.35L5.41 20z\"/>\n",
              "  </svg>\n",
              "      </button>\n",
              "      \n",
              "  <style>\n",
              "    .colab-df-container {\n",
              "      display:flex;\n",
              "      flex-wrap:wrap;\n",
              "      gap: 12px;\n",
              "    }\n",
              "\n",
              "    .colab-df-convert {\n",
              "      background-color: #E8F0FE;\n",
              "      border: none;\n",
              "      border-radius: 50%;\n",
              "      cursor: pointer;\n",
              "      display: none;\n",
              "      fill: #1967D2;\n",
              "      height: 32px;\n",
              "      padding: 0 0 0 0;\n",
              "      width: 32px;\n",
              "    }\n",
              "\n",
              "    .colab-df-convert:hover {\n",
              "      background-color: #E2EBFA;\n",
              "      box-shadow: 0px 1px 2px rgba(60, 64, 67, 0.3), 0px 1px 3px 1px rgba(60, 64, 67, 0.15);\n",
              "      fill: #174EA6;\n",
              "    }\n",
              "\n",
              "    [theme=dark] .colab-df-convert {\n",
              "      background-color: #3B4455;\n",
              "      fill: #D2E3FC;\n",
              "    }\n",
              "\n",
              "    [theme=dark] .colab-df-convert:hover {\n",
              "      background-color: #434B5C;\n",
              "      box-shadow: 0px 1px 3px 1px rgba(0, 0, 0, 0.15);\n",
              "      filter: drop-shadow(0px 1px 2px rgba(0, 0, 0, 0.3));\n",
              "      fill: #FFFFFF;\n",
              "    }\n",
              "  </style>\n",
              "\n",
              "      <script>\n",
              "        const buttonEl =\n",
              "          document.querySelector('#df-695c77a3-3077-477c-94bb-c4ec4c90d215 button.colab-df-convert');\n",
              "        buttonEl.style.display =\n",
              "          google.colab.kernel.accessAllowed ? 'block' : 'none';\n",
              "\n",
              "        async function convertToInteractive(key) {\n",
              "          const element = document.querySelector('#df-695c77a3-3077-477c-94bb-c4ec4c90d215');\n",
              "          const dataTable =\n",
              "            await google.colab.kernel.invokeFunction('convertToInteractive',\n",
              "                                                     [key], {});\n",
              "          if (!dataTable) return;\n",
              "\n",
              "          const docLinkHtml = 'Like what you see? Visit the ' +\n",
              "            '<a target=\"_blank\" href=https://colab.research.google.com/notebooks/data_table.ipynb>data table notebook</a>'\n",
              "            + ' to learn more about interactive tables.';\n",
              "          element.innerHTML = '';\n",
              "          dataTable['output_type'] = 'display_data';\n",
              "          await google.colab.output.renderOutput(dataTable, element);\n",
              "          const docLink = document.createElement('div');\n",
              "          docLink.innerHTML = docLinkHtml;\n",
              "          element.appendChild(docLink);\n",
              "        }\n",
              "      </script>\n",
              "    </div>\n",
              "  </div>\n",
              "  "
            ]
          },
          "metadata": {},
          "execution_count": 1
        }
      ],
      "source": [
        "import pandas\n",
        "!pip install statsmodels\n",
        "!wget https://raw.githubusercontent.com/MicrosoftDocs/mslearn-introduction-to-machine-learning/main/graphing.py\n",
        "!wget https://raw.githubusercontent.com/MicrosoftDocs/mslearn-introduction-to-machine-learning/main/Data/doggy-boot-harness.csv\n",
        "\n",
        "# Load a file containing dog's boot and harness sizes\n",
        "data = pandas.read_csv('doggy-boot-harness.csv')\n",
        "\n",
        "# Print the first few rows\n",
        "data.head()"
      ]
    },
    {
      "cell_type": "markdown",
      "source": [
        "### **Crear y entrenar un modelo**\n",
        "\n",
        "Como hemos hecho antes, crearemos un modelo de regresión lineal simple y lo entrenaremos en nuestro conjunto de datos."
      ],
      "metadata": {
        "id": "oHk71B11Vex5"
      }
    },
    {
      "cell_type": "code",
      "source": [
        "import statsmodels.formula.api as smf\n",
        "\n",
        "# Fit a simple model that finds a linear relationship\n",
        "# between boot size and harness size, which we can use later\n",
        "# to predict a dog's boot size, given their harness size\n",
        "model = smf.ols(formula = \"boot_size ~ harness_size\", data = data).fit()\n",
        "\n",
        "print(\"Model trained!\")"
      ],
      "metadata": {
        "colab": {
          "base_uri": "https://localhost:8080/"
        },
        "id": "bYK9s89tVkpr",
        "outputId": "dad543b8-614f-4156-da30-0c6d779a567d"
      },
      "execution_count": 6,
      "outputs": [
        {
          "output_type": "stream",
          "name": "stdout",
          "text": [
            "Model trained!\n"
          ]
        }
      ]
    },
    {
      "cell_type": "markdown",
      "source": [
        "### **Guardar y cargar un modelo**\n",
        "Nuestro modelo está listo para usar, pero aún no lo necesitamos. Guardémoslo en el disco."
      ],
      "metadata": {
        "id": "-o3jaDWOVe5i"
      }
    },
    {
      "cell_type": "code",
      "source": [
        "import joblib\n",
        "\n",
        "model_filename = './avalanche_dog_boot_model.pkl'\n",
        "joblib.dump(model, model_filename)\n",
        "\n",
        "print(\"Model saved!\")"
      ],
      "metadata": {
        "colab": {
          "base_uri": "https://localhost:8080/"
        },
        "id": "8pRC554BVqjj",
        "outputId": "d730fad8-ff98-47c7-a54a-e30e3c82c04d"
      },
      "execution_count": 7,
      "outputs": [
        {
          "output_type": "stream",
          "name": "stdout",
          "text": [
            "Model saved!\n"
          ]
        }
      ]
    },
    {
      "cell_type": "markdown",
      "source": [
        "\n",
        "Cargar nuestro modelo es igual de fácil:"
      ],
      "metadata": {
        "id": "XpKl4ywwVqqq"
      }
    },
    {
      "cell_type": "code",
      "source": [
        "model_loaded = joblib.load(model_filename)\n",
        "\n",
        "print(\"We have loaded a model with the following parameters:\")\n",
        "print(model_loaded.params)"
      ],
      "metadata": {
        "colab": {
          "base_uri": "https://localhost:8080/"
        },
        "id": "6oHcGhjNVt37",
        "outputId": "e61670eb-7df0-4f4c-a0f0-830a3e7e0231"
      },
      "execution_count": 8,
      "outputs": [
        {
          "output_type": "stream",
          "name": "stdout",
          "text": [
            "We have loaded a model with the following parameters:\n",
            "Intercept       5.719110\n",
            "harness_size    0.585925\n",
            "dtype: float64\n"
          ]
        }
      ]
    },
    {
      "cell_type": "markdown",
      "source": [
        "### **Ponlo junto**\n",
        "\n",
        "En nuestro sitio web, querremos tomar el arnés del perro de nuestro cliente y luego calcular el tamaño de la bota de su perro usando el modelo que ya hemos entrenado.\n",
        "\n",
        "Juntemos todo aquí para crear una función que cargue el modelo desde el disco y luego lo use para predecir la altura del tamaño de la bota del perro de nuestro cliente."
      ],
      "metadata": {
        "id": "UxXZQGa1VuAa"
      }
    },
    {
      "cell_type": "code",
      "source": [
        "# Let's write a function that loads and uses our model\n",
        "def load_model_and_predict(harness_size):\n",
        "    '''\n",
        "    This function loads a pretrained model. It uses the model\n",
        "    with the customer's dog's harness size to predict the size of\n",
        "    boots that will fit that dog.\n",
        "\n",
        "    harness_size: The dog harness size, in cm \n",
        "    '''\n",
        "\n",
        "    # Load the model from file and print basic information about it\n",
        "    loaded_model = joblib.load(model_filename)\n",
        "\n",
        "    print(\"We've loaded a model with the following parameters:\")\n",
        "    print(loaded_model.params)\n",
        "\n",
        "    # Prepare data for the model\n",
        "    inputs = {\"harness_size\":[harness_size]} \n",
        "\n",
        "    # Use the model to make a prediction\n",
        "    predicted_boot_size = loaded_model.predict(inputs)[0]\n",
        "\n",
        "    return predicted_boot_size\n",
        "\n",
        "# Practice using our model\n",
        "predicted_boot_size = load_model_and_predict(45)\n",
        "\n",
        "print(\"Predicted dog boot size:\", predicted_boot_size)"
      ],
      "metadata": {
        "colab": {
          "base_uri": "https://localhost:8080/"
        },
        "id": "K6xNGbYZVxjy",
        "outputId": "7cddb79f-60fc-4c22-c8fb-64ba365935af"
      },
      "execution_count": 9,
      "outputs": [
        {
          "output_type": "stream",
          "name": "stdout",
          "text": [
            "We've loaded a model with the following parameters:\n",
            "Intercept       5.719110\n",
            "harness_size    0.585925\n",
            "dtype: float64\n",
            "Predicted dog boot size: 32.08575356590479\n"
          ]
        }
      ]
    },
    {
      "cell_type": "markdown",
      "source": [
        "### **Uso en el mundo real**\n",
        "\n",
        "Lo hicimos; podemos predecir el tamaño de la bota de un perro de avalanchas en función del tamaño de su arnés. Nuestro último paso es usar esto para advertir a las personas si podrían estar comprando botas para perros del tamaño incorrecto.\n",
        "\n",
        "Como ejemplo, haremos una función que acepte el tamaño del arnés, el tamaño de las botas seleccionadas y devuelva un mensaje para el cliente. Integraríamos esta función en nuestra tienda online."
      ],
      "metadata": {
        "id": "rF3LB27FVxrS"
      }
    },
    {
      "cell_type": "code",
      "source": [
        "def check_size_of_boots(selected_harness_size, selected_boot_size):\n",
        "    '''\n",
        "    Calculates whether the customer has chosen a pair of doggy boots that \n",
        "    are a sensible size. This works by estimating the dog's actual boot \n",
        "    size from their harness size.\n",
        "\n",
        "    This returns a message for the customer that should be shown before\n",
        "    they complete their payment \n",
        "\n",
        "    selected_harness_size: The size of the harness the customer wants to buy\n",
        "    selected_boot_size: The size of the doggy boots the customer wants to buy\n",
        "    '''\n",
        "\n",
        "    # Estimate the customer's dog's boot size\n",
        "    estimated_boot_size = load_model_and_predict(selected_harness_size)\n",
        "\n",
        "    # Round to the nearest whole number because we don't sell partial sizes\n",
        "    estimated_boot_size = int(round(estimated_boot_size))\n",
        "\n",
        "    # Check if the boot size selected is appropriate\n",
        "    if selected_boot_size == estimated_boot_size:\n",
        "        # The selected boots are probably OK\n",
        "        return f\"Great choice! We think these boots will fit your avalanche dog well.\"\n",
        "\n",
        "    if selected_boot_size < estimated_boot_size:\n",
        "        # Selected boots might be too small \n",
        "        return \"The boots you have selected might be TOO SMALL for a dog as \"\\\n",
        "               f\"big as yours. We recommend a doggy boots size of {estimated_boot_size}.\"\n",
        "\n",
        "    if selected_boot_size > estimated_boot_size:\n",
        "        # Selected boots might be too big \n",
        "        return \"The boots you have selected might be TOO BIG for a dog as \"\\\n",
        "               f\"small as yours. We recommend a doggy boots size of {estimated_boot_size}.\"\n",
        "    \n",
        "\n",
        "# Practice using our new warning system\n",
        "check_size_of_boots(selected_harness_size=55, selected_boot_size=39)"
      ],
      "metadata": {
        "colab": {
          "base_uri": "https://localhost:8080/",
          "height": 105
        },
        "id": "9sMgvbzAV2Ny",
        "outputId": "8a74e375-83e0-4305-b47e-886f31964560"
      },
      "execution_count": 10,
      "outputs": [
        {
          "output_type": "stream",
          "name": "stdout",
          "text": [
            "We've loaded a model with the following parameters:\n",
            "Intercept       5.719110\n",
            "harness_size    0.585925\n",
            "dtype: float64\n"
          ]
        },
        {
          "output_type": "execute_result",
          "data": {
            "text/plain": [
              "'The boots you have selected might be TOO BIG for a dog as small as yours. We recommend a doggy boots size of 38.'"
            ],
            "application/vnd.google.colaboratory.intrinsic+json": {
              "type": "string"
            }
          },
          "metadata": {},
          "execution_count": 10
        }
      ]
    },
    {
      "cell_type": "markdown",
      "source": [
        "Cambie `selected_harness_size` y `selected_boot_size` en el ejemplo anterior y vuelva a ejecutar la celda para ver esto en acción."
      ],
      "metadata": {
        "id": "vDLz5seZV2Wa"
      }
    },
    {
      "cell_type": "markdown",
      "source": [
        "**Resumen**\n",
        "\n",
        "¡Bien hecho! Hemos creado un sistema que puede predecir si los clientes están comprando botas para perros que no se ajustan a su perro de avalancha, basándose únicamente en el tamaño del arnés que están comprando.\n",
        "\n",
        "En este ejercicio practicamos:\n",
        "\n",
        "1. Crear modelos básicos\n",
        "2. Entrenando, luego guardándolos en el disco\n",
        "3. Cargándolos desde el disco\n",
        "4. Hacer predicciones con ellos utilizando nuevos conjuntos de datos."
      ],
      "metadata": {
        "id": "kDf08YI3WBzq"
      }
    }
  ]
}