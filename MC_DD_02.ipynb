{
  "nbformat": 4,
  "nbformat_minor": 0,
  "metadata": {
    "colab": {
      "provenance": [],
      "authorship_tag": "ABX9TyMvHRtsPCNnY5VNkF605gtI"
    },
    "kernelspec": {
      "name": "python3",
      "display_name": "Python 3"
    },
    "language_info": {
      "name": "python"
    }
  },
  "cells": [
    {
      "cell_type": "markdown",
      "source": [
        "<font color=\"Lime\"><h1 align ='center'><b><u>Desequilibrios de datos</u></b></h1></font>"
      ],
      "metadata": {
        "id": "M608n_WgTt51"
      }
    },
    {
      "cell_type": "markdown",
      "source": [
        "Cuando nuestras etiquetas de datos tienen más de una categoría que otra, se dice que tenemos un desequilibrio de datos. Por ejemplo, recuerde que, en nuestro escenario, estamos intentando identificar los objetos encontrados por los sensores de drones. Nuestros datos están desequilibrados, porque hay un número enormemente diferente de excursionistas, animales, árboles y rocas en nuestros datos de entrenamiento. Esto se puede ver mediante la tabulación de estos datos:"
      ],
      "metadata": {
        "id": "dGmK9dS_ULcB"
      }
    },
    {
      "cell_type": "markdown",
      "source": [
        "<div align = \"center\">\n",
        "\n",
        "| Etiqueta\t| Excursionista\t| Animal\t| Árbol\t| Piedra |\n",
        "|:-----:|:-----:|:-----:|:-----:|:-----:|\n",
        "|Count\t| 400\t| 200\t| 800\t| 800 |\n",
        "\n",
        "</div>"
      ],
      "metadata": {
        "id": "68Zrm-6iUWy6"
      }
    },
    {
      "cell_type": "markdown",
      "source": [
        "O bien, se puede representar de esta manera:"
      ],
      "metadata": {
        "id": "jLXPotatU-Tn"
      }
    },
    {
      "cell_type": "markdown",
      "source": [
        "<div>\n",
        "<p align=\"center\">\n",
        "<img src=\"https://raw.githubusercontent.com/JuanCamilo18/MM_Datos/main/imags/MCyDD/MC_02_01_dis.JPG\">\n",
        "</p>\n",
        "</div>"
      ],
      "metadata": {
        "id": "Jrxf3v8BVf93"
      }
    },
    {
      "cell_type": "markdown",
      "source": [
        "Observe cómo la mayoría de los datos son árboles o rocas. Un conjunto de datos equilibrado no tiene este problema.\n",
        "\n",
        "Por ejemplo, si intentáramos predecir si un objeto es un excursionista, un animal, un árbol o una roca, lo ideal sería tener un número igual de todas las categorías, de la siguiente manera:"
      ],
      "metadata": {
        "id": "fEPT9PsnVgL1"
      }
    },
    {
      "cell_type": "markdown",
      "source": [
        "<div align = \"center\">\n",
        "\n",
        "| Etiqueta\t| Excursionista\t| Animal\t| Árbol\t| Piedra |\n",
        "|:-----:|:-----:|:-----:|:-----:|:-----:|\n",
        "|Count\t| 550\t| 550\t| 550\t| 550 |\n",
        "\n",
        "</div>"
      ],
      "metadata": {
        "id": "oeyPzS_MVg7X"
      }
    },
    {
      "cell_type": "markdown",
      "source": [
        "Si simplemente intentáramos predecir si un objeto era un excursionista, lo ideal sería tener un número igual de objetos de excursionista y objetos de no excursionista:"
      ],
      "metadata": {
        "id": "nYX8S39MV8Le"
      }
    },
    {
      "cell_type": "markdown",
      "source": [
        "<div align = \"center\">\n",
        "\n",
        "| Etiqueta\t| Excursionista\t| No excursionista |\n",
        "|:-----:|:-----:|:-----:|\n",
        "|Count\t| 1100\t| 1100\t|\n",
        "\n",
        "</div>"
      ],
      "metadata": {
        "id": "ccEc71GrWD3e"
      }
    },
    {
      "cell_type": "markdown",
      "source": [
        "## <font color='B8E139'><b>¿Por qué son importantes los desequilibrios de datos?</b></font>\n",
        "\n",
        "Los desequilibrios de datos son importantes porque los modelos pueden aprender a imitar estos desequilibrios cuando no es deseable. Por ejemplo, imagine que entrenamos un modelo de regresión logística para identificar objetos como excursionista o no excursionista. Si en los datos de entrenamiento dominan en gran medida las etiquetas de \"excursionista\", el entrenamiento sesgará el modelo para devolver casi siempre estas etiquetas. Sin embargo, en el mundo real, es posible que descubramos que la mayoría de las cosas que encuentran los drones son árboles. Es probable que el modelo sesgado etiquete muchos de estos árboles como excursionistas.\n",
        "\n",
        "Este fenómeno tiene lugar porque las funciones de costo, de forma predeterminada, determinan si se ha dado la respuesta correcta. Esto significa que, en un conjunto de datos sesgado, la manera más sencilla que tiene un modelo de alcanzar un rendimiento óptimo puede ser omitir prácticamente las características proporcionadas y siempre, o casi siempre, devolver la misma respuesta. Esta situación puede tener consecuencias negativas. Por ejemplo, imagine que nuestro modelo de excursionista/no excursionista se entrena con datos donde solo 1 de cada 1000 muestras contienen un excursionista. Un modelo que ha aprendido a devolver \"no excursionista\" cada vez tiene una precisión del 99,9 %. Esta estadística parece excelente, pero el modelo es inútil porque nunca nos dirá si alguien está en la montaña, y no sabremos rescatarlo si se produce una avalancha."
      ],
      "metadata": {
        "id": "wEVX--17Tw0e"
      }
    },
    {
      "cell_type": "markdown",
      "source": [
        "## <font color='B8E139'><b>Sesgo en una matriz de confusión</b></font>\n",
        "\n",
        "Las matrices de confusión son la clave para identificar los desequilibrios de datos o el sesgo del modelo. En un escenario ideal, los datos de prueba tienen un número aproximadamente igual de etiquetas y las predicciones realizadas por el modelo también se reparten aproximadamente entre las etiquetas. En 1000 muestras, un modelo no sesgado, pero que a menudo obtiene respuestas incorrectas, podría tener un aspecto parecido al siguiente:"
      ],
      "metadata": {
        "id": "Lm1zxJRAT0Pa"
      }
    },
    {
      "cell_type": "markdown",
      "source": [
        "<div>\n",
        "<p align=\"center\">\n",
        "<img src=\"https://raw.githubusercontent.com/JuanCamilo18/MM_Datos/main/imags/MCyDD/MC_02_02_MCopti.JPG\">\n",
        "</p>\n",
        "</div>"
      ],
      "metadata": {
        "id": "HQ4k1lvcXWka"
      }
    },
    {
      "cell_type": "markdown",
      "source": [
        "Podemos indicar que los datos de entrada no están sesgados, porque las sumas de las filas son las mismas (500 cada una), lo que indica que la mitad de las etiquetas son \"true\" y la mitad son \"false\". Del mismo modo, podemos ver que el modelo está dando respuestas no sesgadas porque devuelve \"true\" la mitad del tiempo y \"false\" la otra mitad.\n",
        "\n",
        "Por el contrario, los datos sesgados contienen principalmente un tipo de etiqueta, como:"
      ],
      "metadata": {
        "id": "s4dyMggMaZWY"
      }
    },
    {
      "cell_type": "markdown",
      "source": [
        "<div>\n",
        "<p align=\"center\">\n",
        "<img src=\"https://raw.githubusercontent.com/JuanCamilo18/MM_Datos/main/imags/MCyDD/MC_02_03_MCopti_sesg.JPG\">\n",
        "</p>\n",
        "</div>"
      ],
      "metadata": {
        "id": "w0Jb9fW3Z9s-"
      }
    },
    {
      "cell_type": "markdown",
      "source": [
        "De forma similar, un modelo sesgado genera principalmente un tipo de etiqueta, como la siguiente:"
      ],
      "metadata": {
        "id": "nLyxOYZkas_1"
      }
    },
    {
      "cell_type": "markdown",
      "source": [
        "<div>\n",
        "<p align=\"center\">\n",
        "<img src=\"https://raw.githubusercontent.com/JuanCamilo18/MM_Datos/main/imags/MCyDD/MC_02_04_MCopti_sesg2.JPG\">\n",
        "</p>\n",
        "</div>"
      ],
      "metadata": {
        "id": "jK-MAvMCZ-IM"
      }
    },
    {
      "cell_type": "markdown",
      "source": [
        "## <font color='B8E139'><b>El sesgo del modelo no es la precisión</b></font>\n",
        "\n",
        "Recuerde que el sesgo no es la precisión. Por ejemplo, algunos de los ejemplos anteriores están sesgados y otros no, pero todos muestran un modelo que obtiene la respuesta correcta el 50 % de las veces. Como ejemplo más extremo, la siguiente matriz muestra un modelo no sesgado que es inexacto:"
      ],
      "metadata": {
        "id": "UXmUgANPT0j4"
      }
    },
    {
      "cell_type": "markdown",
      "source": [
        "<div>\n",
        "<p align=\"center\">\n",
        "<img src=\"https://raw.githubusercontent.com/JuanCamilo18/MM_Datos/main/imags/MCyDD/MC_02_05_sesg.JPG\">\n",
        "</p>\n",
        "</div>"
      ],
      "metadata": {
        "id": "x239HoBOZ-d8"
      }
    },
    {
      "cell_type": "markdown",
      "source": [
        "Observe cómo el número de filas y columnas se agrega a 500, lo que indica que ambos datos están equilibrados y que el modelo no está sesgado. Sin embargo, este modelo está obteniendo casi todas las respuestas incorrectas."
      ],
      "metadata": {
        "id": "M7_L95OKa2j1"
      }
    },
    {
      "cell_type": "markdown",
      "source": [
        "Por supuesto, **nuestro objetivo es que los modelos sean precisos y no sesgados**, por ejemplo:"
      ],
      "metadata": {
        "id": "MWQJVtT9bhoT"
      }
    },
    {
      "cell_type": "markdown",
      "source": [
        "<div>\n",
        "<p align=\"center\">\n",
        "<img src=\"https://raw.githubusercontent.com/JuanCamilo18/MM_Datos/main/imags/MCyDD/MC_02_06_preci.JPG\">\n",
        "</p>\n",
        "</div>"
      ],
      "metadata": {
        "id": "zknATOBxZ-tc"
      }
    },
    {
      "cell_type": "markdown",
      "source": [
        "... pero debemos asegurarnos de que nuestros modelos precisos no estén sesgados, simplemente porque los datos son:"
      ],
      "metadata": {
        "id": "JNdOuC79b4d0"
      }
    },
    {
      "cell_type": "markdown",
      "source": [
        "<div>\n",
        "<p align=\"center\">\n",
        "<img src=\"https://raw.githubusercontent.com/JuanCamilo18/MM_Datos/main/imags/MCyDD/MC_02_07_preci2.JPG\">\n",
        "</p>\n",
        "</div>"
      ],
      "metadata": {
        "id": "P1VfqZe7Z_FU"
      }
    },
    {
      "cell_type": "markdown",
      "source": [
        "En este ejemplo, observe cómo las etiquetas reales son principalmente \"false\" (columna izquierda, **que muestra un desequilibrio de datos**) y que el modelo también devuelve con frecuencia \"false\" (fila superior, **que muestra el sesgo del modelo**). Este modelo no es bueno para dar correctamente respuestas \"true\"."
      ],
      "metadata": {
        "id": "GOjmzMLKcCH-"
      }
    },
    {
      "cell_type": "markdown",
      "source": [
        "## <font color='B8E139'><b>Evitar las consecuencias de los datos desequilibrados</b></font>\n",
        "\n",
        "Algunas de las formas más sencillas de evitar las consecuencias de los datos desequilibrados son:\n",
        "\n",
        "- Realizar una mejor selección de datos.\n",
        "- \"Volver a muestrear\" los datos para que contengan duplicados de la clase de etiqueta minoritaria.\n",
        "- Realizar cambios en la función de costo para que dé prioridad a las etiquetas menos comunes. Por ejemplo, si se da la respuesta incorrecta a Árbol, la función de costo podría devolver 1, mientras que, si se da la respuesta incorrecta a Excursionista, podría devolver 10.\n",
        "\n",
        "Exploraremos estos métodos en el ejercicio siguiente."
      ],
      "metadata": {
        "id": "aBY32KPfT0qI"
      }
    },
    {
      "cell_type": "markdown",
      "source": [
        "\n",
        "\n",
        "---\n",
        "\n"
      ],
      "metadata": {
        "id": "1ZgpGFy7ccZE"
      }
    },
    {
      "cell_type": "markdown",
      "source": [
        "## <font color='B8E139'><b>Ejercicio: Resolución de sesgos en un modelo de clasificación</b></font>\n"
      ],
      "metadata": {
        "id": "ENh3mo9fT0wI"
      }
    },
    {
      "cell_type": "markdown",
      "source": [
        "## <font color='B8E139'><b>Ejercicio: sesgo del modelo de datos desequilibrados</b></font>\n",
        "\n",
        "En este ejercicio, analizaremos más de cerca los conjuntos de datos desequilibrados , qué efectos tienen en las predicciones y cómo se pueden abordar.\n",
        "\n",
        "También emplearemos matrices de confusión para evaluar las actualizaciones del modelo."
      ],
      "metadata": {
        "id": "77f5L0iEddE5"
      }
    },
    {
      "cell_type": "markdown",
      "source": [
        "### <font color='B8E139'><b>Visualización de datos</b></font>\n",
        "\n",
        "Al igual que en el ejercicio anterior, usamos un conjunto de datos que representa diferentes clases de objetos que se encuentran en la montaña:"
      ],
      "metadata": {
        "id": "NolXYReXT00p"
      }
    },
    {
      "cell_type": "code",
      "source": [
        "import pandas\n",
        "!wget https://raw.githubusercontent.com/MicrosoftDocs/mslearn-introduction-to-machine-learning/main/graphing.py\n",
        "!wget https://raw.githubusercontent.com/MicrosoftDocs/mslearn-introduction-to-machine-learning/main/Data/snow_objects.csv\n",
        "!wget https://raw.githubusercontent.com/MicrosoftDocs/mslearn-introduction-to-machine-learning/main/Data/snow_objects_balanced.csv\n",
        "\n",
        "#Import the data from the .csv file\n",
        "dataset = pandas.read_csv('snow_objects.csv', delimiter=\"\\t\")\n",
        "\n",
        "# Let's have a look at the data\n",
        "dataset"
      ],
      "metadata": {
        "colab": {
          "base_uri": "https://localhost:8080/",
          "height": 997
        },
        "id": "3CsW_WB-eSEA",
        "outputId": "9fddf4d9-e344-4cb3-daab-da5393f5569b"
      },
      "execution_count": 4,
      "outputs": [
        {
          "output_type": "stream",
          "name": "stdout",
          "text": [
            "--2023-03-26 05:57:39--  https://raw.githubusercontent.com/MicrosoftDocs/mslearn-introduction-to-machine-learning/main/graphing.py\n",
            "Resolving raw.githubusercontent.com (raw.githubusercontent.com)... 185.199.108.133, 185.199.109.133, 185.199.110.133, ...\n",
            "Connecting to raw.githubusercontent.com (raw.githubusercontent.com)|185.199.108.133|:443... connected.\n",
            "HTTP request sent, awaiting response... 200 OK\n",
            "Length: 21511 (21K) [text/plain]\n",
            "Saving to: ‘graphing.py’\n",
            "\n",
            "graphing.py         100%[===================>]  21.01K  --.-KB/s    in 0.02s   \n",
            "\n",
            "2023-03-26 05:57:40 (1.20 MB/s) - ‘graphing.py’ saved [21511/21511]\n",
            "\n",
            "--2023-03-26 05:57:40--  https://raw.githubusercontent.com/MicrosoftDocs/mslearn-introduction-to-machine-learning/main/Data/snow_objects.csv\n",
            "Resolving raw.githubusercontent.com (raw.githubusercontent.com)... 185.199.109.133, 185.199.108.133, 185.199.111.133, ...\n",
            "Connecting to raw.githubusercontent.com (raw.githubusercontent.com)|185.199.109.133|:443... connected.\n",
            "HTTP request sent, awaiting response... 200 OK\n",
            "Length: 143797 (140K) [text/plain]\n",
            "Saving to: ‘snow_objects.csv’\n",
            "\n",
            "snow_objects.csv    100%[===================>] 140.43K  --.-KB/s    in 0.02s   \n",
            "\n",
            "2023-03-26 05:57:40 (8.84 MB/s) - ‘snow_objects.csv’ saved [143797/143797]\n",
            "\n",
            "--2023-03-26 05:57:40--  https://raw.githubusercontent.com/MicrosoftDocs/mslearn-introduction-to-machine-learning/main/Data/snow_objects_balanced.csv\n",
            "Resolving raw.githubusercontent.com (raw.githubusercontent.com)... 185.199.108.133, 185.199.109.133, 185.199.110.133, ...\n",
            "Connecting to raw.githubusercontent.com (raw.githubusercontent.com)|185.199.108.133|:443... connected.\n",
            "HTTP request sent, awaiting response... 200 OK\n",
            "Length: 131615 (129K) [text/plain]\n",
            "Saving to: ‘snow_objects_balanced.csv’\n",
            "\n",
            "snow_objects_balanc 100%[===================>] 128.53K  --.-KB/s    in 0.009s  \n",
            "\n",
            "2023-03-26 05:57:40 (14.6 MB/s) - ‘snow_objects_balanced.csv’ saved [131615/131615]\n",
            "\n"
          ]
        },
        {
          "output_type": "execute_result",
          "data": {
            "text/plain": [
              "           size  roughness  color    motion   label\n",
              "0     50.959361   1.318226  green  0.054290    tree\n",
              "1     60.008521   0.554291  brown  0.000000    tree\n",
              "2     20.530772   1.097752  white  1.380464    tree\n",
              "3     28.092138   0.966482   grey  0.650528    tree\n",
              "4     48.344211   0.799093   grey  0.000000    tree\n",
              "...         ...        ...    ...       ...     ...\n",
              "2195   1.918175   1.182234  white  0.000000  animal\n",
              "2196   1.000694   1.332152  black  4.041097  animal\n",
              "2197   2.331485   0.734561  brown  0.961486  animal\n",
              "2198   1.786560   0.707935  black  0.000000  animal\n",
              "2199   1.518813   1.447957  brown  0.000000  animal\n",
              "\n",
              "[2200 rows x 5 columns]"
            ],
            "text/html": [
              "\n",
              "  <div id=\"df-0cb64a67-0eaa-454a-a0b6-b566407600cf\">\n",
              "    <div class=\"colab-df-container\">\n",
              "      <div>\n",
              "<style scoped>\n",
              "    .dataframe tbody tr th:only-of-type {\n",
              "        vertical-align: middle;\n",
              "    }\n",
              "\n",
              "    .dataframe tbody tr th {\n",
              "        vertical-align: top;\n",
              "    }\n",
              "\n",
              "    .dataframe thead th {\n",
              "        text-align: right;\n",
              "    }\n",
              "</style>\n",
              "<table border=\"1\" class=\"dataframe\">\n",
              "  <thead>\n",
              "    <tr style=\"text-align: right;\">\n",
              "      <th></th>\n",
              "      <th>size</th>\n",
              "      <th>roughness</th>\n",
              "      <th>color</th>\n",
              "      <th>motion</th>\n",
              "      <th>label</th>\n",
              "    </tr>\n",
              "  </thead>\n",
              "  <tbody>\n",
              "    <tr>\n",
              "      <th>0</th>\n",
              "      <td>50.959361</td>\n",
              "      <td>1.318226</td>\n",
              "      <td>green</td>\n",
              "      <td>0.054290</td>\n",
              "      <td>tree</td>\n",
              "    </tr>\n",
              "    <tr>\n",
              "      <th>1</th>\n",
              "      <td>60.008521</td>\n",
              "      <td>0.554291</td>\n",
              "      <td>brown</td>\n",
              "      <td>0.000000</td>\n",
              "      <td>tree</td>\n",
              "    </tr>\n",
              "    <tr>\n",
              "      <th>2</th>\n",
              "      <td>20.530772</td>\n",
              "      <td>1.097752</td>\n",
              "      <td>white</td>\n",
              "      <td>1.380464</td>\n",
              "      <td>tree</td>\n",
              "    </tr>\n",
              "    <tr>\n",
              "      <th>3</th>\n",
              "      <td>28.092138</td>\n",
              "      <td>0.966482</td>\n",
              "      <td>grey</td>\n",
              "      <td>0.650528</td>\n",
              "      <td>tree</td>\n",
              "    </tr>\n",
              "    <tr>\n",
              "      <th>4</th>\n",
              "      <td>48.344211</td>\n",
              "      <td>0.799093</td>\n",
              "      <td>grey</td>\n",
              "      <td>0.000000</td>\n",
              "      <td>tree</td>\n",
              "    </tr>\n",
              "    <tr>\n",
              "      <th>...</th>\n",
              "      <td>...</td>\n",
              "      <td>...</td>\n",
              "      <td>...</td>\n",
              "      <td>...</td>\n",
              "      <td>...</td>\n",
              "    </tr>\n",
              "    <tr>\n",
              "      <th>2195</th>\n",
              "      <td>1.918175</td>\n",
              "      <td>1.182234</td>\n",
              "      <td>white</td>\n",
              "      <td>0.000000</td>\n",
              "      <td>animal</td>\n",
              "    </tr>\n",
              "    <tr>\n",
              "      <th>2196</th>\n",
              "      <td>1.000694</td>\n",
              "      <td>1.332152</td>\n",
              "      <td>black</td>\n",
              "      <td>4.041097</td>\n",
              "      <td>animal</td>\n",
              "    </tr>\n",
              "    <tr>\n",
              "      <th>2197</th>\n",
              "      <td>2.331485</td>\n",
              "      <td>0.734561</td>\n",
              "      <td>brown</td>\n",
              "      <td>0.961486</td>\n",
              "      <td>animal</td>\n",
              "    </tr>\n",
              "    <tr>\n",
              "      <th>2198</th>\n",
              "      <td>1.786560</td>\n",
              "      <td>0.707935</td>\n",
              "      <td>black</td>\n",
              "      <td>0.000000</td>\n",
              "      <td>animal</td>\n",
              "    </tr>\n",
              "    <tr>\n",
              "      <th>2199</th>\n",
              "      <td>1.518813</td>\n",
              "      <td>1.447957</td>\n",
              "      <td>brown</td>\n",
              "      <td>0.000000</td>\n",
              "      <td>animal</td>\n",
              "    </tr>\n",
              "  </tbody>\n",
              "</table>\n",
              "<p>2200 rows × 5 columns</p>\n",
              "</div>\n",
              "      <button class=\"colab-df-convert\" onclick=\"convertToInteractive('df-0cb64a67-0eaa-454a-a0b6-b566407600cf')\"\n",
              "              title=\"Convert this dataframe to an interactive table.\"\n",
              "              style=\"display:none;\">\n",
              "        \n",
              "  <svg xmlns=\"http://www.w3.org/2000/svg\" height=\"24px\"viewBox=\"0 0 24 24\"\n",
              "       width=\"24px\">\n",
              "    <path d=\"M0 0h24v24H0V0z\" fill=\"none\"/>\n",
              "    <path d=\"M18.56 5.44l.94 2.06.94-2.06 2.06-.94-2.06-.94-.94-2.06-.94 2.06-2.06.94zm-11 1L8.5 8.5l.94-2.06 2.06-.94-2.06-.94L8.5 2.5l-.94 2.06-2.06.94zm10 10l.94 2.06.94-2.06 2.06-.94-2.06-.94-.94-2.06-.94 2.06-2.06.94z\"/><path d=\"M17.41 7.96l-1.37-1.37c-.4-.4-.92-.59-1.43-.59-.52 0-1.04.2-1.43.59L10.3 9.45l-7.72 7.72c-.78.78-.78 2.05 0 2.83L4 21.41c.39.39.9.59 1.41.59.51 0 1.02-.2 1.41-.59l7.78-7.78 2.81-2.81c.8-.78.8-2.07 0-2.86zM5.41 20L4 18.59l7.72-7.72 1.47 1.35L5.41 20z\"/>\n",
              "  </svg>\n",
              "      </button>\n",
              "      \n",
              "  <style>\n",
              "    .colab-df-container {\n",
              "      display:flex;\n",
              "      flex-wrap:wrap;\n",
              "      gap: 12px;\n",
              "    }\n",
              "\n",
              "    .colab-df-convert {\n",
              "      background-color: #E8F0FE;\n",
              "      border: none;\n",
              "      border-radius: 50%;\n",
              "      cursor: pointer;\n",
              "      display: none;\n",
              "      fill: #1967D2;\n",
              "      height: 32px;\n",
              "      padding: 0 0 0 0;\n",
              "      width: 32px;\n",
              "    }\n",
              "\n",
              "    .colab-df-convert:hover {\n",
              "      background-color: #E2EBFA;\n",
              "      box-shadow: 0px 1px 2px rgba(60, 64, 67, 0.3), 0px 1px 3px 1px rgba(60, 64, 67, 0.15);\n",
              "      fill: #174EA6;\n",
              "    }\n",
              "\n",
              "    [theme=dark] .colab-df-convert {\n",
              "      background-color: #3B4455;\n",
              "      fill: #D2E3FC;\n",
              "    }\n",
              "\n",
              "    [theme=dark] .colab-df-convert:hover {\n",
              "      background-color: #434B5C;\n",
              "      box-shadow: 0px 1px 3px 1px rgba(0, 0, 0, 0.15);\n",
              "      filter: drop-shadow(0px 1px 2px rgba(0, 0, 0, 0.3));\n",
              "      fill: #FFFFFF;\n",
              "    }\n",
              "  </style>\n",
              "\n",
              "      <script>\n",
              "        const buttonEl =\n",
              "          document.querySelector('#df-0cb64a67-0eaa-454a-a0b6-b566407600cf button.colab-df-convert');\n",
              "        buttonEl.style.display =\n",
              "          google.colab.kernel.accessAllowed ? 'block' : 'none';\n",
              "\n",
              "        async function convertToInteractive(key) {\n",
              "          const element = document.querySelector('#df-0cb64a67-0eaa-454a-a0b6-b566407600cf');\n",
              "          const dataTable =\n",
              "            await google.colab.kernel.invokeFunction('convertToInteractive',\n",
              "                                                     [key], {});\n",
              "          if (!dataTable) return;\n",
              "\n",
              "          const docLinkHtml = 'Like what you see? Visit the ' +\n",
              "            '<a target=\"_blank\" href=https://colab.research.google.com/notebooks/data_table.ipynb>data table notebook</a>'\n",
              "            + ' to learn more about interactive tables.';\n",
              "          element.innerHTML = '';\n",
              "          dataTable['output_type'] = 'display_data';\n",
              "          await google.colab.output.renderOutput(dataTable, element);\n",
              "          const docLink = document.createElement('div');\n",
              "          docLink.innerHTML = docLinkHtml;\n",
              "          element.appendChild(docLink);\n",
              "        }\n",
              "      </script>\n",
              "    </div>\n",
              "  </div>\n",
              "  "
            ]
          },
          "metadata": {},
          "execution_count": 4
        }
      ]
    },
    {
      "cell_type": "markdown",
      "source": [
        "Recuerde que tenemos un conjunto de datos desequilibrado . Algunas clases son mucho más frecuentes que otras:"
      ],
      "metadata": {
        "id": "T9YaSsQfT05k"
      }
    },
    {
      "cell_type": "code",
      "source": [
        "import graphing # custom graphing code. See our GitHub repo for details\n",
        "\n",
        "# Plot a histogram with counts for each label\n",
        "graphing.multiple_histogram(dataset, label_x=\"label\", label_group=\"label\", title=\"Label distribution\")"
      ],
      "metadata": {
        "colab": {
          "base_uri": "https://localhost:8080/",
          "height": 417
        },
        "id": "0aznr1FGeajY",
        "outputId": "5fa50c57-3a82-4cbd-956d-58c58b4ae152"
      },
      "execution_count": 5,
      "outputs": [
        {
          "output_type": "display_data",
          "data": {
            "text/html": [
              "<html>\n",
              "<head><meta charset=\"utf-8\" /></head>\n",
              "<body>\n",
              "    <div>            <script src=\"https://cdnjs.cloudflare.com/ajax/libs/mathjax/2.7.5/MathJax.js?config=TeX-AMS-MML_SVG\"></script><script type=\"text/javascript\">if (window.MathJax && window.MathJax.Hub && window.MathJax.Hub.Config) {window.MathJax.Hub.Config({SVG: {font: \"STIX-Web\"}});}</script>                <script type=\"text/javascript\">window.PlotlyConfig = {MathJaxConfig: 'local'};</script>\n",
              "        <script src=\"https://cdn.plot.ly/plotly-2.18.2.min.js\"></script>                <div id=\"a15874d5-0ad7-48cd-b594-3683d50a6390\" class=\"plotly-graph-div\" style=\"height:400px; width:100%;\"></div>            <script type=\"text/javascript\">                                    window.PLOTLYENV=window.PLOTLYENV || {};                                    if (document.getElementById(\"a15874d5-0ad7-48cd-b594-3683d50a6390\")) {                    Plotly.newPlot(                        \"a15874d5-0ad7-48cd-b594-3683d50a6390\",                        [{\"histfunc\":\"count\",\"name\":\"animal\",\"x\":[\"animal\",\"animal\",\"animal\",\"animal\",\"animal\",\"animal\",\"animal\",\"animal\",\"animal\",\"animal\",\"animal\",\"animal\",\"animal\",\"animal\",\"animal\",\"animal\",\"animal\",\"animal\",\"animal\",\"animal\",\"animal\",\"animal\",\"animal\",\"animal\",\"animal\",\"animal\",\"animal\",\"animal\",\"animal\",\"animal\",\"animal\",\"animal\",\"animal\",\"animal\",\"animal\",\"animal\",\"animal\",\"animal\",\"animal\",\"animal\",\"animal\",\"animal\",\"animal\",\"animal\",\"animal\",\"animal\",\"animal\",\"animal\",\"animal\",\"animal\",\"animal\",\"animal\",\"animal\",\"animal\",\"animal\",\"animal\",\"animal\",\"animal\",\"animal\",\"animal\",\"animal\",\"animal\",\"animal\",\"animal\",\"animal\",\"animal\",\"animal\",\"animal\",\"animal\",\"animal\",\"animal\",\"animal\",\"animal\",\"animal\",\"animal\",\"animal\",\"animal\",\"animal\",\"animal\",\"animal\",\"animal\",\"animal\",\"animal\",\"animal\",\"animal\",\"animal\",\"animal\",\"animal\",\"animal\",\"animal\",\"animal\",\"animal\",\"animal\",\"animal\",\"animal\",\"animal\",\"animal\",\"animal\",\"animal\",\"animal\",\"animal\",\"animal\",\"animal\",\"animal\",\"animal\",\"animal\",\"animal\",\"animal\",\"animal\",\"animal\",\"animal\",\"animal\",\"animal\",\"animal\",\"animal\",\"animal\",\"animal\",\"animal\",\"animal\",\"animal\",\"animal\",\"animal\",\"animal\",\"animal\",\"animal\",\"animal\",\"animal\",\"animal\",\"animal\",\"animal\",\"animal\",\"animal\",\"animal\",\"animal\",\"animal\",\"animal\",\"animal\",\"animal\",\"animal\",\"animal\",\"animal\",\"animal\",\"animal\",\"animal\",\"animal\",\"animal\",\"animal\",\"animal\",\"animal\",\"animal\",\"animal\",\"animal\",\"animal\",\"animal\",\"animal\",\"animal\",\"animal\",\"animal\",\"animal\",\"animal\",\"animal\",\"animal\",\"animal\",\"animal\",\"animal\",\"animal\",\"animal\",\"animal\",\"animal\",\"animal\",\"animal\",\"animal\",\"animal\",\"animal\",\"animal\",\"animal\",\"animal\",\"animal\",\"animal\",\"animal\",\"animal\",\"animal\",\"animal\",\"animal\",\"animal\",\"animal\",\"animal\",\"animal\",\"animal\",\"animal\",\"animal\",\"animal\",\"animal\",\"animal\",\"animal\",\"animal\",\"animal\",\"animal\",\"animal\",\"animal\"],\"type\":\"histogram\"},{\"histfunc\":\"count\",\"name\":\"hiker\",\"x\":[\"hiker\",\"hiker\",\"hiker\",\"hiker\",\"hiker\",\"hiker\",\"hiker\",\"hiker\",\"hiker\",\"hiker\",\"hiker\",\"hiker\",\"hiker\",\"hiker\",\"hiker\",\"hiker\",\"hiker\",\"hiker\",\"hiker\",\"hiker\",\"hiker\",\"hiker\",\"hiker\",\"hiker\",\"hiker\",\"hiker\",\"hiker\",\"hiker\",\"hiker\",\"hiker\",\"hiker\",\"hiker\",\"hiker\",\"hiker\",\"hiker\",\"hiker\",\"hiker\",\"hiker\",\"hiker\",\"hiker\",\"hiker\",\"hiker\",\"hiker\",\"hiker\",\"hiker\",\"hiker\",\"hiker\",\"hiker\",\"hiker\",\"hiker\",\"hiker\",\"hiker\",\"hiker\",\"hiker\",\"hiker\",\"hiker\",\"hiker\",\"hiker\",\"hiker\",\"hiker\",\"hiker\",\"hiker\",\"hiker\",\"hiker\",\"hiker\",\"hiker\",\"hiker\",\"hiker\",\"hiker\",\"hiker\",\"hiker\",\"hiker\",\"hiker\",\"hiker\",\"hiker\",\"hiker\",\"hiker\",\"hiker\",\"hiker\",\"hiker\",\"hiker\",\"hiker\",\"hiker\",\"hiker\",\"hiker\",\"hiker\",\"hiker\",\"hiker\",\"hiker\",\"hiker\",\"hiker\",\"hiker\",\"hiker\",\"hiker\",\"hiker\",\"hiker\",\"hiker\",\"hiker\",\"hiker\",\"hiker\",\"hiker\",\"hiker\",\"hiker\",\"hiker\",\"hiker\",\"hiker\",\"hiker\",\"hiker\",\"hiker\",\"hiker\",\"hiker\",\"hiker\",\"hiker\",\"hiker\",\"hiker\",\"hiker\",\"hiker\",\"hiker\",\"hiker\",\"hiker\",\"hiker\",\"hiker\",\"hiker\",\"hiker\",\"hiker\",\"hiker\",\"hiker\",\"hiker\",\"hiker\",\"hiker\",\"hiker\",\"hiker\",\"hiker\",\"hiker\",\"hiker\",\"hiker\",\"hiker\",\"hiker\",\"hiker\",\"hiker\",\"hiker\",\"hiker\",\"hiker\",\"hiker\",\"hiker\",\"hiker\",\"hiker\",\"hiker\",\"hiker\",\"hiker\",\"hiker\",\"hiker\",\"hiker\",\"hiker\",\"hiker\",\"hiker\",\"hiker\",\"hiker\",\"hiker\",\"hiker\",\"hiker\",\"hiker\",\"hiker\",\"hiker\",\"hiker\",\"hiker\",\"hiker\",\"hiker\",\"hiker\",\"hiker\",\"hiker\",\"hiker\",\"hiker\",\"hiker\",\"hiker\",\"hiker\",\"hiker\",\"hiker\",\"hiker\",\"hiker\",\"hiker\",\"hiker\",\"hiker\",\"hiker\",\"hiker\",\"hiker\",\"hiker\",\"hiker\",\"hiker\",\"hiker\",\"hiker\",\"hiker\",\"hiker\",\"hiker\",\"hiker\",\"hiker\",\"hiker\",\"hiker\",\"hiker\",\"hiker\",\"hiker\",\"hiker\",\"hiker\",\"hiker\",\"hiker\",\"hiker\",\"hiker\",\"hiker\",\"hiker\",\"hiker\",\"hiker\",\"hiker\",\"hiker\",\"hiker\",\"hiker\",\"hiker\",\"hiker\",\"hiker\",\"hiker\",\"hiker\",\"hiker\",\"hiker\",\"hiker\",\"hiker\",\"hiker\",\"hiker\",\"hiker\",\"hiker\",\"hiker\",\"hiker\",\"hiker\",\"hiker\",\"hiker\",\"hiker\",\"hiker\",\"hiker\",\"hiker\",\"hiker\",\"hiker\",\"hiker\",\"hiker\",\"hiker\",\"hiker\",\"hiker\",\"hiker\",\"hiker\",\"hiker\",\"hiker\",\"hiker\",\"hiker\",\"hiker\",\"hiker\",\"hiker\",\"hiker\",\"hiker\",\"hiker\",\"hiker\",\"hiker\",\"hiker\",\"hiker\",\"hiker\",\"hiker\",\"hiker\",\"hiker\",\"hiker\",\"hiker\",\"hiker\",\"hiker\",\"hiker\",\"hiker\",\"hiker\",\"hiker\",\"hiker\",\"hiker\",\"hiker\",\"hiker\",\"hiker\",\"hiker\",\"hiker\",\"hiker\",\"hiker\",\"hiker\",\"hiker\",\"hiker\",\"hiker\",\"hiker\",\"hiker\",\"hiker\",\"hiker\",\"hiker\",\"hiker\",\"hiker\",\"hiker\",\"hiker\",\"hiker\",\"hiker\",\"hiker\",\"hiker\",\"hiker\",\"hiker\",\"hiker\",\"hiker\",\"hiker\",\"hiker\",\"hiker\",\"hiker\",\"hiker\",\"hiker\",\"hiker\",\"hiker\",\"hiker\",\"hiker\",\"hiker\",\"hiker\",\"hiker\",\"hiker\",\"hiker\",\"hiker\",\"hiker\",\"hiker\",\"hiker\",\"hiker\",\"hiker\",\"hiker\",\"hiker\",\"hiker\",\"hiker\",\"hiker\",\"hiker\",\"hiker\",\"hiker\",\"hiker\",\"hiker\",\"hiker\",\"hiker\",\"hiker\",\"hiker\",\"hiker\",\"hiker\",\"hiker\",\"hiker\",\"hiker\",\"hiker\",\"hiker\",\"hiker\",\"hiker\",\"hiker\",\"hiker\",\"hiker\",\"hiker\",\"hiker\",\"hiker\",\"hiker\",\"hiker\",\"hiker\",\"hiker\",\"hiker\",\"hiker\",\"hiker\",\"hiker\",\"hiker\",\"hiker\",\"hiker\",\"hiker\",\"hiker\",\"hiker\",\"hiker\",\"hiker\",\"hiker\",\"hiker\",\"hiker\",\"hiker\",\"hiker\",\"hiker\",\"hiker\",\"hiker\",\"hiker\",\"hiker\",\"hiker\",\"hiker\",\"hiker\",\"hiker\",\"hiker\",\"hiker\",\"hiker\",\"hiker\",\"hiker\",\"hiker\",\"hiker\",\"hiker\",\"hiker\",\"hiker\",\"hiker\",\"hiker\",\"hiker\",\"hiker\",\"hiker\",\"hiker\",\"hiker\",\"hiker\"],\"type\":\"histogram\"},{\"histfunc\":\"count\",\"name\":\"rock\",\"x\":[\"rock\",\"rock\",\"rock\",\"rock\",\"rock\",\"rock\",\"rock\",\"rock\",\"rock\",\"rock\",\"rock\",\"rock\",\"rock\",\"rock\",\"rock\",\"rock\",\"rock\",\"rock\",\"rock\",\"rock\",\"rock\",\"rock\",\"rock\",\"rock\",\"rock\",\"rock\",\"rock\",\"rock\",\"rock\",\"rock\",\"rock\",\"rock\",\"rock\",\"rock\",\"rock\",\"rock\",\"rock\",\"rock\",\"rock\",\"rock\",\"rock\",\"rock\",\"rock\",\"rock\",\"rock\",\"rock\",\"rock\",\"rock\",\"rock\",\"rock\",\"rock\",\"rock\",\"rock\",\"rock\",\"rock\",\"rock\",\"rock\",\"rock\",\"rock\",\"rock\",\"rock\",\"rock\",\"rock\",\"rock\",\"rock\",\"rock\",\"rock\",\"rock\",\"rock\",\"rock\",\"rock\",\"rock\",\"rock\",\"rock\",\"rock\",\"rock\",\"rock\",\"rock\",\"rock\",\"rock\",\"rock\",\"rock\",\"rock\",\"rock\",\"rock\",\"rock\",\"rock\",\"rock\",\"rock\",\"rock\",\"rock\",\"rock\",\"rock\",\"rock\",\"rock\",\"rock\",\"rock\",\"rock\",\"rock\",\"rock\",\"rock\",\"rock\",\"rock\",\"rock\",\"rock\",\"rock\",\"rock\",\"rock\",\"rock\",\"rock\",\"rock\",\"rock\",\"rock\",\"rock\",\"rock\",\"rock\",\"rock\",\"rock\",\"rock\",\"rock\",\"rock\",\"rock\",\"rock\",\"rock\",\"rock\",\"rock\",\"rock\",\"rock\",\"rock\",\"rock\",\"rock\",\"rock\",\"rock\",\"rock\",\"rock\",\"rock\",\"rock\",\"rock\",\"rock\",\"rock\",\"rock\",\"rock\",\"rock\",\"rock\",\"rock\",\"rock\",\"rock\",\"rock\",\"rock\",\"rock\",\"rock\",\"rock\",\"rock\",\"rock\",\"rock\",\"rock\",\"rock\",\"rock\",\"rock\",\"rock\",\"rock\",\"rock\",\"rock\",\"rock\",\"rock\",\"rock\",\"rock\",\"rock\",\"rock\",\"rock\",\"rock\",\"rock\",\"rock\",\"rock\",\"rock\",\"rock\",\"rock\",\"rock\",\"rock\",\"rock\",\"rock\",\"rock\",\"rock\",\"rock\",\"rock\",\"rock\",\"rock\",\"rock\",\"rock\",\"rock\",\"rock\",\"rock\",\"rock\",\"rock\",\"rock\",\"rock\",\"rock\",\"rock\",\"rock\",\"rock\",\"rock\",\"rock\",\"rock\",\"rock\",\"rock\",\"rock\",\"rock\",\"rock\",\"rock\",\"rock\",\"rock\",\"rock\",\"rock\",\"rock\",\"rock\",\"rock\",\"rock\",\"rock\",\"rock\",\"rock\",\"rock\",\"rock\",\"rock\",\"rock\",\"rock\",\"rock\",\"rock\",\"rock\",\"rock\",\"rock\",\"rock\",\"rock\",\"rock\",\"rock\",\"rock\",\"rock\",\"rock\",\"rock\",\"rock\",\"rock\",\"rock\",\"rock\",\"rock\",\"rock\",\"rock\",\"rock\",\"rock\",\"rock\",\"rock\",\"rock\",\"rock\",\"rock\",\"rock\",\"rock\",\"rock\",\"rock\",\"rock\",\"rock\",\"rock\",\"rock\",\"rock\",\"rock\",\"rock\",\"rock\",\"rock\",\"rock\",\"rock\",\"rock\",\"rock\",\"rock\",\"rock\",\"rock\",\"rock\",\"rock\",\"rock\",\"rock\",\"rock\",\"rock\",\"rock\",\"rock\",\"rock\",\"rock\",\"rock\",\"rock\",\"rock\",\"rock\",\"rock\",\"rock\",\"rock\",\"rock\",\"rock\",\"rock\",\"rock\",\"rock\",\"rock\",\"rock\",\"rock\",\"rock\",\"rock\",\"rock\",\"rock\",\"rock\",\"rock\",\"rock\",\"rock\",\"rock\",\"rock\",\"rock\",\"rock\",\"rock\",\"rock\",\"rock\",\"rock\",\"rock\",\"rock\",\"rock\",\"rock\",\"rock\",\"rock\",\"rock\",\"rock\",\"rock\",\"rock\",\"rock\",\"rock\",\"rock\",\"rock\",\"rock\",\"rock\",\"rock\",\"rock\",\"rock\",\"rock\",\"rock\",\"rock\",\"rock\",\"rock\",\"rock\",\"rock\",\"rock\",\"rock\",\"rock\",\"rock\",\"rock\",\"rock\",\"rock\",\"rock\",\"rock\",\"rock\",\"rock\",\"rock\",\"rock\",\"rock\",\"rock\",\"rock\",\"rock\",\"rock\",\"rock\",\"rock\",\"rock\",\"rock\",\"rock\",\"rock\",\"rock\",\"rock\",\"rock\",\"rock\",\"rock\",\"rock\",\"rock\",\"rock\",\"rock\",\"rock\",\"rock\",\"rock\",\"rock\",\"rock\",\"rock\",\"rock\",\"rock\",\"rock\",\"rock\",\"rock\",\"rock\",\"rock\",\"rock\",\"rock\",\"rock\",\"rock\",\"rock\",\"rock\",\"rock\",\"rock\",\"rock\",\"rock\",\"rock\",\"rock\",\"rock\",\"rock\",\"rock\",\"rock\",\"rock\",\"rock\",\"rock\",\"rock\",\"rock\",\"rock\",\"rock\",\"rock\",\"rock\",\"rock\",\"rock\",\"rock\",\"rock\",\"rock\",\"rock\",\"rock\",\"rock\",\"rock\",\"rock\",\"rock\",\"rock\",\"rock\",\"rock\",\"rock\",\"rock\",\"rock\",\"rock\",\"rock\",\"rock\",\"rock\",\"rock\",\"rock\",\"rock\",\"rock\",\"rock\",\"rock\",\"rock\",\"rock\",\"rock\",\"rock\",\"rock\",\"rock\",\"rock\",\"rock\",\"rock\",\"rock\",\"rock\",\"rock\",\"rock\",\"rock\",\"rock\",\"rock\",\"rock\",\"rock\",\"rock\",\"rock\",\"rock\",\"rock\",\"rock\",\"rock\",\"rock\",\"rock\",\"rock\",\"rock\",\"rock\",\"rock\",\"rock\",\"rock\",\"rock\",\"rock\",\"rock\",\"rock\",\"rock\",\"rock\",\"rock\",\"rock\",\"rock\",\"rock\",\"rock\",\"rock\",\"rock\",\"rock\",\"rock\",\"rock\",\"rock\",\"rock\",\"rock\",\"rock\",\"rock\",\"rock\",\"rock\",\"rock\",\"rock\",\"rock\",\"rock\",\"rock\",\"rock\",\"rock\",\"rock\",\"rock\",\"rock\",\"rock\",\"rock\",\"rock\",\"rock\",\"rock\",\"rock\",\"rock\",\"rock\",\"rock\",\"rock\",\"rock\",\"rock\",\"rock\",\"rock\",\"rock\",\"rock\",\"rock\",\"rock\",\"rock\",\"rock\",\"rock\",\"rock\",\"rock\",\"rock\",\"rock\",\"rock\",\"rock\",\"rock\",\"rock\",\"rock\",\"rock\",\"rock\",\"rock\",\"rock\",\"rock\",\"rock\",\"rock\",\"rock\",\"rock\",\"rock\",\"rock\",\"rock\",\"rock\",\"rock\",\"rock\",\"rock\",\"rock\",\"rock\",\"rock\",\"rock\",\"rock\",\"rock\",\"rock\",\"rock\",\"rock\",\"rock\",\"rock\",\"rock\",\"rock\",\"rock\",\"rock\",\"rock\",\"rock\",\"rock\",\"rock\",\"rock\",\"rock\",\"rock\",\"rock\",\"rock\",\"rock\",\"rock\",\"rock\",\"rock\",\"rock\",\"rock\",\"rock\",\"rock\",\"rock\",\"rock\",\"rock\",\"rock\",\"rock\",\"rock\",\"rock\",\"rock\",\"rock\",\"rock\",\"rock\",\"rock\",\"rock\",\"rock\",\"rock\",\"rock\",\"rock\",\"rock\",\"rock\",\"rock\",\"rock\",\"rock\",\"rock\",\"rock\",\"rock\",\"rock\",\"rock\",\"rock\",\"rock\",\"rock\",\"rock\",\"rock\",\"rock\",\"rock\",\"rock\",\"rock\",\"rock\",\"rock\",\"rock\",\"rock\",\"rock\",\"rock\",\"rock\",\"rock\",\"rock\",\"rock\",\"rock\",\"rock\",\"rock\",\"rock\",\"rock\",\"rock\",\"rock\",\"rock\",\"rock\",\"rock\",\"rock\",\"rock\",\"rock\",\"rock\",\"rock\",\"rock\",\"rock\",\"rock\",\"rock\",\"rock\",\"rock\",\"rock\",\"rock\",\"rock\",\"rock\",\"rock\",\"rock\",\"rock\",\"rock\",\"rock\",\"rock\",\"rock\",\"rock\",\"rock\",\"rock\",\"rock\",\"rock\",\"rock\",\"rock\",\"rock\",\"rock\",\"rock\",\"rock\",\"rock\",\"rock\",\"rock\",\"rock\",\"rock\",\"rock\",\"rock\",\"rock\",\"rock\",\"rock\",\"rock\",\"rock\",\"rock\",\"rock\",\"rock\",\"rock\",\"rock\",\"rock\",\"rock\",\"rock\",\"rock\",\"rock\",\"rock\",\"rock\",\"rock\",\"rock\",\"rock\",\"rock\",\"rock\",\"rock\",\"rock\",\"rock\",\"rock\",\"rock\",\"rock\",\"rock\",\"rock\",\"rock\",\"rock\",\"rock\",\"rock\",\"rock\",\"rock\",\"rock\",\"rock\",\"rock\",\"rock\",\"rock\",\"rock\",\"rock\",\"rock\",\"rock\",\"rock\",\"rock\",\"rock\",\"rock\",\"rock\",\"rock\",\"rock\",\"rock\",\"rock\",\"rock\",\"rock\",\"rock\",\"rock\",\"rock\",\"rock\",\"rock\",\"rock\",\"rock\",\"rock\",\"rock\",\"rock\",\"rock\",\"rock\",\"rock\",\"rock\",\"rock\",\"rock\",\"rock\",\"rock\",\"rock\",\"rock\",\"rock\",\"rock\",\"rock\",\"rock\",\"rock\",\"rock\",\"rock\",\"rock\",\"rock\",\"rock\",\"rock\",\"rock\",\"rock\",\"rock\",\"rock\",\"rock\",\"rock\",\"rock\",\"rock\",\"rock\",\"rock\",\"rock\",\"rock\",\"rock\",\"rock\",\"rock\",\"rock\",\"rock\",\"rock\",\"rock\",\"rock\",\"rock\",\"rock\",\"rock\",\"rock\",\"rock\",\"rock\",\"rock\",\"rock\",\"rock\",\"rock\",\"rock\",\"rock\",\"rock\",\"rock\",\"rock\",\"rock\",\"rock\"],\"type\":\"histogram\"},{\"histfunc\":\"count\",\"name\":\"tree\",\"x\":[\"tree\",\"tree\",\"tree\",\"tree\",\"tree\",\"tree\",\"tree\",\"tree\",\"tree\",\"tree\",\"tree\",\"tree\",\"tree\",\"tree\",\"tree\",\"tree\",\"tree\",\"tree\",\"tree\",\"tree\",\"tree\",\"tree\",\"tree\",\"tree\",\"tree\",\"tree\",\"tree\",\"tree\",\"tree\",\"tree\",\"tree\",\"tree\",\"tree\",\"tree\",\"tree\",\"tree\",\"tree\",\"tree\",\"tree\",\"tree\",\"tree\",\"tree\",\"tree\",\"tree\",\"tree\",\"tree\",\"tree\",\"tree\",\"tree\",\"tree\",\"tree\",\"tree\",\"tree\",\"tree\",\"tree\",\"tree\",\"tree\",\"tree\",\"tree\",\"tree\",\"tree\",\"tree\",\"tree\",\"tree\",\"tree\",\"tree\",\"tree\",\"tree\",\"tree\",\"tree\",\"tree\",\"tree\",\"tree\",\"tree\",\"tree\",\"tree\",\"tree\",\"tree\",\"tree\",\"tree\",\"tree\",\"tree\",\"tree\",\"tree\",\"tree\",\"tree\",\"tree\",\"tree\",\"tree\",\"tree\",\"tree\",\"tree\",\"tree\",\"tree\",\"tree\",\"tree\",\"tree\",\"tree\",\"tree\",\"tree\",\"tree\",\"tree\",\"tree\",\"tree\",\"tree\",\"tree\",\"tree\",\"tree\",\"tree\",\"tree\",\"tree\",\"tree\",\"tree\",\"tree\",\"tree\",\"tree\",\"tree\",\"tree\",\"tree\",\"tree\",\"tree\",\"tree\",\"tree\",\"tree\",\"tree\",\"tree\",\"tree\",\"tree\",\"tree\",\"tree\",\"tree\",\"tree\",\"tree\",\"tree\",\"tree\",\"tree\",\"tree\",\"tree\",\"tree\",\"tree\",\"tree\",\"tree\",\"tree\",\"tree\",\"tree\",\"tree\",\"tree\",\"tree\",\"tree\",\"tree\",\"tree\",\"tree\",\"tree\",\"tree\",\"tree\",\"tree\",\"tree\",\"tree\",\"tree\",\"tree\",\"tree\",\"tree\",\"tree\",\"tree\",\"tree\",\"tree\",\"tree\",\"tree\",\"tree\",\"tree\",\"tree\",\"tree\",\"tree\",\"tree\",\"tree\",\"tree\",\"tree\",\"tree\",\"tree\",\"tree\",\"tree\",\"tree\",\"tree\",\"tree\",\"tree\",\"tree\",\"tree\",\"tree\",\"tree\",\"tree\",\"tree\",\"tree\",\"tree\",\"tree\",\"tree\",\"tree\",\"tree\",\"tree\",\"tree\",\"tree\",\"tree\",\"tree\",\"tree\",\"tree\",\"tree\",\"tree\",\"tree\",\"tree\",\"tree\",\"tree\",\"tree\",\"tree\",\"tree\",\"tree\",\"tree\",\"tree\",\"tree\",\"tree\",\"tree\",\"tree\",\"tree\",\"tree\",\"tree\",\"tree\",\"tree\",\"tree\",\"tree\",\"tree\",\"tree\",\"tree\",\"tree\",\"tree\",\"tree\",\"tree\",\"tree\",\"tree\",\"tree\",\"tree\",\"tree\",\"tree\",\"tree\",\"tree\",\"tree\",\"tree\",\"tree\",\"tree\",\"tree\",\"tree\",\"tree\",\"tree\",\"tree\",\"tree\",\"tree\",\"tree\",\"tree\",\"tree\",\"tree\",\"tree\",\"tree\",\"tree\",\"tree\",\"tree\",\"tree\",\"tree\",\"tree\",\"tree\",\"tree\",\"tree\",\"tree\",\"tree\",\"tree\",\"tree\",\"tree\",\"tree\",\"tree\",\"tree\",\"tree\",\"tree\",\"tree\",\"tree\",\"tree\",\"tree\",\"tree\",\"tree\",\"tree\",\"tree\",\"tree\",\"tree\",\"tree\",\"tree\",\"tree\",\"tree\",\"tree\",\"tree\",\"tree\",\"tree\",\"tree\",\"tree\",\"tree\",\"tree\",\"tree\",\"tree\",\"tree\",\"tree\",\"tree\",\"tree\",\"tree\",\"tree\",\"tree\",\"tree\",\"tree\",\"tree\",\"tree\",\"tree\",\"tree\",\"tree\",\"tree\",\"tree\",\"tree\",\"tree\",\"tree\",\"tree\",\"tree\",\"tree\",\"tree\",\"tree\",\"tree\",\"tree\",\"tree\",\"tree\",\"tree\",\"tree\",\"tree\",\"tree\",\"tree\",\"tree\",\"tree\",\"tree\",\"tree\",\"tree\",\"tree\",\"tree\",\"tree\",\"tree\",\"tree\",\"tree\",\"tree\",\"tree\",\"tree\",\"tree\",\"tree\",\"tree\",\"tree\",\"tree\",\"tree\",\"tree\",\"tree\",\"tree\",\"tree\",\"tree\",\"tree\",\"tree\",\"tree\",\"tree\",\"tree\",\"tree\",\"tree\",\"tree\",\"tree\",\"tree\",\"tree\",\"tree\",\"tree\",\"tree\",\"tree\",\"tree\",\"tree\",\"tree\",\"tree\",\"tree\",\"tree\",\"tree\",\"tree\",\"tree\",\"tree\",\"tree\",\"tree\",\"tree\",\"tree\",\"tree\",\"tree\",\"tree\",\"tree\",\"tree\",\"tree\",\"tree\",\"tree\",\"tree\",\"tree\",\"tree\",\"tree\",\"tree\",\"tree\",\"tree\",\"tree\",\"tree\",\"tree\",\"tree\",\"tree\",\"tree\",\"tree\",\"tree\",\"tree\",\"tree\",\"tree\",\"tree\",\"tree\",\"tree\",\"tree\",\"tree\",\"tree\",\"tree\",\"tree\",\"tree\",\"tree\",\"tree\",\"tree\",\"tree\",\"tree\",\"tree\",\"tree\",\"tree\",\"tree\",\"tree\",\"tree\",\"tree\",\"tree\",\"tree\",\"tree\",\"tree\",\"tree\",\"tree\",\"tree\",\"tree\",\"tree\",\"tree\",\"tree\",\"tree\",\"tree\",\"tree\",\"tree\",\"tree\",\"tree\",\"tree\",\"tree\",\"tree\",\"tree\",\"tree\",\"tree\",\"tree\",\"tree\",\"tree\",\"tree\",\"tree\",\"tree\",\"tree\",\"tree\",\"tree\",\"tree\",\"tree\",\"tree\",\"tree\",\"tree\",\"tree\",\"tree\",\"tree\",\"tree\",\"tree\",\"tree\",\"tree\",\"tree\",\"tree\",\"tree\",\"tree\",\"tree\",\"tree\",\"tree\",\"tree\",\"tree\",\"tree\",\"tree\",\"tree\",\"tree\",\"tree\",\"tree\",\"tree\",\"tree\",\"tree\",\"tree\",\"tree\",\"tree\",\"tree\",\"tree\",\"tree\",\"tree\",\"tree\",\"tree\",\"tree\",\"tree\",\"tree\",\"tree\",\"tree\",\"tree\",\"tree\",\"tree\",\"tree\",\"tree\",\"tree\",\"tree\",\"tree\",\"tree\",\"tree\",\"tree\",\"tree\",\"tree\",\"tree\",\"tree\",\"tree\",\"tree\",\"tree\",\"tree\",\"tree\",\"tree\",\"tree\",\"tree\",\"tree\",\"tree\",\"tree\",\"tree\",\"tree\",\"tree\",\"tree\",\"tree\",\"tree\",\"tree\",\"tree\",\"tree\",\"tree\",\"tree\",\"tree\",\"tree\",\"tree\",\"tree\",\"tree\",\"tree\",\"tree\",\"tree\",\"tree\",\"tree\",\"tree\",\"tree\",\"tree\",\"tree\",\"tree\",\"tree\",\"tree\",\"tree\",\"tree\",\"tree\",\"tree\",\"tree\",\"tree\",\"tree\",\"tree\",\"tree\",\"tree\",\"tree\",\"tree\",\"tree\",\"tree\",\"tree\",\"tree\",\"tree\",\"tree\",\"tree\",\"tree\",\"tree\",\"tree\",\"tree\",\"tree\",\"tree\",\"tree\",\"tree\",\"tree\",\"tree\",\"tree\",\"tree\",\"tree\",\"tree\",\"tree\",\"tree\",\"tree\",\"tree\",\"tree\",\"tree\",\"tree\",\"tree\",\"tree\",\"tree\",\"tree\",\"tree\",\"tree\",\"tree\",\"tree\",\"tree\",\"tree\",\"tree\",\"tree\",\"tree\",\"tree\",\"tree\",\"tree\",\"tree\",\"tree\",\"tree\",\"tree\",\"tree\",\"tree\",\"tree\",\"tree\",\"tree\",\"tree\",\"tree\",\"tree\",\"tree\",\"tree\",\"tree\",\"tree\",\"tree\",\"tree\",\"tree\",\"tree\",\"tree\",\"tree\",\"tree\",\"tree\",\"tree\",\"tree\",\"tree\",\"tree\",\"tree\",\"tree\",\"tree\",\"tree\",\"tree\",\"tree\",\"tree\",\"tree\",\"tree\",\"tree\",\"tree\",\"tree\",\"tree\",\"tree\",\"tree\",\"tree\",\"tree\",\"tree\",\"tree\",\"tree\",\"tree\",\"tree\",\"tree\",\"tree\",\"tree\",\"tree\",\"tree\",\"tree\",\"tree\",\"tree\",\"tree\",\"tree\",\"tree\",\"tree\",\"tree\",\"tree\",\"tree\",\"tree\",\"tree\",\"tree\",\"tree\",\"tree\",\"tree\",\"tree\",\"tree\",\"tree\",\"tree\",\"tree\",\"tree\",\"tree\",\"tree\",\"tree\",\"tree\",\"tree\",\"tree\",\"tree\",\"tree\",\"tree\",\"tree\",\"tree\",\"tree\",\"tree\",\"tree\",\"tree\",\"tree\",\"tree\",\"tree\",\"tree\",\"tree\",\"tree\",\"tree\",\"tree\",\"tree\",\"tree\",\"tree\",\"tree\",\"tree\",\"tree\",\"tree\",\"tree\",\"tree\",\"tree\",\"tree\",\"tree\",\"tree\",\"tree\",\"tree\",\"tree\",\"tree\",\"tree\",\"tree\",\"tree\",\"tree\",\"tree\",\"tree\",\"tree\",\"tree\",\"tree\",\"tree\",\"tree\",\"tree\",\"tree\",\"tree\",\"tree\",\"tree\",\"tree\",\"tree\",\"tree\",\"tree\",\"tree\",\"tree\",\"tree\",\"tree\",\"tree\",\"tree\",\"tree\",\"tree\",\"tree\",\"tree\",\"tree\",\"tree\",\"tree\",\"tree\",\"tree\",\"tree\",\"tree\",\"tree\",\"tree\",\"tree\",\"tree\",\"tree\",\"tree\",\"tree\",\"tree\",\"tree\",\"tree\",\"tree\",\"tree\",\"tree\",\"tree\",\"tree\",\"tree\",\"tree\",\"tree\",\"tree\",\"tree\",\"tree\",\"tree\",\"tree\",\"tree\"],\"type\":\"histogram\"}],                        {\"title\":{\"text\":\"Label distribution\"},\"xaxis\":{\"title\":{\"text\":\"label\"}},\"yaxis\":{\"title\":{\"text\":\"count\"}},\"template\":{\"data\":{\"barpolar\":[{\"marker\":{\"line\":{\"color\":\"white\",\"width\":0.5},\"pattern\":{\"fillmode\":\"overlay\",\"size\":10,\"solidity\":0.2}},\"type\":\"barpolar\"}],\"bar\":[{\"error_x\":{\"color\":\"#2a3f5f\"},\"error_y\":{\"color\":\"#2a3f5f\"},\"marker\":{\"line\":{\"color\":\"white\",\"width\":0.5},\"pattern\":{\"fillmode\":\"overlay\",\"size\":10,\"solidity\":0.2}},\"type\":\"bar\"}],\"carpet\":[{\"aaxis\":{\"endlinecolor\":\"#2a3f5f\",\"gridcolor\":\"#C8D4E3\",\"linecolor\":\"#C8D4E3\",\"minorgridcolor\":\"#C8D4E3\",\"startlinecolor\":\"#2a3f5f\"},\"baxis\":{\"endlinecolor\":\"#2a3f5f\",\"gridcolor\":\"#C8D4E3\",\"linecolor\":\"#C8D4E3\",\"minorgridcolor\":\"#C8D4E3\",\"startlinecolor\":\"#2a3f5f\"},\"type\":\"carpet\"}],\"choropleth\":[{\"colorbar\":{\"outlinewidth\":0,\"ticks\":\"\"},\"type\":\"choropleth\"}],\"contourcarpet\":[{\"colorbar\":{\"outlinewidth\":0,\"ticks\":\"\"},\"type\":\"contourcarpet\"}],\"contour\":[{\"colorbar\":{\"outlinewidth\":0,\"ticks\":\"\"},\"colorscale\":[[0.0,\"#0d0887\"],[0.1111111111111111,\"#46039f\"],[0.2222222222222222,\"#7201a8\"],[0.3333333333333333,\"#9c179e\"],[0.4444444444444444,\"#bd3786\"],[0.5555555555555556,\"#d8576b\"],[0.6666666666666666,\"#ed7953\"],[0.7777777777777778,\"#fb9f3a\"],[0.8888888888888888,\"#fdca26\"],[1.0,\"#f0f921\"]],\"type\":\"contour\"}],\"heatmapgl\":[{\"colorbar\":{\"outlinewidth\":0,\"ticks\":\"\"},\"colorscale\":[[0.0,\"#0d0887\"],[0.1111111111111111,\"#46039f\"],[0.2222222222222222,\"#7201a8\"],[0.3333333333333333,\"#9c179e\"],[0.4444444444444444,\"#bd3786\"],[0.5555555555555556,\"#d8576b\"],[0.6666666666666666,\"#ed7953\"],[0.7777777777777778,\"#fb9f3a\"],[0.8888888888888888,\"#fdca26\"],[1.0,\"#f0f921\"]],\"type\":\"heatmapgl\"}],\"heatmap\":[{\"colorbar\":{\"outlinewidth\":0,\"ticks\":\"\"},\"colorscale\":[[0.0,\"#0d0887\"],[0.1111111111111111,\"#46039f\"],[0.2222222222222222,\"#7201a8\"],[0.3333333333333333,\"#9c179e\"],[0.4444444444444444,\"#bd3786\"],[0.5555555555555556,\"#d8576b\"],[0.6666666666666666,\"#ed7953\"],[0.7777777777777778,\"#fb9f3a\"],[0.8888888888888888,\"#fdca26\"],[1.0,\"#f0f921\"]],\"type\":\"heatmap\"}],\"histogram2dcontour\":[{\"colorbar\":{\"outlinewidth\":0,\"ticks\":\"\"},\"colorscale\":[[0.0,\"#0d0887\"],[0.1111111111111111,\"#46039f\"],[0.2222222222222222,\"#7201a8\"],[0.3333333333333333,\"#9c179e\"],[0.4444444444444444,\"#bd3786\"],[0.5555555555555556,\"#d8576b\"],[0.6666666666666666,\"#ed7953\"],[0.7777777777777778,\"#fb9f3a\"],[0.8888888888888888,\"#fdca26\"],[1.0,\"#f0f921\"]],\"type\":\"histogram2dcontour\"}],\"histogram2d\":[{\"colorbar\":{\"outlinewidth\":0,\"ticks\":\"\"},\"colorscale\":[[0.0,\"#0d0887\"],[0.1111111111111111,\"#46039f\"],[0.2222222222222222,\"#7201a8\"],[0.3333333333333333,\"#9c179e\"],[0.4444444444444444,\"#bd3786\"],[0.5555555555555556,\"#d8576b\"],[0.6666666666666666,\"#ed7953\"],[0.7777777777777778,\"#fb9f3a\"],[0.8888888888888888,\"#fdca26\"],[1.0,\"#f0f921\"]],\"type\":\"histogram2d\"}],\"histogram\":[{\"marker\":{\"pattern\":{\"fillmode\":\"overlay\",\"size\":10,\"solidity\":0.2},\"line\":{\"width\":1}},\"type\":\"histogram\"}],\"mesh3d\":[{\"colorbar\":{\"outlinewidth\":0,\"ticks\":\"\"},\"type\":\"mesh3d\"}],\"parcoords\":[{\"line\":{\"colorbar\":{\"outlinewidth\":0,\"ticks\":\"\"}},\"type\":\"parcoords\"}],\"pie\":[{\"automargin\":true,\"type\":\"pie\"}],\"scatter3d\":[{\"line\":{\"colorbar\":{\"outlinewidth\":0,\"ticks\":\"\"}},\"marker\":{\"colorbar\":{\"outlinewidth\":0,\"ticks\":\"\"},\"opacity\":0.8},\"type\":\"scatter3d\"}],\"scattercarpet\":[{\"marker\":{\"colorbar\":{\"outlinewidth\":0,\"ticks\":\"\"}},\"type\":\"scattercarpet\"}],\"scattergeo\":[{\"marker\":{\"colorbar\":{\"outlinewidth\":0,\"ticks\":\"\"}},\"type\":\"scattergeo\"}],\"scattergl\":[{\"marker\":{\"colorbar\":{\"outlinewidth\":0,\"ticks\":\"\"}},\"type\":\"scattergl\"}],\"scattermapbox\":[{\"marker\":{\"colorbar\":{\"outlinewidth\":0,\"ticks\":\"\"}},\"type\":\"scattermapbox\"}],\"scatterpolargl\":[{\"marker\":{\"colorbar\":{\"outlinewidth\":0,\"ticks\":\"\"}},\"type\":\"scatterpolargl\"}],\"scatterpolar\":[{\"marker\":{\"colorbar\":{\"outlinewidth\":0,\"ticks\":\"\"}},\"type\":\"scatterpolar\"}],\"scatter\":[{\"fillpattern\":{\"fillmode\":\"overlay\",\"size\":10,\"solidity\":0.2},\"type\":\"scatter\",\"marker\":{\"opacity\":0.8}}],\"scatterternary\":[{\"marker\":{\"colorbar\":{\"outlinewidth\":0,\"ticks\":\"\"}},\"type\":\"scatterternary\"}],\"surface\":[{\"colorbar\":{\"outlinewidth\":0,\"ticks\":\"\"},\"colorscale\":[[0.0,\"#0d0887\"],[0.1111111111111111,\"#46039f\"],[0.2222222222222222,\"#7201a8\"],[0.3333333333333333,\"#9c179e\"],[0.4444444444444444,\"#bd3786\"],[0.5555555555555556,\"#d8576b\"],[0.6666666666666666,\"#ed7953\"],[0.7777777777777778,\"#fb9f3a\"],[0.8888888888888888,\"#fdca26\"],[1.0,\"#f0f921\"]],\"type\":\"surface\"}],\"table\":[{\"cells\":{\"fill\":{\"color\":\"#EBF0F8\"},\"line\":{\"color\":\"white\"}},\"header\":{\"fill\":{\"color\":\"#C8D4E3\"},\"line\":{\"color\":\"white\"}},\"type\":\"table\"}],\"box\":[{\"boxpoints\":\"outliers\",\"notched\":false,\"type\":\"box\"}]},\"layout\":{\"annotationdefaults\":{\"arrowcolor\":\"#2a3f5f\",\"arrowhead\":0,\"arrowwidth\":1},\"autotypenumbers\":\"strict\",\"coloraxis\":{\"colorbar\":{\"outlinewidth\":0,\"ticks\":\"\"}},\"colorscale\":{\"diverging\":[[0,\"#8e0152\"],[0.1,\"#c51b7d\"],[0.2,\"#de77ae\"],[0.3,\"#f1b6da\"],[0.4,\"#fde0ef\"],[0.5,\"#f7f7f7\"],[0.6,\"#e6f5d0\"],[0.7,\"#b8e186\"],[0.8,\"#7fbc41\"],[0.9,\"#4d9221\"],[1,\"#276419\"]],\"sequential\":[[0.0,\"#0d0887\"],[0.1111111111111111,\"#46039f\"],[0.2222222222222222,\"#7201a8\"],[0.3333333333333333,\"#9c179e\"],[0.4444444444444444,\"#bd3786\"],[0.5555555555555556,\"#d8576b\"],[0.6666666666666666,\"#ed7953\"],[0.7777777777777778,\"#fb9f3a\"],[0.8888888888888888,\"#fdca26\"],[1.0,\"#f0f921\"]],\"sequentialminus\":[[0.0,\"#0d0887\"],[0.1111111111111111,\"#46039f\"],[0.2222222222222222,\"#7201a8\"],[0.3333333333333333,\"#9c179e\"],[0.4444444444444444,\"#bd3786\"],[0.5555555555555556,\"#d8576b\"],[0.6666666666666666,\"#ed7953\"],[0.7777777777777778,\"#fb9f3a\"],[0.8888888888888888,\"#fdca26\"],[1.0,\"#f0f921\"]]},\"colorway\":[\"#636efa\",\"#EF553B\",\"#00cc96\",\"#ab63fa\",\"#FFA15A\",\"#19d3f3\",\"#FF6692\",\"#B6E880\",\"#FF97FF\",\"#FECB52\"],\"font\":{\"color\":\"#2a3f5f\"},\"geo\":{\"bgcolor\":\"white\",\"lakecolor\":\"white\",\"landcolor\":\"white\",\"showlakes\":true,\"showland\":true,\"subunitcolor\":\"#C8D4E3\"},\"hoverlabel\":{\"align\":\"left\"},\"hovermode\":\"closest\",\"mapbox\":{\"style\":\"light\"},\"paper_bgcolor\":\"white\",\"plot_bgcolor\":\"white\",\"polar\":{\"angularaxis\":{\"gridcolor\":\"#EBF0F8\",\"linecolor\":\"#EBF0F8\",\"ticks\":\"\"},\"bgcolor\":\"white\",\"radialaxis\":{\"gridcolor\":\"#EBF0F8\",\"linecolor\":\"#EBF0F8\",\"ticks\":\"\"}},\"scene\":{\"xaxis\":{\"backgroundcolor\":\"white\",\"gridcolor\":\"#DFE8F3\",\"gridwidth\":2,\"linecolor\":\"#EBF0F8\",\"showbackground\":true,\"ticks\":\"\",\"zerolinecolor\":\"#EBF0F8\"},\"yaxis\":{\"backgroundcolor\":\"white\",\"gridcolor\":\"#DFE8F3\",\"gridwidth\":2,\"linecolor\":\"#EBF0F8\",\"showbackground\":true,\"ticks\":\"\",\"zerolinecolor\":\"#EBF0F8\"},\"zaxis\":{\"backgroundcolor\":\"white\",\"gridcolor\":\"#DFE8F3\",\"gridwidth\":2,\"linecolor\":\"#EBF0F8\",\"showbackground\":true,\"ticks\":\"\",\"zerolinecolor\":\"#EBF0F8\"},\"camera\":{\"eye\":{\"x\":1.5,\"y\":1.5,\"z\":0.1}}},\"shapedefaults\":{\"line\":{\"color\":\"#2a3f5f\"}},\"ternary\":{\"aaxis\":{\"gridcolor\":\"#DFE8F3\",\"linecolor\":\"#A2B1C6\",\"ticks\":\"\"},\"baxis\":{\"gridcolor\":\"#DFE8F3\",\"linecolor\":\"#A2B1C6\",\"ticks\":\"\"},\"bgcolor\":\"white\",\"caxis\":{\"gridcolor\":\"#DFE8F3\",\"linecolor\":\"#A2B1C6\",\"ticks\":\"\"}},\"title\":{\"x\":0.5},\"xaxis\":{\"automargin\":true,\"gridcolor\":\"#EBF0F8\",\"linecolor\":\"#EBF0F8\",\"ticks\":\"\",\"title\":{\"standoff\":15},\"zerolinecolor\":\"#EBF0F8\",\"zerolinewidth\":2,\"linewidth\":2,\"showline\":true},\"yaxis\":{\"automargin\":true,\"gridcolor\":\"#EBF0F8\",\"linecolor\":\"#EBF0F8\",\"ticks\":\"\",\"title\":{\"standoff\":15},\"zerolinecolor\":\"#EBF0F8\",\"zerolinewidth\":2,\"linewidth\":2,\"showline\":true},\"height\":400,\"margin\":{\"b\":2,\"l\":2,\"r\":2,\"t\":30}}},\"legend\":{\"title\":{\"text\":\"label\"}}},                        {\"responsive\": true}                    ).then(function(){\n",
              "                            \n",
              "var gd = document.getElementById('a15874d5-0ad7-48cd-b594-3683d50a6390');\n",
              "var x = new MutationObserver(function (mutations, observer) {{\n",
              "        var display = window.getComputedStyle(gd).display;\n",
              "        if (!display || display === 'none') {{\n",
              "            console.log([gd, 'removed!']);\n",
              "            Plotly.purge(gd);\n",
              "            observer.disconnect();\n",
              "        }}\n",
              "}});\n",
              "\n",
              "// Listen for the removal of the full notebook cells\n",
              "var notebookContainer = gd.closest('#notebook-container');\n",
              "if (notebookContainer) {{\n",
              "    x.observe(notebookContainer, {childList: true});\n",
              "}}\n",
              "\n",
              "// Listen for the clearing of the current output cell\n",
              "var outputEl = gd.closest('.output');\n",
              "if (outputEl) {{\n",
              "    x.observe(outputEl, {childList: true});\n",
              "}}\n",
              "\n",
              "                        })                };                            </script>        </div>\n",
              "</body>\n",
              "</html>"
            ]
          },
          "metadata": {}
        }
      ]
    },
    {
      "cell_type": "markdown",
      "source": [
        "### <font color='B8E139'><b>Usando la clasificación binaria</b></font>\n",
        "\n",
        "Para este ejercicio construiremos un modelo de clasificación binaria . Queremos predecir si los objetos en la nieve son \"excursionistas\" o \"no excursionistas\".\n",
        "\n",
        "Para hacer eso, primero debemos agregar otra columna a nuestro conjunto de datos y configurarla `True` donde está la etiqueta original `hiker` y `False` cualquier otra cosa:"
      ],
      "metadata": {
        "id": "hK4jqD9uT1Ff"
      }
    },
    {
      "cell_type": "code",
      "source": [
        "# Add a new label with true/false values to our dataset\n",
        "dataset[\"is_hiker\"] = dataset.label == \"hiker\"\n",
        "\n",
        "# Plot frequency for new label\n",
        "graphing.multiple_histogram(dataset, label_x=\"is_hiker\", label_group=\"is_hiker\", title=\"Distribution for new binary label 'is_hiker'\")"
      ],
      "metadata": {
        "colab": {
          "base_uri": "https://localhost:8080/",
          "height": 417
        },
        "id": "NKjjfKt1ejt_",
        "outputId": "b56fc6be-035e-4bc4-a2aa-abc415d11315"
      },
      "execution_count": 6,
      "outputs": [
        {
          "output_type": "display_data",
          "data": {
            "text/html": [
              "<html>\n",
              "<head><meta charset=\"utf-8\" /></head>\n",
              "<body>\n",
              "    <div>            <script src=\"https://cdnjs.cloudflare.com/ajax/libs/mathjax/2.7.5/MathJax.js?config=TeX-AMS-MML_SVG\"></script><script type=\"text/javascript\">if (window.MathJax && window.MathJax.Hub && window.MathJax.Hub.Config) {window.MathJax.Hub.Config({SVG: {font: \"STIX-Web\"}});}</script>                <script type=\"text/javascript\">window.PlotlyConfig = {MathJaxConfig: 'local'};</script>\n",
              "        <script src=\"https://cdn.plot.ly/plotly-2.18.2.min.js\"></script>                <div id=\"c09b6b22-c465-4b15-9678-86151051f9fe\" class=\"plotly-graph-div\" style=\"height:400px; width:100%;\"></div>            <script type=\"text/javascript\">                                    window.PLOTLYENV=window.PLOTLYENV || {};                                    if (document.getElementById(\"c09b6b22-c465-4b15-9678-86151051f9fe\")) {                    Plotly.newPlot(                        \"c09b6b22-c465-4b15-9678-86151051f9fe\",                        [{\"histfunc\":\"count\",\"name\":\"False\",\"x\":[false,false,false,false,false,false,false,false,false,false,false,false,false,false,false,false,false,false,false,false,false,false,false,false,false,false,false,false,false,false,false,false,false,false,false,false,false,false,false,false,false,false,false,false,false,false,false,false,false,false,false,false,false,false,false,false,false,false,false,false,false,false,false,false,false,false,false,false,false,false,false,false,false,false,false,false,false,false,false,false,false,false,false,false,false,false,false,false,false,false,false,false,false,false,false,false,false,false,false,false,false,false,false,false,false,false,false,false,false,false,false,false,false,false,false,false,false,false,false,false,false,false,false,false,false,false,false,false,false,false,false,false,false,false,false,false,false,false,false,false,false,false,false,false,false,false,false,false,false,false,false,false,false,false,false,false,false,false,false,false,false,false,false,false,false,false,false,false,false,false,false,false,false,false,false,false,false,false,false,false,false,false,false,false,false,false,false,false,false,false,false,false,false,false,false,false,false,false,false,false,false,false,false,false,false,false,false,false,false,false,false,false,false,false,false,false,false,false,false,false,false,false,false,false,false,false,false,false,false,false,false,false,false,false,false,false,false,false,false,false,false,false,false,false,false,false,false,false,false,false,false,false,false,false,false,false,false,false,false,false,false,false,false,false,false,false,false,false,false,false,false,false,false,false,false,false,false,false,false,false,false,false,false,false,false,false,false,false,false,false,false,false,false,false,false,false,false,false,false,false,false,false,false,false,false,false,false,false,false,false,false,false,false,false,false,false,false,false,false,false,false,false,false,false,false,false,false,false,false,false,false,false,false,false,false,false,false,false,false,false,false,false,false,false,false,false,false,false,false,false,false,false,false,false,false,false,false,false,false,false,false,false,false,false,false,false,false,false,false,false,false,false,false,false,false,false,false,false,false,false,false,false,false,false,false,false,false,false,false,false,false,false,false,false,false,false,false,false,false,false,false,false,false,false,false,false,false,false,false,false,false,false,false,false,false,false,false,false,false,false,false,false,false,false,false,false,false,false,false,false,false,false,false,false,false,false,false,false,false,false,false,false,false,false,false,false,false,false,false,false,false,false,false,false,false,false,false,false,false,false,false,false,false,false,false,false,false,false,false,false,false,false,false,false,false,false,false,false,false,false,false,false,false,false,false,false,false,false,false,false,false,false,false,false,false,false,false,false,false,false,false,false,false,false,false,false,false,false,false,false,false,false,false,false,false,false,false,false,false,false,false,false,false,false,false,false,false,false,false,false,false,false,false,false,false,false,false,false,false,false,false,false,false,false,false,false,false,false,false,false,false,false,false,false,false,false,false,false,false,false,false,false,false,false,false,false,false,false,false,false,false,false,false,false,false,false,false,false,false,false,false,false,false,false,false,false,false,false,false,false,false,false,false,false,false,false,false,false,false,false,false,false,false,false,false,false,false,false,false,false,false,false,false,false,false,false,false,false,false,false,false,false,false,false,false,false,false,false,false,false,false,false,false,false,false,false,false,false,false,false,false,false,false,false,false,false,false,false,false,false,false,false,false,false,false,false,false,false,false,false,false,false,false,false,false,false,false,false,false,false,false,false,false,false,false,false,false,false,false,false,false,false,false,false,false,false,false,false,false,false,false,false,false,false,false,false,false,false,false,false,false,false,false,false,false,false,false,false,false,false,false,false,false,false,false,false,false,false,false,false,false,false,false,false,false,false,false,false,false,false,false,false,false,false,false,false,false,false,false,false,false,false,false,false,false,false,false,false,false,false,false,false,false,false,false,false,false,false,false,false,false,false,false,false,false,false,false,false,false,false,false,false,false,false,false,false,false,false,false,false,false,false,false,false,false,false,false,false,false,false,false,false,false,false,false,false,false,false,false,false,false,false,false,false,false,false,false,false,false,false,false,false,false,false,false,false,false,false,false,false,false,false,false,false,false,false,false,false,false,false,false,false,false,false,false,false,false,false,false,false,false,false,false,false,false,false,false,false,false,false,false,false,false,false,false,false,false,false,false,false,false,false,false,false,false,false,false,false,false,false,false,false,false,false,false,false,false,false,false,false,false,false,false,false,false,false,false,false,false,false,false,false,false,false,false,false,false,false,false,false,false,false,false,false,false,false,false,false,false,false,false,false,false,false,false,false,false,false,false,false,false,false,false,false,false,false,false,false,false,false,false,false,false,false,false,false,false,false,false,false,false,false,false,false,false,false,false,false,false,false,false,false,false,false,false,false,false,false,false,false,false,false,false,false,false,false,false,false,false,false,false,false,false,false,false,false,false,false,false,false,false,false,false,false,false,false,false,false,false,false,false,false,false,false,false,false,false,false,false,false,false,false,false,false,false,false,false,false,false,false,false,false,false,false,false,false,false,false,false,false,false,false,false,false,false,false,false,false,false,false,false,false,false,false,false,false,false,false,false,false,false,false,false,false,false,false,false,false,false,false,false,false,false,false,false,false,false,false,false,false,false,false,false,false,false,false,false,false,false,false,false,false,false,false,false,false,false,false,false,false,false,false,false,false,false,false,false,false,false,false,false,false,false,false,false,false,false,false,false,false,false,false,false,false,false,false,false,false,false,false,false,false,false,false,false,false,false,false,false,false,false,false,false,false,false,false,false,false,false,false,false,false,false,false,false,false,false,false,false,false,false,false,false,false,false,false,false,false,false,false,false,false,false,false,false,false,false,false,false,false,false,false,false,false,false,false,false,false,false,false,false,false,false,false,false,false,false,false,false,false,false,false,false,false,false,false,false,false,false,false,false,false,false,false,false,false,false,false,false,false,false,false,false,false,false,false,false,false,false,false,false,false,false,false,false,false,false,false,false,false,false,false,false,false,false,false,false,false,false,false,false,false,false,false,false,false,false,false,false,false,false,false,false,false,false,false,false,false,false,false,false,false,false,false,false,false,false,false,false,false,false,false,false,false,false,false,false,false,false,false,false,false,false,false,false,false,false,false,false,false,false,false,false,false,false,false,false,false,false,false,false,false,false,false,false,false,false,false,false,false,false,false,false,false,false,false,false,false,false,false,false,false,false,false,false,false,false,false,false,false,false,false,false,false,false,false,false,false,false,false,false,false,false,false,false,false,false,false,false,false,false,false,false,false,false,false,false,false,false,false,false,false,false,false,false,false,false,false,false,false,false,false,false,false,false,false,false,false,false,false,false,false,false,false,false,false,false,false,false,false,false,false,false,false,false,false,false,false,false,false,false,false,false,false,false,false,false,false,false,false,false,false,false,false,false,false,false,false,false,false,false,false,false,false,false,false,false,false,false,false,false,false,false,false,false,false,false,false,false,false,false,false,false,false,false,false,false,false,false,false,false,false,false,false,false,false,false,false,false,false,false,false,false,false,false,false,false,false,false,false,false,false,false,false,false,false,false,false,false,false,false,false,false,false,false,false,false,false,false,false,false,false,false,false,false,false,false,false,false,false,false,false,false,false,false,false,false,false,false,false,false,false,false,false,false,false,false,false,false,false,false,false,false,false,false,false,false,false,false,false,false,false,false,false,false,false,false,false,false,false,false,false,false,false,false,false,false,false,false,false,false,false,false,false,false,false,false,false,false,false,false,false,false,false,false,false,false,false,false,false,false,false,false,false,false,false,false,false,false,false,false,false,false,false,false,false,false,false,false,false,false,false,false,false,false,false,false,false,false,false,false,false,false,false,false,false,false,false,false,false,false,false,false,false,false,false,false,false,false,false,false,false,false,false,false,false,false,false,false,false,false,false,false,false,false,false,false,false,false,false,false,false,false,false,false,false,false,false,false,false,false,false,false,false,false,false,false,false,false,false,false,false,false,false,false,false,false,false,false,false,false,false,false,false,false,false,false,false,false,false,false,false,false,false,false,false,false,false,false,false,false,false,false,false,false,false,false,false,false,false,false,false,false,false,false,false,false,false,false,false,false,false,false,false,false,false,false,false,false,false,false,false,false,false,false,false,false,false,false,false,false,false,false,false,false,false,false,false,false,false,false,false,false,false,false,false,false,false,false,false,false,false,false,false,false,false,false,false,false,false,false,false,false,false,false,false,false,false,false,false,false,false,false,false,false,false,false,false,false,false,false,false,false,false,false,false,false,false,false,false,false,false,false,false,false,false,false,false,false,false,false,false,false,false,false,false,false,false,false,false],\"type\":\"histogram\"},{\"histfunc\":\"count\",\"name\":\"True\",\"x\":[true,true,true,true,true,true,true,true,true,true,true,true,true,true,true,true,true,true,true,true,true,true,true,true,true,true,true,true,true,true,true,true,true,true,true,true,true,true,true,true,true,true,true,true,true,true,true,true,true,true,true,true,true,true,true,true,true,true,true,true,true,true,true,true,true,true,true,true,true,true,true,true,true,true,true,true,true,true,true,true,true,true,true,true,true,true,true,true,true,true,true,true,true,true,true,true,true,true,true,true,true,true,true,true,true,true,true,true,true,true,true,true,true,true,true,true,true,true,true,true,true,true,true,true,true,true,true,true,true,true,true,true,true,true,true,true,true,true,true,true,true,true,true,true,true,true,true,true,true,true,true,true,true,true,true,true,true,true,true,true,true,true,true,true,true,true,true,true,true,true,true,true,true,true,true,true,true,true,true,true,true,true,true,true,true,true,true,true,true,true,true,true,true,true,true,true,true,true,true,true,true,true,true,true,true,true,true,true,true,true,true,true,true,true,true,true,true,true,true,true,true,true,true,true,true,true,true,true,true,true,true,true,true,true,true,true,true,true,true,true,true,true,true,true,true,true,true,true,true,true,true,true,true,true,true,true,true,true,true,true,true,true,true,true,true,true,true,true,true,true,true,true,true,true,true,true,true,true,true,true,true,true,true,true,true,true,true,true,true,true,true,true,true,true,true,true,true,true,true,true,true,true,true,true,true,true,true,true,true,true,true,true,true,true,true,true,true,true,true,true,true,true,true,true,true,true,true,true,true,true,true,true,true,true,true,true,true,true,true,true,true,true,true,true,true,true,true,true,true,true,true,true,true,true,true,true,true,true,true,true,true,true,true,true,true,true,true,true,true,true,true,true,true,true,true,true,true,true,true,true,true,true,true,true,true,true,true,true,true,true,true,true,true,true,true,true,true,true,true,true],\"type\":\"histogram\"}],                        {\"title\":{\"text\":\"Distribution for new binary label 'is_hiker'\"},\"xaxis\":{\"title\":{\"text\":\"is hiker\"}},\"yaxis\":{\"title\":{\"text\":\"count\"}},\"template\":{\"data\":{\"barpolar\":[{\"marker\":{\"line\":{\"color\":\"white\",\"width\":0.5},\"pattern\":{\"fillmode\":\"overlay\",\"size\":10,\"solidity\":0.2}},\"type\":\"barpolar\"}],\"bar\":[{\"error_x\":{\"color\":\"#2a3f5f\"},\"error_y\":{\"color\":\"#2a3f5f\"},\"marker\":{\"line\":{\"color\":\"white\",\"width\":0.5},\"pattern\":{\"fillmode\":\"overlay\",\"size\":10,\"solidity\":0.2}},\"type\":\"bar\"}],\"carpet\":[{\"aaxis\":{\"endlinecolor\":\"#2a3f5f\",\"gridcolor\":\"#C8D4E3\",\"linecolor\":\"#C8D4E3\",\"minorgridcolor\":\"#C8D4E3\",\"startlinecolor\":\"#2a3f5f\"},\"baxis\":{\"endlinecolor\":\"#2a3f5f\",\"gridcolor\":\"#C8D4E3\",\"linecolor\":\"#C8D4E3\",\"minorgridcolor\":\"#C8D4E3\",\"startlinecolor\":\"#2a3f5f\"},\"type\":\"carpet\"}],\"choropleth\":[{\"colorbar\":{\"outlinewidth\":0,\"ticks\":\"\"},\"type\":\"choropleth\"}],\"contourcarpet\":[{\"colorbar\":{\"outlinewidth\":0,\"ticks\":\"\"},\"type\":\"contourcarpet\"}],\"contour\":[{\"colorbar\":{\"outlinewidth\":0,\"ticks\":\"\"},\"colorscale\":[[0.0,\"#0d0887\"],[0.1111111111111111,\"#46039f\"],[0.2222222222222222,\"#7201a8\"],[0.3333333333333333,\"#9c179e\"],[0.4444444444444444,\"#bd3786\"],[0.5555555555555556,\"#d8576b\"],[0.6666666666666666,\"#ed7953\"],[0.7777777777777778,\"#fb9f3a\"],[0.8888888888888888,\"#fdca26\"],[1.0,\"#f0f921\"]],\"type\":\"contour\"}],\"heatmapgl\":[{\"colorbar\":{\"outlinewidth\":0,\"ticks\":\"\"},\"colorscale\":[[0.0,\"#0d0887\"],[0.1111111111111111,\"#46039f\"],[0.2222222222222222,\"#7201a8\"],[0.3333333333333333,\"#9c179e\"],[0.4444444444444444,\"#bd3786\"],[0.5555555555555556,\"#d8576b\"],[0.6666666666666666,\"#ed7953\"],[0.7777777777777778,\"#fb9f3a\"],[0.8888888888888888,\"#fdca26\"],[1.0,\"#f0f921\"]],\"type\":\"heatmapgl\"}],\"heatmap\":[{\"colorbar\":{\"outlinewidth\":0,\"ticks\":\"\"},\"colorscale\":[[0.0,\"#0d0887\"],[0.1111111111111111,\"#46039f\"],[0.2222222222222222,\"#7201a8\"],[0.3333333333333333,\"#9c179e\"],[0.4444444444444444,\"#bd3786\"],[0.5555555555555556,\"#d8576b\"],[0.6666666666666666,\"#ed7953\"],[0.7777777777777778,\"#fb9f3a\"],[0.8888888888888888,\"#fdca26\"],[1.0,\"#f0f921\"]],\"type\":\"heatmap\"}],\"histogram2dcontour\":[{\"colorbar\":{\"outlinewidth\":0,\"ticks\":\"\"},\"colorscale\":[[0.0,\"#0d0887\"],[0.1111111111111111,\"#46039f\"],[0.2222222222222222,\"#7201a8\"],[0.3333333333333333,\"#9c179e\"],[0.4444444444444444,\"#bd3786\"],[0.5555555555555556,\"#d8576b\"],[0.6666666666666666,\"#ed7953\"],[0.7777777777777778,\"#fb9f3a\"],[0.8888888888888888,\"#fdca26\"],[1.0,\"#f0f921\"]],\"type\":\"histogram2dcontour\"}],\"histogram2d\":[{\"colorbar\":{\"outlinewidth\":0,\"ticks\":\"\"},\"colorscale\":[[0.0,\"#0d0887\"],[0.1111111111111111,\"#46039f\"],[0.2222222222222222,\"#7201a8\"],[0.3333333333333333,\"#9c179e\"],[0.4444444444444444,\"#bd3786\"],[0.5555555555555556,\"#d8576b\"],[0.6666666666666666,\"#ed7953\"],[0.7777777777777778,\"#fb9f3a\"],[0.8888888888888888,\"#fdca26\"],[1.0,\"#f0f921\"]],\"type\":\"histogram2d\"}],\"histogram\":[{\"marker\":{\"pattern\":{\"fillmode\":\"overlay\",\"size\":10,\"solidity\":0.2},\"line\":{\"width\":1}},\"type\":\"histogram\"}],\"mesh3d\":[{\"colorbar\":{\"outlinewidth\":0,\"ticks\":\"\"},\"type\":\"mesh3d\"}],\"parcoords\":[{\"line\":{\"colorbar\":{\"outlinewidth\":0,\"ticks\":\"\"}},\"type\":\"parcoords\"}],\"pie\":[{\"automargin\":true,\"type\":\"pie\"}],\"scatter3d\":[{\"line\":{\"colorbar\":{\"outlinewidth\":0,\"ticks\":\"\"}},\"marker\":{\"colorbar\":{\"outlinewidth\":0,\"ticks\":\"\"},\"opacity\":0.8},\"type\":\"scatter3d\"}],\"scattercarpet\":[{\"marker\":{\"colorbar\":{\"outlinewidth\":0,\"ticks\":\"\"}},\"type\":\"scattercarpet\"}],\"scattergeo\":[{\"marker\":{\"colorbar\":{\"outlinewidth\":0,\"ticks\":\"\"}},\"type\":\"scattergeo\"}],\"scattergl\":[{\"marker\":{\"colorbar\":{\"outlinewidth\":0,\"ticks\":\"\"}},\"type\":\"scattergl\"}],\"scattermapbox\":[{\"marker\":{\"colorbar\":{\"outlinewidth\":0,\"ticks\":\"\"}},\"type\":\"scattermapbox\"}],\"scatterpolargl\":[{\"marker\":{\"colorbar\":{\"outlinewidth\":0,\"ticks\":\"\"}},\"type\":\"scatterpolargl\"}],\"scatterpolar\":[{\"marker\":{\"colorbar\":{\"outlinewidth\":0,\"ticks\":\"\"}},\"type\":\"scatterpolar\"}],\"scatter\":[{\"fillpattern\":{\"fillmode\":\"overlay\",\"size\":10,\"solidity\":0.2},\"type\":\"scatter\",\"marker\":{\"opacity\":0.8}}],\"scatterternary\":[{\"marker\":{\"colorbar\":{\"outlinewidth\":0,\"ticks\":\"\"}},\"type\":\"scatterternary\"}],\"surface\":[{\"colorbar\":{\"outlinewidth\":0,\"ticks\":\"\"},\"colorscale\":[[0.0,\"#0d0887\"],[0.1111111111111111,\"#46039f\"],[0.2222222222222222,\"#7201a8\"],[0.3333333333333333,\"#9c179e\"],[0.4444444444444444,\"#bd3786\"],[0.5555555555555556,\"#d8576b\"],[0.6666666666666666,\"#ed7953\"],[0.7777777777777778,\"#fb9f3a\"],[0.8888888888888888,\"#fdca26\"],[1.0,\"#f0f921\"]],\"type\":\"surface\"}],\"table\":[{\"cells\":{\"fill\":{\"color\":\"#EBF0F8\"},\"line\":{\"color\":\"white\"}},\"header\":{\"fill\":{\"color\":\"#C8D4E3\"},\"line\":{\"color\":\"white\"}},\"type\":\"table\"}],\"box\":[{\"boxpoints\":\"outliers\",\"notched\":false,\"type\":\"box\"}]},\"layout\":{\"annotationdefaults\":{\"arrowcolor\":\"#2a3f5f\",\"arrowhead\":0,\"arrowwidth\":1},\"autotypenumbers\":\"strict\",\"coloraxis\":{\"colorbar\":{\"outlinewidth\":0,\"ticks\":\"\"}},\"colorscale\":{\"diverging\":[[0,\"#8e0152\"],[0.1,\"#c51b7d\"],[0.2,\"#de77ae\"],[0.3,\"#f1b6da\"],[0.4,\"#fde0ef\"],[0.5,\"#f7f7f7\"],[0.6,\"#e6f5d0\"],[0.7,\"#b8e186\"],[0.8,\"#7fbc41\"],[0.9,\"#4d9221\"],[1,\"#276419\"]],\"sequential\":[[0.0,\"#0d0887\"],[0.1111111111111111,\"#46039f\"],[0.2222222222222222,\"#7201a8\"],[0.3333333333333333,\"#9c179e\"],[0.4444444444444444,\"#bd3786\"],[0.5555555555555556,\"#d8576b\"],[0.6666666666666666,\"#ed7953\"],[0.7777777777777778,\"#fb9f3a\"],[0.8888888888888888,\"#fdca26\"],[1.0,\"#f0f921\"]],\"sequentialminus\":[[0.0,\"#0d0887\"],[0.1111111111111111,\"#46039f\"],[0.2222222222222222,\"#7201a8\"],[0.3333333333333333,\"#9c179e\"],[0.4444444444444444,\"#bd3786\"],[0.5555555555555556,\"#d8576b\"],[0.6666666666666666,\"#ed7953\"],[0.7777777777777778,\"#fb9f3a\"],[0.8888888888888888,\"#fdca26\"],[1.0,\"#f0f921\"]]},\"colorway\":[\"#636efa\",\"#EF553B\",\"#00cc96\",\"#ab63fa\",\"#FFA15A\",\"#19d3f3\",\"#FF6692\",\"#B6E880\",\"#FF97FF\",\"#FECB52\"],\"font\":{\"color\":\"#2a3f5f\"},\"geo\":{\"bgcolor\":\"white\",\"lakecolor\":\"white\",\"landcolor\":\"white\",\"showlakes\":true,\"showland\":true,\"subunitcolor\":\"#C8D4E3\"},\"hoverlabel\":{\"align\":\"left\"},\"hovermode\":\"closest\",\"mapbox\":{\"style\":\"light\"},\"paper_bgcolor\":\"white\",\"plot_bgcolor\":\"white\",\"polar\":{\"angularaxis\":{\"gridcolor\":\"#EBF0F8\",\"linecolor\":\"#EBF0F8\",\"ticks\":\"\"},\"bgcolor\":\"white\",\"radialaxis\":{\"gridcolor\":\"#EBF0F8\",\"linecolor\":\"#EBF0F8\",\"ticks\":\"\"}},\"scene\":{\"xaxis\":{\"backgroundcolor\":\"white\",\"gridcolor\":\"#DFE8F3\",\"gridwidth\":2,\"linecolor\":\"#EBF0F8\",\"showbackground\":true,\"ticks\":\"\",\"zerolinecolor\":\"#EBF0F8\"},\"yaxis\":{\"backgroundcolor\":\"white\",\"gridcolor\":\"#DFE8F3\",\"gridwidth\":2,\"linecolor\":\"#EBF0F8\",\"showbackground\":true,\"ticks\":\"\",\"zerolinecolor\":\"#EBF0F8\"},\"zaxis\":{\"backgroundcolor\":\"white\",\"gridcolor\":\"#DFE8F3\",\"gridwidth\":2,\"linecolor\":\"#EBF0F8\",\"showbackground\":true,\"ticks\":\"\",\"zerolinecolor\":\"#EBF0F8\"},\"camera\":{\"eye\":{\"x\":1.5,\"y\":1.5,\"z\":0.1}}},\"shapedefaults\":{\"line\":{\"color\":\"#2a3f5f\"}},\"ternary\":{\"aaxis\":{\"gridcolor\":\"#DFE8F3\",\"linecolor\":\"#A2B1C6\",\"ticks\":\"\"},\"baxis\":{\"gridcolor\":\"#DFE8F3\",\"linecolor\":\"#A2B1C6\",\"ticks\":\"\"},\"bgcolor\":\"white\",\"caxis\":{\"gridcolor\":\"#DFE8F3\",\"linecolor\":\"#A2B1C6\",\"ticks\":\"\"}},\"title\":{\"x\":0.5},\"xaxis\":{\"automargin\":true,\"gridcolor\":\"#EBF0F8\",\"linecolor\":\"#EBF0F8\",\"ticks\":\"\",\"title\":{\"standoff\":15},\"zerolinecolor\":\"#EBF0F8\",\"zerolinewidth\":2,\"linewidth\":2,\"showline\":true},\"yaxis\":{\"automargin\":true,\"gridcolor\":\"#EBF0F8\",\"linecolor\":\"#EBF0F8\",\"ticks\":\"\",\"title\":{\"standoff\":15},\"zerolinecolor\":\"#EBF0F8\",\"zerolinewidth\":2,\"linewidth\":2,\"showline\":true},\"height\":400,\"margin\":{\"b\":2,\"l\":2,\"r\":2,\"t\":30}}},\"legend\":{\"title\":{\"text\":\"is_hiker\"}}},                        {\"responsive\": true}                    ).then(function(){\n",
              "                            \n",
              "var gd = document.getElementById('c09b6b22-c465-4b15-9678-86151051f9fe');\n",
              "var x = new MutationObserver(function (mutations, observer) {{\n",
              "        var display = window.getComputedStyle(gd).display;\n",
              "        if (!display || display === 'none') {{\n",
              "            console.log([gd, 'removed!']);\n",
              "            Plotly.purge(gd);\n",
              "            observer.disconnect();\n",
              "        }}\n",
              "}});\n",
              "\n",
              "// Listen for the removal of the full notebook cells\n",
              "var notebookContainer = gd.closest('#notebook-container');\n",
              "if (notebookContainer) {{\n",
              "    x.observe(notebookContainer, {childList: true});\n",
              "}}\n",
              "\n",
              "// Listen for the clearing of the current output cell\n",
              "var outputEl = gd.closest('.output');\n",
              "if (outputEl) {{\n",
              "    x.observe(outputEl, {childList: true});\n",
              "}}\n",
              "\n",
              "                        })                };                            </script>        </div>\n",
              "</body>\n",
              "</html>"
            ]
          },
          "metadata": {}
        }
      ]
    },
    {
      "cell_type": "markdown",
      "source": [
        "Ahora tenemos solo dos clases de etiquetas en nuestro conjunto de datos, pero lo hemos hecho aún más desequilibrado.\n",
        "\n",
        "Entrenemos el modelo de bosque aleatorio usando `is_hiker` como variable de destino, luego midamos su precisión en los conjuntos de entrenamiento y prueba :"
      ],
      "metadata": {
        "id": "RpreK4BKT0-E"
      }
    },
    {
      "cell_type": "code",
      "source": [
        "from sklearn.ensemble import RandomForestClassifier\n",
        "from sklearn.model_selection import train_test_split\n",
        "# import matplotlib.pyplot as plt\n",
        "# from sklearn.metrics import plot_confusion_matrix\n",
        "from sklearn.metrics import accuracy_score\n",
        "\n",
        "# Custom function that measures accuracy on different models and datasets\n",
        "# We will use this in different parts of the exercise\n",
        "def assess_accuracy(model, dataset, label):\n",
        "    \"\"\"\n",
        "    Asesses model accuracy on different sets\n",
        "    \"\"\" \n",
        "    actual = dataset[label]        \n",
        "    predictions = model.predict(dataset[features])\n",
        "    acc = accuracy_score(actual, predictions)\n",
        "    return acc\n",
        "\n",
        "# Split the dataset in an 70/30 train/test ratio. \n",
        "train, test = train_test_split(dataset, test_size=0.3, random_state=1, shuffle=True)\n",
        "\n",
        "# define a random forest model\n",
        "model = RandomForestClassifier(n_estimators=1, random_state=1, verbose=False)\n",
        "\n",
        "# Define which features are to be used (leave color out for now)\n",
        "features = [\"size\", \"roughness\", \"motion\"]\n",
        "\n",
        "# Train the model using the binary label\n",
        "model.fit(train[features], train.is_hiker)\n",
        "\n",
        "print(\"Train accuracy:\", assess_accuracy(model,train, \"is_hiker\"))\n",
        "print(\"Test accuracy:\", assess_accuracy(model,test, \"is_hiker\"))"
      ],
      "metadata": {
        "colab": {
          "base_uri": "https://localhost:8080/"
        },
        "id": "A8whLw5eenCX",
        "outputId": "16f64a78-770c-4faa-b8cb-d3f92c3eec66"
      },
      "execution_count": 7,
      "outputs": [
        {
          "output_type": "stream",
          "name": "stdout",
          "text": [
            "Train accuracy: 0.9532467532467532\n",
            "Test accuracy: 0.906060606060606\n"
          ]
        }
      ]
    },
    {
      "cell_type": "markdown",
      "source": [
        "La precisión se ve bien tanto para el entrenamiento como para los conjuntos de prueba , pero recuerde que esta métrica no es una medida absoluta del éxito.\n",
        "\n",
        "Deberíamos trazar una matriz de confusión para ver cómo funciona realmente el modelo:"
      ],
      "metadata": {
        "id": "y9LRppHBT1CS"
      }
    },
    {
      "cell_type": "code",
      "source": [
        "# sklearn has a very convenient utility to build confusion matrices\n",
        "from sklearn.metrics import confusion_matrix\n",
        "import plotly.figure_factory as ff\n",
        "\n",
        "# Calculate the model's accuracy on the TEST set\n",
        "actual = test.is_hiker\n",
        "predictions = model.predict(test[features])\n",
        "\n",
        "# Build and print our confusion matrix, using the actual values and predictions \n",
        "# from the test set, calculated in previous cells\n",
        "cm = confusion_matrix(actual, predictions, normalize=None)\n",
        "\n",
        "# Create the list of unique labels in the test set, to use in our plot\n",
        "# I.e., ['True', 'False',]\n",
        "unique_targets = sorted(list(test[\"is_hiker\"].unique()))\n",
        "\n",
        "# Convert values to lower case so the plot code can count the outcomes\n",
        "x = y = [str(s).lower() for s in unique_targets]\n",
        "\n",
        "# Plot the matrix above as a heatmap with annotations (values) in its cells\n",
        "fig = ff.create_annotated_heatmap(cm, x, y)\n",
        "\n",
        "# Set titles and ordering\n",
        "fig.update_layout(  title_text=\"<b>Confusion matrix</b>\", \n",
        "                    yaxis = dict(categoryorder = \"category descending\")\n",
        "                    )\n",
        "\n",
        "fig.add_annotation(dict(font=dict(color=\"black\",size=14),\n",
        "                        x=0.5,\n",
        "                        y=-0.15,\n",
        "                        showarrow=False,\n",
        "                        text=\"Predicted label\",\n",
        "                        xref=\"paper\",\n",
        "                        yref=\"paper\"))\n",
        "\n",
        "fig.add_annotation(dict(font=dict(color=\"black\",size=14),\n",
        "                        x=-0.15,\n",
        "                        y=0.5,\n",
        "                        showarrow=False,\n",
        "                        text=\"Actual label\",\n",
        "                        textangle=-90,\n",
        "                        xref=\"paper\",\n",
        "                        yref=\"paper\"))\n",
        "\n",
        "# We need margins so the titles fit\n",
        "fig.update_layout(margin=dict(t=80, r=20, l=120, b=50))\n",
        "fig['data'][0]['showscale'] = True\n",
        "fig.show()\n"
      ],
      "metadata": {
        "colab": {
          "base_uri": "https://localhost:8080/",
          "height": 417
        },
        "id": "j0Rx53tleqsP",
        "outputId": "012aa8ec-807e-4539-a05b-d1fdb169e63a"
      },
      "execution_count": 8,
      "outputs": [
        {
          "output_type": "display_data",
          "data": {
            "text/html": [
              "<html>\n",
              "<head><meta charset=\"utf-8\" /></head>\n",
              "<body>\n",
              "    <div>            <script src=\"https://cdnjs.cloudflare.com/ajax/libs/mathjax/2.7.5/MathJax.js?config=TeX-AMS-MML_SVG\"></script><script type=\"text/javascript\">if (window.MathJax && window.MathJax.Hub && window.MathJax.Hub.Config) {window.MathJax.Hub.Config({SVG: {font: \"STIX-Web\"}});}</script>                <script type=\"text/javascript\">window.PlotlyConfig = {MathJaxConfig: 'local'};</script>\n",
              "        <script src=\"https://cdn.plot.ly/plotly-2.18.2.min.js\"></script>                <div id=\"1b30c08c-9e07-4c6a-9082-59bad510b280\" class=\"plotly-graph-div\" style=\"height:400px; width:100%;\"></div>            <script type=\"text/javascript\">                                    window.PLOTLYENV=window.PLOTLYENV || {};                                    if (document.getElementById(\"1b30c08c-9e07-4c6a-9082-59bad510b280\")) {                    Plotly.newPlot(                        \"1b30c08c-9e07-4c6a-9082-59bad510b280\",                        [{\"colorscale\":[[0.0,\"#0d0887\"],[0.1111111111111111,\"#46039f\"],[0.2222222222222222,\"#7201a8\"],[0.3333333333333333,\"#9c179e\"],[0.4444444444444444,\"#bd3786\"],[0.5555555555555556,\"#d8576b\"],[0.6666666666666666,\"#ed7953\"],[0.7777777777777778,\"#fb9f3a\"],[0.8888888888888888,\"#fdca26\"],[1.0,\"#f0f921\"]],\"reversescale\":false,\"showscale\":true,\"x\":[\"false\",\"true\"],\"y\":[\"false\",\"true\"],\"z\":[[523,33],[29,75]],\"type\":\"heatmap\"}],                        {\"annotations\":[{\"font\":{\"color\":\"#000000\"},\"showarrow\":false,\"text\":\"523\",\"x\":\"false\",\"xref\":\"x\",\"y\":\"false\",\"yref\":\"y\"},{\"font\":{\"color\":\"#FFFFFF\"},\"showarrow\":false,\"text\":\"33\",\"x\":\"true\",\"xref\":\"x\",\"y\":\"false\",\"yref\":\"y\"},{\"font\":{\"color\":\"#FFFFFF\"},\"showarrow\":false,\"text\":\"29\",\"x\":\"false\",\"xref\":\"x\",\"y\":\"true\",\"yref\":\"y\"},{\"font\":{\"color\":\"#FFFFFF\"},\"showarrow\":false,\"text\":\"75\",\"x\":\"true\",\"xref\":\"x\",\"y\":\"true\",\"yref\":\"y\"},{\"font\":{\"color\":\"black\",\"size\":14},\"showarrow\":false,\"text\":\"Predicted label\",\"x\":0.5,\"xref\":\"paper\",\"y\":-0.15,\"yref\":\"paper\"},{\"font\":{\"color\":\"black\",\"size\":14},\"showarrow\":false,\"text\":\"Actual label\",\"textangle\":-90,\"x\":-0.15,\"xref\":\"paper\",\"y\":0.5,\"yref\":\"paper\"}],\"xaxis\":{\"dtick\":1,\"gridcolor\":\"rgb(0, 0, 0)\",\"side\":\"top\",\"ticks\":\"\"},\"yaxis\":{\"dtick\":1,\"ticks\":\"\",\"ticksuffix\":\"  \",\"categoryorder\":\"category descending\"},\"template\":{\"data\":{\"barpolar\":[{\"marker\":{\"line\":{\"color\":\"white\",\"width\":0.5},\"pattern\":{\"fillmode\":\"overlay\",\"size\":10,\"solidity\":0.2}},\"type\":\"barpolar\"}],\"bar\":[{\"error_x\":{\"color\":\"#2a3f5f\"},\"error_y\":{\"color\":\"#2a3f5f\"},\"marker\":{\"line\":{\"color\":\"white\",\"width\":0.5},\"pattern\":{\"fillmode\":\"overlay\",\"size\":10,\"solidity\":0.2}},\"type\":\"bar\"}],\"carpet\":[{\"aaxis\":{\"endlinecolor\":\"#2a3f5f\",\"gridcolor\":\"#C8D4E3\",\"linecolor\":\"#C8D4E3\",\"minorgridcolor\":\"#C8D4E3\",\"startlinecolor\":\"#2a3f5f\"},\"baxis\":{\"endlinecolor\":\"#2a3f5f\",\"gridcolor\":\"#C8D4E3\",\"linecolor\":\"#C8D4E3\",\"minorgridcolor\":\"#C8D4E3\",\"startlinecolor\":\"#2a3f5f\"},\"type\":\"carpet\"}],\"choropleth\":[{\"colorbar\":{\"outlinewidth\":0,\"ticks\":\"\"},\"type\":\"choropleth\"}],\"contourcarpet\":[{\"colorbar\":{\"outlinewidth\":0,\"ticks\":\"\"},\"type\":\"contourcarpet\"}],\"contour\":[{\"colorbar\":{\"outlinewidth\":0,\"ticks\":\"\"},\"colorscale\":[[0.0,\"#0d0887\"],[0.1111111111111111,\"#46039f\"],[0.2222222222222222,\"#7201a8\"],[0.3333333333333333,\"#9c179e\"],[0.4444444444444444,\"#bd3786\"],[0.5555555555555556,\"#d8576b\"],[0.6666666666666666,\"#ed7953\"],[0.7777777777777778,\"#fb9f3a\"],[0.8888888888888888,\"#fdca26\"],[1.0,\"#f0f921\"]],\"type\":\"contour\"}],\"heatmapgl\":[{\"colorbar\":{\"outlinewidth\":0,\"ticks\":\"\"},\"colorscale\":[[0.0,\"#0d0887\"],[0.1111111111111111,\"#46039f\"],[0.2222222222222222,\"#7201a8\"],[0.3333333333333333,\"#9c179e\"],[0.4444444444444444,\"#bd3786\"],[0.5555555555555556,\"#d8576b\"],[0.6666666666666666,\"#ed7953\"],[0.7777777777777778,\"#fb9f3a\"],[0.8888888888888888,\"#fdca26\"],[1.0,\"#f0f921\"]],\"type\":\"heatmapgl\"}],\"heatmap\":[{\"colorbar\":{\"outlinewidth\":0,\"ticks\":\"\"},\"colorscale\":[[0.0,\"#0d0887\"],[0.1111111111111111,\"#46039f\"],[0.2222222222222222,\"#7201a8\"],[0.3333333333333333,\"#9c179e\"],[0.4444444444444444,\"#bd3786\"],[0.5555555555555556,\"#d8576b\"],[0.6666666666666666,\"#ed7953\"],[0.7777777777777778,\"#fb9f3a\"],[0.8888888888888888,\"#fdca26\"],[1.0,\"#f0f921\"]],\"type\":\"heatmap\"}],\"histogram2dcontour\":[{\"colorbar\":{\"outlinewidth\":0,\"ticks\":\"\"},\"colorscale\":[[0.0,\"#0d0887\"],[0.1111111111111111,\"#46039f\"],[0.2222222222222222,\"#7201a8\"],[0.3333333333333333,\"#9c179e\"],[0.4444444444444444,\"#bd3786\"],[0.5555555555555556,\"#d8576b\"],[0.6666666666666666,\"#ed7953\"],[0.7777777777777778,\"#fb9f3a\"],[0.8888888888888888,\"#fdca26\"],[1.0,\"#f0f921\"]],\"type\":\"histogram2dcontour\"}],\"histogram2d\":[{\"colorbar\":{\"outlinewidth\":0,\"ticks\":\"\"},\"colorscale\":[[0.0,\"#0d0887\"],[0.1111111111111111,\"#46039f\"],[0.2222222222222222,\"#7201a8\"],[0.3333333333333333,\"#9c179e\"],[0.4444444444444444,\"#bd3786\"],[0.5555555555555556,\"#d8576b\"],[0.6666666666666666,\"#ed7953\"],[0.7777777777777778,\"#fb9f3a\"],[0.8888888888888888,\"#fdca26\"],[1.0,\"#f0f921\"]],\"type\":\"histogram2d\"}],\"histogram\":[{\"marker\":{\"pattern\":{\"fillmode\":\"overlay\",\"size\":10,\"solidity\":0.2},\"line\":{\"width\":1}},\"type\":\"histogram\"}],\"mesh3d\":[{\"colorbar\":{\"outlinewidth\":0,\"ticks\":\"\"},\"type\":\"mesh3d\"}],\"parcoords\":[{\"line\":{\"colorbar\":{\"outlinewidth\":0,\"ticks\":\"\"}},\"type\":\"parcoords\"}],\"pie\":[{\"automargin\":true,\"type\":\"pie\"}],\"scatter3d\":[{\"line\":{\"colorbar\":{\"outlinewidth\":0,\"ticks\":\"\"}},\"marker\":{\"colorbar\":{\"outlinewidth\":0,\"ticks\":\"\"},\"opacity\":0.8},\"type\":\"scatter3d\"}],\"scattercarpet\":[{\"marker\":{\"colorbar\":{\"outlinewidth\":0,\"ticks\":\"\"}},\"type\":\"scattercarpet\"}],\"scattergeo\":[{\"marker\":{\"colorbar\":{\"outlinewidth\":0,\"ticks\":\"\"}},\"type\":\"scattergeo\"}],\"scattergl\":[{\"marker\":{\"colorbar\":{\"outlinewidth\":0,\"ticks\":\"\"}},\"type\":\"scattergl\"}],\"scattermapbox\":[{\"marker\":{\"colorbar\":{\"outlinewidth\":0,\"ticks\":\"\"}},\"type\":\"scattermapbox\"}],\"scatterpolargl\":[{\"marker\":{\"colorbar\":{\"outlinewidth\":0,\"ticks\":\"\"}},\"type\":\"scatterpolargl\"}],\"scatterpolar\":[{\"marker\":{\"colorbar\":{\"outlinewidth\":0,\"ticks\":\"\"}},\"type\":\"scatterpolar\"}],\"scatter\":[{\"fillpattern\":{\"fillmode\":\"overlay\",\"size\":10,\"solidity\":0.2},\"type\":\"scatter\",\"marker\":{\"opacity\":0.8}}],\"scatterternary\":[{\"marker\":{\"colorbar\":{\"outlinewidth\":0,\"ticks\":\"\"}},\"type\":\"scatterternary\"}],\"surface\":[{\"colorbar\":{\"outlinewidth\":0,\"ticks\":\"\"},\"colorscale\":[[0.0,\"#0d0887\"],[0.1111111111111111,\"#46039f\"],[0.2222222222222222,\"#7201a8\"],[0.3333333333333333,\"#9c179e\"],[0.4444444444444444,\"#bd3786\"],[0.5555555555555556,\"#d8576b\"],[0.6666666666666666,\"#ed7953\"],[0.7777777777777778,\"#fb9f3a\"],[0.8888888888888888,\"#fdca26\"],[1.0,\"#f0f921\"]],\"type\":\"surface\"}],\"table\":[{\"cells\":{\"fill\":{\"color\":\"#EBF0F8\"},\"line\":{\"color\":\"white\"}},\"header\":{\"fill\":{\"color\":\"#C8D4E3\"},\"line\":{\"color\":\"white\"}},\"type\":\"table\"}],\"box\":[{\"boxpoints\":\"outliers\",\"notched\":false,\"type\":\"box\"}]},\"layout\":{\"annotationdefaults\":{\"arrowcolor\":\"#2a3f5f\",\"arrowhead\":0,\"arrowwidth\":1},\"autotypenumbers\":\"strict\",\"coloraxis\":{\"colorbar\":{\"outlinewidth\":0,\"ticks\":\"\"}},\"colorscale\":{\"diverging\":[[0,\"#8e0152\"],[0.1,\"#c51b7d\"],[0.2,\"#de77ae\"],[0.3,\"#f1b6da\"],[0.4,\"#fde0ef\"],[0.5,\"#f7f7f7\"],[0.6,\"#e6f5d0\"],[0.7,\"#b8e186\"],[0.8,\"#7fbc41\"],[0.9,\"#4d9221\"],[1,\"#276419\"]],\"sequential\":[[0.0,\"#0d0887\"],[0.1111111111111111,\"#46039f\"],[0.2222222222222222,\"#7201a8\"],[0.3333333333333333,\"#9c179e\"],[0.4444444444444444,\"#bd3786\"],[0.5555555555555556,\"#d8576b\"],[0.6666666666666666,\"#ed7953\"],[0.7777777777777778,\"#fb9f3a\"],[0.8888888888888888,\"#fdca26\"],[1.0,\"#f0f921\"]],\"sequentialminus\":[[0.0,\"#0d0887\"],[0.1111111111111111,\"#46039f\"],[0.2222222222222222,\"#7201a8\"],[0.3333333333333333,\"#9c179e\"],[0.4444444444444444,\"#bd3786\"],[0.5555555555555556,\"#d8576b\"],[0.6666666666666666,\"#ed7953\"],[0.7777777777777778,\"#fb9f3a\"],[0.8888888888888888,\"#fdca26\"],[1.0,\"#f0f921\"]]},\"colorway\":[\"#636efa\",\"#EF553B\",\"#00cc96\",\"#ab63fa\",\"#FFA15A\",\"#19d3f3\",\"#FF6692\",\"#B6E880\",\"#FF97FF\",\"#FECB52\"],\"font\":{\"color\":\"#2a3f5f\"},\"geo\":{\"bgcolor\":\"white\",\"lakecolor\":\"white\",\"landcolor\":\"white\",\"showlakes\":true,\"showland\":true,\"subunitcolor\":\"#C8D4E3\"},\"hoverlabel\":{\"align\":\"left\"},\"hovermode\":\"closest\",\"mapbox\":{\"style\":\"light\"},\"paper_bgcolor\":\"white\",\"plot_bgcolor\":\"white\",\"polar\":{\"angularaxis\":{\"gridcolor\":\"#EBF0F8\",\"linecolor\":\"#EBF0F8\",\"ticks\":\"\"},\"bgcolor\":\"white\",\"radialaxis\":{\"gridcolor\":\"#EBF0F8\",\"linecolor\":\"#EBF0F8\",\"ticks\":\"\"}},\"scene\":{\"xaxis\":{\"backgroundcolor\":\"white\",\"gridcolor\":\"#DFE8F3\",\"gridwidth\":2,\"linecolor\":\"#EBF0F8\",\"showbackground\":true,\"ticks\":\"\",\"zerolinecolor\":\"#EBF0F8\"},\"yaxis\":{\"backgroundcolor\":\"white\",\"gridcolor\":\"#DFE8F3\",\"gridwidth\":2,\"linecolor\":\"#EBF0F8\",\"showbackground\":true,\"ticks\":\"\",\"zerolinecolor\":\"#EBF0F8\"},\"zaxis\":{\"backgroundcolor\":\"white\",\"gridcolor\":\"#DFE8F3\",\"gridwidth\":2,\"linecolor\":\"#EBF0F8\",\"showbackground\":true,\"ticks\":\"\",\"zerolinecolor\":\"#EBF0F8\"},\"camera\":{\"eye\":{\"x\":1.5,\"y\":1.5,\"z\":0.1}}},\"shapedefaults\":{\"line\":{\"color\":\"#2a3f5f\"}},\"ternary\":{\"aaxis\":{\"gridcolor\":\"#DFE8F3\",\"linecolor\":\"#A2B1C6\",\"ticks\":\"\"},\"baxis\":{\"gridcolor\":\"#DFE8F3\",\"linecolor\":\"#A2B1C6\",\"ticks\":\"\"},\"bgcolor\":\"white\",\"caxis\":{\"gridcolor\":\"#DFE8F3\",\"linecolor\":\"#A2B1C6\",\"ticks\":\"\"}},\"title\":{\"x\":0.5},\"xaxis\":{\"automargin\":true,\"gridcolor\":\"#EBF0F8\",\"linecolor\":\"#EBF0F8\",\"ticks\":\"\",\"title\":{\"standoff\":15},\"zerolinecolor\":\"#EBF0F8\",\"zerolinewidth\":2,\"linewidth\":2,\"showline\":true},\"yaxis\":{\"automargin\":true,\"gridcolor\":\"#EBF0F8\",\"linecolor\":\"#EBF0F8\",\"ticks\":\"\",\"title\":{\"standoff\":15},\"zerolinecolor\":\"#EBF0F8\",\"zerolinewidth\":2,\"linewidth\":2,\"showline\":true},\"height\":400,\"margin\":{\"b\":2,\"l\":2,\"r\":2,\"t\":30}}},\"title\":{\"text\":\"<b>Confusion matrix</b>\"},\"margin\":{\"t\":80,\"r\":20,\"l\":120,\"b\":50}},                        {\"responsive\": true}                    ).then(function(){\n",
              "                            \n",
              "var gd = document.getElementById('1b30c08c-9e07-4c6a-9082-59bad510b280');\n",
              "var x = new MutationObserver(function (mutations, observer) {{\n",
              "        var display = window.getComputedStyle(gd).display;\n",
              "        if (!display || display === 'none') {{\n",
              "            console.log([gd, 'removed!']);\n",
              "            Plotly.purge(gd);\n",
              "            observer.disconnect();\n",
              "        }}\n",
              "}});\n",
              "\n",
              "// Listen for the removal of the full notebook cells\n",
              "var notebookContainer = gd.closest('#notebook-container');\n",
              "if (notebookContainer) {{\n",
              "    x.observe(notebookContainer, {childList: true});\n",
              "}}\n",
              "\n",
              "// Listen for the clearing of the current output cell\n",
              "var outputEl = gd.closest('.output');\n",
              "if (outputEl) {{\n",
              "    x.observe(outputEl, {childList: true});\n",
              "}}\n",
              "\n",
              "                        })                };                            </script>        </div>\n",
              "</body>\n",
              "</html>"
            ]
          },
          "metadata": {}
        }
      ]
    },
    {
      "cell_type": "markdown",
      "source": [
        "La matriz de confusión nos muestra que, a pesar de las métricas reportadas, el modelo no es increíblemente preciso.\n",
        "\n",
        "De las 660 muestras presentes en el conjunto de prueba (30% del total de muestras), predijo 29 falsos negativos y 33 falsos positivos .\n",
        "\n",
        "Más importante aún, mire la fila inferior, que muestra lo que sucedió cuando al modelo se le mostró información sobre un excursionista: se equivocó en la respuesta casi el 30% de las veces. ¡Esto significa que no identificaría correctamente a casi el 30% de las personas en la montaña!\n",
        "\n",
        "¿Qué sucede si usamos este modelo para hacer predicciones sobre conjuntos balanceados?\n",
        "\n",
        "Carguemos un conjunto de datos con la misma cantidad de resultados para \"excursionistas\" y \"no excursionistas\", luego usemos esos datos para hacer predicciones:"
      ],
      "metadata": {
        "id": "NSIoOh7-eq7_"
      }
    },
    {
      "cell_type": "code",
      "source": [
        "# Load and print umbiased set\n",
        "#Import the data from the .csv file\n",
        "balanced_dataset = pandas.read_csv('snow_objects_balanced.csv', delimiter=\"\\t\")\n",
        "\n",
        "#Let's have a look at the data\n",
        "graphing.multiple_histogram(balanced_dataset, label_x=\"label\", label_group=\"label\", title=\"Label distribution\")"
      ],
      "metadata": {
        "colab": {
          "base_uri": "https://localhost:8080/",
          "height": 417
        },
        "id": "bjPQfR4letqP",
        "outputId": "3d6e8908-5b51-44af-c2c7-df10a49260cc"
      },
      "execution_count": 9,
      "outputs": [
        {
          "output_type": "display_data",
          "data": {
            "text/html": [
              "<html>\n",
              "<head><meta charset=\"utf-8\" /></head>\n",
              "<body>\n",
              "    <div>            <script src=\"https://cdnjs.cloudflare.com/ajax/libs/mathjax/2.7.5/MathJax.js?config=TeX-AMS-MML_SVG\"></script><script type=\"text/javascript\">if (window.MathJax && window.MathJax.Hub && window.MathJax.Hub.Config) {window.MathJax.Hub.Config({SVG: {font: \"STIX-Web\"}});}</script>                <script type=\"text/javascript\">window.PlotlyConfig = {MathJaxConfig: 'local'};</script>\n",
              "        <script src=\"https://cdn.plot.ly/plotly-2.18.2.min.js\"></script>                <div id=\"825a4c3c-4699-4ca3-9ffc-e117b48a3e5c\" class=\"plotly-graph-div\" style=\"height:400px; width:100%;\"></div>            <script type=\"text/javascript\">                                    window.PLOTLYENV=window.PLOTLYENV || {};                                    if (document.getElementById(\"825a4c3c-4699-4ca3-9ffc-e117b48a3e5c\")) {                    Plotly.newPlot(                        \"825a4c3c-4699-4ca3-9ffc-e117b48a3e5c\",                        [{\"histfunc\":\"count\",\"name\":\"animal\",\"x\":[\"animal\",\"animal\",\"animal\",\"animal\",\"animal\",\"animal\",\"animal\",\"animal\",\"animal\",\"animal\",\"animal\",\"animal\",\"animal\",\"animal\",\"animal\",\"animal\",\"animal\",\"animal\",\"animal\",\"animal\",\"animal\",\"animal\",\"animal\",\"animal\",\"animal\",\"animal\",\"animal\",\"animal\",\"animal\",\"animal\",\"animal\",\"animal\",\"animal\",\"animal\",\"animal\",\"animal\",\"animal\",\"animal\",\"animal\",\"animal\",\"animal\",\"animal\",\"animal\",\"animal\",\"animal\",\"animal\",\"animal\",\"animal\",\"animal\",\"animal\",\"animal\",\"animal\",\"animal\",\"animal\",\"animal\",\"animal\",\"animal\",\"animal\",\"animal\",\"animal\",\"animal\",\"animal\",\"animal\",\"animal\",\"animal\",\"animal\",\"animal\",\"animal\",\"animal\",\"animal\",\"animal\",\"animal\",\"animal\",\"animal\",\"animal\",\"animal\",\"animal\",\"animal\",\"animal\",\"animal\",\"animal\",\"animal\",\"animal\",\"animal\",\"animal\",\"animal\",\"animal\",\"animal\",\"animal\",\"animal\",\"animal\",\"animal\",\"animal\",\"animal\",\"animal\",\"animal\",\"animal\",\"animal\",\"animal\",\"animal\",\"animal\",\"animal\",\"animal\",\"animal\",\"animal\",\"animal\",\"animal\",\"animal\",\"animal\",\"animal\",\"animal\",\"animal\",\"animal\",\"animal\",\"animal\",\"animal\",\"animal\",\"animal\",\"animal\",\"animal\",\"animal\",\"animal\",\"animal\",\"animal\",\"animal\",\"animal\",\"animal\",\"animal\",\"animal\",\"animal\",\"animal\",\"animal\",\"animal\",\"animal\",\"animal\",\"animal\",\"animal\",\"animal\",\"animal\",\"animal\",\"animal\",\"animal\",\"animal\",\"animal\",\"animal\",\"animal\",\"animal\",\"animal\",\"animal\",\"animal\",\"animal\",\"animal\",\"animal\",\"animal\",\"animal\",\"animal\",\"animal\",\"animal\",\"animal\",\"animal\",\"animal\",\"animal\",\"animal\",\"animal\",\"animal\",\"animal\",\"animal\",\"animal\",\"animal\",\"animal\",\"animal\",\"animal\",\"animal\",\"animal\",\"animal\",\"animal\",\"animal\",\"animal\",\"animal\",\"animal\",\"animal\",\"animal\",\"animal\",\"animal\",\"animal\",\"animal\",\"animal\",\"animal\",\"animal\",\"animal\",\"animal\",\"animal\",\"animal\",\"animal\",\"animal\",\"animal\",\"animal\",\"animal\",\"animal\",\"animal\",\"animal\",\"animal\",\"animal\",\"animal\",\"animal\",\"animal\",\"animal\",\"animal\",\"animal\",\"animal\",\"animal\",\"animal\",\"animal\",\"animal\",\"animal\",\"animal\",\"animal\",\"animal\",\"animal\",\"animal\",\"animal\",\"animal\",\"animal\",\"animal\",\"animal\",\"animal\",\"animal\",\"animal\",\"animal\",\"animal\",\"animal\",\"animal\",\"animal\",\"animal\",\"animal\",\"animal\",\"animal\",\"animal\",\"animal\",\"animal\",\"animal\",\"animal\",\"animal\",\"animal\",\"animal\",\"animal\",\"animal\",\"animal\",\"animal\",\"animal\",\"animal\",\"animal\",\"animal\",\"animal\",\"animal\",\"animal\",\"animal\",\"animal\",\"animal\",\"animal\",\"animal\",\"animal\",\"animal\",\"animal\",\"animal\",\"animal\",\"animal\",\"animal\",\"animal\",\"animal\",\"animal\",\"animal\",\"animal\",\"animal\",\"animal\",\"animal\",\"animal\",\"animal\",\"animal\",\"animal\",\"animal\",\"animal\",\"animal\",\"animal\",\"animal\",\"animal\",\"animal\",\"animal\",\"animal\",\"animal\",\"animal\",\"animal\",\"animal\",\"animal\",\"animal\",\"animal\",\"animal\",\"animal\",\"animal\",\"animal\",\"animal\",\"animal\",\"animal\",\"animal\",\"animal\",\"animal\",\"animal\",\"animal\",\"animal\",\"animal\",\"animal\",\"animal\",\"animal\",\"animal\",\"animal\",\"animal\",\"animal\",\"animal\",\"animal\",\"animal\",\"animal\",\"animal\",\"animal\",\"animal\",\"animal\",\"animal\",\"animal\",\"animal\",\"animal\",\"animal\",\"animal\",\"animal\",\"animal\",\"animal\",\"animal\",\"animal\",\"animal\",\"animal\",\"animal\",\"animal\",\"animal\",\"animal\",\"animal\",\"animal\",\"animal\",\"animal\",\"animal\",\"animal\",\"animal\",\"animal\",\"animal\",\"animal\",\"animal\",\"animal\",\"animal\",\"animal\",\"animal\",\"animal\",\"animal\",\"animal\",\"animal\",\"animal\",\"animal\",\"animal\",\"animal\",\"animal\",\"animal\",\"animal\",\"animal\",\"animal\",\"animal\",\"animal\",\"animal\",\"animal\",\"animal\",\"animal\",\"animal\",\"animal\",\"animal\",\"animal\",\"animal\",\"animal\",\"animal\",\"animal\",\"animal\",\"animal\",\"animal\",\"animal\",\"animal\",\"animal\",\"animal\",\"animal\",\"animal\",\"animal\",\"animal\",\"animal\",\"animal\",\"animal\",\"animal\",\"animal\",\"animal\",\"animal\",\"animal\",\"animal\",\"animal\",\"animal\",\"animal\",\"animal\",\"animal\",\"animal\",\"animal\",\"animal\",\"animal\",\"animal\",\"animal\",\"animal\",\"animal\",\"animal\",\"animal\",\"animal\",\"animal\",\"animal\",\"animal\",\"animal\",\"animal\",\"animal\",\"animal\",\"animal\",\"animal\",\"animal\",\"animal\",\"animal\",\"animal\",\"animal\",\"animal\",\"animal\",\"animal\",\"animal\",\"animal\",\"animal\",\"animal\",\"animal\",\"animal\",\"animal\",\"animal\",\"animal\",\"animal\",\"animal\",\"animal\",\"animal\",\"animal\",\"animal\",\"animal\",\"animal\",\"animal\",\"animal\",\"animal\",\"animal\",\"animal\",\"animal\",\"animal\",\"animal\",\"animal\",\"animal\",\"animal\",\"animal\",\"animal\",\"animal\",\"animal\",\"animal\",\"animal\",\"animal\",\"animal\",\"animal\",\"animal\",\"animal\",\"animal\",\"animal\",\"animal\",\"animal\",\"animal\",\"animal\",\"animal\",\"animal\",\"animal\",\"animal\",\"animal\",\"animal\",\"animal\",\"animal\",\"animal\",\"animal\",\"animal\",\"animal\",\"animal\",\"animal\",\"animal\",\"animal\",\"animal\",\"animal\"],\"type\":\"histogram\"},{\"histfunc\":\"count\",\"name\":\"hiker\",\"x\":[\"hiker\",\"hiker\",\"hiker\",\"hiker\",\"hiker\",\"hiker\",\"hiker\",\"hiker\",\"hiker\",\"hiker\",\"hiker\",\"hiker\",\"hiker\",\"hiker\",\"hiker\",\"hiker\",\"hiker\",\"hiker\",\"hiker\",\"hiker\",\"hiker\",\"hiker\",\"hiker\",\"hiker\",\"hiker\",\"hiker\",\"hiker\",\"hiker\",\"hiker\",\"hiker\",\"hiker\",\"hiker\",\"hiker\",\"hiker\",\"hiker\",\"hiker\",\"hiker\",\"hiker\",\"hiker\",\"hiker\",\"hiker\",\"hiker\",\"hiker\",\"hiker\",\"hiker\",\"hiker\",\"hiker\",\"hiker\",\"hiker\",\"hiker\",\"hiker\",\"hiker\",\"hiker\",\"hiker\",\"hiker\",\"hiker\",\"hiker\",\"hiker\",\"hiker\",\"hiker\",\"hiker\",\"hiker\",\"hiker\",\"hiker\",\"hiker\",\"hiker\",\"hiker\",\"hiker\",\"hiker\",\"hiker\",\"hiker\",\"hiker\",\"hiker\",\"hiker\",\"hiker\",\"hiker\",\"hiker\",\"hiker\",\"hiker\",\"hiker\",\"hiker\",\"hiker\",\"hiker\",\"hiker\",\"hiker\",\"hiker\",\"hiker\",\"hiker\",\"hiker\",\"hiker\",\"hiker\",\"hiker\",\"hiker\",\"hiker\",\"hiker\",\"hiker\",\"hiker\",\"hiker\",\"hiker\",\"hiker\",\"hiker\",\"hiker\",\"hiker\",\"hiker\",\"hiker\",\"hiker\",\"hiker\",\"hiker\",\"hiker\",\"hiker\",\"hiker\",\"hiker\",\"hiker\",\"hiker\",\"hiker\",\"hiker\",\"hiker\",\"hiker\",\"hiker\",\"hiker\",\"hiker\",\"hiker\",\"hiker\",\"hiker\",\"hiker\",\"hiker\",\"hiker\",\"hiker\",\"hiker\",\"hiker\",\"hiker\",\"hiker\",\"hiker\",\"hiker\",\"hiker\",\"hiker\",\"hiker\",\"hiker\",\"hiker\",\"hiker\",\"hiker\",\"hiker\",\"hiker\",\"hiker\",\"hiker\",\"hiker\",\"hiker\",\"hiker\",\"hiker\",\"hiker\",\"hiker\",\"hiker\",\"hiker\",\"hiker\",\"hiker\",\"hiker\",\"hiker\",\"hiker\",\"hiker\",\"hiker\",\"hiker\",\"hiker\",\"hiker\",\"hiker\",\"hiker\",\"hiker\",\"hiker\",\"hiker\",\"hiker\",\"hiker\",\"hiker\",\"hiker\",\"hiker\",\"hiker\",\"hiker\",\"hiker\",\"hiker\",\"hiker\",\"hiker\",\"hiker\",\"hiker\",\"hiker\",\"hiker\",\"hiker\",\"hiker\",\"hiker\",\"hiker\",\"hiker\",\"hiker\",\"hiker\",\"hiker\",\"hiker\",\"hiker\",\"hiker\",\"hiker\",\"hiker\",\"hiker\",\"hiker\",\"hiker\",\"hiker\",\"hiker\",\"hiker\",\"hiker\",\"hiker\",\"hiker\",\"hiker\",\"hiker\",\"hiker\",\"hiker\",\"hiker\",\"hiker\",\"hiker\",\"hiker\",\"hiker\",\"hiker\",\"hiker\",\"hiker\",\"hiker\",\"hiker\",\"hiker\",\"hiker\",\"hiker\",\"hiker\",\"hiker\",\"hiker\",\"hiker\",\"hiker\",\"hiker\",\"hiker\",\"hiker\",\"hiker\",\"hiker\",\"hiker\",\"hiker\",\"hiker\",\"hiker\",\"hiker\",\"hiker\",\"hiker\",\"hiker\",\"hiker\",\"hiker\",\"hiker\",\"hiker\",\"hiker\",\"hiker\",\"hiker\",\"hiker\",\"hiker\",\"hiker\",\"hiker\",\"hiker\",\"hiker\",\"hiker\",\"hiker\",\"hiker\",\"hiker\",\"hiker\",\"hiker\",\"hiker\",\"hiker\",\"hiker\",\"hiker\",\"hiker\",\"hiker\",\"hiker\",\"hiker\",\"hiker\",\"hiker\",\"hiker\",\"hiker\",\"hiker\",\"hiker\",\"hiker\",\"hiker\",\"hiker\",\"hiker\",\"hiker\",\"hiker\",\"hiker\",\"hiker\",\"hiker\",\"hiker\",\"hiker\",\"hiker\",\"hiker\",\"hiker\",\"hiker\",\"hiker\",\"hiker\",\"hiker\",\"hiker\",\"hiker\",\"hiker\",\"hiker\",\"hiker\",\"hiker\",\"hiker\",\"hiker\",\"hiker\",\"hiker\",\"hiker\",\"hiker\",\"hiker\",\"hiker\",\"hiker\",\"hiker\",\"hiker\",\"hiker\",\"hiker\",\"hiker\",\"hiker\",\"hiker\",\"hiker\",\"hiker\",\"hiker\",\"hiker\",\"hiker\",\"hiker\",\"hiker\",\"hiker\",\"hiker\",\"hiker\",\"hiker\",\"hiker\",\"hiker\",\"hiker\",\"hiker\",\"hiker\",\"hiker\",\"hiker\",\"hiker\",\"hiker\",\"hiker\",\"hiker\",\"hiker\",\"hiker\",\"hiker\",\"hiker\",\"hiker\",\"hiker\",\"hiker\",\"hiker\",\"hiker\",\"hiker\",\"hiker\",\"hiker\",\"hiker\",\"hiker\",\"hiker\",\"hiker\",\"hiker\",\"hiker\",\"hiker\",\"hiker\",\"hiker\",\"hiker\",\"hiker\",\"hiker\",\"hiker\",\"hiker\",\"hiker\",\"hiker\",\"hiker\",\"hiker\",\"hiker\",\"hiker\",\"hiker\",\"hiker\",\"hiker\",\"hiker\",\"hiker\",\"hiker\",\"hiker\",\"hiker\",\"hiker\",\"hiker\",\"hiker\",\"hiker\",\"hiker\",\"hiker\",\"hiker\",\"hiker\",\"hiker\",\"hiker\",\"hiker\",\"hiker\",\"hiker\",\"hiker\",\"hiker\",\"hiker\",\"hiker\",\"hiker\",\"hiker\",\"hiker\",\"hiker\",\"hiker\",\"hiker\",\"hiker\",\"hiker\",\"hiker\",\"hiker\",\"hiker\",\"hiker\",\"hiker\",\"hiker\",\"hiker\",\"hiker\",\"hiker\",\"hiker\",\"hiker\",\"hiker\",\"hiker\",\"hiker\",\"hiker\",\"hiker\",\"hiker\",\"hiker\",\"hiker\",\"hiker\",\"hiker\",\"hiker\",\"hiker\",\"hiker\",\"hiker\",\"hiker\",\"hiker\",\"hiker\",\"hiker\",\"hiker\",\"hiker\",\"hiker\",\"hiker\",\"hiker\",\"hiker\",\"hiker\",\"hiker\",\"hiker\",\"hiker\",\"hiker\",\"hiker\",\"hiker\",\"hiker\",\"hiker\",\"hiker\",\"hiker\",\"hiker\",\"hiker\",\"hiker\",\"hiker\",\"hiker\",\"hiker\",\"hiker\",\"hiker\",\"hiker\",\"hiker\",\"hiker\",\"hiker\",\"hiker\",\"hiker\",\"hiker\",\"hiker\",\"hiker\",\"hiker\",\"hiker\",\"hiker\",\"hiker\",\"hiker\",\"hiker\",\"hiker\",\"hiker\",\"hiker\",\"hiker\",\"hiker\",\"hiker\",\"hiker\",\"hiker\",\"hiker\",\"hiker\",\"hiker\",\"hiker\",\"hiker\",\"hiker\",\"hiker\",\"hiker\",\"hiker\",\"hiker\",\"hiker\",\"hiker\",\"hiker\",\"hiker\",\"hiker\",\"hiker\",\"hiker\",\"hiker\",\"hiker\",\"hiker\",\"hiker\",\"hiker\",\"hiker\"],\"type\":\"histogram\"},{\"histfunc\":\"count\",\"name\":\"rock\",\"x\":[\"rock\",\"rock\",\"rock\",\"rock\",\"rock\",\"rock\",\"rock\",\"rock\",\"rock\",\"rock\",\"rock\",\"rock\",\"rock\",\"rock\",\"rock\",\"rock\",\"rock\",\"rock\",\"rock\",\"rock\",\"rock\",\"rock\",\"rock\",\"rock\",\"rock\",\"rock\",\"rock\",\"rock\",\"rock\",\"rock\",\"rock\",\"rock\",\"rock\",\"rock\",\"rock\",\"rock\",\"rock\",\"rock\",\"rock\",\"rock\",\"rock\",\"rock\",\"rock\",\"rock\",\"rock\",\"rock\",\"rock\",\"rock\",\"rock\",\"rock\",\"rock\",\"rock\",\"rock\",\"rock\",\"rock\",\"rock\",\"rock\",\"rock\",\"rock\",\"rock\",\"rock\",\"rock\",\"rock\",\"rock\",\"rock\",\"rock\",\"rock\",\"rock\",\"rock\",\"rock\",\"rock\",\"rock\",\"rock\",\"rock\",\"rock\",\"rock\",\"rock\",\"rock\",\"rock\",\"rock\",\"rock\",\"rock\",\"rock\",\"rock\",\"rock\",\"rock\",\"rock\",\"rock\",\"rock\",\"rock\",\"rock\",\"rock\",\"rock\",\"rock\",\"rock\",\"rock\",\"rock\",\"rock\",\"rock\",\"rock\",\"rock\",\"rock\",\"rock\",\"rock\",\"rock\",\"rock\",\"rock\",\"rock\",\"rock\",\"rock\",\"rock\",\"rock\",\"rock\",\"rock\",\"rock\",\"rock\",\"rock\",\"rock\",\"rock\",\"rock\",\"rock\",\"rock\",\"rock\",\"rock\",\"rock\",\"rock\",\"rock\",\"rock\",\"rock\",\"rock\",\"rock\",\"rock\",\"rock\",\"rock\",\"rock\",\"rock\",\"rock\",\"rock\",\"rock\",\"rock\",\"rock\",\"rock\",\"rock\",\"rock\",\"rock\",\"rock\",\"rock\",\"rock\",\"rock\",\"rock\",\"rock\",\"rock\",\"rock\",\"rock\",\"rock\",\"rock\",\"rock\",\"rock\",\"rock\",\"rock\",\"rock\",\"rock\",\"rock\",\"rock\",\"rock\",\"rock\",\"rock\",\"rock\",\"rock\",\"rock\",\"rock\",\"rock\",\"rock\",\"rock\",\"rock\",\"rock\",\"rock\",\"rock\",\"rock\",\"rock\",\"rock\",\"rock\",\"rock\",\"rock\",\"rock\",\"rock\",\"rock\",\"rock\",\"rock\",\"rock\",\"rock\",\"rock\",\"rock\",\"rock\",\"rock\",\"rock\",\"rock\",\"rock\",\"rock\",\"rock\",\"rock\",\"rock\",\"rock\",\"rock\",\"rock\",\"rock\",\"rock\",\"rock\",\"rock\",\"rock\",\"rock\",\"rock\",\"rock\",\"rock\",\"rock\",\"rock\",\"rock\",\"rock\",\"rock\",\"rock\",\"rock\",\"rock\",\"rock\",\"rock\",\"rock\",\"rock\",\"rock\",\"rock\",\"rock\",\"rock\",\"rock\",\"rock\",\"rock\",\"rock\",\"rock\",\"rock\",\"rock\",\"rock\",\"rock\",\"rock\",\"rock\",\"rock\",\"rock\",\"rock\",\"rock\",\"rock\",\"rock\",\"rock\",\"rock\",\"rock\",\"rock\",\"rock\",\"rock\",\"rock\",\"rock\",\"rock\",\"rock\",\"rock\",\"rock\",\"rock\",\"rock\",\"rock\",\"rock\",\"rock\",\"rock\",\"rock\",\"rock\",\"rock\",\"rock\",\"rock\",\"rock\",\"rock\",\"rock\",\"rock\",\"rock\",\"rock\",\"rock\",\"rock\",\"rock\",\"rock\",\"rock\",\"rock\",\"rock\",\"rock\",\"rock\",\"rock\",\"rock\",\"rock\",\"rock\",\"rock\",\"rock\",\"rock\",\"rock\",\"rock\",\"rock\",\"rock\",\"rock\",\"rock\",\"rock\",\"rock\",\"rock\",\"rock\",\"rock\",\"rock\",\"rock\",\"rock\",\"rock\",\"rock\",\"rock\",\"rock\",\"rock\",\"rock\",\"rock\",\"rock\",\"rock\",\"rock\",\"rock\",\"rock\",\"rock\",\"rock\",\"rock\",\"rock\",\"rock\",\"rock\",\"rock\",\"rock\",\"rock\",\"rock\",\"rock\",\"rock\",\"rock\",\"rock\",\"rock\",\"rock\",\"rock\",\"rock\",\"rock\",\"rock\",\"rock\",\"rock\",\"rock\",\"rock\",\"rock\",\"rock\",\"rock\",\"rock\",\"rock\",\"rock\",\"rock\",\"rock\",\"rock\",\"rock\",\"rock\",\"rock\",\"rock\",\"rock\",\"rock\",\"rock\",\"rock\",\"rock\",\"rock\",\"rock\",\"rock\",\"rock\",\"rock\",\"rock\",\"rock\",\"rock\",\"rock\",\"rock\",\"rock\",\"rock\",\"rock\",\"rock\",\"rock\",\"rock\",\"rock\",\"rock\",\"rock\",\"rock\",\"rock\",\"rock\",\"rock\",\"rock\",\"rock\",\"rock\",\"rock\",\"rock\",\"rock\",\"rock\",\"rock\",\"rock\",\"rock\",\"rock\",\"rock\",\"rock\",\"rock\",\"rock\",\"rock\",\"rock\",\"rock\",\"rock\",\"rock\",\"rock\",\"rock\",\"rock\",\"rock\",\"rock\",\"rock\",\"rock\",\"rock\",\"rock\",\"rock\",\"rock\",\"rock\",\"rock\",\"rock\",\"rock\",\"rock\",\"rock\",\"rock\",\"rock\",\"rock\",\"rock\",\"rock\",\"rock\",\"rock\",\"rock\",\"rock\",\"rock\",\"rock\",\"rock\",\"rock\",\"rock\",\"rock\",\"rock\",\"rock\",\"rock\",\"rock\",\"rock\",\"rock\",\"rock\",\"rock\",\"rock\",\"rock\",\"rock\",\"rock\",\"rock\",\"rock\",\"rock\",\"rock\",\"rock\",\"rock\",\"rock\",\"rock\",\"rock\",\"rock\",\"rock\",\"rock\",\"rock\",\"rock\",\"rock\",\"rock\",\"rock\",\"rock\",\"rock\",\"rock\",\"rock\",\"rock\",\"rock\",\"rock\",\"rock\",\"rock\",\"rock\",\"rock\",\"rock\",\"rock\",\"rock\",\"rock\",\"rock\",\"rock\",\"rock\",\"rock\",\"rock\",\"rock\",\"rock\",\"rock\",\"rock\",\"rock\",\"rock\",\"rock\",\"rock\",\"rock\",\"rock\",\"rock\",\"rock\",\"rock\",\"rock\",\"rock\",\"rock\"],\"type\":\"histogram\"},{\"histfunc\":\"count\",\"name\":\"tree\",\"x\":[\"tree\",\"tree\",\"tree\",\"tree\",\"tree\",\"tree\",\"tree\",\"tree\",\"tree\",\"tree\",\"tree\",\"tree\",\"tree\",\"tree\",\"tree\",\"tree\",\"tree\",\"tree\",\"tree\",\"tree\",\"tree\",\"tree\",\"tree\",\"tree\",\"tree\",\"tree\",\"tree\",\"tree\",\"tree\",\"tree\",\"tree\",\"tree\",\"tree\",\"tree\",\"tree\",\"tree\",\"tree\",\"tree\",\"tree\",\"tree\",\"tree\",\"tree\",\"tree\",\"tree\",\"tree\",\"tree\",\"tree\",\"tree\",\"tree\",\"tree\",\"tree\",\"tree\",\"tree\",\"tree\",\"tree\",\"tree\",\"tree\",\"tree\",\"tree\",\"tree\",\"tree\",\"tree\",\"tree\",\"tree\",\"tree\",\"tree\",\"tree\",\"tree\",\"tree\",\"tree\",\"tree\",\"tree\",\"tree\",\"tree\",\"tree\",\"tree\",\"tree\",\"tree\",\"tree\",\"tree\",\"tree\",\"tree\",\"tree\",\"tree\",\"tree\",\"tree\",\"tree\",\"tree\",\"tree\",\"tree\",\"tree\",\"tree\",\"tree\",\"tree\",\"tree\",\"tree\",\"tree\",\"tree\",\"tree\",\"tree\",\"tree\",\"tree\",\"tree\",\"tree\",\"tree\",\"tree\",\"tree\",\"tree\",\"tree\",\"tree\",\"tree\",\"tree\",\"tree\",\"tree\",\"tree\",\"tree\",\"tree\",\"tree\",\"tree\",\"tree\",\"tree\",\"tree\",\"tree\",\"tree\",\"tree\",\"tree\",\"tree\",\"tree\",\"tree\",\"tree\",\"tree\",\"tree\",\"tree\",\"tree\",\"tree\",\"tree\",\"tree\",\"tree\",\"tree\",\"tree\",\"tree\",\"tree\",\"tree\",\"tree\",\"tree\",\"tree\",\"tree\",\"tree\",\"tree\",\"tree\",\"tree\",\"tree\",\"tree\",\"tree\",\"tree\",\"tree\",\"tree\",\"tree\",\"tree\",\"tree\",\"tree\",\"tree\",\"tree\",\"tree\",\"tree\",\"tree\",\"tree\",\"tree\",\"tree\",\"tree\",\"tree\",\"tree\",\"tree\",\"tree\",\"tree\",\"tree\",\"tree\",\"tree\",\"tree\",\"tree\",\"tree\",\"tree\",\"tree\",\"tree\",\"tree\",\"tree\",\"tree\",\"tree\",\"tree\",\"tree\",\"tree\",\"tree\",\"tree\",\"tree\",\"tree\",\"tree\",\"tree\",\"tree\",\"tree\",\"tree\",\"tree\",\"tree\",\"tree\",\"tree\",\"tree\",\"tree\",\"tree\",\"tree\",\"tree\",\"tree\",\"tree\",\"tree\",\"tree\",\"tree\",\"tree\",\"tree\",\"tree\",\"tree\",\"tree\",\"tree\",\"tree\",\"tree\",\"tree\",\"tree\",\"tree\",\"tree\",\"tree\",\"tree\",\"tree\",\"tree\",\"tree\",\"tree\",\"tree\",\"tree\",\"tree\",\"tree\",\"tree\",\"tree\",\"tree\",\"tree\",\"tree\",\"tree\",\"tree\",\"tree\",\"tree\",\"tree\",\"tree\",\"tree\",\"tree\",\"tree\",\"tree\",\"tree\",\"tree\",\"tree\",\"tree\",\"tree\",\"tree\",\"tree\",\"tree\",\"tree\",\"tree\",\"tree\",\"tree\",\"tree\",\"tree\",\"tree\",\"tree\",\"tree\",\"tree\",\"tree\",\"tree\",\"tree\",\"tree\",\"tree\",\"tree\",\"tree\",\"tree\",\"tree\",\"tree\",\"tree\",\"tree\",\"tree\",\"tree\",\"tree\",\"tree\",\"tree\",\"tree\",\"tree\",\"tree\",\"tree\",\"tree\",\"tree\",\"tree\",\"tree\",\"tree\",\"tree\",\"tree\",\"tree\",\"tree\",\"tree\",\"tree\",\"tree\",\"tree\",\"tree\",\"tree\",\"tree\",\"tree\",\"tree\",\"tree\",\"tree\",\"tree\",\"tree\",\"tree\",\"tree\",\"tree\",\"tree\",\"tree\",\"tree\",\"tree\",\"tree\",\"tree\",\"tree\",\"tree\",\"tree\",\"tree\",\"tree\",\"tree\",\"tree\",\"tree\",\"tree\",\"tree\",\"tree\",\"tree\",\"tree\",\"tree\",\"tree\",\"tree\",\"tree\",\"tree\",\"tree\",\"tree\",\"tree\",\"tree\",\"tree\",\"tree\",\"tree\",\"tree\",\"tree\",\"tree\",\"tree\",\"tree\",\"tree\",\"tree\",\"tree\",\"tree\",\"tree\",\"tree\",\"tree\",\"tree\",\"tree\",\"tree\",\"tree\",\"tree\",\"tree\",\"tree\",\"tree\",\"tree\",\"tree\",\"tree\",\"tree\",\"tree\",\"tree\",\"tree\",\"tree\",\"tree\",\"tree\",\"tree\",\"tree\",\"tree\",\"tree\",\"tree\",\"tree\",\"tree\",\"tree\",\"tree\",\"tree\",\"tree\",\"tree\",\"tree\",\"tree\",\"tree\",\"tree\",\"tree\",\"tree\",\"tree\",\"tree\",\"tree\",\"tree\",\"tree\",\"tree\",\"tree\",\"tree\",\"tree\",\"tree\",\"tree\",\"tree\",\"tree\",\"tree\",\"tree\",\"tree\",\"tree\",\"tree\",\"tree\",\"tree\",\"tree\",\"tree\",\"tree\",\"tree\",\"tree\",\"tree\",\"tree\",\"tree\",\"tree\",\"tree\",\"tree\",\"tree\",\"tree\",\"tree\",\"tree\",\"tree\",\"tree\",\"tree\",\"tree\",\"tree\",\"tree\",\"tree\",\"tree\",\"tree\",\"tree\",\"tree\",\"tree\",\"tree\",\"tree\",\"tree\",\"tree\",\"tree\",\"tree\",\"tree\",\"tree\",\"tree\",\"tree\",\"tree\",\"tree\",\"tree\",\"tree\",\"tree\",\"tree\",\"tree\",\"tree\",\"tree\",\"tree\",\"tree\",\"tree\",\"tree\",\"tree\",\"tree\",\"tree\",\"tree\",\"tree\",\"tree\",\"tree\",\"tree\",\"tree\",\"tree\",\"tree\",\"tree\",\"tree\",\"tree\",\"tree\",\"tree\",\"tree\",\"tree\",\"tree\",\"tree\",\"tree\",\"tree\",\"tree\",\"tree\",\"tree\",\"tree\",\"tree\",\"tree\",\"tree\",\"tree\",\"tree\",\"tree\",\"tree\",\"tree\",\"tree\",\"tree\"],\"type\":\"histogram\"}],                        {\"title\":{\"text\":\"Label distribution\"},\"xaxis\":{\"title\":{\"text\":\"label\"}},\"yaxis\":{\"title\":{\"text\":\"count\"}},\"template\":{\"data\":{\"barpolar\":[{\"marker\":{\"line\":{\"color\":\"white\",\"width\":0.5},\"pattern\":{\"fillmode\":\"overlay\",\"size\":10,\"solidity\":0.2}},\"type\":\"barpolar\"}],\"bar\":[{\"error_x\":{\"color\":\"#2a3f5f\"},\"error_y\":{\"color\":\"#2a3f5f\"},\"marker\":{\"line\":{\"color\":\"white\",\"width\":0.5},\"pattern\":{\"fillmode\":\"overlay\",\"size\":10,\"solidity\":0.2}},\"type\":\"bar\"}],\"carpet\":[{\"aaxis\":{\"endlinecolor\":\"#2a3f5f\",\"gridcolor\":\"#C8D4E3\",\"linecolor\":\"#C8D4E3\",\"minorgridcolor\":\"#C8D4E3\",\"startlinecolor\":\"#2a3f5f\"},\"baxis\":{\"endlinecolor\":\"#2a3f5f\",\"gridcolor\":\"#C8D4E3\",\"linecolor\":\"#C8D4E3\",\"minorgridcolor\":\"#C8D4E3\",\"startlinecolor\":\"#2a3f5f\"},\"type\":\"carpet\"}],\"choropleth\":[{\"colorbar\":{\"outlinewidth\":0,\"ticks\":\"\"},\"type\":\"choropleth\"}],\"contourcarpet\":[{\"colorbar\":{\"outlinewidth\":0,\"ticks\":\"\"},\"type\":\"contourcarpet\"}],\"contour\":[{\"colorbar\":{\"outlinewidth\":0,\"ticks\":\"\"},\"colorscale\":[[0.0,\"#0d0887\"],[0.1111111111111111,\"#46039f\"],[0.2222222222222222,\"#7201a8\"],[0.3333333333333333,\"#9c179e\"],[0.4444444444444444,\"#bd3786\"],[0.5555555555555556,\"#d8576b\"],[0.6666666666666666,\"#ed7953\"],[0.7777777777777778,\"#fb9f3a\"],[0.8888888888888888,\"#fdca26\"],[1.0,\"#f0f921\"]],\"type\":\"contour\"}],\"heatmapgl\":[{\"colorbar\":{\"outlinewidth\":0,\"ticks\":\"\"},\"colorscale\":[[0.0,\"#0d0887\"],[0.1111111111111111,\"#46039f\"],[0.2222222222222222,\"#7201a8\"],[0.3333333333333333,\"#9c179e\"],[0.4444444444444444,\"#bd3786\"],[0.5555555555555556,\"#d8576b\"],[0.6666666666666666,\"#ed7953\"],[0.7777777777777778,\"#fb9f3a\"],[0.8888888888888888,\"#fdca26\"],[1.0,\"#f0f921\"]],\"type\":\"heatmapgl\"}],\"heatmap\":[{\"colorbar\":{\"outlinewidth\":0,\"ticks\":\"\"},\"colorscale\":[[0.0,\"#0d0887\"],[0.1111111111111111,\"#46039f\"],[0.2222222222222222,\"#7201a8\"],[0.3333333333333333,\"#9c179e\"],[0.4444444444444444,\"#bd3786\"],[0.5555555555555556,\"#d8576b\"],[0.6666666666666666,\"#ed7953\"],[0.7777777777777778,\"#fb9f3a\"],[0.8888888888888888,\"#fdca26\"],[1.0,\"#f0f921\"]],\"type\":\"heatmap\"}],\"histogram2dcontour\":[{\"colorbar\":{\"outlinewidth\":0,\"ticks\":\"\"},\"colorscale\":[[0.0,\"#0d0887\"],[0.1111111111111111,\"#46039f\"],[0.2222222222222222,\"#7201a8\"],[0.3333333333333333,\"#9c179e\"],[0.4444444444444444,\"#bd3786\"],[0.5555555555555556,\"#d8576b\"],[0.6666666666666666,\"#ed7953\"],[0.7777777777777778,\"#fb9f3a\"],[0.8888888888888888,\"#fdca26\"],[1.0,\"#f0f921\"]],\"type\":\"histogram2dcontour\"}],\"histogram2d\":[{\"colorbar\":{\"outlinewidth\":0,\"ticks\":\"\"},\"colorscale\":[[0.0,\"#0d0887\"],[0.1111111111111111,\"#46039f\"],[0.2222222222222222,\"#7201a8\"],[0.3333333333333333,\"#9c179e\"],[0.4444444444444444,\"#bd3786\"],[0.5555555555555556,\"#d8576b\"],[0.6666666666666666,\"#ed7953\"],[0.7777777777777778,\"#fb9f3a\"],[0.8888888888888888,\"#fdca26\"],[1.0,\"#f0f921\"]],\"type\":\"histogram2d\"}],\"histogram\":[{\"marker\":{\"pattern\":{\"fillmode\":\"overlay\",\"size\":10,\"solidity\":0.2},\"line\":{\"width\":1}},\"type\":\"histogram\"}],\"mesh3d\":[{\"colorbar\":{\"outlinewidth\":0,\"ticks\":\"\"},\"type\":\"mesh3d\"}],\"parcoords\":[{\"line\":{\"colorbar\":{\"outlinewidth\":0,\"ticks\":\"\"}},\"type\":\"parcoords\"}],\"pie\":[{\"automargin\":true,\"type\":\"pie\"}],\"scatter3d\":[{\"line\":{\"colorbar\":{\"outlinewidth\":0,\"ticks\":\"\"}},\"marker\":{\"colorbar\":{\"outlinewidth\":0,\"ticks\":\"\"},\"opacity\":0.8},\"type\":\"scatter3d\"}],\"scattercarpet\":[{\"marker\":{\"colorbar\":{\"outlinewidth\":0,\"ticks\":\"\"}},\"type\":\"scattercarpet\"}],\"scattergeo\":[{\"marker\":{\"colorbar\":{\"outlinewidth\":0,\"ticks\":\"\"}},\"type\":\"scattergeo\"}],\"scattergl\":[{\"marker\":{\"colorbar\":{\"outlinewidth\":0,\"ticks\":\"\"}},\"type\":\"scattergl\"}],\"scattermapbox\":[{\"marker\":{\"colorbar\":{\"outlinewidth\":0,\"ticks\":\"\"}},\"type\":\"scattermapbox\"}],\"scatterpolargl\":[{\"marker\":{\"colorbar\":{\"outlinewidth\":0,\"ticks\":\"\"}},\"type\":\"scatterpolargl\"}],\"scatterpolar\":[{\"marker\":{\"colorbar\":{\"outlinewidth\":0,\"ticks\":\"\"}},\"type\":\"scatterpolar\"}],\"scatter\":[{\"fillpattern\":{\"fillmode\":\"overlay\",\"size\":10,\"solidity\":0.2},\"type\":\"scatter\",\"marker\":{\"opacity\":0.8}}],\"scatterternary\":[{\"marker\":{\"colorbar\":{\"outlinewidth\":0,\"ticks\":\"\"}},\"type\":\"scatterternary\"}],\"surface\":[{\"colorbar\":{\"outlinewidth\":0,\"ticks\":\"\"},\"colorscale\":[[0.0,\"#0d0887\"],[0.1111111111111111,\"#46039f\"],[0.2222222222222222,\"#7201a8\"],[0.3333333333333333,\"#9c179e\"],[0.4444444444444444,\"#bd3786\"],[0.5555555555555556,\"#d8576b\"],[0.6666666666666666,\"#ed7953\"],[0.7777777777777778,\"#fb9f3a\"],[0.8888888888888888,\"#fdca26\"],[1.0,\"#f0f921\"]],\"type\":\"surface\"}],\"table\":[{\"cells\":{\"fill\":{\"color\":\"#EBF0F8\"},\"line\":{\"color\":\"white\"}},\"header\":{\"fill\":{\"color\":\"#C8D4E3\"},\"line\":{\"color\":\"white\"}},\"type\":\"table\"}],\"box\":[{\"boxpoints\":\"outliers\",\"notched\":false,\"type\":\"box\"}]},\"layout\":{\"annotationdefaults\":{\"arrowcolor\":\"#2a3f5f\",\"arrowhead\":0,\"arrowwidth\":1},\"autotypenumbers\":\"strict\",\"coloraxis\":{\"colorbar\":{\"outlinewidth\":0,\"ticks\":\"\"}},\"colorscale\":{\"diverging\":[[0,\"#8e0152\"],[0.1,\"#c51b7d\"],[0.2,\"#de77ae\"],[0.3,\"#f1b6da\"],[0.4,\"#fde0ef\"],[0.5,\"#f7f7f7\"],[0.6,\"#e6f5d0\"],[0.7,\"#b8e186\"],[0.8,\"#7fbc41\"],[0.9,\"#4d9221\"],[1,\"#276419\"]],\"sequential\":[[0.0,\"#0d0887\"],[0.1111111111111111,\"#46039f\"],[0.2222222222222222,\"#7201a8\"],[0.3333333333333333,\"#9c179e\"],[0.4444444444444444,\"#bd3786\"],[0.5555555555555556,\"#d8576b\"],[0.6666666666666666,\"#ed7953\"],[0.7777777777777778,\"#fb9f3a\"],[0.8888888888888888,\"#fdca26\"],[1.0,\"#f0f921\"]],\"sequentialminus\":[[0.0,\"#0d0887\"],[0.1111111111111111,\"#46039f\"],[0.2222222222222222,\"#7201a8\"],[0.3333333333333333,\"#9c179e\"],[0.4444444444444444,\"#bd3786\"],[0.5555555555555556,\"#d8576b\"],[0.6666666666666666,\"#ed7953\"],[0.7777777777777778,\"#fb9f3a\"],[0.8888888888888888,\"#fdca26\"],[1.0,\"#f0f921\"]]},\"colorway\":[\"#636efa\",\"#EF553B\",\"#00cc96\",\"#ab63fa\",\"#FFA15A\",\"#19d3f3\",\"#FF6692\",\"#B6E880\",\"#FF97FF\",\"#FECB52\"],\"font\":{\"color\":\"#2a3f5f\"},\"geo\":{\"bgcolor\":\"white\",\"lakecolor\":\"white\",\"landcolor\":\"white\",\"showlakes\":true,\"showland\":true,\"subunitcolor\":\"#C8D4E3\"},\"hoverlabel\":{\"align\":\"left\"},\"hovermode\":\"closest\",\"mapbox\":{\"style\":\"light\"},\"paper_bgcolor\":\"white\",\"plot_bgcolor\":\"white\",\"polar\":{\"angularaxis\":{\"gridcolor\":\"#EBF0F8\",\"linecolor\":\"#EBF0F8\",\"ticks\":\"\"},\"bgcolor\":\"white\",\"radialaxis\":{\"gridcolor\":\"#EBF0F8\",\"linecolor\":\"#EBF0F8\",\"ticks\":\"\"}},\"scene\":{\"xaxis\":{\"backgroundcolor\":\"white\",\"gridcolor\":\"#DFE8F3\",\"gridwidth\":2,\"linecolor\":\"#EBF0F8\",\"showbackground\":true,\"ticks\":\"\",\"zerolinecolor\":\"#EBF0F8\"},\"yaxis\":{\"backgroundcolor\":\"white\",\"gridcolor\":\"#DFE8F3\",\"gridwidth\":2,\"linecolor\":\"#EBF0F8\",\"showbackground\":true,\"ticks\":\"\",\"zerolinecolor\":\"#EBF0F8\"},\"zaxis\":{\"backgroundcolor\":\"white\",\"gridcolor\":\"#DFE8F3\",\"gridwidth\":2,\"linecolor\":\"#EBF0F8\",\"showbackground\":true,\"ticks\":\"\",\"zerolinecolor\":\"#EBF0F8\"},\"camera\":{\"eye\":{\"x\":1.5,\"y\":1.5,\"z\":0.1}}},\"shapedefaults\":{\"line\":{\"color\":\"#2a3f5f\"}},\"ternary\":{\"aaxis\":{\"gridcolor\":\"#DFE8F3\",\"linecolor\":\"#A2B1C6\",\"ticks\":\"\"},\"baxis\":{\"gridcolor\":\"#DFE8F3\",\"linecolor\":\"#A2B1C6\",\"ticks\":\"\"},\"bgcolor\":\"white\",\"caxis\":{\"gridcolor\":\"#DFE8F3\",\"linecolor\":\"#A2B1C6\",\"ticks\":\"\"}},\"title\":{\"x\":0.5},\"xaxis\":{\"automargin\":true,\"gridcolor\":\"#EBF0F8\",\"linecolor\":\"#EBF0F8\",\"ticks\":\"\",\"title\":{\"standoff\":15},\"zerolinecolor\":\"#EBF0F8\",\"zerolinewidth\":2,\"linewidth\":2,\"showline\":true},\"yaxis\":{\"automargin\":true,\"gridcolor\":\"#EBF0F8\",\"linecolor\":\"#EBF0F8\",\"ticks\":\"\",\"title\":{\"standoff\":15},\"zerolinecolor\":\"#EBF0F8\",\"zerolinewidth\":2,\"linewidth\":2,\"showline\":true},\"height\":400,\"margin\":{\"b\":2,\"l\":2,\"r\":2,\"t\":30}}},\"legend\":{\"title\":{\"text\":\"label\"}}},                        {\"responsive\": true}                    ).then(function(){\n",
              "                            \n",
              "var gd = document.getElementById('825a4c3c-4699-4ca3-9ffc-e117b48a3e5c');\n",
              "var x = new MutationObserver(function (mutations, observer) {{\n",
              "        var display = window.getComputedStyle(gd).display;\n",
              "        if (!display || display === 'none') {{\n",
              "            console.log([gd, 'removed!']);\n",
              "            Plotly.purge(gd);\n",
              "            observer.disconnect();\n",
              "        }}\n",
              "}});\n",
              "\n",
              "// Listen for the removal of the full notebook cells\n",
              "var notebookContainer = gd.closest('#notebook-container');\n",
              "if (notebookContainer) {{\n",
              "    x.observe(notebookContainer, {childList: true});\n",
              "}}\n",
              "\n",
              "// Listen for the clearing of the current output cell\n",
              "var outputEl = gd.closest('.output');\n",
              "if (outputEl) {{\n",
              "    x.observe(outputEl, {childList: true});\n",
              "}}\n",
              "\n",
              "                        })                };                            </script>        </div>\n",
              "</body>\n",
              "</html>"
            ]
          },
          "metadata": {}
        }
      ]
    },
    {
      "cell_type": "markdown",
      "source": [
        "\n",
        "Este nuevo conjunto de datos está equilibrado entre las clases, pero para nuestros propósitos queremos que esté equilibrado entre excursionistas y no excursionistas.\n",
        "\n",
        "Para simplificar, tomemos a los excursionistas más una muestra aleatoria de los no excursionistas."
      ],
      "metadata": {
        "id": "02nu84eVet3P"
      }
    },
    {
      "cell_type": "code",
      "source": [
        "# Add a new label with true/false values to our dataset\n",
        "balanced_dataset[\"is_hiker\"] = balanced_dataset.label == \"hiker\"\n",
        "\n",
        "hikers_dataset = balanced_dataset[balanced_dataset[\"is_hiker\"] == 1] \n",
        "nonhikers_dataset = balanced_dataset[balanced_dataset[\"is_hiker\"] == False] \n",
        "# take a random sampling of non-hikers the same size as the hikers subset\n",
        "nonhikers_dataset = nonhikers_dataset.sample(n=len(hikers_dataset.index), random_state=1)\n",
        "balanced_dataset = pandas.concat([hikers_dataset, nonhikers_dataset])\n",
        "\n",
        "# Plot frequency for \"is_hiker\" labels\n",
        "graphing.multiple_histogram(balanced_dataset, label_x=\"is_hiker\", label_group=\"is_hiker\", title=\"Label distribution in balanced dataset\")"
      ],
      "metadata": {
        "colab": {
          "base_uri": "https://localhost:8080/",
          "height": 417
        },
        "id": "doiFSTc0ewin",
        "outputId": "60a31350-689b-46d0-f3cb-9747ece6c180"
      },
      "execution_count": 10,
      "outputs": [
        {
          "output_type": "display_data",
          "data": {
            "text/html": [
              "<html>\n",
              "<head><meta charset=\"utf-8\" /></head>\n",
              "<body>\n",
              "    <div>            <script src=\"https://cdnjs.cloudflare.com/ajax/libs/mathjax/2.7.5/MathJax.js?config=TeX-AMS-MML_SVG\"></script><script type=\"text/javascript\">if (window.MathJax && window.MathJax.Hub && window.MathJax.Hub.Config) {window.MathJax.Hub.Config({SVG: {font: \"STIX-Web\"}});}</script>                <script type=\"text/javascript\">window.PlotlyConfig = {MathJaxConfig: 'local'};</script>\n",
              "        <script src=\"https://cdn.plot.ly/plotly-2.18.2.min.js\"></script>                <div id=\"05225ff1-648c-4bf4-810f-4418be2fcf79\" class=\"plotly-graph-div\" style=\"height:400px; width:100%;\"></div>            <script type=\"text/javascript\">                                    window.PLOTLYENV=window.PLOTLYENV || {};                                    if (document.getElementById(\"05225ff1-648c-4bf4-810f-4418be2fcf79\")) {                    Plotly.newPlot(                        \"05225ff1-648c-4bf4-810f-4418be2fcf79\",                        [{\"histfunc\":\"count\",\"name\":\"False\",\"x\":[false,false,false,false,false,false,false,false,false,false,false,false,false,false,false,false,false,false,false,false,false,false,false,false,false,false,false,false,false,false,false,false,false,false,false,false,false,false,false,false,false,false,false,false,false,false,false,false,false,false,false,false,false,false,false,false,false,false,false,false,false,false,false,false,false,false,false,false,false,false,false,false,false,false,false,false,false,false,false,false,false,false,false,false,false,false,false,false,false,false,false,false,false,false,false,false,false,false,false,false,false,false,false,false,false,false,false,false,false,false,false,false,false,false,false,false,false,false,false,false,false,false,false,false,false,false,false,false,false,false,false,false,false,false,false,false,false,false,false,false,false,false,false,false,false,false,false,false,false,false,false,false,false,false,false,false,false,false,false,false,false,false,false,false,false,false,false,false,false,false,false,false,false,false,false,false,false,false,false,false,false,false,false,false,false,false,false,false,false,false,false,false,false,false,false,false,false,false,false,false,false,false,false,false,false,false,false,false,false,false,false,false,false,false,false,false,false,false,false,false,false,false,false,false,false,false,false,false,false,false,false,false,false,false,false,false,false,false,false,false,false,false,false,false,false,false,false,false,false,false,false,false,false,false,false,false,false,false,false,false,false,false,false,false,false,false,false,false,false,false,false,false,false,false,false,false,false,false,false,false,false,false,false,false,false,false,false,false,false,false,false,false,false,false,false,false,false,false,false,false,false,false,false,false,false,false,false,false,false,false,false,false,false,false,false,false,false,false,false,false,false,false,false,false,false,false,false,false,false,false,false,false,false,false,false,false,false,false,false,false,false,false,false,false,false,false,false,false,false,false,false,false,false,false,false,false,false,false,false,false,false,false,false,false,false,false,false,false,false,false,false,false,false,false,false,false,false,false,false,false,false,false,false,false,false,false,false,false,false,false,false,false,false,false,false,false,false,false,false,false,false,false,false,false,false,false,false,false,false,false,false,false,false,false,false,false,false,false,false,false,false,false,false,false,false,false,false,false,false,false,false,false,false,false,false,false,false,false,false,false,false,false,false,false,false,false,false,false,false,false,false,false,false,false,false,false,false,false,false,false,false,false,false,false,false,false,false,false,false,false,false,false,false,false,false,false,false,false,false,false,false,false,false,false,false,false,false,false,false,false,false,false,false,false,false,false,false,false,false,false],\"type\":\"histogram\"},{\"histfunc\":\"count\",\"name\":\"True\",\"x\":[true,true,true,true,true,true,true,true,true,true,true,true,true,true,true,true,true,true,true,true,true,true,true,true,true,true,true,true,true,true,true,true,true,true,true,true,true,true,true,true,true,true,true,true,true,true,true,true,true,true,true,true,true,true,true,true,true,true,true,true,true,true,true,true,true,true,true,true,true,true,true,true,true,true,true,true,true,true,true,true,true,true,true,true,true,true,true,true,true,true,true,true,true,true,true,true,true,true,true,true,true,true,true,true,true,true,true,true,true,true,true,true,true,true,true,true,true,true,true,true,true,true,true,true,true,true,true,true,true,true,true,true,true,true,true,true,true,true,true,true,true,true,true,true,true,true,true,true,true,true,true,true,true,true,true,true,true,true,true,true,true,true,true,true,true,true,true,true,true,true,true,true,true,true,true,true,true,true,true,true,true,true,true,true,true,true,true,true,true,true,true,true,true,true,true,true,true,true,true,true,true,true,true,true,true,true,true,true,true,true,true,true,true,true,true,true,true,true,true,true,true,true,true,true,true,true,true,true,true,true,true,true,true,true,true,true,true,true,true,true,true,true,true,true,true,true,true,true,true,true,true,true,true,true,true,true,true,true,true,true,true,true,true,true,true,true,true,true,true,true,true,true,true,true,true,true,true,true,true,true,true,true,true,true,true,true,true,true,true,true,true,true,true,true,true,true,true,true,true,true,true,true,true,true,true,true,true,true,true,true,true,true,true,true,true,true,true,true,true,true,true,true,true,true,true,true,true,true,true,true,true,true,true,true,true,true,true,true,true,true,true,true,true,true,true,true,true,true,true,true,true,true,true,true,true,true,true,true,true,true,true,true,true,true,true,true,true,true,true,true,true,true,true,true,true,true,true,true,true,true,true,true,true,true,true,true,true,true,true,true,true,true,true,true,true,true,true,true,true,true,true,true,true,true,true,true,true,true,true,true,true,true,true,true,true,true,true,true,true,true,true,true,true,true,true,true,true,true,true,true,true,true,true,true,true,true,true,true,true,true,true,true,true,true,true,true,true,true,true,true,true,true,true,true,true,true,true,true,true,true,true,true,true,true,true,true,true,true,true,true,true,true,true,true,true,true,true,true,true,true,true,true,true,true,true,true,true,true,true,true,true,true,true,true,true,true,true,true,true,true],\"type\":\"histogram\"}],                        {\"title\":{\"text\":\"Label distribution in balanced dataset\"},\"xaxis\":{\"title\":{\"text\":\"is hiker\"}},\"yaxis\":{\"title\":{\"text\":\"count\"}},\"template\":{\"data\":{\"barpolar\":[{\"marker\":{\"line\":{\"color\":\"white\",\"width\":0.5},\"pattern\":{\"fillmode\":\"overlay\",\"size\":10,\"solidity\":0.2}},\"type\":\"barpolar\"}],\"bar\":[{\"error_x\":{\"color\":\"#2a3f5f\"},\"error_y\":{\"color\":\"#2a3f5f\"},\"marker\":{\"line\":{\"color\":\"white\",\"width\":0.5},\"pattern\":{\"fillmode\":\"overlay\",\"size\":10,\"solidity\":0.2}},\"type\":\"bar\"}],\"carpet\":[{\"aaxis\":{\"endlinecolor\":\"#2a3f5f\",\"gridcolor\":\"#C8D4E3\",\"linecolor\":\"#C8D4E3\",\"minorgridcolor\":\"#C8D4E3\",\"startlinecolor\":\"#2a3f5f\"},\"baxis\":{\"endlinecolor\":\"#2a3f5f\",\"gridcolor\":\"#C8D4E3\",\"linecolor\":\"#C8D4E3\",\"minorgridcolor\":\"#C8D4E3\",\"startlinecolor\":\"#2a3f5f\"},\"type\":\"carpet\"}],\"choropleth\":[{\"colorbar\":{\"outlinewidth\":0,\"ticks\":\"\"},\"type\":\"choropleth\"}],\"contourcarpet\":[{\"colorbar\":{\"outlinewidth\":0,\"ticks\":\"\"},\"type\":\"contourcarpet\"}],\"contour\":[{\"colorbar\":{\"outlinewidth\":0,\"ticks\":\"\"},\"colorscale\":[[0.0,\"#0d0887\"],[0.1111111111111111,\"#46039f\"],[0.2222222222222222,\"#7201a8\"],[0.3333333333333333,\"#9c179e\"],[0.4444444444444444,\"#bd3786\"],[0.5555555555555556,\"#d8576b\"],[0.6666666666666666,\"#ed7953\"],[0.7777777777777778,\"#fb9f3a\"],[0.8888888888888888,\"#fdca26\"],[1.0,\"#f0f921\"]],\"type\":\"contour\"}],\"heatmapgl\":[{\"colorbar\":{\"outlinewidth\":0,\"ticks\":\"\"},\"colorscale\":[[0.0,\"#0d0887\"],[0.1111111111111111,\"#46039f\"],[0.2222222222222222,\"#7201a8\"],[0.3333333333333333,\"#9c179e\"],[0.4444444444444444,\"#bd3786\"],[0.5555555555555556,\"#d8576b\"],[0.6666666666666666,\"#ed7953\"],[0.7777777777777778,\"#fb9f3a\"],[0.8888888888888888,\"#fdca26\"],[1.0,\"#f0f921\"]],\"type\":\"heatmapgl\"}],\"heatmap\":[{\"colorbar\":{\"outlinewidth\":0,\"ticks\":\"\"},\"colorscale\":[[0.0,\"#0d0887\"],[0.1111111111111111,\"#46039f\"],[0.2222222222222222,\"#7201a8\"],[0.3333333333333333,\"#9c179e\"],[0.4444444444444444,\"#bd3786\"],[0.5555555555555556,\"#d8576b\"],[0.6666666666666666,\"#ed7953\"],[0.7777777777777778,\"#fb9f3a\"],[0.8888888888888888,\"#fdca26\"],[1.0,\"#f0f921\"]],\"type\":\"heatmap\"}],\"histogram2dcontour\":[{\"colorbar\":{\"outlinewidth\":0,\"ticks\":\"\"},\"colorscale\":[[0.0,\"#0d0887\"],[0.1111111111111111,\"#46039f\"],[0.2222222222222222,\"#7201a8\"],[0.3333333333333333,\"#9c179e\"],[0.4444444444444444,\"#bd3786\"],[0.5555555555555556,\"#d8576b\"],[0.6666666666666666,\"#ed7953\"],[0.7777777777777778,\"#fb9f3a\"],[0.8888888888888888,\"#fdca26\"],[1.0,\"#f0f921\"]],\"type\":\"histogram2dcontour\"}],\"histogram2d\":[{\"colorbar\":{\"outlinewidth\":0,\"ticks\":\"\"},\"colorscale\":[[0.0,\"#0d0887\"],[0.1111111111111111,\"#46039f\"],[0.2222222222222222,\"#7201a8\"],[0.3333333333333333,\"#9c179e\"],[0.4444444444444444,\"#bd3786\"],[0.5555555555555556,\"#d8576b\"],[0.6666666666666666,\"#ed7953\"],[0.7777777777777778,\"#fb9f3a\"],[0.8888888888888888,\"#fdca26\"],[1.0,\"#f0f921\"]],\"type\":\"histogram2d\"}],\"histogram\":[{\"marker\":{\"pattern\":{\"fillmode\":\"overlay\",\"size\":10,\"solidity\":0.2},\"line\":{\"width\":1}},\"type\":\"histogram\"}],\"mesh3d\":[{\"colorbar\":{\"outlinewidth\":0,\"ticks\":\"\"},\"type\":\"mesh3d\"}],\"parcoords\":[{\"line\":{\"colorbar\":{\"outlinewidth\":0,\"ticks\":\"\"}},\"type\":\"parcoords\"}],\"pie\":[{\"automargin\":true,\"type\":\"pie\"}],\"scatter3d\":[{\"line\":{\"colorbar\":{\"outlinewidth\":0,\"ticks\":\"\"}},\"marker\":{\"colorbar\":{\"outlinewidth\":0,\"ticks\":\"\"},\"opacity\":0.8},\"type\":\"scatter3d\"}],\"scattercarpet\":[{\"marker\":{\"colorbar\":{\"outlinewidth\":0,\"ticks\":\"\"}},\"type\":\"scattercarpet\"}],\"scattergeo\":[{\"marker\":{\"colorbar\":{\"outlinewidth\":0,\"ticks\":\"\"}},\"type\":\"scattergeo\"}],\"scattergl\":[{\"marker\":{\"colorbar\":{\"outlinewidth\":0,\"ticks\":\"\"}},\"type\":\"scattergl\"}],\"scattermapbox\":[{\"marker\":{\"colorbar\":{\"outlinewidth\":0,\"ticks\":\"\"}},\"type\":\"scattermapbox\"}],\"scatterpolargl\":[{\"marker\":{\"colorbar\":{\"outlinewidth\":0,\"ticks\":\"\"}},\"type\":\"scatterpolargl\"}],\"scatterpolar\":[{\"marker\":{\"colorbar\":{\"outlinewidth\":0,\"ticks\":\"\"}},\"type\":\"scatterpolar\"}],\"scatter\":[{\"fillpattern\":{\"fillmode\":\"overlay\",\"size\":10,\"solidity\":0.2},\"type\":\"scatter\",\"marker\":{\"opacity\":0.8}}],\"scatterternary\":[{\"marker\":{\"colorbar\":{\"outlinewidth\":0,\"ticks\":\"\"}},\"type\":\"scatterternary\"}],\"surface\":[{\"colorbar\":{\"outlinewidth\":0,\"ticks\":\"\"},\"colorscale\":[[0.0,\"#0d0887\"],[0.1111111111111111,\"#46039f\"],[0.2222222222222222,\"#7201a8\"],[0.3333333333333333,\"#9c179e\"],[0.4444444444444444,\"#bd3786\"],[0.5555555555555556,\"#d8576b\"],[0.6666666666666666,\"#ed7953\"],[0.7777777777777778,\"#fb9f3a\"],[0.8888888888888888,\"#fdca26\"],[1.0,\"#f0f921\"]],\"type\":\"surface\"}],\"table\":[{\"cells\":{\"fill\":{\"color\":\"#EBF0F8\"},\"line\":{\"color\":\"white\"}},\"header\":{\"fill\":{\"color\":\"#C8D4E3\"},\"line\":{\"color\":\"white\"}},\"type\":\"table\"}],\"box\":[{\"boxpoints\":\"outliers\",\"notched\":false,\"type\":\"box\"}]},\"layout\":{\"annotationdefaults\":{\"arrowcolor\":\"#2a3f5f\",\"arrowhead\":0,\"arrowwidth\":1},\"autotypenumbers\":\"strict\",\"coloraxis\":{\"colorbar\":{\"outlinewidth\":0,\"ticks\":\"\"}},\"colorscale\":{\"diverging\":[[0,\"#8e0152\"],[0.1,\"#c51b7d\"],[0.2,\"#de77ae\"],[0.3,\"#f1b6da\"],[0.4,\"#fde0ef\"],[0.5,\"#f7f7f7\"],[0.6,\"#e6f5d0\"],[0.7,\"#b8e186\"],[0.8,\"#7fbc41\"],[0.9,\"#4d9221\"],[1,\"#276419\"]],\"sequential\":[[0.0,\"#0d0887\"],[0.1111111111111111,\"#46039f\"],[0.2222222222222222,\"#7201a8\"],[0.3333333333333333,\"#9c179e\"],[0.4444444444444444,\"#bd3786\"],[0.5555555555555556,\"#d8576b\"],[0.6666666666666666,\"#ed7953\"],[0.7777777777777778,\"#fb9f3a\"],[0.8888888888888888,\"#fdca26\"],[1.0,\"#f0f921\"]],\"sequentialminus\":[[0.0,\"#0d0887\"],[0.1111111111111111,\"#46039f\"],[0.2222222222222222,\"#7201a8\"],[0.3333333333333333,\"#9c179e\"],[0.4444444444444444,\"#bd3786\"],[0.5555555555555556,\"#d8576b\"],[0.6666666666666666,\"#ed7953\"],[0.7777777777777778,\"#fb9f3a\"],[0.8888888888888888,\"#fdca26\"],[1.0,\"#f0f921\"]]},\"colorway\":[\"#636efa\",\"#EF553B\",\"#00cc96\",\"#ab63fa\",\"#FFA15A\",\"#19d3f3\",\"#FF6692\",\"#B6E880\",\"#FF97FF\",\"#FECB52\"],\"font\":{\"color\":\"#2a3f5f\"},\"geo\":{\"bgcolor\":\"white\",\"lakecolor\":\"white\",\"landcolor\":\"white\",\"showlakes\":true,\"showland\":true,\"subunitcolor\":\"#C8D4E3\"},\"hoverlabel\":{\"align\":\"left\"},\"hovermode\":\"closest\",\"mapbox\":{\"style\":\"light\"},\"paper_bgcolor\":\"white\",\"plot_bgcolor\":\"white\",\"polar\":{\"angularaxis\":{\"gridcolor\":\"#EBF0F8\",\"linecolor\":\"#EBF0F8\",\"ticks\":\"\"},\"bgcolor\":\"white\",\"radialaxis\":{\"gridcolor\":\"#EBF0F8\",\"linecolor\":\"#EBF0F8\",\"ticks\":\"\"}},\"scene\":{\"xaxis\":{\"backgroundcolor\":\"white\",\"gridcolor\":\"#DFE8F3\",\"gridwidth\":2,\"linecolor\":\"#EBF0F8\",\"showbackground\":true,\"ticks\":\"\",\"zerolinecolor\":\"#EBF0F8\"},\"yaxis\":{\"backgroundcolor\":\"white\",\"gridcolor\":\"#DFE8F3\",\"gridwidth\":2,\"linecolor\":\"#EBF0F8\",\"showbackground\":true,\"ticks\":\"\",\"zerolinecolor\":\"#EBF0F8\"},\"zaxis\":{\"backgroundcolor\":\"white\",\"gridcolor\":\"#DFE8F3\",\"gridwidth\":2,\"linecolor\":\"#EBF0F8\",\"showbackground\":true,\"ticks\":\"\",\"zerolinecolor\":\"#EBF0F8\"},\"camera\":{\"eye\":{\"x\":1.5,\"y\":1.5,\"z\":0.1}}},\"shapedefaults\":{\"line\":{\"color\":\"#2a3f5f\"}},\"ternary\":{\"aaxis\":{\"gridcolor\":\"#DFE8F3\",\"linecolor\":\"#A2B1C6\",\"ticks\":\"\"},\"baxis\":{\"gridcolor\":\"#DFE8F3\",\"linecolor\":\"#A2B1C6\",\"ticks\":\"\"},\"bgcolor\":\"white\",\"caxis\":{\"gridcolor\":\"#DFE8F3\",\"linecolor\":\"#A2B1C6\",\"ticks\":\"\"}},\"title\":{\"x\":0.5},\"xaxis\":{\"automargin\":true,\"gridcolor\":\"#EBF0F8\",\"linecolor\":\"#EBF0F8\",\"ticks\":\"\",\"title\":{\"standoff\":15},\"zerolinecolor\":\"#EBF0F8\",\"zerolinewidth\":2,\"linewidth\":2,\"showline\":true},\"yaxis\":{\"automargin\":true,\"gridcolor\":\"#EBF0F8\",\"linecolor\":\"#EBF0F8\",\"ticks\":\"\",\"title\":{\"standoff\":15},\"zerolinecolor\":\"#EBF0F8\",\"zerolinewidth\":2,\"linewidth\":2,\"showline\":true},\"height\":400,\"margin\":{\"b\":2,\"l\":2,\"r\":2,\"t\":30}}},\"legend\":{\"title\":{\"text\":\"is_hiker\"}}},                        {\"responsive\": true}                    ).then(function(){\n",
              "                            \n",
              "var gd = document.getElementById('05225ff1-648c-4bf4-810f-4418be2fcf79');\n",
              "var x = new MutationObserver(function (mutations, observer) {{\n",
              "        var display = window.getComputedStyle(gd).display;\n",
              "        if (!display || display === 'none') {{\n",
              "            console.log([gd, 'removed!']);\n",
              "            Plotly.purge(gd);\n",
              "            observer.disconnect();\n",
              "        }}\n",
              "}});\n",
              "\n",
              "// Listen for the removal of the full notebook cells\n",
              "var notebookContainer = gd.closest('#notebook-container');\n",
              "if (notebookContainer) {{\n",
              "    x.observe(notebookContainer, {childList: true});\n",
              "}}\n",
              "\n",
              "// Listen for the clearing of the current output cell\n",
              "var outputEl = gd.closest('.output');\n",
              "if (outputEl) {{\n",
              "    x.observe(outputEl, {childList: true});\n",
              "}}\n",
              "\n",
              "                        })                };                            </script>        </div>\n",
              "</body>\n",
              "</html>"
            ]
          },
          "metadata": {}
        }
      ]
    },
    {
      "cell_type": "markdown",
      "source": [
        "Como puede ver, la is_hiker etiqueta tiene el mismo número de True y False para ambas clases. Ahora estamos utilizando un conjunto de datos de clases equilibradas .\n",
        "\n",
        "Ejecutemos predicciones en este conjunto usando el modelo previamente entrenado:"
      ],
      "metadata": {
        "id": "eKOH6eCBewpy"
      }
    },
    {
      "cell_type": "code",
      "source": [
        "# Test the model using a balanced dataset\n",
        "actual = balanced_dataset.is_hiker\n",
        "predictions = model.predict(balanced_dataset[features])\n",
        "\n",
        "# Build and print our confusion matrix, using the actual values and predictions \n",
        "# from the test set, calculated in previous cells\n",
        "cm = confusion_matrix(actual, predictions, normalize=None)\n",
        "\n",
        "# Print accuracy using this set\n",
        "print(\"Balanced set accuracy:\", assess_accuracy(model,balanced_dataset, \"is_hiker\"))"
      ],
      "metadata": {
        "colab": {
          "base_uri": "https://localhost:8080/"
        },
        "id": "1xOL6j0teytX",
        "outputId": "9040616b-5eaf-4403-9e99-66c8b29f454d"
      },
      "execution_count": 11,
      "outputs": [
        {
          "output_type": "stream",
          "name": "stdout",
          "text": [
            "Balanced set accuracy: 0.754\n"
          ]
        }
      ]
    },
    {
      "cell_type": "markdown",
      "source": [
        "Como era de esperar, vemos una caída notable en la precisión al usar un conjunto diferente.\n",
        "\n",
        "Nuevamente, analicemos visualmente su desempeño:"
      ],
      "metadata": {
        "id": "vRockXomeyzU"
      }
    },
    {
      "cell_type": "code",
      "source": [
        "# plot new confusion matrix\n",
        "# Create the list of unique labels in the test set to use in our plot\n",
        "unique_targets = sorted(list(balanced_dataset[\"is_hiker\"].unique()))\n",
        "\n",
        "# Convert values to lower case so the plot code can count the outcomes\n",
        "x = y = [str(s).lower() for s in unique_targets]\n",
        "\n",
        "# Plot the matrix above as a heatmap with annotations (values) in its cells\n",
        "fig = ff.create_annotated_heatmap(cm, x, y)\n",
        "\n",
        "# Set titles and ordering\n",
        "fig.update_layout(  title_text=\"<b>Confusion matrix</b>\", \n",
        "                    yaxis = dict(categoryorder = \"category descending\")\n",
        "                    )\n",
        "\n",
        "fig.add_annotation(dict(font=dict(color=\"black\",size=14),\n",
        "                        x=0.5,\n",
        "                        y=-0.15,\n",
        "                        showarrow=False,\n",
        "                        text=\"Predicted label\",\n",
        "                        xref=\"paper\",\n",
        "                        yref=\"paper\"))\n",
        "\n",
        "fig.add_annotation(dict(font=dict(color=\"black\",size=14),\n",
        "                        x=-0.15,\n",
        "                        y=0.5,\n",
        "                        showarrow=False,\n",
        "                        text=\"Actual label\",\n",
        "                        textangle=-90,\n",
        "                        xref=\"paper\",\n",
        "                        yref=\"paper\"))\n",
        "\n",
        "# We need margins so the titles fit\n",
        "fig.update_layout(margin=dict(t=80, r=20, l=120, b=50))\n",
        "fig['data'][0]['showscale'] = True\n",
        "fig.show()"
      ],
      "metadata": {
        "colab": {
          "base_uri": "https://localhost:8080/",
          "height": 417
        },
        "id": "vWjOdlAWezcv",
        "outputId": "88bff2b4-64a4-4cb9-9d1c-baf1eb6e7fd4"
      },
      "execution_count": 12,
      "outputs": [
        {
          "output_type": "display_data",
          "data": {
            "text/html": [
              "<html>\n",
              "<head><meta charset=\"utf-8\" /></head>\n",
              "<body>\n",
              "    <div>            <script src=\"https://cdnjs.cloudflare.com/ajax/libs/mathjax/2.7.5/MathJax.js?config=TeX-AMS-MML_SVG\"></script><script type=\"text/javascript\">if (window.MathJax && window.MathJax.Hub && window.MathJax.Hub.Config) {window.MathJax.Hub.Config({SVG: {font: \"STIX-Web\"}});}</script>                <script type=\"text/javascript\">window.PlotlyConfig = {MathJaxConfig: 'local'};</script>\n",
              "        <script src=\"https://cdn.plot.ly/plotly-2.18.2.min.js\"></script>                <div id=\"f2acda86-a229-44f7-8897-ac754f75d505\" class=\"plotly-graph-div\" style=\"height:400px; width:100%;\"></div>            <script type=\"text/javascript\">                                    window.PLOTLYENV=window.PLOTLYENV || {};                                    if (document.getElementById(\"f2acda86-a229-44f7-8897-ac754f75d505\")) {                    Plotly.newPlot(                        \"f2acda86-a229-44f7-8897-ac754f75d505\",                        [{\"colorscale\":[[0.0,\"#0d0887\"],[0.1111111111111111,\"#46039f\"],[0.2222222222222222,\"#7201a8\"],[0.3333333333333333,\"#9c179e\"],[0.4444444444444444,\"#bd3786\"],[0.5555555555555556,\"#d8576b\"],[0.6666666666666666,\"#ed7953\"],[0.7777777777777778,\"#fb9f3a\"],[0.8888888888888888,\"#fdca26\"],[1.0,\"#f0f921\"]],\"reversescale\":false,\"showscale\":true,\"x\":[\"false\",\"true\"],\"y\":[\"false\",\"true\"],\"z\":[[411,89],[157,343]],\"type\":\"heatmap\"}],                        {\"annotations\":[{\"font\":{\"color\":\"#000000\"},\"showarrow\":false,\"text\":\"411\",\"x\":\"false\",\"xref\":\"x\",\"y\":\"false\",\"yref\":\"y\"},{\"font\":{\"color\":\"#FFFFFF\"},\"showarrow\":false,\"text\":\"89\",\"x\":\"true\",\"xref\":\"x\",\"y\":\"false\",\"yref\":\"y\"},{\"font\":{\"color\":\"#FFFFFF\"},\"showarrow\":false,\"text\":\"157\",\"x\":\"false\",\"xref\":\"x\",\"y\":\"true\",\"yref\":\"y\"},{\"font\":{\"color\":\"#000000\"},\"showarrow\":false,\"text\":\"343\",\"x\":\"true\",\"xref\":\"x\",\"y\":\"true\",\"yref\":\"y\"},{\"font\":{\"color\":\"black\",\"size\":14},\"showarrow\":false,\"text\":\"Predicted label\",\"x\":0.5,\"xref\":\"paper\",\"y\":-0.15,\"yref\":\"paper\"},{\"font\":{\"color\":\"black\",\"size\":14},\"showarrow\":false,\"text\":\"Actual label\",\"textangle\":-90,\"x\":-0.15,\"xref\":\"paper\",\"y\":0.5,\"yref\":\"paper\"}],\"xaxis\":{\"dtick\":1,\"gridcolor\":\"rgb(0, 0, 0)\",\"side\":\"top\",\"ticks\":\"\"},\"yaxis\":{\"dtick\":1,\"ticks\":\"\",\"ticksuffix\":\"  \",\"categoryorder\":\"category descending\"},\"template\":{\"data\":{\"barpolar\":[{\"marker\":{\"line\":{\"color\":\"white\",\"width\":0.5},\"pattern\":{\"fillmode\":\"overlay\",\"size\":10,\"solidity\":0.2}},\"type\":\"barpolar\"}],\"bar\":[{\"error_x\":{\"color\":\"#2a3f5f\"},\"error_y\":{\"color\":\"#2a3f5f\"},\"marker\":{\"line\":{\"color\":\"white\",\"width\":0.5},\"pattern\":{\"fillmode\":\"overlay\",\"size\":10,\"solidity\":0.2}},\"type\":\"bar\"}],\"carpet\":[{\"aaxis\":{\"endlinecolor\":\"#2a3f5f\",\"gridcolor\":\"#C8D4E3\",\"linecolor\":\"#C8D4E3\",\"minorgridcolor\":\"#C8D4E3\",\"startlinecolor\":\"#2a3f5f\"},\"baxis\":{\"endlinecolor\":\"#2a3f5f\",\"gridcolor\":\"#C8D4E3\",\"linecolor\":\"#C8D4E3\",\"minorgridcolor\":\"#C8D4E3\",\"startlinecolor\":\"#2a3f5f\"},\"type\":\"carpet\"}],\"choropleth\":[{\"colorbar\":{\"outlinewidth\":0,\"ticks\":\"\"},\"type\":\"choropleth\"}],\"contourcarpet\":[{\"colorbar\":{\"outlinewidth\":0,\"ticks\":\"\"},\"type\":\"contourcarpet\"}],\"contour\":[{\"colorbar\":{\"outlinewidth\":0,\"ticks\":\"\"},\"colorscale\":[[0.0,\"#0d0887\"],[0.1111111111111111,\"#46039f\"],[0.2222222222222222,\"#7201a8\"],[0.3333333333333333,\"#9c179e\"],[0.4444444444444444,\"#bd3786\"],[0.5555555555555556,\"#d8576b\"],[0.6666666666666666,\"#ed7953\"],[0.7777777777777778,\"#fb9f3a\"],[0.8888888888888888,\"#fdca26\"],[1.0,\"#f0f921\"]],\"type\":\"contour\"}],\"heatmapgl\":[{\"colorbar\":{\"outlinewidth\":0,\"ticks\":\"\"},\"colorscale\":[[0.0,\"#0d0887\"],[0.1111111111111111,\"#46039f\"],[0.2222222222222222,\"#7201a8\"],[0.3333333333333333,\"#9c179e\"],[0.4444444444444444,\"#bd3786\"],[0.5555555555555556,\"#d8576b\"],[0.6666666666666666,\"#ed7953\"],[0.7777777777777778,\"#fb9f3a\"],[0.8888888888888888,\"#fdca26\"],[1.0,\"#f0f921\"]],\"type\":\"heatmapgl\"}],\"heatmap\":[{\"colorbar\":{\"outlinewidth\":0,\"ticks\":\"\"},\"colorscale\":[[0.0,\"#0d0887\"],[0.1111111111111111,\"#46039f\"],[0.2222222222222222,\"#7201a8\"],[0.3333333333333333,\"#9c179e\"],[0.4444444444444444,\"#bd3786\"],[0.5555555555555556,\"#d8576b\"],[0.6666666666666666,\"#ed7953\"],[0.7777777777777778,\"#fb9f3a\"],[0.8888888888888888,\"#fdca26\"],[1.0,\"#f0f921\"]],\"type\":\"heatmap\"}],\"histogram2dcontour\":[{\"colorbar\":{\"outlinewidth\":0,\"ticks\":\"\"},\"colorscale\":[[0.0,\"#0d0887\"],[0.1111111111111111,\"#46039f\"],[0.2222222222222222,\"#7201a8\"],[0.3333333333333333,\"#9c179e\"],[0.4444444444444444,\"#bd3786\"],[0.5555555555555556,\"#d8576b\"],[0.6666666666666666,\"#ed7953\"],[0.7777777777777778,\"#fb9f3a\"],[0.8888888888888888,\"#fdca26\"],[1.0,\"#f0f921\"]],\"type\":\"histogram2dcontour\"}],\"histogram2d\":[{\"colorbar\":{\"outlinewidth\":0,\"ticks\":\"\"},\"colorscale\":[[0.0,\"#0d0887\"],[0.1111111111111111,\"#46039f\"],[0.2222222222222222,\"#7201a8\"],[0.3333333333333333,\"#9c179e\"],[0.4444444444444444,\"#bd3786\"],[0.5555555555555556,\"#d8576b\"],[0.6666666666666666,\"#ed7953\"],[0.7777777777777778,\"#fb9f3a\"],[0.8888888888888888,\"#fdca26\"],[1.0,\"#f0f921\"]],\"type\":\"histogram2d\"}],\"histogram\":[{\"marker\":{\"pattern\":{\"fillmode\":\"overlay\",\"size\":10,\"solidity\":0.2},\"line\":{\"width\":1}},\"type\":\"histogram\"}],\"mesh3d\":[{\"colorbar\":{\"outlinewidth\":0,\"ticks\":\"\"},\"type\":\"mesh3d\"}],\"parcoords\":[{\"line\":{\"colorbar\":{\"outlinewidth\":0,\"ticks\":\"\"}},\"type\":\"parcoords\"}],\"pie\":[{\"automargin\":true,\"type\":\"pie\"}],\"scatter3d\":[{\"line\":{\"colorbar\":{\"outlinewidth\":0,\"ticks\":\"\"}},\"marker\":{\"colorbar\":{\"outlinewidth\":0,\"ticks\":\"\"},\"opacity\":0.8},\"type\":\"scatter3d\"}],\"scattercarpet\":[{\"marker\":{\"colorbar\":{\"outlinewidth\":0,\"ticks\":\"\"}},\"type\":\"scattercarpet\"}],\"scattergeo\":[{\"marker\":{\"colorbar\":{\"outlinewidth\":0,\"ticks\":\"\"}},\"type\":\"scattergeo\"}],\"scattergl\":[{\"marker\":{\"colorbar\":{\"outlinewidth\":0,\"ticks\":\"\"}},\"type\":\"scattergl\"}],\"scattermapbox\":[{\"marker\":{\"colorbar\":{\"outlinewidth\":0,\"ticks\":\"\"}},\"type\":\"scattermapbox\"}],\"scatterpolargl\":[{\"marker\":{\"colorbar\":{\"outlinewidth\":0,\"ticks\":\"\"}},\"type\":\"scatterpolargl\"}],\"scatterpolar\":[{\"marker\":{\"colorbar\":{\"outlinewidth\":0,\"ticks\":\"\"}},\"type\":\"scatterpolar\"}],\"scatter\":[{\"fillpattern\":{\"fillmode\":\"overlay\",\"size\":10,\"solidity\":0.2},\"type\":\"scatter\",\"marker\":{\"opacity\":0.8}}],\"scatterternary\":[{\"marker\":{\"colorbar\":{\"outlinewidth\":0,\"ticks\":\"\"}},\"type\":\"scatterternary\"}],\"surface\":[{\"colorbar\":{\"outlinewidth\":0,\"ticks\":\"\"},\"colorscale\":[[0.0,\"#0d0887\"],[0.1111111111111111,\"#46039f\"],[0.2222222222222222,\"#7201a8\"],[0.3333333333333333,\"#9c179e\"],[0.4444444444444444,\"#bd3786\"],[0.5555555555555556,\"#d8576b\"],[0.6666666666666666,\"#ed7953\"],[0.7777777777777778,\"#fb9f3a\"],[0.8888888888888888,\"#fdca26\"],[1.0,\"#f0f921\"]],\"type\":\"surface\"}],\"table\":[{\"cells\":{\"fill\":{\"color\":\"#EBF0F8\"},\"line\":{\"color\":\"white\"}},\"header\":{\"fill\":{\"color\":\"#C8D4E3\"},\"line\":{\"color\":\"white\"}},\"type\":\"table\"}],\"box\":[{\"boxpoints\":\"outliers\",\"notched\":false,\"type\":\"box\"}]},\"layout\":{\"annotationdefaults\":{\"arrowcolor\":\"#2a3f5f\",\"arrowhead\":0,\"arrowwidth\":1},\"autotypenumbers\":\"strict\",\"coloraxis\":{\"colorbar\":{\"outlinewidth\":0,\"ticks\":\"\"}},\"colorscale\":{\"diverging\":[[0,\"#8e0152\"],[0.1,\"#c51b7d\"],[0.2,\"#de77ae\"],[0.3,\"#f1b6da\"],[0.4,\"#fde0ef\"],[0.5,\"#f7f7f7\"],[0.6,\"#e6f5d0\"],[0.7,\"#b8e186\"],[0.8,\"#7fbc41\"],[0.9,\"#4d9221\"],[1,\"#276419\"]],\"sequential\":[[0.0,\"#0d0887\"],[0.1111111111111111,\"#46039f\"],[0.2222222222222222,\"#7201a8\"],[0.3333333333333333,\"#9c179e\"],[0.4444444444444444,\"#bd3786\"],[0.5555555555555556,\"#d8576b\"],[0.6666666666666666,\"#ed7953\"],[0.7777777777777778,\"#fb9f3a\"],[0.8888888888888888,\"#fdca26\"],[1.0,\"#f0f921\"]],\"sequentialminus\":[[0.0,\"#0d0887\"],[0.1111111111111111,\"#46039f\"],[0.2222222222222222,\"#7201a8\"],[0.3333333333333333,\"#9c179e\"],[0.4444444444444444,\"#bd3786\"],[0.5555555555555556,\"#d8576b\"],[0.6666666666666666,\"#ed7953\"],[0.7777777777777778,\"#fb9f3a\"],[0.8888888888888888,\"#fdca26\"],[1.0,\"#f0f921\"]]},\"colorway\":[\"#636efa\",\"#EF553B\",\"#00cc96\",\"#ab63fa\",\"#FFA15A\",\"#19d3f3\",\"#FF6692\",\"#B6E880\",\"#FF97FF\",\"#FECB52\"],\"font\":{\"color\":\"#2a3f5f\"},\"geo\":{\"bgcolor\":\"white\",\"lakecolor\":\"white\",\"landcolor\":\"white\",\"showlakes\":true,\"showland\":true,\"subunitcolor\":\"#C8D4E3\"},\"hoverlabel\":{\"align\":\"left\"},\"hovermode\":\"closest\",\"mapbox\":{\"style\":\"light\"},\"paper_bgcolor\":\"white\",\"plot_bgcolor\":\"white\",\"polar\":{\"angularaxis\":{\"gridcolor\":\"#EBF0F8\",\"linecolor\":\"#EBF0F8\",\"ticks\":\"\"},\"bgcolor\":\"white\",\"radialaxis\":{\"gridcolor\":\"#EBF0F8\",\"linecolor\":\"#EBF0F8\",\"ticks\":\"\"}},\"scene\":{\"xaxis\":{\"backgroundcolor\":\"white\",\"gridcolor\":\"#DFE8F3\",\"gridwidth\":2,\"linecolor\":\"#EBF0F8\",\"showbackground\":true,\"ticks\":\"\",\"zerolinecolor\":\"#EBF0F8\"},\"yaxis\":{\"backgroundcolor\":\"white\",\"gridcolor\":\"#DFE8F3\",\"gridwidth\":2,\"linecolor\":\"#EBF0F8\",\"showbackground\":true,\"ticks\":\"\",\"zerolinecolor\":\"#EBF0F8\"},\"zaxis\":{\"backgroundcolor\":\"white\",\"gridcolor\":\"#DFE8F3\",\"gridwidth\":2,\"linecolor\":\"#EBF0F8\",\"showbackground\":true,\"ticks\":\"\",\"zerolinecolor\":\"#EBF0F8\"},\"camera\":{\"eye\":{\"x\":1.5,\"y\":1.5,\"z\":0.1}}},\"shapedefaults\":{\"line\":{\"color\":\"#2a3f5f\"}},\"ternary\":{\"aaxis\":{\"gridcolor\":\"#DFE8F3\",\"linecolor\":\"#A2B1C6\",\"ticks\":\"\"},\"baxis\":{\"gridcolor\":\"#DFE8F3\",\"linecolor\":\"#A2B1C6\",\"ticks\":\"\"},\"bgcolor\":\"white\",\"caxis\":{\"gridcolor\":\"#DFE8F3\",\"linecolor\":\"#A2B1C6\",\"ticks\":\"\"}},\"title\":{\"x\":0.5},\"xaxis\":{\"automargin\":true,\"gridcolor\":\"#EBF0F8\",\"linecolor\":\"#EBF0F8\",\"ticks\":\"\",\"title\":{\"standoff\":15},\"zerolinecolor\":\"#EBF0F8\",\"zerolinewidth\":2,\"linewidth\":2,\"showline\":true},\"yaxis\":{\"automargin\":true,\"gridcolor\":\"#EBF0F8\",\"linecolor\":\"#EBF0F8\",\"ticks\":\"\",\"title\":{\"standoff\":15},\"zerolinecolor\":\"#EBF0F8\",\"zerolinewidth\":2,\"linewidth\":2,\"showline\":true},\"height\":400,\"margin\":{\"b\":2,\"l\":2,\"r\":2,\"t\":30}}},\"title\":{\"text\":\"<b>Confusion matrix</b>\"},\"margin\":{\"t\":80,\"r\":20,\"l\":120,\"b\":50}},                        {\"responsive\": true}                    ).then(function(){\n",
              "                            \n",
              "var gd = document.getElementById('f2acda86-a229-44f7-8897-ac754f75d505');\n",
              "var x = new MutationObserver(function (mutations, observer) {{\n",
              "        var display = window.getComputedStyle(gd).display;\n",
              "        if (!display || display === 'none') {{\n",
              "            console.log([gd, 'removed!']);\n",
              "            Plotly.purge(gd);\n",
              "            observer.disconnect();\n",
              "        }}\n",
              "}});\n",
              "\n",
              "// Listen for the removal of the full notebook cells\n",
              "var notebookContainer = gd.closest('#notebook-container');\n",
              "if (notebookContainer) {{\n",
              "    x.observe(notebookContainer, {childList: true});\n",
              "}}\n",
              "\n",
              "// Listen for the clearing of the current output cell\n",
              "var outputEl = gd.closest('.output');\n",
              "if (outputEl) {{\n",
              "    x.observe(outputEl, {childList: true});\n",
              "}}\n",
              "\n",
              "                        })                };                            </script>        </div>\n",
              "</body>\n",
              "</html>"
            ]
          },
          "metadata": {}
        }
      ]
    },
    {
      "cell_type": "markdown",
      "source": [
        "\n",
        "La matriz de confusión confirma la poca precisión con este conjunto de datos, pero ¿por qué sucede esto cuando teníamos métricas tan excelentes en los conjuntos de pruebas y entrenamientos anteriores ?\n",
        "\n",
        "Recuérdese que el primer modelo estaba muy desequilibrado. La clase \"excursionista\" representó aproximadamente el 22% de los resultados.\n",
        "\n",
        "Cuando ocurre tal desequilibrio, los modelos de clasificación no tienen suficientes datos para aprender los patrones de la clase minoritaria y, como consecuencia, ¡se inclinan hacia la clase mayoritaria !\n",
        "\n",
        "Los conjuntos desequilibrados se pueden abordar de varias maneras:\n",
        "\n",
        "- Mejora de la selección de datos\n",
        "- Remuestreo del conjunto de datos\n",
        "- Uso de clases ponderadas\n",
        "\n",
        "Para este ejercicio, nos centraremos en la última opción."
      ],
      "metadata": {
        "id": "TAj1yvZCe36Y"
      }
    },
    {
      "cell_type": "markdown",
      "source": [
        "### <font color='B8E139'><b>Uso de ponderaciones de clase para equilibrar el conjunto de datos</b></font>\n",
        "\n",
        "Podemos asignar diferentes pesos a las clases mayoritarias y minoritarias, según su distribución, y modificar nuestro algoritmo de entrenamiento para que tenga en cuenta esa información durante la fase de entrenamiento.\n",
        "\n",
        "Luego, penalizará los errores cuando la clase minoritaria esté mal clasificada, en esencia, \"forzando\" al modelo a aprender mejor sus características y patrones.\n",
        "\n",
        "Para usar clases ponderadas, tenemos que volver a entrenar nuestro modelo usando el conjunto de trenes original , pero esta vez diciéndole al algoritmo que use pesos al calcular los errores:"
      ],
      "metadata": {
        "id": "ivgI5Du2T1dY"
      }
    },
    {
      "cell_type": "code",
      "source": [
        "# Import function used in calculating weights\n",
        "from sklearn.utils import class_weight\n",
        "\n",
        "# Retrain model using class weights\n",
        "# Using class_weight=\"balanced\" tells the algorithm to automatically calculate weights for us\n",
        "weighted_model = RandomForestClassifier(n_estimators=1, random_state=1, verbose=False, class_weight=\"balanced\")\n",
        "# Train the weighted_model using binary label\n",
        "weighted_model.fit(train[features], train.is_hiker)\n",
        "\n",
        "print(\"Train accuracy:\", assess_accuracy(weighted_model,train, \"is_hiker\"))\n",
        "print(\"Test accuracy:\", assess_accuracy(weighted_model, test, \"is_hiker\"))"
      ],
      "metadata": {
        "colab": {
          "base_uri": "https://localhost:8080/"
        },
        "id": "d8QR5ul4e_pm",
        "outputId": "25ebde0d-6c71-4b80-f21d-d344c39fb086"
      },
      "execution_count": 13,
      "outputs": [
        {
          "output_type": "stream",
          "name": "stdout",
          "text": [
            "Train accuracy: 0.9525974025974026\n",
            "Test accuracy: 0.9166666666666666\n"
          ]
        }
      ]
    },
    {
      "cell_type": "markdown",
      "source": [
        "\n",
        "Después de usar las clases ponderadas, la precisión del tren se mantuvo casi igual, mientras que la precisión de la prueba mostró una pequeña mejora (aproximadamente el 1 %).\n",
        "\n",
        "Veamos si los resultados mejoran usando el conjunto balanceado para predicciones nuevamente:"
      ],
      "metadata": {
        "id": "w_Z4vrq1e_-O"
      }
    },
    {
      "cell_type": "code",
      "source": [
        "print(\"Balanced set accuracy:\", assess_accuracy(weighted_model, balanced_dataset, \"is_hiker\"))\n",
        "\n",
        "# Test the weighted_model using a balanced dataset\n",
        "actual = balanced_dataset.is_hiker\n",
        "predictions = weighted_model.predict(balanced_dataset[features])\n",
        "\n",
        "# Build and print our confusion matrix, using the actual values and predictions \n",
        "# from the test set, calculated in previous cells\n",
        "cm = confusion_matrix(actual, predictions, normalize=None)\n"
      ],
      "metadata": {
        "colab": {
          "base_uri": "https://localhost:8080/"
        },
        "id": "yHaKajeTfCG-",
        "outputId": "59dd441a-f177-4b0e-8d5a-6e95efd8c4d2"
      },
      "execution_count": 14,
      "outputs": [
        {
          "output_type": "stream",
          "name": "stdout",
          "text": [
            "Balanced set accuracy: 0.796\n"
          ]
        }
      ]
    },
    {
      "cell_type": "markdown",
      "source": [
        "\n",
        "La precisión del conjunto equilibrado aumentó aproximadamente un 4 %, pero aun así deberíamos tratar de visualizar y comprender los nuevos resultados."
      ],
      "metadata": {
        "id": "Tl9qblV_fEnH"
      }
    },
    {
      "cell_type": "markdown",
      "source": [
        "## <font color='B8E139'><b>Matriz de confusión final</b></font>\n",
        "\n",
        "Ahora podemos trazar una matriz de confusión final, que representa predicciones para un conjunto de datos equilibrado , utilizando un modelo entrenado en un conjunto de datos de clase ponderada :"
      ],
      "metadata": {
        "id": "jyYEEgALT1qR"
      }
    },
    {
      "cell_type": "code",
      "source": [
        "# Plot the matrix above as a heatmap with annotations (values) in its cells\n",
        "fig = ff.create_annotated_heatmap(cm, x, y)\n",
        "\n",
        "# Set titles and ordering\n",
        "fig.update_layout(  title_text=\"<b>Confusion matrix</b>\", \n",
        "                    yaxis = dict(categoryorder = \"category descending\")\n",
        "                    )\n",
        "\n",
        "fig.add_annotation(dict(font=dict(color=\"black\",size=14),\n",
        "                        x=0.5,\n",
        "                        y=-0.15,\n",
        "                        showarrow=False,\n",
        "                        text=\"Predicted label\",\n",
        "                        xref=\"paper\",\n",
        "                        yref=\"paper\"))\n",
        "\n",
        "fig.add_annotation(dict(font=dict(color=\"black\",size=14),\n",
        "                        x=-0.15,\n",
        "                        y=0.5,\n",
        "                        showarrow=False,\n",
        "                        text=\"Actual label\",\n",
        "                        textangle=-90,\n",
        "                        xref=\"paper\",\n",
        "                        yref=\"paper\"))\n",
        "\n",
        "# We need margins so the titles fit\n",
        "fig.update_layout(margin=dict(t=80, r=20, l=120, b=50))\n",
        "fig['data'][0]['showscale'] = True\n",
        "fig.show()"
      ],
      "metadata": {
        "colab": {
          "base_uri": "https://localhost:8080/",
          "height": 417
        },
        "id": "RJcraVyTfLBP",
        "outputId": "3d060ca1-6627-4c8b-b55d-d174506cef3d"
      },
      "execution_count": 15,
      "outputs": [
        {
          "output_type": "display_data",
          "data": {
            "text/html": [
              "<html>\n",
              "<head><meta charset=\"utf-8\" /></head>\n",
              "<body>\n",
              "    <div>            <script src=\"https://cdnjs.cloudflare.com/ajax/libs/mathjax/2.7.5/MathJax.js?config=TeX-AMS-MML_SVG\"></script><script type=\"text/javascript\">if (window.MathJax && window.MathJax.Hub && window.MathJax.Hub.Config) {window.MathJax.Hub.Config({SVG: {font: \"STIX-Web\"}});}</script>                <script type=\"text/javascript\">window.PlotlyConfig = {MathJaxConfig: 'local'};</script>\n",
              "        <script src=\"https://cdn.plot.ly/plotly-2.18.2.min.js\"></script>                <div id=\"1c8d14f2-99d0-494c-a86f-6a31e4572a36\" class=\"plotly-graph-div\" style=\"height:400px; width:100%;\"></div>            <script type=\"text/javascript\">                                    window.PLOTLYENV=window.PLOTLYENV || {};                                    if (document.getElementById(\"1c8d14f2-99d0-494c-a86f-6a31e4572a36\")) {                    Plotly.newPlot(                        \"1c8d14f2-99d0-494c-a86f-6a31e4572a36\",                        [{\"colorscale\":[[0.0,\"#0d0887\"],[0.1111111111111111,\"#46039f\"],[0.2222222222222222,\"#7201a8\"],[0.3333333333333333,\"#9c179e\"],[0.4444444444444444,\"#bd3786\"],[0.5555555555555556,\"#d8576b\"],[0.6666666666666666,\"#ed7953\"],[0.7777777777777778,\"#fb9f3a\"],[0.8888888888888888,\"#fdca26\"],[1.0,\"#f0f921\"]],\"reversescale\":false,\"showscale\":true,\"x\":[\"false\",\"true\"],\"y\":[\"false\",\"true\"],\"z\":[[408,92],[112,388]],\"type\":\"heatmap\"}],                        {\"annotations\":[{\"font\":{\"color\":\"#000000\"},\"showarrow\":false,\"text\":\"408\",\"x\":\"false\",\"xref\":\"x\",\"y\":\"false\",\"yref\":\"y\"},{\"font\":{\"color\":\"#FFFFFF\"},\"showarrow\":false,\"text\":\"92\",\"x\":\"true\",\"xref\":\"x\",\"y\":\"false\",\"yref\":\"y\"},{\"font\":{\"color\":\"#FFFFFF\"},\"showarrow\":false,\"text\":\"112\",\"x\":\"false\",\"xref\":\"x\",\"y\":\"true\",\"yref\":\"y\"},{\"font\":{\"color\":\"#000000\"},\"showarrow\":false,\"text\":\"388\",\"x\":\"true\",\"xref\":\"x\",\"y\":\"true\",\"yref\":\"y\"},{\"font\":{\"color\":\"black\",\"size\":14},\"showarrow\":false,\"text\":\"Predicted label\",\"x\":0.5,\"xref\":\"paper\",\"y\":-0.15,\"yref\":\"paper\"},{\"font\":{\"color\":\"black\",\"size\":14},\"showarrow\":false,\"text\":\"Actual label\",\"textangle\":-90,\"x\":-0.15,\"xref\":\"paper\",\"y\":0.5,\"yref\":\"paper\"}],\"xaxis\":{\"dtick\":1,\"gridcolor\":\"rgb(0, 0, 0)\",\"side\":\"top\",\"ticks\":\"\"},\"yaxis\":{\"dtick\":1,\"ticks\":\"\",\"ticksuffix\":\"  \",\"categoryorder\":\"category descending\"},\"template\":{\"data\":{\"barpolar\":[{\"marker\":{\"line\":{\"color\":\"white\",\"width\":0.5},\"pattern\":{\"fillmode\":\"overlay\",\"size\":10,\"solidity\":0.2}},\"type\":\"barpolar\"}],\"bar\":[{\"error_x\":{\"color\":\"#2a3f5f\"},\"error_y\":{\"color\":\"#2a3f5f\"},\"marker\":{\"line\":{\"color\":\"white\",\"width\":0.5},\"pattern\":{\"fillmode\":\"overlay\",\"size\":10,\"solidity\":0.2}},\"type\":\"bar\"}],\"carpet\":[{\"aaxis\":{\"endlinecolor\":\"#2a3f5f\",\"gridcolor\":\"#C8D4E3\",\"linecolor\":\"#C8D4E3\",\"minorgridcolor\":\"#C8D4E3\",\"startlinecolor\":\"#2a3f5f\"},\"baxis\":{\"endlinecolor\":\"#2a3f5f\",\"gridcolor\":\"#C8D4E3\",\"linecolor\":\"#C8D4E3\",\"minorgridcolor\":\"#C8D4E3\",\"startlinecolor\":\"#2a3f5f\"},\"type\":\"carpet\"}],\"choropleth\":[{\"colorbar\":{\"outlinewidth\":0,\"ticks\":\"\"},\"type\":\"choropleth\"}],\"contourcarpet\":[{\"colorbar\":{\"outlinewidth\":0,\"ticks\":\"\"},\"type\":\"contourcarpet\"}],\"contour\":[{\"colorbar\":{\"outlinewidth\":0,\"ticks\":\"\"},\"colorscale\":[[0.0,\"#0d0887\"],[0.1111111111111111,\"#46039f\"],[0.2222222222222222,\"#7201a8\"],[0.3333333333333333,\"#9c179e\"],[0.4444444444444444,\"#bd3786\"],[0.5555555555555556,\"#d8576b\"],[0.6666666666666666,\"#ed7953\"],[0.7777777777777778,\"#fb9f3a\"],[0.8888888888888888,\"#fdca26\"],[1.0,\"#f0f921\"]],\"type\":\"contour\"}],\"heatmapgl\":[{\"colorbar\":{\"outlinewidth\":0,\"ticks\":\"\"},\"colorscale\":[[0.0,\"#0d0887\"],[0.1111111111111111,\"#46039f\"],[0.2222222222222222,\"#7201a8\"],[0.3333333333333333,\"#9c179e\"],[0.4444444444444444,\"#bd3786\"],[0.5555555555555556,\"#d8576b\"],[0.6666666666666666,\"#ed7953\"],[0.7777777777777778,\"#fb9f3a\"],[0.8888888888888888,\"#fdca26\"],[1.0,\"#f0f921\"]],\"type\":\"heatmapgl\"}],\"heatmap\":[{\"colorbar\":{\"outlinewidth\":0,\"ticks\":\"\"},\"colorscale\":[[0.0,\"#0d0887\"],[0.1111111111111111,\"#46039f\"],[0.2222222222222222,\"#7201a8\"],[0.3333333333333333,\"#9c179e\"],[0.4444444444444444,\"#bd3786\"],[0.5555555555555556,\"#d8576b\"],[0.6666666666666666,\"#ed7953\"],[0.7777777777777778,\"#fb9f3a\"],[0.8888888888888888,\"#fdca26\"],[1.0,\"#f0f921\"]],\"type\":\"heatmap\"}],\"histogram2dcontour\":[{\"colorbar\":{\"outlinewidth\":0,\"ticks\":\"\"},\"colorscale\":[[0.0,\"#0d0887\"],[0.1111111111111111,\"#46039f\"],[0.2222222222222222,\"#7201a8\"],[0.3333333333333333,\"#9c179e\"],[0.4444444444444444,\"#bd3786\"],[0.5555555555555556,\"#d8576b\"],[0.6666666666666666,\"#ed7953\"],[0.7777777777777778,\"#fb9f3a\"],[0.8888888888888888,\"#fdca26\"],[1.0,\"#f0f921\"]],\"type\":\"histogram2dcontour\"}],\"histogram2d\":[{\"colorbar\":{\"outlinewidth\":0,\"ticks\":\"\"},\"colorscale\":[[0.0,\"#0d0887\"],[0.1111111111111111,\"#46039f\"],[0.2222222222222222,\"#7201a8\"],[0.3333333333333333,\"#9c179e\"],[0.4444444444444444,\"#bd3786\"],[0.5555555555555556,\"#d8576b\"],[0.6666666666666666,\"#ed7953\"],[0.7777777777777778,\"#fb9f3a\"],[0.8888888888888888,\"#fdca26\"],[1.0,\"#f0f921\"]],\"type\":\"histogram2d\"}],\"histogram\":[{\"marker\":{\"pattern\":{\"fillmode\":\"overlay\",\"size\":10,\"solidity\":0.2},\"line\":{\"width\":1}},\"type\":\"histogram\"}],\"mesh3d\":[{\"colorbar\":{\"outlinewidth\":0,\"ticks\":\"\"},\"type\":\"mesh3d\"}],\"parcoords\":[{\"line\":{\"colorbar\":{\"outlinewidth\":0,\"ticks\":\"\"}},\"type\":\"parcoords\"}],\"pie\":[{\"automargin\":true,\"type\":\"pie\"}],\"scatter3d\":[{\"line\":{\"colorbar\":{\"outlinewidth\":0,\"ticks\":\"\"}},\"marker\":{\"colorbar\":{\"outlinewidth\":0,\"ticks\":\"\"},\"opacity\":0.8},\"type\":\"scatter3d\"}],\"scattercarpet\":[{\"marker\":{\"colorbar\":{\"outlinewidth\":0,\"ticks\":\"\"}},\"type\":\"scattercarpet\"}],\"scattergeo\":[{\"marker\":{\"colorbar\":{\"outlinewidth\":0,\"ticks\":\"\"}},\"type\":\"scattergeo\"}],\"scattergl\":[{\"marker\":{\"colorbar\":{\"outlinewidth\":0,\"ticks\":\"\"}},\"type\":\"scattergl\"}],\"scattermapbox\":[{\"marker\":{\"colorbar\":{\"outlinewidth\":0,\"ticks\":\"\"}},\"type\":\"scattermapbox\"}],\"scatterpolargl\":[{\"marker\":{\"colorbar\":{\"outlinewidth\":0,\"ticks\":\"\"}},\"type\":\"scatterpolargl\"}],\"scatterpolar\":[{\"marker\":{\"colorbar\":{\"outlinewidth\":0,\"ticks\":\"\"}},\"type\":\"scatterpolar\"}],\"scatter\":[{\"fillpattern\":{\"fillmode\":\"overlay\",\"size\":10,\"solidity\":0.2},\"type\":\"scatter\",\"marker\":{\"opacity\":0.8}}],\"scatterternary\":[{\"marker\":{\"colorbar\":{\"outlinewidth\":0,\"ticks\":\"\"}},\"type\":\"scatterternary\"}],\"surface\":[{\"colorbar\":{\"outlinewidth\":0,\"ticks\":\"\"},\"colorscale\":[[0.0,\"#0d0887\"],[0.1111111111111111,\"#46039f\"],[0.2222222222222222,\"#7201a8\"],[0.3333333333333333,\"#9c179e\"],[0.4444444444444444,\"#bd3786\"],[0.5555555555555556,\"#d8576b\"],[0.6666666666666666,\"#ed7953\"],[0.7777777777777778,\"#fb9f3a\"],[0.8888888888888888,\"#fdca26\"],[1.0,\"#f0f921\"]],\"type\":\"surface\"}],\"table\":[{\"cells\":{\"fill\":{\"color\":\"#EBF0F8\"},\"line\":{\"color\":\"white\"}},\"header\":{\"fill\":{\"color\":\"#C8D4E3\"},\"line\":{\"color\":\"white\"}},\"type\":\"table\"}],\"box\":[{\"boxpoints\":\"outliers\",\"notched\":false,\"type\":\"box\"}]},\"layout\":{\"annotationdefaults\":{\"arrowcolor\":\"#2a3f5f\",\"arrowhead\":0,\"arrowwidth\":1},\"autotypenumbers\":\"strict\",\"coloraxis\":{\"colorbar\":{\"outlinewidth\":0,\"ticks\":\"\"}},\"colorscale\":{\"diverging\":[[0,\"#8e0152\"],[0.1,\"#c51b7d\"],[0.2,\"#de77ae\"],[0.3,\"#f1b6da\"],[0.4,\"#fde0ef\"],[0.5,\"#f7f7f7\"],[0.6,\"#e6f5d0\"],[0.7,\"#b8e186\"],[0.8,\"#7fbc41\"],[0.9,\"#4d9221\"],[1,\"#276419\"]],\"sequential\":[[0.0,\"#0d0887\"],[0.1111111111111111,\"#46039f\"],[0.2222222222222222,\"#7201a8\"],[0.3333333333333333,\"#9c179e\"],[0.4444444444444444,\"#bd3786\"],[0.5555555555555556,\"#d8576b\"],[0.6666666666666666,\"#ed7953\"],[0.7777777777777778,\"#fb9f3a\"],[0.8888888888888888,\"#fdca26\"],[1.0,\"#f0f921\"]],\"sequentialminus\":[[0.0,\"#0d0887\"],[0.1111111111111111,\"#46039f\"],[0.2222222222222222,\"#7201a8\"],[0.3333333333333333,\"#9c179e\"],[0.4444444444444444,\"#bd3786\"],[0.5555555555555556,\"#d8576b\"],[0.6666666666666666,\"#ed7953\"],[0.7777777777777778,\"#fb9f3a\"],[0.8888888888888888,\"#fdca26\"],[1.0,\"#f0f921\"]]},\"colorway\":[\"#636efa\",\"#EF553B\",\"#00cc96\",\"#ab63fa\",\"#FFA15A\",\"#19d3f3\",\"#FF6692\",\"#B6E880\",\"#FF97FF\",\"#FECB52\"],\"font\":{\"color\":\"#2a3f5f\"},\"geo\":{\"bgcolor\":\"white\",\"lakecolor\":\"white\",\"landcolor\":\"white\",\"showlakes\":true,\"showland\":true,\"subunitcolor\":\"#C8D4E3\"},\"hoverlabel\":{\"align\":\"left\"},\"hovermode\":\"closest\",\"mapbox\":{\"style\":\"light\"},\"paper_bgcolor\":\"white\",\"plot_bgcolor\":\"white\",\"polar\":{\"angularaxis\":{\"gridcolor\":\"#EBF0F8\",\"linecolor\":\"#EBF0F8\",\"ticks\":\"\"},\"bgcolor\":\"white\",\"radialaxis\":{\"gridcolor\":\"#EBF0F8\",\"linecolor\":\"#EBF0F8\",\"ticks\":\"\"}},\"scene\":{\"xaxis\":{\"backgroundcolor\":\"white\",\"gridcolor\":\"#DFE8F3\",\"gridwidth\":2,\"linecolor\":\"#EBF0F8\",\"showbackground\":true,\"ticks\":\"\",\"zerolinecolor\":\"#EBF0F8\"},\"yaxis\":{\"backgroundcolor\":\"white\",\"gridcolor\":\"#DFE8F3\",\"gridwidth\":2,\"linecolor\":\"#EBF0F8\",\"showbackground\":true,\"ticks\":\"\",\"zerolinecolor\":\"#EBF0F8\"},\"zaxis\":{\"backgroundcolor\":\"white\",\"gridcolor\":\"#DFE8F3\",\"gridwidth\":2,\"linecolor\":\"#EBF0F8\",\"showbackground\":true,\"ticks\":\"\",\"zerolinecolor\":\"#EBF0F8\"},\"camera\":{\"eye\":{\"x\":1.5,\"y\":1.5,\"z\":0.1}}},\"shapedefaults\":{\"line\":{\"color\":\"#2a3f5f\"}},\"ternary\":{\"aaxis\":{\"gridcolor\":\"#DFE8F3\",\"linecolor\":\"#A2B1C6\",\"ticks\":\"\"},\"baxis\":{\"gridcolor\":\"#DFE8F3\",\"linecolor\":\"#A2B1C6\",\"ticks\":\"\"},\"bgcolor\":\"white\",\"caxis\":{\"gridcolor\":\"#DFE8F3\",\"linecolor\":\"#A2B1C6\",\"ticks\":\"\"}},\"title\":{\"x\":0.5},\"xaxis\":{\"automargin\":true,\"gridcolor\":\"#EBF0F8\",\"linecolor\":\"#EBF0F8\",\"ticks\":\"\",\"title\":{\"standoff\":15},\"zerolinecolor\":\"#EBF0F8\",\"zerolinewidth\":2,\"linewidth\":2,\"showline\":true},\"yaxis\":{\"automargin\":true,\"gridcolor\":\"#EBF0F8\",\"linecolor\":\"#EBF0F8\",\"ticks\":\"\",\"title\":{\"standoff\":15},\"zerolinecolor\":\"#EBF0F8\",\"zerolinewidth\":2,\"linewidth\":2,\"showline\":true},\"height\":400,\"margin\":{\"b\":2,\"l\":2,\"r\":2,\"t\":30}}},\"title\":{\"text\":\"<b>Confusion matrix</b>\"},\"margin\":{\"t\":80,\"r\":20,\"l\":120,\"b\":50}},                        {\"responsive\": true}                    ).then(function(){\n",
              "                            \n",
              "var gd = document.getElementById('1c8d14f2-99d0-494c-a86f-6a31e4572a36');\n",
              "var x = new MutationObserver(function (mutations, observer) {{\n",
              "        var display = window.getComputedStyle(gd).display;\n",
              "        if (!display || display === 'none') {{\n",
              "            console.log([gd, 'removed!']);\n",
              "            Plotly.purge(gd);\n",
              "            observer.disconnect();\n",
              "        }}\n",
              "}});\n",
              "\n",
              "// Listen for the removal of the full notebook cells\n",
              "var notebookContainer = gd.closest('#notebook-container');\n",
              "if (notebookContainer) {{\n",
              "    x.observe(notebookContainer, {childList: true});\n",
              "}}\n",
              "\n",
              "// Listen for the clearing of the current output cell\n",
              "var outputEl = gd.closest('.output');\n",
              "if (outputEl) {{\n",
              "    x.observe(outputEl, {childList: true});\n",
              "}}\n",
              "\n",
              "                        })                };                            </script>        </div>\n",
              "</body>\n",
              "</html>"
            ]
          },
          "metadata": {}
        }
      ]
    },
    {
      "cell_type": "markdown",
      "source": [
        "\n",
        "Si bien los resultados pueden parecer un poco decepcionantes, ahora tenemos un 21 % de predicciones incorrectas (FN + FP), frente al 25 % del experimento anterior.\n",
        "\n",
        "Las predicciones correctas (TPs + TNs) pasaron del 74,7% al 78,7%.\n",
        "\n",
        "¿Es significativa o no una mejora general del 4%?\n",
        "\n",
        "Recuerde que teníamos relativamente pocos datos para entrenar el modelo, y las funciones que tenemos disponibles aún pueden ser tan similares para diferentes muestras (por ejemplo, los excursionistas y los animales tienden a ser pequeños, no bruscos y se mueven mucho), que a pesar de nuestra esfuerzos, el modelo todavía tiene algunas dificultades para hacer predicciones correctas.\n",
        "\n",
        "Solo tuvimos que cambiar una sola línea de código para obtener mejores resultados, ¡así que parece que vale la pena el esfuerzo!"
      ],
      "metadata": {
        "id": "T5dQExFHfLI1"
      }
    },
    {
      "cell_type": "markdown",
      "source": [
        "**Resumen**\n",
        "\n",
        "Este fue un ejercicio largo, donde cubrimos los siguientes temas:\n",
        "\n",
        "- Creando nuevos campos de etiqueta para que podamos realizar una clasificación binaria usando un conjunto de datos con múltiples clases.\n",
        "- Cómo el entrenamiento en conjuntos desequilibrados puede tener un efecto negativo en el rendimiento, especialmente cuando se utilizan datos ocultos de conjuntos de datos equilibrados .\n",
        "- Evaluación de resultados de modelos de clasificación binaria utilizando una matriz de confusión.\n",
        "- Uso de clases ponderadas para abordar los desequilibrios de clase al entrenar un modelo y evaluar los resultados."
      ],
      "metadata": {
        "id": "plNtC28BT1_p"
      }
    }
  ]
}