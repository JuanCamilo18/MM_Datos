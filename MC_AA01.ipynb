{
  "nbformat": 4,
  "nbformat_minor": 0,
  "metadata": {
    "colab": {
      "provenance": [],
      "authorship_tag": "ABX9TyNLADVyajc4sL82uE8SpNvV"
    },
    "kernelspec": {
      "name": "python3",
      "display_name": "Python 3"
    },
    "language_info": {
      "name": "python"
    }
  },
  "cells": [
    {
      "cell_type": "markdown",
      "source": [
        "<font color=\"yellow\"><h1 align ='center'><b><u>Creación y descripción de modelos de clasificación en el aprendizaje automático</u></b></h1></font> "
      ],
      "metadata": {
        "id": "sv2cecJJ2AgI"
      }
    },
    {
      "cell_type": "markdown",
      "source": [
        "La clasificación significa la asignación de elementos en categorías o también se puede considerar la toma de decisiones automatizada. Aquí presentamos modelos de clasificación a través de la regresión logística, lo que le proporciona un avance hacia métodos de clasificación más complejos y emocionantes."
      ],
      "metadata": {
        "id": "YBIhd5yOdpdC"
      }
    },
    {
      "cell_type": "markdown",
      "source": [
        "## <font color=\"orange\"><b>**Introducción**</b></font>\n",
        "\n",
        "Las salidas de los modelos de clasificación son categóricas, lo que significa que se pueden usar para etiquetar entradas o tomar decisiones. Por ejemplo, un automóvil sin conductor usa la clasificación para decidir si girar a la izquierda o a la derecha en una bifurcación de la carretera. Un modelo de clasificación difiere de los modelos de regresión clásica en que las salidas son continuas, como el tamaño de un zapato o la velocidad de un tren. Los modelos de clasificación son diversos en su forma de funcionar. Para empezar, nos centraremos en la regresión logística, que es un tipo de modelo más sencillo y popular que se usa ampliamente en muchos sectores de la ciencia y de la industria."
      ],
      "metadata": {
        "id": "0GmLYK2Kd7Gp"
      }
    },
    {
      "cell_type": "markdown",
      "source": [
        "## <font color=\"orange\"><b>**Escenario: Predicción de aludes con aprendizaje automático**</b></font>\n",
        "En este módulo, usaremos el siguiente escenario de ejemplo para explicar los conceptos relacionados con la clasificación. Este escenario está diseñado para proporcionarle un ejemplo de cómo podría abordar estos conceptos cuando programa.\n",
        "\n",
        "Su organización benéfica es responsable de las operaciones de rescate en aludes en pistas de esquí y rutas de montaña en el noroeste de EE. UU. Aunque la opción más segura sería cerrar permanentemente todas los pistas durante el invierno, eso impediría a los deportistas disfrutar de las excelentes actividades al aire libre. Su objetivo es crear un modelo que pueda predecir la probabilidad de que un día se produzca un alud, de modo que pueda cerrar la pista cuando el riesgo sea alto. Tenga en cuenta que al realizar predicciones de aludes que no lleguen a producirse, puede perjudicar al turismo local. En cambio, si no se predicen aludes que suceden, pueden producirse pérdidas humanas. Claramente, se debe encontrar un equilibrio.\n",
        "\n",
        "Para los senderistas y esquiadores activos: el aprendizaje automático se puede usar para la predicción de aludes, pero los datos de estos ejercicios son completamente inventados y tienen fines meramente educativos. No use estos datos ni el modelo entrenado para nada, excepto para obtener información sobre el aprendizaje automático."
      ],
      "metadata": {
        "id": "bUroNBIEgbpL"
      }
    },
    {
      "cell_type": "markdown",
      "source": [
        "## <font color=\"orange\"><b>¿Qué son los modelos de clasificación?</b></font>\n",
        "\n",
        "Los modelos de clasificación se usan para tomar decisiones o asignar elementos a categorías. A diferencia de los módulos de regresión, que emiten números continuos, como alturas o pesos, los modelos de clasificación emiten valores booleanos (true o false) o decisiones categóricas, como ‘apple’, ’banana’ o ‘cherry’ (\"manzana\", \"plátano\" o \"cereza\").\n",
        "\n",
        "Hay muchos tipos de modelos de clasificación. Algunos funcionan de forma similar a los modelos de regresión clásica, mientras que otras son esencialmente diferentes. Uno de los mejores modelos para aprender inicialmente se denomina regresión logística."
      ],
      "metadata": {
        "id": "uLyDq5mIg-jL"
      }
    },
    {
      "cell_type": "markdown",
      "source": [
        "### <font color=\"orange\"><b>**¿Qué es la regresión logística?**</b></font>\n",
        "La regresión logística es un tipo de modelo de clasificación que funciona de forma similar a la regresión lineal. La diferencia entre esta y la regresión lineal es la forma de la curva. Mientras que la regresión lineal simple tiene forma de línea recta a los datos, los modelos de regresión logística tienen forma de curva en forma de s:"
      ],
      "metadata": {
        "id": "jnIeWrjyhpkB"
      }
    },
    {
      "cell_type": "markdown",
      "source": [
        "<div>\n",
        "<p align=\"center\">\n",
        "<img src=\"https://raw.githubusercontent.com/JuanCamilo18/MM_Datos/main/imags/regre_line_logit.JPG\" alt=\"JuveYell\" width=\"700px\">\n",
        "</p>\n",
        "</div>"
      ],
      "metadata": {
        "id": "gFmpvaD0iXEp"
      }
    },
    {
      "cell_type": "markdown",
      "source": [
        "La regresión logística es mejor para estimar los resultados booleanos que la regresión lineal, porque la curva logística siempre genera un valor entre 0 (false) y 1 (true). Cualquier valor entre estos dos se puede considerar una probabilidad.\n",
        "\n",
        "Por ejemplo, supongamos que estamos intentando predecir si se producirá una alud hoy. Si nuestro modelo de regresión logística nos proporciona el valor de 0,3, estima que la probabilidad de producirse un alud es del 30 %.\n"
      ],
      "metadata": {
        "id": "DkBAyl9_h8RB"
      }
    },
    {
      "cell_type": "markdown",
      "source": [
        "### <font color=\"orange\"><b>Conversión de salidas en categorías</b></font>\n",
        "Dado que la regresión logística nos proporciona estas probabilidades, en lugar de valores true o false simples, es necesario realizar pasos adicionales para convertir el resultado en una categoría. La manera más sencilla de hacerlo es aplicar un umbral. Por ejemplo, en el gráfico siguiente, el umbral se establece en 0,5. Esto significa que cualquier valor de Y por debajo de 0,5 se convierte en false (cuadro inferior izquierdo) y cualquier valor situado por encima de 0,5 se convierte en true (cuadro superior derecho)."
      ],
      "metadata": {
        "id": "LwNGdZGM6DPL"
      }
    },
    {
      "cell_type": "markdown",
      "source": [
        "<div>\n",
        "<center>\n",
        "<img src=\"https://raw.githubusercontent.com/JuanCamilo18/MM_Datos/main/imags/funcion%20logistica.JPG\" alt=\"JuveYell\" width=\"700px\">\n",
        "</center>\n",
        "</div>"
      ],
      "metadata": {
        "id": "_NlPIOHr9672"
      }
    },
    {
      "cell_type": "markdown",
      "source": [
        "Si observamos el gráfico, podemos ver que esto significa que, si la característica está por debajo de 5, la probabilidad será menor que 0,5 y, por tanto, se convertirá en false. Los valores de características superiores a 5 aquí ofrecen probabilidades superiores a 0,5, por lo que se convertirán en true.\n",
        "\n",
        "Es importante que la regresión logística no tenga que limitarse a un resultado true o false; también se puede usar cuando hay tres o más resultados potenciales, como ‘rain’, ‘snow’ o ‘sun’ (\"lluvia\", \"nieve\" o \"sol\"). Esto requiere una configuración ligeramente más compleja, denominada regresión logística multinomial. Aunque no lo practicaremos durante los ejercicios siguientes, merece la pena tenerlo en cuenta en situaciones en las que es necesario realizar predicciones que no son binarias.\n",
        "\n",
        "También merece la pena tener en cuenta que la regresión logística puede usar más de una característica de entrada (lo veremos más adelante)."
      ],
      "metadata": {
        "id": "kTuDA3zW97BD"
      }
    },
    {
      "cell_type": "markdown",
      "source": [
        "\n",
        "---\n",
        "\n",
        "\n",
        "\n"
      ],
      "metadata": {
        "id": "6ThwpFRviWjq"
      }
    },
    {
      "cell_type": "markdown",
      "source": [
        "\n",
        "<p align=\"center\">\n",
        "<tabla> \n",
        "    <tr> \n",
        "      <td> \n",
        "      <img src='https://pbs.twimg.com/media/EiAAHfoU4AADis4?format=jpg&name=small' width =300> \n",
        "      </td> \n",
        "      <td> \n",
        "      <img src='https://pbs.twimg.com/media/EiAAHfoU4AADis4?format=jpg&name=small' width = 300> \n",
        "      </td> \n",
        "      <td> \n",
        "      <img src='https://pbs.twimg.com/media/EiAAHfoU4AADis4?format=jpg&name=small' width=200> \n",
        "      </td> \n",
        "     </tr> \n",
        "</table>\n",
        "</p>"
      ],
      "metadata": {
        "id": "x4y1TSlOzJKG"
      }
    },
    {
      "cell_type": "markdown",
      "source": [
        "imagen center\n",
        "<!-- \n",
        "<div> \n",
        "<p align=\"center\">\n",
        "<img src=\"https://pbs.twimg.com/media/EiAAHfoU4AADis4?format=jpg&name=small\" alt=\"JuveYell\" width=\"200px\">\n",
        "</p>\n",
        "</div>\n",
        "\n",
        "\n",
        "<div>\n",
        "<center>\n",
        "<img src=\"https://pbs.twimg.com/media/EiAAHfoU4AADis4?format=jpg&name=small\" alt=\"JuveYell\" width=\"200px\">\n",
        "</center>\n",
        "</div>\n",
        "-->"
      ],
      "metadata": {
        "id": "LoI6kplTdX7l"
      }
    }
  ]
}